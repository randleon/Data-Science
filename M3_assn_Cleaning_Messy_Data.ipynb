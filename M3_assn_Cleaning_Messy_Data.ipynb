{
  "nbformat": 4,
  "nbformat_minor": 0,
  "metadata": {
    "colab": {
      "name": "A_Imhoff_R_Leon_M3_assn.ipynb",
      "provenance": [],
      "collapsed_sections": []
    },
    "kernelspec": {
      "name": "python3",
      "display_name": "Python 3"
    },
    "language_info": {
      "name": "python"
    }
  },
  "cells": [
    {
      "cell_type": "markdown",
      "metadata": {
        "id": "88SFE9FV2dF9"
      },
      "source": [
        "##DAV 6150 Module 3 Assignment\n",
        "##Cleaning “Messy” Data - Prof. James E. Topor\n",
        "##Data Science Fall 2021\n",
        "##By Anna M. Imhoff and Randy Leon\n",
        "\n"
      ]
    },
    {
      "cell_type": "markdown",
      "metadata": {
        "id": "B8G14FX2g2VO"
      },
      "source": [
        "## **Introduction**"
      ]
    },
    {
      "cell_type": "markdown",
      "metadata": {
        "id": "FCZKJ1CAhXID"
      },
      "source": [
        "PREFACE\n",
        "\n",
        "We wanted to take the time to provide this write-up to show our basis and decision making in how we decided to “clean up” the variables for the above assignment’s dataset. We figured the more domain knowledge we could obtain, the better we could make educated decisions as to what to do about the erroneous/missing data.\n",
        "\n",
        "DATA DICTIONARY\n",
        "\n",
        "In this section, we want to go into more detail regarding each variable of the dataset--including what we believe are accurate units of measurement as well as typical ranges for our subject matter of wine.\n",
        "\n",
        "Each row of the dataset, to our knowledge, represents a single type of wine. Sources from the web are listed as subsequent bullet points to information found out about the variable.\n",
        "\n",
        "\n",
        "\n",
        "\n",
        "\n",
        "\n",
        "**INDEX**\n",
        "\n",
        "A unique identifier.\n",
        "\n",
        "\n",
        "**TARGET**\n",
        "\n",
        "This variable simply indicates the number of cases of wine sold. Cases of wine are always sold in amounts of 9 liters which are divided up into 12 bottles. This seems to be an international standard as per our research.\n",
        "https://winefolly.com/tips/case-of-wine-guide/\n",
        "https://www.thekitchn.com/buy-wine-case-tips-265821\n",
        "https://home.binwise.com/blog/case-of-wine\n",
        "\n",
        "\n",
        "**AcidIndex**\n",
        "\n",
        "This variable measures the total acidity of the wine.  To be more specific, “Titratable acidity, sometimes referred to as fixed or erroneously total acidity, is a measurement of the total concentration of titratable acids and free hydrogen ions present in your wine. Total acidity and titratable acidity are not the same thing and the terms should not be used interchangeably.” https://winemakersacademy.com/understanding-wine-acidity/\n",
        "\n",
        "\n",
        "**Alcohol**\n",
        "\n",
        "\n",
        "This variable measures the total alcohol content of the wine as a percentage of volume. (%) As per masterclass.com’s definition of it, “The range of ABV for unfortified wine is about 5.5% to 16%, with an average of 11.6%. Fortified wines range from 15.5% to 25% ABV, with an average of 18%.” \n",
        "I think it is safe to say that wines anywhere outside of 5.5%-25% alcohol could probably be considered anomalies/outliers.\n",
        "“https://www.masterclass.com/articles/learn-about-alcohol-content-in-wine-highest-to-lowest-abv-wines#:~:text=ABV%20is%20the%20global%20standard,with%20an%20average%20of%2018%25.”\n",
        "\n",
        "\n",
        "**Chlorides**\n",
        "\n",
        "\n",
        "This measures the total chloride content of the wine as (mg/L) More specifically, “The concentration of chloride ions is determined by subtracting the titration findings of the moles of silver ions that reacted with the thiocyanate from the total moles of silver nitrate added to the solution. This method is used when the pH of the solution, after the sample has been prepared, is acidic.” https://www.canterbury.ac.nz/media/documents/science-outreach/chloride_volhard.pdf\n",
        "\n",
        "\n",
        "**CitricAcid**\n",
        "\n",
        "\n",
        "After a hypothetical titration, we presume this variable to be a percentage of volume.\n",
        "A drop of pure lemon juice is about 5% citric acid, so we can assume that no wine contains a higher citric acid percentage than lemon juice. It is for this basic reasoning that we set the absolute upper limit for this variable at 5%.\n",
        "https://home.binwise.com/blog/is-wine-acidic\n",
        "\n",
        "\n",
        "**Density**\n",
        "\n",
        "\n",
        "This is a ratio representing the density of the wine compared to the density of water at a given temperature. “In other words, if your hydrometer reads 1.1, that means your liquid was 1.1 times as dense as water at that temperature. Note that specific gravity is a unitless measurement. These measurements should be around water since wine is close to water (1.000).”\n",
        "https://www.thetipsygrape.com/articles/using-a-hydrometer-in-winemaking.html#:~:text=A%20hydrometer%20is%20an%20instrument,called%20specific%20gravity%20(SG).\n",
        "\n",
        "\n",
        "**FixedAcidity**\n",
        "\n",
        "\n",
        "From our research, we also found this to be known as titratable acidity.\n",
        " “Expressed in milliquivalents per liter (mEq/L)”\n",
        "https://www.oiv.int/public/medias/3732/oiv-ma-as313-02.pdf\n",
        "https://winemakersacademy.com/understanding-wine-acidity/\n",
        "\n",
        "\n",
        "**FreeSulfurDioxide**\n",
        "\n",
        "\n",
        "Bonded sulfur dioxide content of the wine. \n",
        "Typically measured in (mg/L)\n",
        "“Free sulphur dioxide is defined as the sulphur dioxide present in the must or wine in the following forms: H2SO3, HSO3-, whose equilibrium as a function of pH and temperature is: H2SO3 ⇆ H+ + HSO3- \n",
        "https://eprints.ucm.es/id/eprint/29446/8/PIMCD%20N%C2%BA%20243.%20ANEXO%202.%20E-BOOK-%20WINE%20AND%20ITS%20ANALYSIS.pdf (Departamento de Nutrición y Bromatología II Facultad de FarmaciaUniversidad Complutense de Madrid)\n",
        "\n",
        "\n",
        "**LabelAppeal**\n",
        "\n",
        "\n",
        "LabelAppeal is simply the subjective marketing score that indicates the appeal of the design of the label on the bottle.\n",
        "\n",
        "\n",
        "**ResidualSugar**\n",
        "\n",
        "\n",
        "Residual sugar is measured as a concentration is expressed in grams per liter (g/L) or as a percentage of weight to volume. \n",
        "“For example, a wine with 0.2% residual sugar contains two grams of sugar in a liter of wine, or approximately 1/4 ounce in a gallon.” “Dry wines are typically in the 0.2–0.3 percent range, off-dry wines in the 1.0–5.0 percent range, and sweet dessert wines in the 5.0–15 percent range.” - https://winemakermag.com/technique/501-measuring-residual-sugar-techniques \n",
        "For this data set, residual sugar is expressed in (g/L).  According to https://winefolly.com/deep-dive/sugar-in-wine-chart/, bone dry is less than 1 g/L, dry is 1 - 10 g/L, off-dry is 10 - 35 g/L, sweet is 35 - 120 g/L, and very sweet wine is 120 - 220 g/L.\n",
        "\n",
        "\n",
        "**STARS**\n",
        "\n",
        "\n",
        "This is the wine rating as determined by experts in the field. They base the wine on a score of 1 to 4, with 4 being excellent and 1 being poor. This variable is also subjective and has no scientific basis.\n",
        "\n",
        "\n",
        "**Sulphates**\n",
        "\n",
        "\n",
        "Sulfate content of the wine. (mg/L)\n",
        " “Wine ranges from about 5 mg/L (5 parts per million) to about 200 mg/L. The maximum legal limit in the United States is 350 mg/l. A well made dry red wine typically has about 50 mg/l sulfites.”\n",
        "https://winefolly.com/deep-dive/sulfites-in-wine/\n",
        "\n",
        "\n",
        "**TotalSulfurDioxide**\n",
        "\n",
        "\n",
        "Measures the amount of total sulfur dioxide present in the wine by adding “free and bound quantities of SO2…: free SO2 + bound SO2 = total SO2”\n",
        "“Total sulphur dioxide is defined as the total of all the various forms of sulphur dioxide present in wine, either in the free state or combined with their constituents. “\n",
        "Typically measured in (mg/L)\n",
        "https://www.awri.com.au/wp-content/uploads/2018/12/s2037.pdf(The Australian Wine Research Institute)\n",
        "https://eprints.ucm.es/id/eprint/29446/8/PIMCD%20N%C2%BA%20243.%20ANEXO%202.%20E-BOOK-%20WINE%20AND%20ITS%20ANALYSIS.pdf (Departamento de Nutrición y Bromatología II Facultad de FarmaciaUniversidad Complutense de Madrid)\n",
        "\n",
        "\n",
        "**VolatileAcidity**\n",
        "\n",
        "\n",
        "According to the OIV, (International Organisation of Vine and Wine) volatile acidity “---is derived from the acids of the acetic series present in wine in the free state and combined as salts content of the wine.” and is “expressed in milliequivalents per liter to one decimal place\n",
        "“Volatile acids are different from titratable acids in that they cannot be measured through a titration but must be quantified using a steam distillation process. “In this a sample of wine is exposed to steam which in turn encourages the volatile acids to leave the wine.” \n",
        "“Expressed in milliquivalents per liter (mEq/L)”\n",
        "https://www.oiv.int/public/medias/3732/oiv-ma-as313-02.pdf\n",
        "https://winemakersacademy.com/understanding-wine-acidity/\n",
        "\n",
        "\n",
        "**pH**\n",
        "\n",
        "\n",
        "pH of the wine.\n",
        "“pH (pondus hydrogenii hydrogen ́s weight) is the co-logarithm of hydrogen ion activity (concentration) pH = - log 10 aH+” \n",
        "“Low pH wines will taste tart and crisp, while higher pH wines are more susceptible to bacterial growth. Most wine pH's fall around 3 or 4; about 3.0 to 3.4 is desirable for white wines, while about 3.3 to 3.6 is best for reds.”\n",
        "https://daily.sevenfifty.com/how-winemakers-analyze-ph-and-its-impact-on-wine/\n",
        "https://www.winespectator.com/articles/what-do-ph-and-ta-numbers-mean-to-a-wine-5035\n",
        "https://eprints.ucm.es/id/eprint/29446/8/PIMCD%20N%C2%BA%20243.%20ANEXO%202.%20E-BOOK-%20WINE%20AND%20ITS%20ANALYSIS.pdf (Department of Nutrition and Bromatology II Faculty of Pharmacy Complutense University of Madrid)"
      ]
    },
    {
      "cell_type": "markdown",
      "metadata": {
        "id": "CB9jDfi-VRPI"
      },
      "source": [
        "Presented to us was a dataset featuring wine information. \n",
        "\n",
        "Upon further investigation, we noticed lots of missing and erroneous values. Our plan is to find the best methods according to best practices to fill in or replace the missing/erroneous data while simulataneously keeping data integrity as best as possible.\n",
        "\n",
        "We plan to:\n",
        "\n",
        "-conduct thorough domain research and find out what the proper ranges are for each column to get an idea as to what data is wrong for the respective measure.\n",
        "\n",
        "-conduct exploratory data analysis to further determine any outliers/incorrect values. \n",
        "\n",
        "-replace outliers with realistic numbers for the possible range using what we believe the best practice is (for example, for citric acid, no wine has a valye more than 5%, so any amounts over 5% would be replaced and imputated with realistic values)\n",
        "\n",
        "-any outright missing values will be replaced.\n",
        "\n",
        "-re-conduct EDA to show how we were accurately able to maintain data integrity after cleaning a messy data set."
      ]
    },
    {
      "cell_type": "code",
      "metadata": {
        "id": "Pl5L1trER9N3",
        "colab": {
          "base_uri": "https://localhost:8080/"
        },
        "outputId": "34fb9c7a-36ab-435f-a75d-d86b581d6a05"
      },
      "source": [
        "# import dependencies needed\n",
        "import pandas as pd\n",
        "import seaborn as sns\n",
        "import numpy as np\n",
        "import sklearn as sk\n",
        "import matplotlib.pyplot as plt\n",
        "from pandas import Series, DataFrame\n",
        "from matplotlib import rcParams\n",
        "from sklearn.impute import KNNImputer\n",
        "%matplotlib inline"
      ],
      "execution_count": null,
      "outputs": [
        {
          "output_type": "stream",
          "name": "stdout",
          "text": [
            "Requirement already satisfied: pandas-profiling in /usr/local/lib/python3.7/dist-packages (1.4.1)\n",
            "Requirement already satisfied: pandas>=0.19 in /usr/local/lib/python3.7/dist-packages (from pandas-profiling) (1.1.5)\n",
            "Requirement already satisfied: matplotlib>=1.4 in /usr/local/lib/python3.7/dist-packages (from pandas-profiling) (3.2.2)\n",
            "Requirement already satisfied: jinja2>=2.8 in /usr/local/lib/python3.7/dist-packages (from pandas-profiling) (2.11.3)\n",
            "Requirement already satisfied: six>=1.9 in /usr/local/lib/python3.7/dist-packages (from pandas-profiling) (1.15.0)\n",
            "Requirement already satisfied: MarkupSafe>=0.23 in /usr/local/lib/python3.7/dist-packages (from jinja2>=2.8->pandas-profiling) (2.0.1)\n",
            "Requirement already satisfied: cycler>=0.10 in /usr/local/lib/python3.7/dist-packages (from matplotlib>=1.4->pandas-profiling) (0.10.0)\n",
            "Requirement already satisfied: pyparsing!=2.0.4,!=2.1.2,!=2.1.6,>=2.0.1 in /usr/local/lib/python3.7/dist-packages (from matplotlib>=1.4->pandas-profiling) (2.4.7)\n",
            "Requirement already satisfied: python-dateutil>=2.1 in /usr/local/lib/python3.7/dist-packages (from matplotlib>=1.4->pandas-profiling) (2.8.2)\n",
            "Requirement already satisfied: kiwisolver>=1.0.1 in /usr/local/lib/python3.7/dist-packages (from matplotlib>=1.4->pandas-profiling) (1.3.2)\n",
            "Requirement already satisfied: numpy>=1.11 in /usr/local/lib/python3.7/dist-packages (from matplotlib>=1.4->pandas-profiling) (1.19.5)\n",
            "Requirement already satisfied: pytz>=2017.2 in /usr/local/lib/python3.7/dist-packages (from pandas>=0.19->pandas-profiling) (2018.9)\n"
          ]
        }
      ]
    },
    {
      "cell_type": "markdown",
      "metadata": {
        "id": "_5pvFGWlvl1i"
      },
      "source": [
        "## **Exploratory Data Analysis**"
      ]
    },
    {
      "cell_type": "code",
      "metadata": {
        "colab": {
          "base_uri": "https://localhost:8080/",
          "height": 400
        },
        "id": "Ll9CXKlqcYnX",
        "outputId": "bacec446-506b-4c32-85aa-af1532d29c4c"
      },
      "source": [
        "#Read data From Github\n",
        "df1 = pd.read_csv('https://raw.githubusercontent.com/rleon207/Dav6150F2021/main/M3_Data(1).csv')\n",
        "df1.head(10)"
      ],
      "execution_count": null,
      "outputs": [
        {
          "output_type": "execute_result",
          "data": {
            "text/html": [
              "<div>\n",
              "<style scoped>\n",
              "    .dataframe tbody tr th:only-of-type {\n",
              "        vertical-align: middle;\n",
              "    }\n",
              "\n",
              "    .dataframe tbody tr th {\n",
              "        vertical-align: top;\n",
              "    }\n",
              "\n",
              "    .dataframe thead th {\n",
              "        text-align: right;\n",
              "    }\n",
              "</style>\n",
              "<table border=\"1\" class=\"dataframe\">\n",
              "  <thead>\n",
              "    <tr style=\"text-align: right;\">\n",
              "      <th></th>\n",
              "      <th>Unnamed: 0</th>\n",
              "      <th>INDEX</th>\n",
              "      <th>TARGET</th>\n",
              "      <th>FixedAcidity</th>\n",
              "      <th>VolatileAcidity</th>\n",
              "      <th>CitricAcid</th>\n",
              "      <th>ResidualSugar</th>\n",
              "      <th>Chlorides</th>\n",
              "      <th>FreeSulfurDioxide</th>\n",
              "      <th>TotalSulfurDioxide</th>\n",
              "      <th>Density</th>\n",
              "      <th>pH</th>\n",
              "      <th>Sulphates</th>\n",
              "      <th>Alcohol</th>\n",
              "      <th>LabelAppeal</th>\n",
              "      <th>AcidIndex</th>\n",
              "      <th>STARS</th>\n",
              "    </tr>\n",
              "  </thead>\n",
              "  <tbody>\n",
              "    <tr>\n",
              "      <th>0</th>\n",
              "      <td>0</td>\n",
              "      <td>1</td>\n",
              "      <td>3</td>\n",
              "      <td>3.2</td>\n",
              "      <td>1.160</td>\n",
              "      <td>0.98</td>\n",
              "      <td>54.20</td>\n",
              "      <td>0.567</td>\n",
              "      <td>NaN</td>\n",
              "      <td>268.0</td>\n",
              "      <td>0.99280</td>\n",
              "      <td>3.33</td>\n",
              "      <td>0.59</td>\n",
              "      <td>9.9</td>\n",
              "      <td>0</td>\n",
              "      <td>8</td>\n",
              "      <td>2.0</td>\n",
              "    </tr>\n",
              "    <tr>\n",
              "      <th>1</th>\n",
              "      <td>1</td>\n",
              "      <td>2</td>\n",
              "      <td>3</td>\n",
              "      <td>4.5</td>\n",
              "      <td>0.160</td>\n",
              "      <td>0.81</td>\n",
              "      <td>26.10</td>\n",
              "      <td>0.425</td>\n",
              "      <td>15.0</td>\n",
              "      <td>327.0</td>\n",
              "      <td>1.02792</td>\n",
              "      <td>3.38</td>\n",
              "      <td>0.70</td>\n",
              "      <td>NaN</td>\n",
              "      <td>-1</td>\n",
              "      <td>7</td>\n",
              "      <td>3.0</td>\n",
              "    </tr>\n",
              "    <tr>\n",
              "      <th>2</th>\n",
              "      <td>2</td>\n",
              "      <td>4</td>\n",
              "      <td>5</td>\n",
              "      <td>7.1</td>\n",
              "      <td>2.640</td>\n",
              "      <td>0.88</td>\n",
              "      <td>14.80</td>\n",
              "      <td>0.037</td>\n",
              "      <td>214.0</td>\n",
              "      <td>142.0</td>\n",
              "      <td>0.99518</td>\n",
              "      <td>3.12</td>\n",
              "      <td>0.48</td>\n",
              "      <td>22.0</td>\n",
              "      <td>-1</td>\n",
              "      <td>8</td>\n",
              "      <td>3.0</td>\n",
              "    </tr>\n",
              "    <tr>\n",
              "      <th>3</th>\n",
              "      <td>3</td>\n",
              "      <td>5</td>\n",
              "      <td>3</td>\n",
              "      <td>5.7</td>\n",
              "      <td>0.385</td>\n",
              "      <td>0.04</td>\n",
              "      <td>18.80</td>\n",
              "      <td>0.425</td>\n",
              "      <td>22.0</td>\n",
              "      <td>115.0</td>\n",
              "      <td>0.99640</td>\n",
              "      <td>2.24</td>\n",
              "      <td>1.83</td>\n",
              "      <td>6.2</td>\n",
              "      <td>-1</td>\n",
              "      <td>6</td>\n",
              "      <td>1.0</td>\n",
              "    </tr>\n",
              "    <tr>\n",
              "      <th>4</th>\n",
              "      <td>4</td>\n",
              "      <td>6</td>\n",
              "      <td>4</td>\n",
              "      <td>8.0</td>\n",
              "      <td>0.330</td>\n",
              "      <td>1.26</td>\n",
              "      <td>9.40</td>\n",
              "      <td>NaN</td>\n",
              "      <td>167.0</td>\n",
              "      <td>108.0</td>\n",
              "      <td>0.99457</td>\n",
              "      <td>3.12</td>\n",
              "      <td>1.77</td>\n",
              "      <td>13.7</td>\n",
              "      <td>0</td>\n",
              "      <td>9</td>\n",
              "      <td>2.0</td>\n",
              "    </tr>\n",
              "    <tr>\n",
              "      <th>5</th>\n",
              "      <td>5</td>\n",
              "      <td>7</td>\n",
              "      <td>0</td>\n",
              "      <td>11.3</td>\n",
              "      <td>0.320</td>\n",
              "      <td>0.59</td>\n",
              "      <td>2.20</td>\n",
              "      <td>0.556</td>\n",
              "      <td>37.0</td>\n",
              "      <td>15.0</td>\n",
              "      <td>0.99940</td>\n",
              "      <td>3.20</td>\n",
              "      <td>1.29</td>\n",
              "      <td>15.4</td>\n",
              "      <td>0</td>\n",
              "      <td>11</td>\n",
              "      <td>NaN</td>\n",
              "    </tr>\n",
              "    <tr>\n",
              "      <th>6</th>\n",
              "      <td>6</td>\n",
              "      <td>8</td>\n",
              "      <td>0</td>\n",
              "      <td>7.7</td>\n",
              "      <td>0.290</td>\n",
              "      <td>0.40</td>\n",
              "      <td>21.50</td>\n",
              "      <td>0.060</td>\n",
              "      <td>287.0</td>\n",
              "      <td>156.0</td>\n",
              "      <td>0.99572</td>\n",
              "      <td>3.49</td>\n",
              "      <td>1.21</td>\n",
              "      <td>10.3</td>\n",
              "      <td>0</td>\n",
              "      <td>8</td>\n",
              "      <td>NaN</td>\n",
              "    </tr>\n",
              "    <tr>\n",
              "      <th>7</th>\n",
              "      <td>7</td>\n",
              "      <td>11</td>\n",
              "      <td>4</td>\n",
              "      <td>6.5</td>\n",
              "      <td>1.220</td>\n",
              "      <td>0.34</td>\n",
              "      <td>1.40</td>\n",
              "      <td>0.040</td>\n",
              "      <td>523.0</td>\n",
              "      <td>551.0</td>\n",
              "      <td>1.03236</td>\n",
              "      <td>3.20</td>\n",
              "      <td>NaN</td>\n",
              "      <td>11.6</td>\n",
              "      <td>1</td>\n",
              "      <td>7</td>\n",
              "      <td>3.0</td>\n",
              "    </tr>\n",
              "    <tr>\n",
              "      <th>8</th>\n",
              "      <td>8</td>\n",
              "      <td>12</td>\n",
              "      <td>3</td>\n",
              "      <td>14.8</td>\n",
              "      <td>0.270</td>\n",
              "      <td>1.05</td>\n",
              "      <td>11.25</td>\n",
              "      <td>0.007</td>\n",
              "      <td>213.0</td>\n",
              "      <td>NaN</td>\n",
              "      <td>0.99620</td>\n",
              "      <td>4.93</td>\n",
              "      <td>0.26</td>\n",
              "      <td>15.0</td>\n",
              "      <td>0</td>\n",
              "      <td>6</td>\n",
              "      <td>NaN</td>\n",
              "    </tr>\n",
              "    <tr>\n",
              "      <th>9</th>\n",
              "      <td>9</td>\n",
              "      <td>13</td>\n",
              "      <td>6</td>\n",
              "      <td>5.5</td>\n",
              "      <td>0.220</td>\n",
              "      <td>0.39</td>\n",
              "      <td>1.80</td>\n",
              "      <td>0.277</td>\n",
              "      <td>62.0</td>\n",
              "      <td>180.0</td>\n",
              "      <td>0.94724</td>\n",
              "      <td>3.09</td>\n",
              "      <td>0.75</td>\n",
              "      <td>12.6</td>\n",
              "      <td>0</td>\n",
              "      <td>8</td>\n",
              "      <td>4.0</td>\n",
              "    </tr>\n",
              "  </tbody>\n",
              "</table>\n",
              "</div>"
            ],
            "text/plain": [
              "   Unnamed: 0  INDEX  TARGET  ...  LabelAppeal  AcidIndex  STARS\n",
              "0           0      1       3  ...            0          8    2.0\n",
              "1           1      2       3  ...           -1          7    3.0\n",
              "2           2      4       5  ...           -1          8    3.0\n",
              "3           3      5       3  ...           -1          6    1.0\n",
              "4           4      6       4  ...            0          9    2.0\n",
              "5           5      7       0  ...            0         11    NaN\n",
              "6           6      8       0  ...            0          8    NaN\n",
              "7           7     11       4  ...            1          7    3.0\n",
              "8           8     12       3  ...            0          6    NaN\n",
              "9           9     13       6  ...            0          8    4.0\n",
              "\n",
              "[10 rows x 17 columns]"
            ]
          },
          "metadata": {},
          "execution_count": 200
        }
      ]
    },
    {
      "cell_type": "code",
      "metadata": {
        "id": "d5M06jmv-3np",
        "colab": {
          "base_uri": "https://localhost:8080/",
          "height": 320
        },
        "outputId": "c95e59f4-2001-49f9-b92f-1d34fbefc037"
      },
      "source": [
        "#Show the description\n",
        "df1.describe()"
      ],
      "execution_count": null,
      "outputs": [
        {
          "output_type": "execute_result",
          "data": {
            "text/html": [
              "<div>\n",
              "<style scoped>\n",
              "    .dataframe tbody tr th:only-of-type {\n",
              "        vertical-align: middle;\n",
              "    }\n",
              "\n",
              "    .dataframe tbody tr th {\n",
              "        vertical-align: top;\n",
              "    }\n",
              "\n",
              "    .dataframe thead th {\n",
              "        text-align: right;\n",
              "    }\n",
              "</style>\n",
              "<table border=\"1\" class=\"dataframe\">\n",
              "  <thead>\n",
              "    <tr style=\"text-align: right;\">\n",
              "      <th></th>\n",
              "      <th>Unnamed: 0</th>\n",
              "      <th>INDEX</th>\n",
              "      <th>TARGET</th>\n",
              "      <th>FixedAcidity</th>\n",
              "      <th>VolatileAcidity</th>\n",
              "      <th>CitricAcid</th>\n",
              "      <th>ResidualSugar</th>\n",
              "      <th>Chlorides</th>\n",
              "      <th>FreeSulfurDioxide</th>\n",
              "      <th>TotalSulfurDioxide</th>\n",
              "      <th>Density</th>\n",
              "      <th>pH</th>\n",
              "      <th>Sulphates</th>\n",
              "      <th>Alcohol</th>\n",
              "      <th>LabelAppeal</th>\n",
              "      <th>AcidIndex</th>\n",
              "      <th>STARS</th>\n",
              "    </tr>\n",
              "  </thead>\n",
              "  <tbody>\n",
              "    <tr>\n",
              "      <th>count</th>\n",
              "      <td>12795.000000</td>\n",
              "      <td>12795.000000</td>\n",
              "      <td>12795.000000</td>\n",
              "      <td>12795.000000</td>\n",
              "      <td>12795.000000</td>\n",
              "      <td>12795.000000</td>\n",
              "      <td>12179.000000</td>\n",
              "      <td>12157.000000</td>\n",
              "      <td>12148.000000</td>\n",
              "      <td>12113.000000</td>\n",
              "      <td>12795.000000</td>\n",
              "      <td>12400.000000</td>\n",
              "      <td>11585.000000</td>\n",
              "      <td>12142.000000</td>\n",
              "      <td>12795.000000</td>\n",
              "      <td>12795.000000</td>\n",
              "      <td>9436.000000</td>\n",
              "    </tr>\n",
              "    <tr>\n",
              "      <th>mean</th>\n",
              "      <td>6397.000000</td>\n",
              "      <td>8069.980305</td>\n",
              "      <td>3.029074</td>\n",
              "      <td>8.063251</td>\n",
              "      <td>0.641086</td>\n",
              "      <td>0.686315</td>\n",
              "      <td>23.367809</td>\n",
              "      <td>0.222559</td>\n",
              "      <td>106.679042</td>\n",
              "      <td>204.319120</td>\n",
              "      <td>0.994203</td>\n",
              "      <td>3.207628</td>\n",
              "      <td>0.846668</td>\n",
              "      <td>10.523778</td>\n",
              "      <td>-0.009066</td>\n",
              "      <td>7.772724</td>\n",
              "      <td>2.041755</td>\n",
              "    </tr>\n",
              "    <tr>\n",
              "      <th>std</th>\n",
              "      <td>3693.742682</td>\n",
              "      <td>4656.905107</td>\n",
              "      <td>1.926368</td>\n",
              "      <td>4.996119</td>\n",
              "      <td>0.555614</td>\n",
              "      <td>0.606005</td>\n",
              "      <td>24.945667</td>\n",
              "      <td>0.234288</td>\n",
              "      <td>108.102694</td>\n",
              "      <td>163.116881</td>\n",
              "      <td>0.026538</td>\n",
              "      <td>0.679687</td>\n",
              "      <td>0.655612</td>\n",
              "      <td>3.629154</td>\n",
              "      <td>0.891089</td>\n",
              "      <td>1.323926</td>\n",
              "      <td>0.902540</td>\n",
              "    </tr>\n",
              "    <tr>\n",
              "      <th>min</th>\n",
              "      <td>0.000000</td>\n",
              "      <td>1.000000</td>\n",
              "      <td>0.000000</td>\n",
              "      <td>0.000000</td>\n",
              "      <td>0.000000</td>\n",
              "      <td>0.000000</td>\n",
              "      <td>0.000000</td>\n",
              "      <td>0.000000</td>\n",
              "      <td>0.000000</td>\n",
              "      <td>0.000000</td>\n",
              "      <td>0.888090</td>\n",
              "      <td>0.480000</td>\n",
              "      <td>0.000000</td>\n",
              "      <td>0.000000</td>\n",
              "      <td>-2.000000</td>\n",
              "      <td>4.000000</td>\n",
              "      <td>1.000000</td>\n",
              "    </tr>\n",
              "    <tr>\n",
              "      <th>25%</th>\n",
              "      <td>3198.500000</td>\n",
              "      <td>4037.500000</td>\n",
              "      <td>2.000000</td>\n",
              "      <td>5.600000</td>\n",
              "      <td>0.250000</td>\n",
              "      <td>0.280000</td>\n",
              "      <td>3.600000</td>\n",
              "      <td>0.046000</td>\n",
              "      <td>28.000000</td>\n",
              "      <td>100.000000</td>\n",
              "      <td>0.987720</td>\n",
              "      <td>2.960000</td>\n",
              "      <td>0.430000</td>\n",
              "      <td>9.000000</td>\n",
              "      <td>-1.000000</td>\n",
              "      <td>7.000000</td>\n",
              "      <td>1.000000</td>\n",
              "    </tr>\n",
              "    <tr>\n",
              "      <th>50%</th>\n",
              "      <td>6397.000000</td>\n",
              "      <td>8110.000000</td>\n",
              "      <td>3.000000</td>\n",
              "      <td>7.000000</td>\n",
              "      <td>0.410000</td>\n",
              "      <td>0.440000</td>\n",
              "      <td>12.900000</td>\n",
              "      <td>0.098000</td>\n",
              "      <td>56.000000</td>\n",
              "      <td>154.000000</td>\n",
              "      <td>0.994490</td>\n",
              "      <td>3.200000</td>\n",
              "      <td>0.590000</td>\n",
              "      <td>10.400000</td>\n",
              "      <td>0.000000</td>\n",
              "      <td>8.000000</td>\n",
              "      <td>2.000000</td>\n",
              "    </tr>\n",
              "    <tr>\n",
              "      <th>75%</th>\n",
              "      <td>9595.500000</td>\n",
              "      <td>12106.500000</td>\n",
              "      <td>4.000000</td>\n",
              "      <td>9.800000</td>\n",
              "      <td>0.910000</td>\n",
              "      <td>0.970000</td>\n",
              "      <td>38.700000</td>\n",
              "      <td>0.368000</td>\n",
              "      <td>172.000000</td>\n",
              "      <td>262.000000</td>\n",
              "      <td>1.000515</td>\n",
              "      <td>3.470000</td>\n",
              "      <td>1.100000</td>\n",
              "      <td>12.400000</td>\n",
              "      <td>1.000000</td>\n",
              "      <td>8.000000</td>\n",
              "      <td>3.000000</td>\n",
              "    </tr>\n",
              "    <tr>\n",
              "      <th>max</th>\n",
              "      <td>12794.000000</td>\n",
              "      <td>16129.000000</td>\n",
              "      <td>8.000000</td>\n",
              "      <td>34.400000</td>\n",
              "      <td>3.680000</td>\n",
              "      <td>3.860000</td>\n",
              "      <td>141.150000</td>\n",
              "      <td>1.351000</td>\n",
              "      <td>623.000000</td>\n",
              "      <td>1057.000000</td>\n",
              "      <td>1.099240</td>\n",
              "      <td>6.130000</td>\n",
              "      <td>4.240000</td>\n",
              "      <td>26.500000</td>\n",
              "      <td>2.000000</td>\n",
              "      <td>17.000000</td>\n",
              "      <td>4.000000</td>\n",
              "    </tr>\n",
              "  </tbody>\n",
              "</table>\n",
              "</div>"
            ],
            "text/plain": [
              "         Unnamed: 0         INDEX  ...     AcidIndex        STARS\n",
              "count  12795.000000  12795.000000  ...  12795.000000  9436.000000\n",
              "mean    6397.000000   8069.980305  ...      7.772724     2.041755\n",
              "std     3693.742682   4656.905107  ...      1.323926     0.902540\n",
              "min        0.000000      1.000000  ...      4.000000     1.000000\n",
              "25%     3198.500000   4037.500000  ...      7.000000     1.000000\n",
              "50%     6397.000000   8110.000000  ...      8.000000     2.000000\n",
              "75%     9595.500000  12106.500000  ...      8.000000     3.000000\n",
              "max    12794.000000  16129.000000  ...     17.000000     4.000000\n",
              "\n",
              "[8 rows x 17 columns]"
            ]
          },
          "metadata": {},
          "execution_count": 201
        }
      ]
    },
    {
      "cell_type": "code",
      "metadata": {
        "id": "1QZbRJ6aGe7a",
        "colab": {
          "base_uri": "https://localhost:8080/"
        },
        "outputId": "16903383-c475-43f6-b01f-a2c3be6846d3"
      },
      "source": [
        "#Show the info\n",
        "df1.info()"
      ],
      "execution_count": null,
      "outputs": [
        {
          "output_type": "stream",
          "name": "stdout",
          "text": [
            "<class 'pandas.core.frame.DataFrame'>\n",
            "RangeIndex: 12795 entries, 0 to 12794\n",
            "Data columns (total 17 columns):\n",
            " #   Column              Non-Null Count  Dtype  \n",
            "---  ------              --------------  -----  \n",
            " 0   Unnamed: 0          12795 non-null  int64  \n",
            " 1   INDEX               12795 non-null  int64  \n",
            " 2   TARGET              12795 non-null  int64  \n",
            " 3   FixedAcidity        12795 non-null  float64\n",
            " 4   VolatileAcidity     12795 non-null  float64\n",
            " 5   CitricAcid          12795 non-null  float64\n",
            " 6   ResidualSugar       12179 non-null  float64\n",
            " 7   Chlorides           12157 non-null  float64\n",
            " 8   FreeSulfurDioxide   12148 non-null  float64\n",
            " 9   TotalSulfurDioxide  12113 non-null  float64\n",
            " 10  Density             12795 non-null  float64\n",
            " 11  pH                  12400 non-null  float64\n",
            " 12  Sulphates           11585 non-null  float64\n",
            " 13  Alcohol             12142 non-null  float64\n",
            " 14  LabelAppeal         12795 non-null  int64  \n",
            " 15  AcidIndex           12795 non-null  int64  \n",
            " 16  STARS               9436 non-null   float64\n",
            "dtypes: float64(12), int64(5)\n",
            "memory usage: 1.7 MB\n"
          ]
        }
      ]
    },
    {
      "cell_type": "code",
      "metadata": {
        "id": "ec85lOSLRrKX",
        "colab": {
          "base_uri": "https://localhost:8080/"
        },
        "outputId": "548714b1-6210-4543-ce38-4ad1416bd3d8"
      },
      "source": [
        "#Show the shape\n",
        "df1.shape"
      ],
      "execution_count": null,
      "outputs": [
        {
          "output_type": "execute_result",
          "data": {
            "text/plain": [
              "(12795, 17)"
            ]
          },
          "metadata": {},
          "execution_count": 203
        }
      ]
    },
    {
      "cell_type": "code",
      "metadata": {
        "id": "jEzEwGuGX6zO",
        "colab": {
          "base_uri": "https://localhost:8080/"
        },
        "outputId": "7d78975c-8779-4ef2-f107-fc8839b6f5cb"
      },
      "source": [
        "#Show the columns\n",
        "df1.columns"
      ],
      "execution_count": null,
      "outputs": [
        {
          "output_type": "execute_result",
          "data": {
            "text/plain": [
              "Index(['Unnamed: 0', 'INDEX', 'TARGET', 'FixedAcidity', 'VolatileAcidity',\n",
              "       'CitricAcid', 'ResidualSugar', 'Chlorides', 'FreeSulfurDioxide',\n",
              "       'TotalSulfurDioxide', 'Density', 'pH', 'Sulphates', 'Alcohol',\n",
              "       'LabelAppeal', 'AcidIndex', 'STARS'],\n",
              "      dtype='object')"
            ]
          },
          "metadata": {},
          "execution_count": 204
        }
      ]
    },
    {
      "cell_type": "code",
      "metadata": {
        "id": "S1o-fenn_G-l",
        "colab": {
          "base_uri": "https://localhost:8080/"
        },
        "outputId": "5a9a993f-c99f-4c8f-d392-15dacd24fd55"
      },
      "source": [
        "#Show the data type\n",
        "df1.dtypes"
      ],
      "execution_count": null,
      "outputs": [
        {
          "output_type": "execute_result",
          "data": {
            "text/plain": [
              "Unnamed: 0              int64\n",
              "INDEX                   int64\n",
              "TARGET                  int64\n",
              "FixedAcidity          float64\n",
              "VolatileAcidity       float64\n",
              "CitricAcid            float64\n",
              "ResidualSugar         float64\n",
              "Chlorides             float64\n",
              "FreeSulfurDioxide     float64\n",
              "TotalSulfurDioxide    float64\n",
              "Density               float64\n",
              "pH                    float64\n",
              "Sulphates             float64\n",
              "Alcohol               float64\n",
              "LabelAppeal             int64\n",
              "AcidIndex               int64\n",
              "STARS                 float64\n",
              "dtype: object"
            ]
          },
          "metadata": {},
          "execution_count": 205
        }
      ]
    },
    {
      "cell_type": "code",
      "metadata": {
        "id": "qbUbS8ir8ApI",
        "colab": {
          "base_uri": "https://localhost:8080/",
          "height": 226
        },
        "outputId": "602320b5-c0b1-42b7-da6f-789a60c8f887"
      },
      "source": [
        "#Drop the unnamed column and the index column\n",
        "df1 = df1.drop(df1.columns[[0, 1]], axis=1)\n",
        "\n",
        "#View the data frame to ensure that the columns were removed\n",
        "df1.head()"
      ],
      "execution_count": null,
      "outputs": [
        {
          "output_type": "execute_result",
          "data": {
            "text/html": [
              "<div>\n",
              "<style scoped>\n",
              "    .dataframe tbody tr th:only-of-type {\n",
              "        vertical-align: middle;\n",
              "    }\n",
              "\n",
              "    .dataframe tbody tr th {\n",
              "        vertical-align: top;\n",
              "    }\n",
              "\n",
              "    .dataframe thead th {\n",
              "        text-align: right;\n",
              "    }\n",
              "</style>\n",
              "<table border=\"1\" class=\"dataframe\">\n",
              "  <thead>\n",
              "    <tr style=\"text-align: right;\">\n",
              "      <th></th>\n",
              "      <th>TARGET</th>\n",
              "      <th>FixedAcidity</th>\n",
              "      <th>VolatileAcidity</th>\n",
              "      <th>CitricAcid</th>\n",
              "      <th>ResidualSugar</th>\n",
              "      <th>Chlorides</th>\n",
              "      <th>FreeSulfurDioxide</th>\n",
              "      <th>TotalSulfurDioxide</th>\n",
              "      <th>Density</th>\n",
              "      <th>pH</th>\n",
              "      <th>Sulphates</th>\n",
              "      <th>Alcohol</th>\n",
              "      <th>LabelAppeal</th>\n",
              "      <th>AcidIndex</th>\n",
              "      <th>STARS</th>\n",
              "    </tr>\n",
              "  </thead>\n",
              "  <tbody>\n",
              "    <tr>\n",
              "      <th>0</th>\n",
              "      <td>3</td>\n",
              "      <td>3.2</td>\n",
              "      <td>1.160</td>\n",
              "      <td>0.98</td>\n",
              "      <td>54.2</td>\n",
              "      <td>0.567</td>\n",
              "      <td>NaN</td>\n",
              "      <td>268.0</td>\n",
              "      <td>0.99280</td>\n",
              "      <td>3.33</td>\n",
              "      <td>0.59</td>\n",
              "      <td>9.9</td>\n",
              "      <td>0</td>\n",
              "      <td>8</td>\n",
              "      <td>2.0</td>\n",
              "    </tr>\n",
              "    <tr>\n",
              "      <th>1</th>\n",
              "      <td>3</td>\n",
              "      <td>4.5</td>\n",
              "      <td>0.160</td>\n",
              "      <td>0.81</td>\n",
              "      <td>26.1</td>\n",
              "      <td>0.425</td>\n",
              "      <td>15.0</td>\n",
              "      <td>327.0</td>\n",
              "      <td>1.02792</td>\n",
              "      <td>3.38</td>\n",
              "      <td>0.70</td>\n",
              "      <td>NaN</td>\n",
              "      <td>-1</td>\n",
              "      <td>7</td>\n",
              "      <td>3.0</td>\n",
              "    </tr>\n",
              "    <tr>\n",
              "      <th>2</th>\n",
              "      <td>5</td>\n",
              "      <td>7.1</td>\n",
              "      <td>2.640</td>\n",
              "      <td>0.88</td>\n",
              "      <td>14.8</td>\n",
              "      <td>0.037</td>\n",
              "      <td>214.0</td>\n",
              "      <td>142.0</td>\n",
              "      <td>0.99518</td>\n",
              "      <td>3.12</td>\n",
              "      <td>0.48</td>\n",
              "      <td>22.0</td>\n",
              "      <td>-1</td>\n",
              "      <td>8</td>\n",
              "      <td>3.0</td>\n",
              "    </tr>\n",
              "    <tr>\n",
              "      <th>3</th>\n",
              "      <td>3</td>\n",
              "      <td>5.7</td>\n",
              "      <td>0.385</td>\n",
              "      <td>0.04</td>\n",
              "      <td>18.8</td>\n",
              "      <td>0.425</td>\n",
              "      <td>22.0</td>\n",
              "      <td>115.0</td>\n",
              "      <td>0.99640</td>\n",
              "      <td>2.24</td>\n",
              "      <td>1.83</td>\n",
              "      <td>6.2</td>\n",
              "      <td>-1</td>\n",
              "      <td>6</td>\n",
              "      <td>1.0</td>\n",
              "    </tr>\n",
              "    <tr>\n",
              "      <th>4</th>\n",
              "      <td>4</td>\n",
              "      <td>8.0</td>\n",
              "      <td>0.330</td>\n",
              "      <td>1.26</td>\n",
              "      <td>9.4</td>\n",
              "      <td>NaN</td>\n",
              "      <td>167.0</td>\n",
              "      <td>108.0</td>\n",
              "      <td>0.99457</td>\n",
              "      <td>3.12</td>\n",
              "      <td>1.77</td>\n",
              "      <td>13.7</td>\n",
              "      <td>0</td>\n",
              "      <td>9</td>\n",
              "      <td>2.0</td>\n",
              "    </tr>\n",
              "  </tbody>\n",
              "</table>\n",
              "</div>"
            ],
            "text/plain": [
              "   TARGET  FixedAcidity  VolatileAcidity  ...  LabelAppeal  AcidIndex  STARS\n",
              "0       3           3.2            1.160  ...            0          8    2.0\n",
              "1       3           4.5            0.160  ...           -1          7    3.0\n",
              "2       5           7.1            2.640  ...           -1          8    3.0\n",
              "3       3           5.7            0.385  ...           -1          6    1.0\n",
              "4       4           8.0            0.330  ...            0          9    2.0\n",
              "\n",
              "[5 rows x 15 columns]"
            ]
          },
          "metadata": {},
          "execution_count": 206
        }
      ]
    },
    {
      "cell_type": "markdown",
      "metadata": {
        "id": "-R_dEB0OQdVY"
      },
      "source": [
        "There are 15 columns with 12,795 rows which are all numeric.  Missing data accounts for 4.3% of the dataset.  Eight columns have missing data: Alcohol, Chlorides, FreeSulfurDioxide, ResidualSugar, STARS, Sulphates, TotalSulfurDioxide and pH.  LabelAppeal and TARGET have zero values which it okay because it is possible to get a score of 0 for LabelAppeal and TARGET sales.  \n",
        "\n",
        "<h5><b>Counts, Mean, Max, Min, and Missing Values</b></h5>\n",
        "1. AcidIndex has 14 distinct values with a mean of 7.77, a minimum of 4 and a maximum of 17.<br>\n",
        "2. Alcohol has 362 distinct values with a mean of 10.52, a minimium of 0 and a maximum of 26.5. There are 653 missing values which make up 5.1% of the Alcohol data.<br>\n",
        "3. Chlorides has 997 distinct values with a mean of 0.22, a minimum of 0 and a maximum of 1.35.  There are 638 missing values which make up 5.0% of the Chlorides data.<br>\n",
        "4. CitricAcid has 347 distinct values with a mean of 0.69, a minimum of 0 and a maximum of 3.86.<br>\n",
        "5. Density has 5,933 distinct values with a mean of 0.99, a minimum of 0.89 and a maximum of 1.1.<br>\n",
        "6. FixedAcidity has 313 distinct values with a mean of 8.06, a minimum of 0 and a maximum of 34.4.<br>\n",
        "7. FreeSulfurDioxide has 618 distinct values with a mean of 106.68, a minimum of 0 and a maximum of 623.  There are 647 missing values which make up 5.1% of the FreeSulfurDioxide data. <br>\n",
        "8. LabelAppeal has 5 distinct values with a mean of -0.009, a minimum of -2 and a maximum of 2.<br>\n",
        "9. ResidualSugar has 1,343 distinct values with a mean of 23.37, a minimum of 0 and a maximum of 141.15.  There are 616 missing values which make up 4.8% of the ResidualSugar data.<br>\n",
        "10. STARS has 5 distinct values with a mean of 2.04, a minimum of 1 and a maximum of 4.  There are 3,359 mssing value which make up 26.3% of the STARS data.<br>\n",
        "11. Sulphates has 383 distinct values with a mean of 0.85, a minimum of 0 and a maximum of 4.24.  There are 1,210 missing values which make up 9.5% of the Sulphates data.<br>\n",
        "12. TARGET has 9 distinct values with a mean of 3.02, a minimum of 0 and a maximum of 8.<br>\n",
        "13. TotalSulfurDioxide has 859 distinct values with a mean of 204.32, a minimum of 0 and a maximum of 1,057.  There are 682 missing values which make up 5.3% of the TotalSulfurDioxide data.<br>\n",
        "14. VolatileAcidity has 510 distinct values with a mean of 0.64, a minimum of 0 and a maximum of 3.68.<br>\n",
        "15. pH has 498 distinct values with a mean of 3.21, a minimum of 0.48 and a maximum of 6.13.  There are 395 missing values which make up 3.1% of the pH data.\n",
        "\n",
        "<h5><b>Pearson and Spearman Correlations</b><br></h5>\n",
        "\n",
        "According to the Pearson and Spearman correlations, STARS is positively correlated at 0.5 and LabelAppel is positively correlated at 0.4 with TARGET.  \n",
        "\n",
        "AcidIndex is negatively correlated to TARGET at -0.25. \n",
        "\n",
        "AcidIndex and FixedAcidity are slightly positively correlated with each other at 0.2.  We may not want to use both of these variables in a final model to predicit TARGET.<br>\n",
        "\n",
        "<h5><b>Preliminary Predictive Inferences</b><br></h5>\n",
        "The explanatory variables that appear to be relatively more “predictive” of the response variable are STARS, LabelAppel and AcidIndex."
      ]
    },
    {
      "cell_type": "markdown",
      "metadata": {
        "id": "vfr6HVhP98rp"
      },
      "source": [
        "#Histograms and Boxplots\n"
      ]
    },
    {
      "cell_type": "code",
      "metadata": {
        "id": "IGki3-D78If7",
        "colab": {
          "base_uri": "https://localhost:8080/",
          "height": 342
        },
        "outputId": "61086a18-b8b6-4143-cb65-29e5d536cbb1"
      },
      "source": [
        "#https://www.python-graph-gallery.com/24-histogram-with-a-boxplot-on-top-seaborn\n",
        "\n",
        "#Set a grey background\n",
        "sns.set(style=\"darkgrid\")\n",
        " \n",
        "#Create a figure composed of two matplotlib.Axes objects (ax_box and ax_hist)\n",
        "f, (ax_box, ax_hist) = plt.subplots(2, sharex=True, gridspec_kw={\"height_ratios\": (.15, .85)})\n",
        " \n",
        "#Assigning a graph to each ax\n",
        "sns.boxplot(df1['TARGET'], ax=ax_box)\n",
        "sns.histplot(data=df1, x='TARGET', ax=ax_hist)\n",
        " \n",
        "#Remove x axis name for the boxplot\n",
        "ax_box.set(xlabel='')\n",
        "plt.show()"
      ],
      "execution_count": null,
      "outputs": [
        {
          "output_type": "stream",
          "name": "stderr",
          "text": [
            "/usr/local/lib/python3.7/dist-packages/seaborn/_decorators.py:43: FutureWarning: Pass the following variable as a keyword arg: x. From version 0.12, the only valid positional argument will be `data`, and passing other arguments without an explicit keyword will result in an error or misinterpretation.\n",
            "  FutureWarning\n"
          ]
        },
        {
          "output_type": "display_data",
          "data": {
            "image/png": "[encoded data removed]",
            "text/plain": [
              "<Figure size 432x288 with 2 Axes>"
            ]
          },
          "metadata": {}
        }
      ]
    },
    {
      "cell_type": "markdown",
      "metadata": {
        "id": "O3-lBzA6Qod2"
      },
      "source": [
        "TARGET values are numerical and categorical. The boxplot shows that the median target value is 3.  Q1 to Q3 is 2-4 and 8 is an outlier.  The histogram has large peaks at 0, 3, and 4 with 4 being the mode. "
      ]
    },
    {
      "cell_type": "code",
      "metadata": {
        "id": "qBDXXTJi-rze",
        "colab": {
          "base_uri": "https://localhost:8080/",
          "height": 342
        },
        "outputId": "284a7aee-8fe9-4344-d998-dcfa982d352e"
      },
      "source": [
        "f, (ax_box, ax_hist) = plt.subplots(2, sharex=True, gridspec_kw={\"height_ratios\": (.15, .85)})\n",
        "sns.boxplot(df1[\"FixedAcidity\"], ax=ax_box)\n",
        "sns.histplot(data=df1, x=\"FixedAcidity\", ax=ax_hist)\n",
        "ax_box.set(xlabel='')\n",
        "plt.show()"
      ],
      "execution_count": null,
      "outputs": [
        {
          "output_type": "stream",
          "name": "stderr",
          "text": [
            "/usr/local/lib/python3.7/dist-packages/seaborn/_decorators.py:43: FutureWarning: Pass the following variable as a keyword arg: x. From version 0.12, the only valid positional argument will be `data`, and passing other arguments without an explicit keyword will result in an error or misinterpretation.\n",
            "  FutureWarning\n"
          ]
        },
        {
          "output_type": "display_data",
          "data": {
            "image/png": "[encoded data removed]",
            "text/plain": [
              "<Figure size 432x288 with 2 Axes>"
            ]
          },
          "metadata": {}
        }
      ]
    },
    {
      "cell_type": "markdown",
      "metadata": {
        "id": "_yhJ0E1SXUpG"
      },
      "source": [
        "FixedAcidity values are numerical and continuous. The boxplot shows that the median FixedAcidity value is 7.  Q1 to Q3 is 5.6 to 9.8 with outliers from 17.8 to 34.4."
      ]
    },
    {
      "cell_type": "code",
      "metadata": {
        "id": "v6fjfX_p-sSM",
        "colab": {
          "base_uri": "https://localhost:8080/",
          "height": 342
        },
        "outputId": "6e345413-9ba2-45d0-99a3-7cd5e752a021"
      },
      "source": [
        "f, (ax_box, ax_hist) = plt.subplots(2, sharex=True, gridspec_kw={\"height_ratios\": (.15, .85)})\n",
        "sns.boxplot(df1[\"VolatileAcidity\"], ax=ax_box)\n",
        "sns.histplot(data=df1, x=\"VolatileAcidity\", ax=ax_hist)\n",
        "ax_box.set(xlabel='')\n",
        "plt.show()"
      ],
      "execution_count": null,
      "outputs": [
        {
          "output_type": "stream",
          "name": "stderr",
          "text": [
            "/usr/local/lib/python3.7/dist-packages/seaborn/_decorators.py:43: FutureWarning: Pass the following variable as a keyword arg: x. From version 0.12, the only valid positional argument will be `data`, and passing other arguments without an explicit keyword will result in an error or misinterpretation.\n",
            "  FutureWarning\n"
          ]
        },
        {
          "output_type": "display_data",
          "data": {
            "image/png": "[encoded data removed]",
            "text/plain": [
              "<Figure size 432x288 with 2 Axes>"
            ]
          },
          "metadata": {}
        }
      ]
    },
    {
      "cell_type": "markdown",
      "metadata": {
        "id": "25tQYGHJXpp7"
      },
      "source": [
        "VolatileAcidity values are numerical and continuous. The boxplot shows that the median VolatileAcidity value is 0.41.  Q1 to Q3 is 0.25-0.91 with outliers from 1.72 to 3.68. "
      ]
    },
    {
      "cell_type": "code",
      "metadata": {
        "id": "BPtrFoJ0-snc",
        "colab": {
          "base_uri": "https://localhost:8080/",
          "height": 342
        },
        "outputId": "b11dee28-5145-40c6-f9f5-ba11b65bc6fa"
      },
      "source": [
        "f, (ax_box, ax_hist) = plt.subplots(2, sharex=True, gridspec_kw={\"height_ratios\": (.15, .85)})\n",
        "sns.boxplot(df1[\"CitricAcid\"], ax=ax_box)\n",
        "sns.histplot(data=df1, x=\"CitricAcid\", ax=ax_hist)\n",
        "ax_box.set(xlabel='')\n",
        "plt.show()"
      ],
      "execution_count": null,
      "outputs": [
        {
          "output_type": "stream",
          "name": "stderr",
          "text": [
            "/usr/local/lib/python3.7/dist-packages/seaborn/_decorators.py:43: FutureWarning: Pass the following variable as a keyword arg: x. From version 0.12, the only valid positional argument will be `data`, and passing other arguments without an explicit keyword will result in an error or misinterpretation.\n",
            "  FutureWarning\n"
          ]
        },
        {
          "output_type": "display_data",
          "data": {
            "image/png": "[encoded data removed]",
            "text/plain": [
              "<Figure size 432x288 with 2 Axes>"
            ]
          },
          "metadata": {}
        }
      ]
    },
    {
      "cell_type": "markdown",
      "metadata": {
        "id": "u7ZGYoeuXtNY"
      },
      "source": [
        "CitricAcid values are numerical and continuous. The boxplot shows that the median CitricAcid value is 0.44.  Q1 to Q3 is 0.28-0.97 with outliers from 1.88 to 3.86."
      ]
    },
    {
      "cell_type": "code",
      "metadata": {
        "id": "MV4RXozO-s_d",
        "colab": {
          "base_uri": "https://localhost:8080/",
          "height": 342
        },
        "outputId": "8bf5f048-0266-45d1-8200-dbccda1a1732"
      },
      "source": [
        "f, (ax_box, ax_hist) = plt.subplots(2, sharex=True, gridspec_kw={\"height_ratios\": (.15, .85)})\n",
        "sns.boxplot(df1[\"ResidualSugar\"], ax=ax_box)\n",
        "sns.histplot(data=df1, x=\"ResidualSugar\", ax=ax_hist)\n",
        "ax_box.set(xlabel='')\n",
        "plt.show()"
      ],
      "execution_count": null,
      "outputs": [
        {
          "output_type": "stream",
          "name": "stderr",
          "text": [
            "/usr/local/lib/python3.7/dist-packages/seaborn/_decorators.py:43: FutureWarning: Pass the following variable as a keyword arg: x. From version 0.12, the only valid positional argument will be `data`, and passing other arguments without an explicit keyword will result in an error or misinterpretation.\n",
            "  FutureWarning\n"
          ]
        },
        {
          "output_type": "display_data",
          "data": {
            "image/png": "[encoded data removed]",
            "text/plain": [
              "<Figure size 432x288 with 2 Axes>"
            ]
          },
          "metadata": {}
        }
      ]
    },
    {
      "cell_type": "markdown",
      "metadata": {
        "id": "8CF-YbvcKCmJ"
      },
      "source": [
        "ResidualSugar values are numerical and continuous. The boxplot shows that the median ResidualSugar value is 12.9 g/L.  Q1 to Q3 is 3.6 - 38.7 g/L with outliers from 0 to 1.3 g/L and 67.8 to 141.15 g/L.  Even though this is a wide range, all the numbers in this data set are acceptable values for ResidualSugar.\n",
        "\n",
        "The histogram shows that ResidualSugar ranges from 0 to about 140 g/L with the distribution being right-skewed.  The mode is 1.4 g/L and the mean is about 23 g/L.  This shape indicates that there are a number of data points or outliers that are greater than the mode.  Nearly half of the ResidualSugar values are in the 1 - 10 g/L range which is a characteristic of dry wines."
      ]
    },
    {
      "cell_type": "code",
      "metadata": {
        "id": "4Hw5ZLJ4-tRq",
        "colab": {
          "base_uri": "https://localhost:8080/",
          "height": 342
        },
        "outputId": "2c2a2b22-08bc-4e7c-8d61-9bf8774a3c15"
      },
      "source": [
        "f, (ax_box, ax_hist) = plt.subplots(2, sharex=True, gridspec_kw={\"height_ratios\": (.15, .85)})\n",
        "sns.boxplot(df1[\"Chlorides\"], ax=ax_box)\n",
        "sns.histplot(data=df1, x=\"Chlorides\", ax=ax_hist)\n",
        "ax_box.set(xlabel='')\n",
        "plt.show()"
      ],
      "execution_count": null,
      "outputs": [
        {
          "output_type": "stream",
          "name": "stderr",
          "text": [
            "/usr/local/lib/python3.7/dist-packages/seaborn/_decorators.py:43: FutureWarning: Pass the following variable as a keyword arg: x. From version 0.12, the only valid positional argument will be `data`, and passing other arguments without an explicit keyword will result in an error or misinterpretation.\n",
            "  FutureWarning\n"
          ]
        },
        {
          "output_type": "display_data",
          "data": {
            "image/png": "[encoded data removed]",
            "text/plain": [
              "<Figure size 432x288 with 2 Axes>"
            ]
          },
          "metadata": {}
        }
      ]
    },
    {
      "cell_type": "markdown",
      "metadata": {
        "id": "nQklzaBmX9e-"
      },
      "source": [
        "Chlorides values are numerical and continuous. The boxplot shows that the median Chlorides value is 0.098.  Q1 to Q3 is 0.046-0.368 with outliers from 0.6342 to 1.351."
      ]
    },
    {
      "cell_type": "code",
      "metadata": {
        "id": "iDBb3lDP-tq7",
        "colab": {
          "base_uri": "https://localhost:8080/",
          "height": 342
        },
        "outputId": "ff7837d0-325e-4821-bbea-e59f21e5c0a1"
      },
      "source": [
        "f, (ax_box, ax_hist) = plt.subplots(2, sharex=True, gridspec_kw={\"height_ratios\": (.15, .85)})\n",
        "sns.boxplot(df1[\"FreeSulfurDioxide\"], ax=ax_box)\n",
        "sns.histplot(data=df1, x=\"FreeSulfurDioxide\", ax=ax_hist)\n",
        "ax_box.set(xlabel='')\n",
        "plt.show()"
      ],
      "execution_count": null,
      "outputs": [
        {
          "output_type": "stream",
          "name": "stderr",
          "text": [
            "/usr/local/lib/python3.7/dist-packages/seaborn/_decorators.py:43: FutureWarning: Pass the following variable as a keyword arg: x. From version 0.12, the only valid positional argument will be `data`, and passing other arguments without an explicit keyword will result in an error or misinterpretation.\n",
            "  FutureWarning\n"
          ]
        },
        {
          "output_type": "display_data",
          "data": {
            "image/png": "[encoded data removed]",
            "text/plain": [
              "<Figure size 432x288 with 2 Axes>"
            ]
          },
          "metadata": {}
        }
      ]
    },
    {
      "cell_type": "markdown",
      "metadata": {
        "id": "DNuRsI5AYRNj"
      },
      "source": [
        "FreeSulfurDioxide values are numerical and continuous. The boxplot shows that the median FreeSulfurDioxide value is 56.  Q1 to Q3 is 28-172 with outliers from 303 to 623."
      ]
    },
    {
      "cell_type": "code",
      "metadata": {
        "id": "BNSiXtnE-t-7",
        "colab": {
          "base_uri": "https://localhost:8080/",
          "height": 342
        },
        "outputId": "7abc78e2-b325-4092-8400-6693323c2c47"
      },
      "source": [
        "f, (ax_box, ax_hist) = plt.subplots(2, sharex=True, gridspec_kw={\"height_ratios\": (.15, .85)})\n",
        "sns.boxplot(df1[\"TotalSulfurDioxide\"], ax=ax_box)\n",
        "sns.histplot(data=df1, x=\"TotalSulfurDioxide\", ax=ax_hist)\n",
        "ax_box.set(xlabel='')\n",
        "plt.show()"
      ],
      "execution_count": null,
      "outputs": [
        {
          "output_type": "stream",
          "name": "stderr",
          "text": [
            "/usr/local/lib/python3.7/dist-packages/seaborn/_decorators.py:43: FutureWarning: Pass the following variable as a keyword arg: x. From version 0.12, the only valid positional argument will be `data`, and passing other arguments without an explicit keyword will result in an error or misinterpretation.\n",
            "  FutureWarning\n"
          ]
        },
        {
          "output_type": "display_data",
          "data": {
            "image/png": "[encoded data removed]",
            "text/plain": [
              "<Figure size 432x288 with 2 Axes>"
            ]
          },
          "metadata": {}
        }
      ]
    },
    {
      "cell_type": "markdown",
      "metadata": {
        "id": "L9QFtRLKYWG1"
      },
      "source": [
        "TotalSulfurDioixide values are numerical and continuous. The boxplot shows that the median TotalSulfurDioxide value is 154.  Q1 to Q3 is 100-262 with outliers from 536 to 1,057."
      ]
    },
    {
      "cell_type": "code",
      "metadata": {
        "id": "Paaa27vt-uQy",
        "colab": {
          "base_uri": "https://localhost:8080/",
          "height": 342
        },
        "outputId": "d8f5dd74-6095-47fd-cabe-038cf74e2069"
      },
      "source": [
        "f, (ax_box, ax_hist) = plt.subplots(2, sharex=True, gridspec_kw={\"height_ratios\": (.15, .85)})\n",
        "sns.boxplot(df1[\"Density\"], ax=ax_box)\n",
        "sns.histplot(data=df1, x=\"Density\", ax=ax_hist)\n",
        "ax_box.set(xlabel='')\n",
        "plt.show()"
      ],
      "execution_count": null,
      "outputs": [
        {
          "output_type": "stream",
          "name": "stderr",
          "text": [
            "/usr/local/lib/python3.7/dist-packages/seaborn/_decorators.py:43: FutureWarning: Pass the following variable as a keyword arg: x. From version 0.12, the only valid positional argument will be `data`, and passing other arguments without an explicit keyword will result in an error or misinterpretation.\n",
            "  FutureWarning\n"
          ]
        },
        {
          "output_type": "display_data",
          "data": {
            "image/png": "[encoded data removed]",
            "text/plain": [
              "<Figure size 432x288 with 2 Axes>"
            ]
          },
          "metadata": {}
        }
      ]
    },
    {
      "cell_type": "markdown",
      "metadata": {
        "id": "DQ5-QgKLYYvy"
      },
      "source": [
        "\n",
        "Density values are numerical and continuous. The boxplot shows that the median Density value is 0.99449. Q1 to Q3 is 0.98772-1.0005 with outliers from 0.88809 to 0.94879 and 1.0398 to 0.21115."
      ]
    },
    {
      "cell_type": "code",
      "metadata": {
        "id": "DsQEkb0_-ulz",
        "colab": {
          "base_uri": "https://localhost:8080/",
          "height": 342
        },
        "outputId": "bf44d57e-83be-4395-bf6c-0043ef5a1b13"
      },
      "source": [
        "f, (ax_box, ax_hist) = plt.subplots(2, sharex=True, gridspec_kw={\"height_ratios\": (.15, .85)})\n",
        "sns.boxplot(df1[\"pH\"], ax=ax_box)\n",
        "sns.histplot(data=df1, x=\"pH\", ax=ax_hist)\n",
        "ax_box.set(xlabel='')\n",
        "plt.show()"
      ],
      "execution_count": null,
      "outputs": [
        {
          "output_type": "stream",
          "name": "stderr",
          "text": [
            "/usr/local/lib/python3.7/dist-packages/seaborn/_decorators.py:43: FutureWarning: Pass the following variable as a keyword arg: x. From version 0.12, the only valid positional argument will be `data`, and passing other arguments without an explicit keyword will result in an error or misinterpretation.\n",
            "  FutureWarning\n"
          ]
        },
        {
          "output_type": "display_data",
          "data": {
            "image/png": "[encoded data removed]",
            "text/plain": [
              "<Figure size 432x288 with 2 Axes>"
            ]
          },
          "metadata": {}
        }
      ]
    },
    {
      "cell_type": "markdown",
      "metadata": {
        "id": "CNJ0J4ruYb85"
      },
      "source": [
        "pH values are numerical and continuous. The boxplot shows that the median pH value is 3.2.  Q1 to Q3 is 2.96-3.47 with outliers from 0.48 to 2.06 and 4.37 to 5.65."
      ]
    },
    {
      "cell_type": "code",
      "metadata": {
        "id": "-mIZIfmu-u9E",
        "colab": {
          "base_uri": "https://localhost:8080/",
          "height": 342
        },
        "outputId": "782a6e99-060b-4bca-b31b-343c5ef90378"
      },
      "source": [
        "f, (ax_box, ax_hist) = plt.subplots(2, sharex=True, gridspec_kw={\"height_ratios\": (.15, .85)})\n",
        "sns.boxplot(df1[\"Sulphates\"], ax=ax_box)\n",
        "sns.histplot(data=df1, x=\"Sulphates\", ax=ax_hist)\n",
        "ax_box.set(xlabel='')\n",
        "plt.show()"
      ],
      "execution_count": null,
      "outputs": [
        {
          "output_type": "stream",
          "name": "stderr",
          "text": [
            "/usr/local/lib/python3.7/dist-packages/seaborn/_decorators.py:43: FutureWarning: Pass the following variable as a keyword arg: x. From version 0.12, the only valid positional argument will be `data`, and passing other arguments without an explicit keyword will result in an error or misinterpretation.\n",
            "  FutureWarning\n"
          ]
        },
        {
          "output_type": "display_data",
          "data": {
            "image/png": "[encoded data removed]",
            "text/plain": [
              "<Figure size 432x288 with 2 Axes>"
            ]
          },
          "metadata": {}
        }
      ]
    },
    {
      "cell_type": "markdown",
      "metadata": {
        "id": "XccWyrS-YfCI"
      },
      "source": [
        "Sulphates values are numerical and continuous. The boxplot shows that the median Sulphates value is 0.59.  Q1 to Q3 is 0.43-1.1 with outliers from 2.15 to 4.24."
      ]
    },
    {
      "cell_type": "code",
      "metadata": {
        "id": "fYvODN7O-vZw",
        "colab": {
          "base_uri": "https://localhost:8080/",
          "height": 342
        },
        "outputId": "429b9887-3d92-492f-d2ce-2f3565e9d4b8"
      },
      "source": [
        "f, (ax_box, ax_hist) = plt.subplots(2, sharex=True, gridspec_kw={\"height_ratios\": (.15, .85)})\n",
        "sns.boxplot(df1[\"Alcohol\"], ax=ax_box)\n",
        "sns.histplot(data=df1, x=\"Alcohol\", ax=ax_hist)\n",
        "ax_box.set(xlabel='')\n",
        "plt.show()"
      ],
      "execution_count": null,
      "outputs": [
        {
          "output_type": "stream",
          "name": "stderr",
          "text": [
            "/usr/local/lib/python3.7/dist-packages/seaborn/_decorators.py:43: FutureWarning: Pass the following variable as a keyword arg: x. From version 0.12, the only valid positional argument will be `data`, and passing other arguments without an explicit keyword will result in an error or misinterpretation.\n",
            "  FutureWarning\n"
          ]
        },
        {
          "output_type": "display_data",
          "data": {
            "image/png": "[encoded data removed]",
            "text/plain": [
              "<Figure size 432x288 with 2 Axes>"
            ]
          },
          "metadata": {}
        }
      ]
    },
    {
      "cell_type": "markdown",
      "metadata": {
        "id": "cSW7rAYzYiYN"
      },
      "source": [
        "Alcohol values are numerical and continuous. The boxplot shows that the median Alcohol value is 10.4.  Q1 to Q3 is 9-12.4 with outliers from 0 to 4.1 and 16.7 to 26.5."
      ]
    },
    {
      "cell_type": "code",
      "metadata": {
        "id": "e9DVFeW7-vwr",
        "colab": {
          "base_uri": "https://localhost:8080/",
          "height": 342
        },
        "outputId": "37361c39-4df7-4b34-a5cd-95f72a61351b"
      },
      "source": [
        "f, (ax_box, ax_hist) = plt.subplots(2, sharex=True, gridspec_kw={\"height_ratios\": (.15, .85)})\n",
        "sns.boxplot(df1[\"LabelAppeal\"], ax=ax_box)\n",
        "sns.histplot(data=df1, x=\"LabelAppeal\", ax=ax_hist)\n",
        "ax_box.set(xlabel='')\n",
        "plt.show()"
      ],
      "execution_count": null,
      "outputs": [
        {
          "output_type": "stream",
          "name": "stderr",
          "text": [
            "/usr/local/lib/python3.7/dist-packages/seaborn/_decorators.py:43: FutureWarning: Pass the following variable as a keyword arg: x. From version 0.12, the only valid positional argument will be `data`, and passing other arguments without an explicit keyword will result in an error or misinterpretation.\n",
            "  FutureWarning\n"
          ]
        },
        {
          "output_type": "display_data",
          "data": {
            "image/png": "[encoded data removed]",
            "text/plain": [
              "<Figure size 432x288 with 2 Axes>"
            ]
          },
          "metadata": {}
        }
      ]
    },
    {
      "cell_type": "markdown",
      "metadata": {
        "id": "b7LwyQtiYmGP"
      },
      "source": [
        "LabelAppeal values are numeric and categorical. The boxplot shows that the median LabelAppeal value is 0.  Q1 to Q3 is -1 to 1 with no outliers."
      ]
    },
    {
      "cell_type": "code",
      "metadata": {
        "id": "gYJmBAAC-wV_",
        "colab": {
          "base_uri": "https://localhost:8080/",
          "height": 342
        },
        "outputId": "b1dfe205-1353-4b1c-8de6-18fd295ef94c"
      },
      "source": [
        "f, (ax_box, ax_hist) = plt.subplots(2, sharex=True, gridspec_kw={\"height_ratios\": (.15, .85)})\n",
        "sns.boxplot(df1[\"AcidIndex\"], ax=ax_box)\n",
        "sns.histplot(data=df1, x=\"AcidIndex\", ax=ax_hist)\n",
        "ax_box.set(xlabel='')\n",
        "plt.show()"
      ],
      "execution_count": null,
      "outputs": [
        {
          "output_type": "stream",
          "name": "stderr",
          "text": [
            "/usr/local/lib/python3.7/dist-packages/seaborn/_decorators.py:43: FutureWarning: Pass the following variable as a keyword arg: x. From version 0.12, the only valid positional argument will be `data`, and passing other arguments without an explicit keyword will result in an error or misinterpretation.\n",
            "  FutureWarning\n"
          ]
        },
        {
          "output_type": "display_data",
          "data": {
            "image/png": "[encoded data removed]",
            "text/plain": [
              "<Figure size 432x288 with 2 Axes>"
            ]
          },
          "metadata": {}
        }
      ]
    },
    {
      "cell_type": "markdown",
      "metadata": {
        "id": "pFXB7Kb1YqmP"
      },
      "source": [
        "AcidIndex values are numerical and categorical. The boxplot shows that the median AcidIndex values is 8.  Q1 to Q3 is 7-8 with outliers from 4 to 6 and 10 to 17."
      ]
    },
    {
      "cell_type": "code",
      "metadata": {
        "id": "KwyQsq3SDgvl",
        "colab": {
          "base_uri": "https://localhost:8080/",
          "height": 342
        },
        "outputId": "a175b55f-d2e2-4a4c-a669-97aa1def103a"
      },
      "source": [
        "f, (ax_box, ax_hist) = plt.subplots(2, sharex=True, gridspec_kw={\"height_ratios\": (.15, .85)})\n",
        "sns.boxplot(df1[\"STARS\"], ax=ax_box)\n",
        "sns.histplot(data=df1, x=\"STARS\", ax=ax_hist)\n",
        "ax_box.set(xlabel='')\n",
        "plt.show()"
      ],
      "execution_count": null,
      "outputs": [
        {
          "output_type": "stream",
          "name": "stderr",
          "text": [
            "/usr/local/lib/python3.7/dist-packages/seaborn/_decorators.py:43: FutureWarning: Pass the following variable as a keyword arg: x. From version 0.12, the only valid positional argument will be `data`, and passing other arguments without an explicit keyword will result in an error or misinterpretation.\n",
            "  FutureWarning\n"
          ]
        },
        {
          "output_type": "display_data",
          "data": {
            "image/png": "[encoded data removed]",
            "text/plain": [
              "<Figure size 432x288 with 2 Axes>"
            ]
          },
          "metadata": {}
        }
      ]
    },
    {
      "cell_type": "markdown",
      "metadata": {
        "id": "aKQ6UNu9Ysco"
      },
      "source": [
        "STARS values are numerical and categorical. The boxplot shows that the median STARS value is 2.  Q1 to Q3 is 1-3 with outliers at 4."
      ]
    },
    {
      "cell_type": "code",
      "metadata": {
        "id": "-4F4FqXFDhRv",
        "colab": {
          "base_uri": "https://localhost:8080/",
          "height": 557
        },
        "outputId": "0819d845-36ef-477b-b554-5e03a0e0f618"
      },
      "source": [
        "#Use missingno to see if the data set has any contiguous areas of missing data\n",
        "import missingno as msno\n",
        "ax = msno.matrix(df1)"
      ],
      "execution_count": null,
      "outputs": [
        {
          "output_type": "display_data",
          "data": {
            "image/png": "[encoded data removed]",
            "text/plain": [
              "<Figure size 1800x720 with 2 Axes>"
            ]
          },
          "metadata": {}
        }
      ]
    },
    {
      "cell_type": "markdown",
      "metadata": {
        "id": "ZVJEgq6qDsHC"
      },
      "source": [
        "No clear pattern can be seen so the missing data is random.\n"
      ]
    },
    {
      "cell_type": "code",
      "metadata": {
        "id": "jYOdKPGtDvvd",
        "colab": {
          "base_uri": "https://localhost:8080/",
          "height": 484
        },
        "outputId": "b46964d9-118e-4068-ad54-040d6b5f7f56"
      },
      "source": [
        "#Create a heat map showing correlations where data is missing\n",
        "\n",
        "ax = msno.heatmap(df1, figsize=(6, 6))"
      ],
      "execution_count": null,
      "outputs": [
        {
          "output_type": "display_data",
          "data": {
            "image/png": "[encoded data removed]",
            "text/plain": [
              "<Figure size 432x432 with 2 Axes>"
            ]
          },
          "metadata": {}
        }
      ]
    },
    {
      "cell_type": "markdown",
      "metadata": {
        "id": "jrsLpAywDzVR"
      },
      "source": [
        "There are no correlations where the data is missing."
      ]
    },
    {
      "cell_type": "markdown",
      "metadata": {
        "id": "_5D7nZG0tT2Z"
      },
      "source": [
        "##Data Preparation"
      ]
    },
    {
      "cell_type": "markdown",
      "metadata": {
        "id": "0Hv1HfDHw_85"
      },
      "source": [
        "We decided to impute missing values using a K Nearest Neighbors function, KNNImputer.\n",
        "\n",
        "From our research, we have found that the optimal K value usually found is the square root of N, where N is the total number of samples."
      ]
    },
    {
      "cell_type": "code",
      "metadata": {
        "colab": {
          "base_uri": "https://localhost:8080/",
          "height": 226
        },
        "id": "GuUYpyDZiKCA",
        "outputId": "8cc2ce49-7c8e-4aa1-90b3-9c2489ff40b7"
      },
      "source": [
        "#https://medium.com/@kyawsawhtoon/a-guide-to-knn-imputation-95e2dc496e\n",
        "#Normalize the data before beginning KNN to impute missing values.\n",
        "\n",
        "from sklearn.preprocessing import MinMaxScaler\n",
        "scaler = MinMaxScaler()\n",
        "df1 = pd.DataFrame(scaler.fit_transform(df1), columns = df1.columns)\n",
        "df1.head()"
      ],
      "execution_count": null,
      "outputs": [
        {
          "output_type": "execute_result",
          "data": {
            "text/html": [
              "<div>\n",
              "<style scoped>\n",
              "    .dataframe tbody tr th:only-of-type {\n",
              "        vertical-align: middle;\n",
              "    }\n",
              "\n",
              "    .dataframe tbody tr th {\n",
              "        vertical-align: top;\n",
              "    }\n",
              "\n",
              "    .dataframe thead th {\n",
              "        text-align: right;\n",
              "    }\n",
              "</style>\n",
              "<table border=\"1\" class=\"dataframe\">\n",
              "  <thead>\n",
              "    <tr style=\"text-align: right;\">\n",
              "      <th></th>\n",
              "      <th>TARGET</th>\n",
              "      <th>FixedAcidity</th>\n",
              "      <th>VolatileAcidity</th>\n",
              "      <th>CitricAcid</th>\n",
              "      <th>ResidualSugar</th>\n",
              "      <th>Chlorides</th>\n",
              "      <th>FreeSulfurDioxide</th>\n",
              "      <th>TotalSulfurDioxide</th>\n",
              "      <th>Density</th>\n",
              "      <th>pH</th>\n",
              "      <th>Sulphates</th>\n",
              "      <th>Alcohol</th>\n",
              "      <th>LabelAppeal</th>\n",
              "      <th>AcidIndex</th>\n",
              "      <th>STARS</th>\n",
              "    </tr>\n",
              "  </thead>\n",
              "  <tbody>\n",
              "    <tr>\n",
              "      <th>0</th>\n",
              "      <td>0.375</td>\n",
              "      <td>0.093023</td>\n",
              "      <td>0.315217</td>\n",
              "      <td>0.253886</td>\n",
              "      <td>0.383989</td>\n",
              "      <td>0.419689</td>\n",
              "      <td>NaN</td>\n",
              "      <td>0.253548</td>\n",
              "      <td>0.495903</td>\n",
              "      <td>0.504425</td>\n",
              "      <td>0.139151</td>\n",
              "      <td>0.373585</td>\n",
              "      <td>0.50</td>\n",
              "      <td>0.307692</td>\n",
              "      <td>0.333333</td>\n",
              "    </tr>\n",
              "    <tr>\n",
              "      <th>1</th>\n",
              "      <td>0.375</td>\n",
              "      <td>0.130814</td>\n",
              "      <td>0.043478</td>\n",
              "      <td>0.209845</td>\n",
              "      <td>0.184910</td>\n",
              "      <td>0.314582</td>\n",
              "      <td>0.024077</td>\n",
              "      <td>0.309366</td>\n",
              "      <td>0.662231</td>\n",
              "      <td>0.513274</td>\n",
              "      <td>0.165094</td>\n",
              "      <td>NaN</td>\n",
              "      <td>0.25</td>\n",
              "      <td>0.230769</td>\n",
              "      <td>0.666667</td>\n",
              "    </tr>\n",
              "    <tr>\n",
              "      <th>2</th>\n",
              "      <td>0.625</td>\n",
              "      <td>0.206395</td>\n",
              "      <td>0.717391</td>\n",
              "      <td>0.227979</td>\n",
              "      <td>0.104853</td>\n",
              "      <td>0.027387</td>\n",
              "      <td>0.343499</td>\n",
              "      <td>0.134342</td>\n",
              "      <td>0.507175</td>\n",
              "      <td>0.467257</td>\n",
              "      <td>0.113208</td>\n",
              "      <td>0.830189</td>\n",
              "      <td>0.25</td>\n",
              "      <td>0.307692</td>\n",
              "      <td>0.666667</td>\n",
              "    </tr>\n",
              "    <tr>\n",
              "      <th>3</th>\n",
              "      <td>0.375</td>\n",
              "      <td>0.165698</td>\n",
              "      <td>0.104620</td>\n",
              "      <td>0.010363</td>\n",
              "      <td>0.133192</td>\n",
              "      <td>0.314582</td>\n",
              "      <td>0.035313</td>\n",
              "      <td>0.108798</td>\n",
              "      <td>0.512953</td>\n",
              "      <td>0.311504</td>\n",
              "      <td>0.431604</td>\n",
              "      <td>0.233962</td>\n",
              "      <td>0.25</td>\n",
              "      <td>0.153846</td>\n",
              "      <td>0.000000</td>\n",
              "    </tr>\n",
              "    <tr>\n",
              "      <th>4</th>\n",
              "      <td>0.500</td>\n",
              "      <td>0.232558</td>\n",
              "      <td>0.089674</td>\n",
              "      <td>0.326425</td>\n",
              "      <td>0.066596</td>\n",
              "      <td>NaN</td>\n",
              "      <td>0.268058</td>\n",
              "      <td>0.102176</td>\n",
              "      <td>0.504286</td>\n",
              "      <td>0.467257</td>\n",
              "      <td>0.417453</td>\n",
              "      <td>0.516981</td>\n",
              "      <td>0.50</td>\n",
              "      <td>0.384615</td>\n",
              "      <td>0.333333</td>\n",
              "    </tr>\n",
              "  </tbody>\n",
              "</table>\n",
              "</div>"
            ],
            "text/plain": [
              "   TARGET  FixedAcidity  VolatileAcidity  ...  LabelAppeal  AcidIndex     STARS\n",
              "0   0.375      0.093023         0.315217  ...         0.50   0.307692  0.333333\n",
              "1   0.375      0.130814         0.043478  ...         0.25   0.230769  0.666667\n",
              "2   0.625      0.206395         0.717391  ...         0.25   0.307692  0.666667\n",
              "3   0.375      0.165698         0.104620  ...         0.25   0.153846  0.000000\n",
              "4   0.500      0.232558         0.089674  ...         0.50   0.384615  0.333333\n",
              "\n",
              "[5 rows x 15 columns]"
            ]
          },
          "metadata": {},
          "execution_count": 14
        }
      ]
    },
    {
      "cell_type": "code",
      "metadata": {
        "id": "0EgMmQaxilgU"
      },
      "source": [
        "#Define imputer.  Take the square root of 12,795 to get N which is 113.\n",
        "\n",
        "from sklearn.impute import KNNImputer\n",
        "imputer = KNNImputer(n_neighbors=113)\n",
        "df1 = pd.DataFrame(imputer.fit_transform(df1),columns = df1.columns)"
      ],
      "execution_count": null,
      "outputs": []
    },
    {
      "cell_type": "code",
      "metadata": {
        "colab": {
          "base_uri": "https://localhost:8080/"
        },
        "id": "UMZWLNZ6ivqy",
        "outputId": "6e5942bf-2bcb-47be-a444-0f59f615d976"
      },
      "source": [
        "df1.isna().any()"
      ],
      "execution_count": null,
      "outputs": [
        {
          "output_type": "execute_result",
          "data": {
            "text/plain": [
              "TARGET                False\n",
              "FixedAcidity          False\n",
              "VolatileAcidity       False\n",
              "CitricAcid            False\n",
              "ResidualSugar         False\n",
              "Chlorides             False\n",
              "FreeSulfurDioxide     False\n",
              "TotalSulfurDioxide    False\n",
              "Density               False\n",
              "pH                    False\n",
              "Sulphates             False\n",
              "Alcohol               False\n",
              "LabelAppeal           False\n",
              "AcidIndex             False\n",
              "STARS                 False\n",
              "dtype: bool"
            ]
          },
          "metadata": {},
          "execution_count": 16
        }
      ]
    },
    {
      "cell_type": "code",
      "metadata": {
        "colab": {
          "base_uri": "https://localhost:8080/"
        },
        "id": "n5hqLPxJiylq",
        "outputId": "19d24e4e-4fc4-4fdb-b75b-1c311c432fc5"
      },
      "source": [
        "df1.isna().sum()"
      ],
      "execution_count": null,
      "outputs": [
        {
          "output_type": "execute_result",
          "data": {
            "text/plain": [
              "TARGET                0\n",
              "FixedAcidity          0\n",
              "VolatileAcidity       0\n",
              "CitricAcid            0\n",
              "ResidualSugar         0\n",
              "Chlorides             0\n",
              "FreeSulfurDioxide     0\n",
              "TotalSulfurDioxide    0\n",
              "Density               0\n",
              "pH                    0\n",
              "Sulphates             0\n",
              "Alcohol               0\n",
              "LabelAppeal           0\n",
              "AcidIndex             0\n",
              "STARS                 0\n",
              "dtype: int64"
            ]
          },
          "metadata": {},
          "execution_count": 17
        }
      ]
    },
    {
      "cell_type": "markdown",
      "metadata": {
        "id": "iFke-tjMi8C0"
      },
      "source": [
        "Our dataframe no longer has missing values but our data is still skewed. Let's look at the skewness in our dataset and fix it so our data will be better prepared for machine learning algorithms."
      ]
    },
    {
      "cell_type": "code",
      "metadata": {
        "colab": {
          "base_uri": "https://localhost:8080/"
        },
        "id": "CO-7ccHyjE8v",
        "outputId": "02ddf3de-68d9-4fc4-b5ed-93974948db12"
      },
      "source": [
        "#Look at the skewness of the variables in the dataframe.\n",
        "\n",
        "df1.skew()"
      ],
      "execution_count": null,
      "outputs": [
        {
          "output_type": "execute_result",
          "data": {
            "text/plain": [
              "TARGET               -0.326378\n",
              "FixedAcidity          1.174556\n",
              "VolatileAcidity       1.653366\n",
              "CitricAcid            1.643195\n",
              "ResidualSugar         1.469162\n",
              "Chlorides             1.481147\n",
              "FreeSulfurDioxide     1.530134\n",
              "TotalSulfurDioxide    1.611275\n",
              "Density              -0.018698\n",
              "pH                    0.044299\n",
              "Sulphates             1.691810\n",
              "Alcohol               0.182591\n",
              "LabelAppeal           0.008431\n",
              "AcidIndex             1.648883\n",
              "STARS                 0.447378\n",
              "dtype: float64"
            ]
          },
          "metadata": {},
          "execution_count": 225
        }
      ]
    },
    {
      "cell_type": "code",
      "metadata": {
        "colab": {
          "base_uri": "https://localhost:8080/"
        },
        "id": "FV0sd_T385cF",
        "outputId": "0dd0d05e-9b9f-428e-992c-27738e6d3d0e"
      },
      "source": [
        "#After some trial and error, we discovered that Percentile Linearization worked best for addresses the skewness of our data.\n",
        "#Source: https://towardsdatascience.com/transforming-skewed-data-73da4c2d0d16\n",
        "\n",
        "size = len(df1)-1\n",
        "df2_perc_lin = df1.rank(method='min').apply(lambda x: (x-1)/size)\n",
        "\n",
        "#View the skew\n",
        "df2_perc_lin.skew()"
      ],
      "execution_count": null,
      "outputs": [
        {
          "output_type": "execute_result",
          "data": {
            "text/plain": [
              "TARGET                0.144371\n",
              "FixedAcidity          0.027840\n",
              "VolatileAcidity       0.009144\n",
              "CitricAcid            0.015233\n",
              "ResidualSugar        -0.008387\n",
              "Chlorides            -0.001533\n",
              "FreeSulfurDioxide     0.000625\n",
              "TotalSulfurDioxide    0.003781\n",
              "Density               0.002913\n",
              "pH                    0.017888\n",
              "Sulphates             0.010184\n",
              "Alcohol               0.021607\n",
              "LabelAppeal           0.620647\n",
              "AcidIndex             0.527816\n",
              "STARS                -0.020874\n",
              "dtype: float64"
            ]
          },
          "metadata": {},
          "execution_count": 19
        }
      ]
    },
    {
      "cell_type": "code",
      "metadata": {
        "colab": {
          "base_uri": "https://localhost:8080/",
          "height": 320
        },
        "id": "lPu-aKIJ9KL4",
        "outputId": "1add6f3f-46c7-407d-c021-63f5d06c1f52"
      },
      "source": [
        "df2_perc_lin.describe()"
      ],
      "execution_count": null,
      "outputs": [
        {
          "output_type": "execute_result",
          "data": {
            "text/html": [
              "<div>\n",
              "<style scoped>\n",
              "    .dataframe tbody tr th:only-of-type {\n",
              "        vertical-align: middle;\n",
              "    }\n",
              "\n",
              "    .dataframe tbody tr th {\n",
              "        vertical-align: top;\n",
              "    }\n",
              "\n",
              "    .dataframe thead th {\n",
              "        text-align: right;\n",
              "    }\n",
              "</style>\n",
              "<table border=\"1\" class=\"dataframe\">\n",
              "  <thead>\n",
              "    <tr style=\"text-align: right;\">\n",
              "      <th></th>\n",
              "      <th>TARGET</th>\n",
              "      <th>FixedAcidity</th>\n",
              "      <th>VolatileAcidity</th>\n",
              "      <th>CitricAcid</th>\n",
              "      <th>ResidualSugar</th>\n",
              "      <th>Chlorides</th>\n",
              "      <th>FreeSulfurDioxide</th>\n",
              "      <th>TotalSulfurDioxide</th>\n",
              "      <th>Density</th>\n",
              "      <th>pH</th>\n",
              "      <th>Sulphates</th>\n",
              "      <th>Alcohol</th>\n",
              "      <th>LabelAppeal</th>\n",
              "      <th>AcidIndex</th>\n",
              "      <th>STARS</th>\n",
              "    </tr>\n",
              "  </thead>\n",
              "  <tbody>\n",
              "    <tr>\n",
              "      <th>count</th>\n",
              "      <td>12795.000000</td>\n",
              "      <td>12795.000000</td>\n",
              "      <td>12795.000000</td>\n",
              "      <td>12795.000000</td>\n",
              "      <td>12795.000000</td>\n",
              "      <td>12795.000000</td>\n",
              "      <td>12795.000000</td>\n",
              "      <td>12795.000000</td>\n",
              "      <td>12795.000000</td>\n",
              "      <td>12795.000000</td>\n",
              "      <td>12795.000000</td>\n",
              "      <td>12795.000000</td>\n",
              "      <td>12795.000000</td>\n",
              "      <td>12795.000000</td>\n",
              "      <td>12795.000000</td>\n",
              "    </tr>\n",
              "    <tr>\n",
              "      <th>mean</th>\n",
              "      <td>0.407500</td>\n",
              "      <td>0.495212</td>\n",
              "      <td>0.495350</td>\n",
              "      <td>0.495217</td>\n",
              "      <td>0.498341</td>\n",
              "      <td>0.497856</td>\n",
              "      <td>0.497398</td>\n",
              "      <td>0.498805</td>\n",
              "      <td>0.499628</td>\n",
              "      <td>0.496982</td>\n",
              "      <td>0.496604</td>\n",
              "      <td>0.495416</td>\n",
              "      <td>0.343748</td>\n",
              "      <td>0.363143</td>\n",
              "      <td>0.416422</td>\n",
              "    </tr>\n",
              "    <tr>\n",
              "      <th>std</th>\n",
              "      <td>0.291251</td>\n",
              "      <td>0.289524</td>\n",
              "      <td>0.291368</td>\n",
              "      <td>0.291020</td>\n",
              "      <td>0.290373</td>\n",
              "      <td>0.290510</td>\n",
              "      <td>0.290463</td>\n",
              "      <td>0.289186</td>\n",
              "      <td>0.288682</td>\n",
              "      <td>0.288770</td>\n",
              "      <td>0.290471</td>\n",
              "      <td>0.289191</td>\n",
              "      <td>0.279095</td>\n",
              "      <td>0.306250</td>\n",
              "      <td>0.290062</td>\n",
              "    </tr>\n",
              "    <tr>\n",
              "      <th>min</th>\n",
              "      <td>0.000000</td>\n",
              "      <td>0.000000</td>\n",
              "      <td>0.000000</td>\n",
              "      <td>0.000000</td>\n",
              "      <td>0.000000</td>\n",
              "      <td>0.000000</td>\n",
              "      <td>0.000000</td>\n",
              "      <td>0.000000</td>\n",
              "      <td>0.000000</td>\n",
              "      <td>0.000000</td>\n",
              "      <td>0.000000</td>\n",
              "      <td>0.000000</td>\n",
              "      <td>0.000000</td>\n",
              "      <td>0.000000</td>\n",
              "      <td>0.000000</td>\n",
              "    </tr>\n",
              "    <tr>\n",
              "      <th>25%</th>\n",
              "      <td>0.232765</td>\n",
              "      <td>0.247616</td>\n",
              "      <td>0.242067</td>\n",
              "      <td>0.230577</td>\n",
              "      <td>0.247616</td>\n",
              "      <td>0.236986</td>\n",
              "      <td>0.242145</td>\n",
              "      <td>0.246053</td>\n",
              "      <td>0.249961</td>\n",
              "      <td>0.246600</td>\n",
              "      <td>0.244177</td>\n",
              "      <td>0.249023</td>\n",
              "      <td>0.039393</td>\n",
              "      <td>0.099656</td>\n",
              "      <td>0.246913</td>\n",
              "    </tr>\n",
              "    <tr>\n",
              "      <th>50%</th>\n",
              "      <td>0.318040</td>\n",
              "      <td>0.489526</td>\n",
              "      <td>0.493982</td>\n",
              "      <td>0.494529</td>\n",
              "      <td>0.499453</td>\n",
              "      <td>0.499766</td>\n",
              "      <td>0.497264</td>\n",
              "      <td>0.496561</td>\n",
              "      <td>0.499844</td>\n",
              "      <td>0.495388</td>\n",
              "      <td>0.490621</td>\n",
              "      <td>0.492653</td>\n",
              "      <td>0.284508</td>\n",
              "      <td>0.480929</td>\n",
              "      <td>0.470689</td>\n",
              "    </tr>\n",
              "    <tr>\n",
              "      <th>75%</th>\n",
              "      <td>0.522120</td>\n",
              "      <td>0.746678</td>\n",
              "      <td>0.748085</td>\n",
              "      <td>0.747929</td>\n",
              "      <td>0.749805</td>\n",
              "      <td>0.749726</td>\n",
              "      <td>0.748945</td>\n",
              "      <td>0.749883</td>\n",
              "      <td>0.750000</td>\n",
              "      <td>0.747460</td>\n",
              "      <td>0.749101</td>\n",
              "      <td>0.743786</td>\n",
              "      <td>0.723542</td>\n",
              "      <td>0.480929</td>\n",
              "      <td>0.749961</td>\n",
              "    </tr>\n",
              "    <tr>\n",
              "      <th>max</th>\n",
              "      <td>0.998749</td>\n",
              "      <td>1.000000</td>\n",
              "      <td>1.000000</td>\n",
              "      <td>1.000000</td>\n",
              "      <td>1.000000</td>\n",
              "      <td>1.000000</td>\n",
              "      <td>1.000000</td>\n",
              "      <td>1.000000</td>\n",
              "      <td>0.999922</td>\n",
              "      <td>1.000000</td>\n",
              "      <td>1.000000</td>\n",
              "      <td>1.000000</td>\n",
              "      <td>0.961779</td>\n",
              "      <td>0.999531</td>\n",
              "      <td>0.952243</td>\n",
              "    </tr>\n",
              "  </tbody>\n",
              "</table>\n",
              "</div>"
            ],
            "text/plain": [
              "             TARGET  FixedAcidity  ...     AcidIndex         STARS\n",
              "count  12795.000000  12795.000000  ...  12795.000000  12795.000000\n",
              "mean       0.407500      0.495212  ...      0.363143      0.416422\n",
              "std        0.291251      0.289524  ...      0.306250      0.290062\n",
              "min        0.000000      0.000000  ...      0.000000      0.000000\n",
              "25%        0.232765      0.247616  ...      0.099656      0.246913\n",
              "50%        0.318040      0.489526  ...      0.480929      0.470689\n",
              "75%        0.522120      0.746678  ...      0.480929      0.749961\n",
              "max        0.998749      1.000000  ...      0.999531      0.952243\n",
              "\n",
              "[8 rows x 15 columns]"
            ]
          },
          "metadata": {},
          "execution_count": 20
        }
      ]
    },
    {
      "cell_type": "code",
      "metadata": {
        "colab": {
          "base_uri": "https://localhost:8080/",
          "height": 340
        },
        "id": "NJXVTbL39QHv",
        "outputId": "5e31ec04-8125-487e-b554-b1c6de774b8b"
      },
      "source": [
        "#Create a figure composed of two matplotlib.Axes objects (ax_box and ax_hist)\n",
        "f, (ax_box, ax_hist) = plt.subplots(2, sharex=True, gridspec_kw={\"height_ratios\": (.15, .85)})\n",
        " \n",
        "#Assigning a graph to each ax\n",
        "sns.boxplot(df2_perc_lin[\"TARGET\"], ax=ax_box)\n",
        "sns.histplot(data=df2_perc_lin, x='TARGET', ax=ax_hist)\n",
        " \n",
        "#Remove x axis name for the boxplot\n",
        "ax_box.set(xlabel='')\n",
        "plt.show()"
      ],
      "execution_count": null,
      "outputs": [
        {
          "output_type": "stream",
          "name": "stderr",
          "text": [
            "/usr/local/lib/python3.7/dist-packages/seaborn/_decorators.py:43: FutureWarning: Pass the following variable as a keyword arg: x. From version 0.12, the only valid positional argument will be `data`, and passing other arguments without an explicit keyword will result in an error or misinterpretation.\n",
            "  FutureWarning\n"
          ]
        },
        {
          "output_type": "display_data",
          "data": {
            "image/png": "[encoded data removed]",
            "text/plain": [
              "<Figure size 432x288 with 2 Axes>"
            ]
          },
          "metadata": {}
        }
      ]
    },
    {
      "cell_type": "code",
      "metadata": {
        "colab": {
          "base_uri": "https://localhost:8080/",
          "height": 340
        },
        "id": "60W29F899XUO",
        "outputId": "c3aeb506-bfc6-40f3-a79e-dc01cf7d6427"
      },
      "source": [
        "#Create a figure composed of two matplotlib.Axes objects (ax_box and ax_hist)\n",
        "f, (ax_box, ax_hist) = plt.subplots(2, sharex=True, gridspec_kw={\"height_ratios\": (.15, .85)})\n",
        "\n",
        "#Assigning a graph to each ax\n",
        "sns.boxplot(df2_perc_lin[\"FixedAcidity\"], ax=ax_box)\n",
        "sns.histplot(data=df2_perc_lin, x=\"FixedAcidity\", ax=ax_hist)\n",
        " \n",
        "#Remove x axis name for the boxplot\n",
        "ax_box.set(xlabel='')\n",
        "plt.show()"
      ],
      "execution_count": null,
      "outputs": [
        {
          "output_type": "stream",
          "name": "stderr",
          "text": [
            "/usr/local/lib/python3.7/dist-packages/seaborn/_decorators.py:43: FutureWarning: Pass the following variable as a keyword arg: x. From version 0.12, the only valid positional argument will be `data`, and passing other arguments without an explicit keyword will result in an error or misinterpretation.\n",
            "  FutureWarning\n"
          ]
        },
        {
          "output_type": "display_data",
          "data": {
            "image/png": "[encoded data removed]",
            "text/plain": [
              "<Figure size 432x288 with 2 Axes>"
            ]
          },
          "metadata": {}
        }
      ]
    },
    {
      "cell_type": "code",
      "metadata": {
        "colab": {
          "base_uri": "https://localhost:8080/",
          "height": 340
        },
        "id": "Kc_qAqBA9kW1",
        "outputId": "bf0490f0-de12-4935-daa7-ccd3468fa3b1"
      },
      "source": [
        "#Create a figure composed of two matplotlib.Axes objects (ax_box and ax_hist)\n",
        "f, (ax_box, ax_hist) = plt.subplots(2, sharex=True, gridspec_kw={\"height_ratios\": (.15, .85)})\n",
        "\n",
        "#Assigning a graph to each ax\n",
        "sns.boxplot(df2_perc_lin[\"VolatileAcidity\"], ax=ax_box)\n",
        "sns.histplot(data=df2_perc_lin, x=\"VolatileAcidity\", ax=ax_hist)\n",
        " \n",
        "#Remove x axis name for the boxplot\n",
        "ax_box.set(xlabel='')\n",
        "plt.show()"
      ],
      "execution_count": null,
      "outputs": [
        {
          "output_type": "stream",
          "name": "stderr",
          "text": [
            "/usr/local/lib/python3.7/dist-packages/seaborn/_decorators.py:43: FutureWarning: Pass the following variable as a keyword arg: x. From version 0.12, the only valid positional argument will be `data`, and passing other arguments without an explicit keyword will result in an error or misinterpretation.\n",
            "  FutureWarning\n"
          ]
        },
        {
          "output_type": "display_data",
          "data": {
            "image/png": "[encoded data removed]",
            "text/plain": [
              "<Figure size 432x288 with 2 Axes>"
            ]
          },
          "metadata": {}
        }
      ]
    },
    {
      "cell_type": "code",
      "metadata": {
        "colab": {
          "base_uri": "https://localhost:8080/",
          "height": 340
        },
        "id": "m-2wF2bF9qpb",
        "outputId": "f27da51c-d83b-48e9-8cfa-9b3485a7164c"
      },
      "source": [
        "#Create a figure composed of two matplotlib.Axes objects (ax_box and ax_hist)\n",
        "f, (ax_box, ax_hist) = plt.subplots(2, sharex=True, gridspec_kw={\"height_ratios\": (.15, .85)})\n",
        "\n",
        "#Assigning a graph to each ax\n",
        "sns.boxplot(df2_perc_lin[\"CitricAcid\"], ax=ax_box)\n",
        "sns.histplot(data=df2_perc_lin, x=\"CitricAcid\", ax=ax_hist)\n",
        " \n",
        "#Remove x axis name for the boxplot\n",
        "ax_box.set(xlabel='')\n",
        "plt.show()"
      ],
      "execution_count": null,
      "outputs": [
        {
          "output_type": "stream",
          "name": "stderr",
          "text": [
            "/usr/local/lib/python3.7/dist-packages/seaborn/_decorators.py:43: FutureWarning: Pass the following variable as a keyword arg: x. From version 0.12, the only valid positional argument will be `data`, and passing other arguments without an explicit keyword will result in an error or misinterpretation.\n",
            "  FutureWarning\n"
          ]
        },
        {
          "output_type": "display_data",
          "data": {
            "image/png": "[encoded data removed]",
            "text/plain": [
              "<Figure size 432x288 with 2 Axes>"
            ]
          },
          "metadata": {}
        }
      ]
    },
    {
      "cell_type": "code",
      "metadata": {
        "colab": {
          "base_uri": "https://localhost:8080/",
          "height": 340
        },
        "id": "cgck5F7Q9rDm",
        "outputId": "832d1559-2f18-4e4c-95af-2b4813e79253"
      },
      "source": [
        "#Create a figure composed of two matplotlib.Axes objects (ax_box and ax_hist)\n",
        "f, (ax_box, ax_hist) = plt.subplots(2, sharex=True, gridspec_kw={\"height_ratios\": (.15, .85)})\n",
        "\n",
        "#Assigning a graph to each ax\n",
        "sns.boxplot(df2_perc_lin[\"ResidualSugar\"], ax=ax_box)\n",
        "sns.histplot(data=df2_perc_lin, x=\"ResidualSugar\", ax=ax_hist)\n",
        " \n",
        "#Remove x axis name for the boxplot\n",
        "ax_box.set(xlabel='')\n",
        "plt.show()"
      ],
      "execution_count": null,
      "outputs": [
        {
          "output_type": "stream",
          "name": "stderr",
          "text": [
            "/usr/local/lib/python3.7/dist-packages/seaborn/_decorators.py:43: FutureWarning: Pass the following variable as a keyword arg: x. From version 0.12, the only valid positional argument will be `data`, and passing other arguments without an explicit keyword will result in an error or misinterpretation.\n",
            "  FutureWarning\n"
          ]
        },
        {
          "output_type": "display_data",
          "data": {
            "image/png": "[encoded data removed]",
            "text/plain": [
              "<Figure size 432x288 with 2 Axes>"
            ]
          },
          "metadata": {}
        }
      ]
    },
    {
      "cell_type": "code",
      "metadata": {
        "colab": {
          "base_uri": "https://localhost:8080/",
          "height": 340
        },
        "id": "OTFNJrKu9rVl",
        "outputId": "0b52ba22-9603-4822-c0c2-c36e97778979"
      },
      "source": [
        "#Create a figure composed of two matplotlib.Axes objects (ax_box and ax_hist)\n",
        "f, (ax_box, ax_hist) = plt.subplots(2, sharex=True, gridspec_kw={\"height_ratios\": (.15, .85)})\n",
        "\n",
        "#Assigning a graph to each ax\n",
        "sns.boxplot(df2_perc_lin[\"Chlorides\"], ax=ax_box)\n",
        "sns.histplot(data=df2_perc_lin, x=\"Chlorides\", ax=ax_hist)\n",
        " \n",
        "#Remove x axis name for the boxplot\n",
        "ax_box.set(xlabel='')\n",
        "plt.show()"
      ],
      "execution_count": null,
      "outputs": [
        {
          "output_type": "stream",
          "name": "stderr",
          "text": [
            "/usr/local/lib/python3.7/dist-packages/seaborn/_decorators.py:43: FutureWarning: Pass the following variable as a keyword arg: x. From version 0.12, the only valid positional argument will be `data`, and passing other arguments without an explicit keyword will result in an error or misinterpretation.\n",
            "  FutureWarning\n"
          ]
        },
        {
          "output_type": "display_data",
          "data": {
            "image/png": "[encoded data removed]",
            "text/plain": [
              "<Figure size 432x288 with 2 Axes>"
            ]
          },
          "metadata": {}
        }
      ]
    },
    {
      "cell_type": "code",
      "metadata": {
        "colab": {
          "base_uri": "https://localhost:8080/",
          "height": 340
        },
        "id": "vHcIv3Z49rn6",
        "outputId": "cfdc9ccb-76ad-49d2-f588-2e017d0e71c2"
      },
      "source": [
        "#Create a figure composed of two matplotlib.Axes objects (ax_box and ax_hist)\n",
        "f, (ax_box, ax_hist) = plt.subplots(2, sharex=True, gridspec_kw={\"height_ratios\": (.15, .85)})\n",
        "\n",
        "#Assigning a graph to each ax\n",
        "sns.boxplot(df2_perc_lin[\"FreeSulfurDioxide\"], ax=ax_box)\n",
        "sns.histplot(data=df2_perc_lin, x=\"FreeSulfurDioxide\", ax=ax_hist)\n",
        " \n",
        "#Remove x axis name for the boxplot\n",
        "ax_box.set(xlabel='')\n",
        "plt.show()"
      ],
      "execution_count": null,
      "outputs": [
        {
          "output_type": "stream",
          "name": "stderr",
          "text": [
            "/usr/local/lib/python3.7/dist-packages/seaborn/_decorators.py:43: FutureWarning: Pass the following variable as a keyword arg: x. From version 0.12, the only valid positional argument will be `data`, and passing other arguments without an explicit keyword will result in an error or misinterpretation.\n",
            "  FutureWarning\n"
          ]
        },
        {
          "output_type": "display_data",
          "data": {
            "image/png": "[encoded data removed]",
            "text/plain": [
              "<Figure size 432x288 with 2 Axes>"
            ]
          },
          "metadata": {}
        }
      ]
    },
    {
      "cell_type": "code",
      "metadata": {
        "colab": {
          "base_uri": "https://localhost:8080/",
          "height": 340
        },
        "id": "-vOtXdyV-89O",
        "outputId": "b3501c81-a694-437b-c537-36bcd48c2af2"
      },
      "source": [
        "#Create a figure composed of two matplotlib.Axes objects (ax_box and ax_hist)\n",
        "f, (ax_box, ax_hist) = plt.subplots(2, sharex=True, gridspec_kw={\"height_ratios\": (.15, .85)})\n",
        "\n",
        "#Assigning a graph to each ax\n",
        "sns.boxplot(df2_perc_lin[\"TotalSulfurDioxide\"], ax=ax_box)\n",
        "sns.histplot(data=df2_perc_lin, x=\"TotalSulfurDioxide\", ax=ax_hist)\n",
        " \n",
        "#Remove x axis name for the boxplot\n",
        "ax_box.set(xlabel='')\n",
        "plt.show()"
      ],
      "execution_count": null,
      "outputs": [
        {
          "output_type": "stream",
          "name": "stderr",
          "text": [
            "/usr/local/lib/python3.7/dist-packages/seaborn/_decorators.py:43: FutureWarning: Pass the following variable as a keyword arg: x. From version 0.12, the only valid positional argument will be `data`, and passing other arguments without an explicit keyword will result in an error or misinterpretation.\n",
            "  FutureWarning\n"
          ]
        },
        {
          "output_type": "display_data",
          "data": {
            "image/png": "[encoded data removed]",
            "text/plain": [
              "<Figure size 432x288 with 2 Axes>"
            ]
          },
          "metadata": {}
        }
      ]
    },
    {
      "cell_type": "code",
      "metadata": {
        "colab": {
          "base_uri": "https://localhost:8080/",
          "height": 340
        },
        "id": "EHgVA_06_E-l",
        "outputId": "324c8e47-011a-41ad-fee4-77005814009b"
      },
      "source": [
        "#Create a figure composed of two matplotlib.Axes objects (ax_box and ax_hist)\n",
        "f, (ax_box, ax_hist) = plt.subplots(2, sharex=True, gridspec_kw={\"height_ratios\": (.15, .85)})\n",
        "\n",
        "#Assigning a graph to each ax\n",
        "sns.boxplot(df2_perc_lin[\"Density\"], ax=ax_box)\n",
        "sns.histplot(data=df2_perc_lin, x=\"Density\", ax=ax_hist)\n",
        " \n",
        "#Remove x axis name for the boxplot\n",
        "ax_box.set(xlabel='')\n",
        "plt.show()"
      ],
      "execution_count": null,
      "outputs": [
        {
          "output_type": "stream",
          "name": "stderr",
          "text": [
            "/usr/local/lib/python3.7/dist-packages/seaborn/_decorators.py:43: FutureWarning: Pass the following variable as a keyword arg: x. From version 0.12, the only valid positional argument will be `data`, and passing other arguments without an explicit keyword will result in an error or misinterpretation.\n",
            "  FutureWarning\n"
          ]
        },
        {
          "output_type": "display_data",
          "data": {
            "image/png": "[encoded data removed]",
            "text/plain": [
              "<Figure size 432x288 with 2 Axes>"
            ]
          },
          "metadata": {}
        }
      ]
    },
    {
      "cell_type": "code",
      "metadata": {
        "colab": {
          "base_uri": "https://localhost:8080/",
          "height": 340
        },
        "id": "AoMm30hZ_Mv8",
        "outputId": "73c554d3-f689-4319-f963-3c74868154e5"
      },
      "source": [
        "#Create a figure composed of two matplotlib.Axes objects (ax_box and ax_hist)\n",
        "f, (ax_box, ax_hist) = plt.subplots(2, sharex=True, gridspec_kw={\"height_ratios\": (.15, .85)})\n",
        "\n",
        "#Assigning a graph to each ax\n",
        "sns.boxplot(df2_perc_lin[\"pH\"], ax=ax_box)\n",
        "sns.histplot(data=df2_perc_lin, x=\"pH\", ax=ax_hist)\n",
        " \n",
        "#Remove x axis name for the boxplot\n",
        "ax_box.set(xlabel='')\n",
        "plt.show()"
      ],
      "execution_count": null,
      "outputs": [
        {
          "output_type": "stream",
          "name": "stderr",
          "text": [
            "/usr/local/lib/python3.7/dist-packages/seaborn/_decorators.py:43: FutureWarning: Pass the following variable as a keyword arg: x. From version 0.12, the only valid positional argument will be `data`, and passing other arguments without an explicit keyword will result in an error or misinterpretation.\n",
            "  FutureWarning\n"
          ]
        },
        {
          "output_type": "display_data",
          "data": {
            "image/png": "[encoded data removed]",
            "text/plain": [
              "<Figure size 432x288 with 2 Axes>"
            ]
          },
          "metadata": {}
        }
      ]
    },
    {
      "cell_type": "code",
      "metadata": {
        "colab": {
          "base_uri": "https://localhost:8080/",
          "height": 340
        },
        "id": "CaB1WT11_UW-",
        "outputId": "a47dcb08-4aff-48db-840d-1b551f5674a8"
      },
      "source": [
        "#Create a figure composed of two matplotlib.Axes objects (ax_box and ax_hist)\n",
        "f, (ax_box, ax_hist) = plt.subplots(2, sharex=True, gridspec_kw={\"height_ratios\": (.15, .85)})\n",
        "\n",
        "#Assigning a graph to each ax\n",
        "sns.boxplot(df2_perc_lin[\"Sulphates\"], ax=ax_box)\n",
        "sns.histplot(data=df2_perc_lin, x=\"Sulphates\", ax=ax_hist)\n",
        " \n",
        "#Remove x axis name for the boxplot\n",
        "ax_box.set(xlabel='')\n",
        "plt.show()"
      ],
      "execution_count": null,
      "outputs": [
        {
          "output_type": "stream",
          "name": "stderr",
          "text": [
            "/usr/local/lib/python3.7/dist-packages/seaborn/_decorators.py:43: FutureWarning: Pass the following variable as a keyword arg: x. From version 0.12, the only valid positional argument will be `data`, and passing other arguments without an explicit keyword will result in an error or misinterpretation.\n",
            "  FutureWarning\n"
          ]
        },
        {
          "output_type": "display_data",
          "data": {
            "image/png": "[encoded data removed]",
            "text/plain": [
              "<Figure size 432x288 with 2 Axes>"
            ]
          },
          "metadata": {}
        }
      ]
    },
    {
      "cell_type": "code",
      "metadata": {
        "colab": {
          "base_uri": "https://localhost:8080/",
          "height": 340
        },
        "id": "VTuqVpFH_bpN",
        "outputId": "4fb42148-987a-43cf-de86-0927fb98d804"
      },
      "source": [
        "#Create a figure composed of two matplotlib.Axes objects (ax_box and ax_hist)\n",
        "f, (ax_box, ax_hist) = plt.subplots(2, sharex=True, gridspec_kw={\"height_ratios\": (.15, .85)})\n",
        "\n",
        "#Assigning a graph to each ax\n",
        "sns.boxplot(df2_perc_lin[\"Alcohol\"], ax=ax_box)\n",
        "sns.histplot(data=df2_perc_lin, x=\"Alcohol\", ax=ax_hist)\n",
        " \n",
        "#Remove x axis name for the boxplot\n",
        "ax_box.set(xlabel='')\n",
        "plt.show()"
      ],
      "execution_count": null,
      "outputs": [
        {
          "output_type": "stream",
          "name": "stderr",
          "text": [
            "/usr/local/lib/python3.7/dist-packages/seaborn/_decorators.py:43: FutureWarning: Pass the following variable as a keyword arg: x. From version 0.12, the only valid positional argument will be `data`, and passing other arguments without an explicit keyword will result in an error or misinterpretation.\n",
            "  FutureWarning\n"
          ]
        },
        {
          "output_type": "display_data",
          "data": {
            "image/png": "[encoded data removed]",
            "text/plain": [
              "<Figure size 432x288 with 2 Axes>"
            ]
          },
          "metadata": {}
        }
      ]
    },
    {
      "cell_type": "code",
      "metadata": {
        "colab": {
          "base_uri": "https://localhost:8080/",
          "height": 340
        },
        "id": "eK-e0kaC_8I6",
        "outputId": "5530a571-23da-4b20-9291-20454c55e8b3"
      },
      "source": [
        "#Create a figure composed of two matplotlib.Axes objects (ax_box and ax_hist)\n",
        "f, (ax_box, ax_hist) = plt.subplots(2, sharex=True, gridspec_kw={\"height_ratios\": (.15, .85)})\n",
        "\n",
        "#Assigning a graph to each ax\n",
        "sns.boxplot(df2_perc_lin[\"LabelAppeal\"], ax=ax_box)\n",
        "sns.histplot(data=df2_perc_lin, x=\"LabelAppeal\", ax=ax_hist)\n",
        " \n",
        "#Remove x axis name for the boxplot\n",
        "ax_box.set(xlabel='')\n",
        "plt.show()"
      ],
      "execution_count": null,
      "outputs": [
        {
          "output_type": "stream",
          "name": "stderr",
          "text": [
            "/usr/local/lib/python3.7/dist-packages/seaborn/_decorators.py:43: FutureWarning: Pass the following variable as a keyword arg: x. From version 0.12, the only valid positional argument will be `data`, and passing other arguments without an explicit keyword will result in an error or misinterpretation.\n",
            "  FutureWarning\n"
          ]
        },
        {
          "output_type": "display_data",
          "data": {
            "image/png": "[encoded data removed]",
            "text/plain": [
              "<Figure size 432x288 with 2 Axes>"
            ]
          },
          "metadata": {}
        }
      ]
    },
    {
      "cell_type": "code",
      "metadata": {
        "colab": {
          "base_uri": "https://localhost:8080/",
          "height": 340
        },
        "id": "p1WluZ64AEUQ",
        "outputId": "64aa0d11-312b-4c3a-80fd-cf06f57170ee"
      },
      "source": [
        "#Create a figure composed of two matplotlib.Axes objects (ax_box and ax_hist)\n",
        "f, (ax_box, ax_hist) = plt.subplots(2, sharex=True, gridspec_kw={\"height_ratios\": (.15, .85)})\n",
        "\n",
        "#Assigning a graph to each ax\n",
        "sns.boxplot(df2_perc_lin[\"AcidIndex\"], ax=ax_box)\n",
        "sns.histplot(data=df2_perc_lin, x=\"AcidIndex\", ax=ax_hist)\n",
        " \n",
        "#Remove x axis name for the boxplot\n",
        "ax_box.set(xlabel='')\n",
        "plt.show()"
      ],
      "execution_count": null,
      "outputs": [
        {
          "output_type": "stream",
          "name": "stderr",
          "text": [
            "/usr/local/lib/python3.7/dist-packages/seaborn/_decorators.py:43: FutureWarning: Pass the following variable as a keyword arg: x. From version 0.12, the only valid positional argument will be `data`, and passing other arguments without an explicit keyword will result in an error or misinterpretation.\n",
            "  FutureWarning\n"
          ]
        },
        {
          "output_type": "display_data",
          "data": {
            "image/png": "[encoded data removed]",
            "text/plain": [
              "<Figure size 432x288 with 2 Axes>"
            ]
          },
          "metadata": {}
        }
      ]
    },
    {
      "cell_type": "code",
      "metadata": {
        "colab": {
          "base_uri": "https://localhost:8080/",
          "height": 340
        },
        "id": "SxCZdJ9aAOGb",
        "outputId": "f6223a63-d91a-4368-e53a-4dc3fd57993e"
      },
      "source": [
        "#Create a figure composed of two matplotlib.Axes objects (ax_box and ax_hist)\n",
        "f, (ax_box, ax_hist) = plt.subplots(2, sharex=True, gridspec_kw={\"height_ratios\": (.15, .85)})\n",
        "\n",
        "#Assigning a graph to each ax\n",
        "sns.boxplot(df2_perc_lin[\"STARS\"], ax=ax_box)\n",
        "sns.histplot(data=df2_perc_lin, x=\"STARS\", ax=ax_hist)\n",
        " \n",
        "#Remove x axis name for the boxplot\n",
        "ax_box.set(xlabel='')\n",
        "plt.show()"
      ],
      "execution_count": null,
      "outputs": [
        {
          "output_type": "stream",
          "name": "stderr",
          "text": [
            "/usr/local/lib/python3.7/dist-packages/seaborn/_decorators.py:43: FutureWarning: Pass the following variable as a keyword arg: x. From version 0.12, the only valid positional argument will be `data`, and passing other arguments without an explicit keyword will result in an error or misinterpretation.\n",
            "  FutureWarning\n"
          ]
        },
        {
          "output_type": "display_data",
          "data": {
            "image/png": "[encoded data removed]",
            "text/plain": [
              "<Figure size 432x288 with 2 Axes>"
            ]
          },
          "metadata": {}
        }
      ]
    },
    {
      "cell_type": "markdown",
      "metadata": {
        "id": "Q9AFv-MiHosV"
      },
      "source": [
        "## **Prepped Data Review**"
      ]
    },
    {
      "cell_type": "markdown",
      "metadata": {
        "id": "IVRTnQa4JPNq"
      },
      "source": [
        "We have:\n",
        "\n",
        "- imputed all missing values for each variable.\n",
        "- normalized all variables once we rid each variable of null values.\n",
        "- fixed the skewedness of several variables."
      ]
    },
    {
      "cell_type": "markdown",
      "metadata": {
        "id": "vSAW8v_CVq1e"
      },
      "source": [
        "## **Conclusion**"
      ]
    },
    {
      "cell_type": "markdown",
      "metadata": {
        "id": "SzJtlhKzXDxT"
      },
      "source": [
        "We found that:\n",
        "\n",
        "- Research is invaluable, after reading papers on wine authorities around the world, not only did we feel we gain a new understanding for wine, but it much better helped us understand each variable with context. \n",
        "\n",
        "- Afterwords, for missing values, we presumed best practice to just fill in each missing value with a likely value from that variable's range. For example, if alcohol content ranged between 5.5-25.0% percent, missing values were filled in with KNN.\n",
        "\n",
        "- We found after re-conducting our EDA, that the data appeared to have stay in relatively the same shape after making important changes to the existence of erroneous negative values. Correlation diagrams appeared very similar after our alterations.\n",
        "\n",
        "- Data now normalized is better suited for machine learning models.\n"
      ]
    },
    {
      "cell_type": "markdown",
      "metadata": {
        "id": "Xdp2iBrNXCoR"
      },
      "source": [
        "This data set was strange because a lot of the values didn't make sense or were out of range of the normal acceptable (or legal) limit.  For example, Citric Acid is a component of Fixed Acidity so Citric Acid should always be less than Fixed Acidity, but that wasn't always the case.  I saw the same issue for Free Sulfur Dioxide and Total Sulfur Dioxide.  As for possible erroneous values, the maximum value for Total Sulfur Dioxide should be 350 mg/L but we saw 2,030 values over that number.  This \"over the maximum\" issue was observed for Fixed Acidity, Volatile Acidity, Citric Acid, Chlorides, Free Sulfur Dioxide, Total Sulfur Dioxide, and pH.  We really had no idea how to even begin to fix these issues so we focused on the problem at hand which was to fill in the missing values.\n",
        "\n",
        "We normalized the data before using the KNN imptuer because it is a distance-based imputation method that requires normalization. If we had not normalized our data, the different scales of the data would have led to the KNN imputer to generate biased replacements for the missing values.  We also thought normalization would be helpful since machine learning algorithms tend to perform better when variables are on a smaller scale. Therefore, it is common practice to normalize data before training machine learning models.\n",
        "\n",
        "We also adjusted the skew of the data.  Since the data was already normalized (with values from 0 - 1), we could not use Box Cox or log transformations.  If the values of a certain independent variables are skewed, depending on the model, skewness may violate model assumptions (e.g. logistic regression) or may impair the interpretation of feature importance. Source: https://opendatascience.com/transforming-skewed-data-for-machine-learning/"
      ]
    }
  ]
}
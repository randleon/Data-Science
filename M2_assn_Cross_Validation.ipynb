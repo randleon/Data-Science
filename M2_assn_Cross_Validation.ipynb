{
  "nbformat": 4,
  "nbformat_minor": 0,
  "metadata": {
    "colab": {
      "name": "R_Leon_M2_assn_",
      "provenance": [],
      "collapsed_sections": []
    },
    "kernelspec": {
      "name": "python3",
      "display_name": "Python 3"
    },
    "language_info": {
      "name": "python"
    }
  },
  "cells": [
    {
      "cell_type": "markdown",
      "metadata": {
        "id": "YYEsYKchvB17"
      },
      "source": [
        "### DAV 6150 Module 2 Assignment\n",
        "### Cross Validation\n",
        "### By Randy Leon"
      ]
    },
    {
      "cell_type": "markdown",
      "metadata": {
        "id": "FAfbtMxuu-yx"
      },
      "source": [
        "## INTRODUCTION"
      ]
    },
    {
      "cell_type": "markdown",
      "metadata": {
        "id": "CMsQk8nUvFtz"
      },
      "source": [
        "Presented to me was a data set with 205 observations and 26 attributes describing automobile data sourced from the UCI Machine Learning Repository.\n",
        "\n",
        "I am tasked with constructing two (2) different linear regression models with three (3) explanatory variables each in order to predict \"curb-weight\". (our response variable)\n",
        "\n",
        "I plan to achieve this by completing the following steps:\n",
        "\n",
        "1) Load the data into this notebook.\n",
        "\n",
        "2) Perform sufficient exploratory data analysis to understand, clean and analyze the data.\n",
        "\n",
        "3) Construct and evaluate my linear regression models, making sure to make use of k-fold cross validation."
      ]
    },
    {
      "cell_type": "markdown",
      "metadata": {
        "id": "pMRJoNQS3CLM"
      },
      "source": [
        "**Data Set Description from https://archive.ics.uci.edu/ml/machine-learning-databases/autos/imports-85.names**\n",
        "\n",
        "\n",
        "1. Source Information:\n",
        "   -- Creator/Donor: Jeffrey C. Schlimmer (Jeffrey.Schlimmer@a.gp.cs.cmu.edu)\n",
        "   -- Date: 19 May 1987\n",
        "   -- Sources:\n",
        "     \n",
        "     a) 1985 Model Import Car and Truck Specifications, 1985 Ward's Automotive Yearbook.\n",
        "\n",
        "     b) Personal Auto Manuals, Insurance Services Office, 160 Water Street, New York, NY 10038 \n",
        "\n",
        "     c) Insurance Collision Report, Insurance Institute for Highway Safety, Watergate 600, Washington, DC 20037\n",
        "\n",
        "2. Relevant Information:\n",
        "   -- Description\n",
        "      This data set consists of three types of entities: (a) the\n",
        "      specification of an auto in terms of various characteristics, (b)\n",
        "      its assigned insurance risk rating, (c) its normalized losses in use\n",
        "      as compared to other cars.  The second rating corresponds to the\n",
        "      degree to which the auto is more risky than its price indicates.\n",
        "      Cars are initially assigned a risk factor symbol associated with its\n",
        "      price.   Then, if it is more risky (or less), this symbol is\n",
        "      adjusted by moving it up (or down) the scale.  Actuarians call this\n",
        "      process \"symboling\".  A value of +3 indicates that the auto is\n",
        "      risky, -3 that it is probably pretty safe.\n",
        "\n",
        "      The third factor is the relative average loss payment per insured\n",
        "      vehicle year.  This value is normalized for all autos within a\n",
        "      particular size classification (two-door small, station wagons,\n",
        "      sports/speciality, etc...), and represents the average loss per car\n",
        "      per year.\n",
        "\n",
        "   -- Note: Several of the attributes in the database could be used as a class attribute.\n",
        "\n",
        "3. Number of Instances: 205\n",
        "\n",
        "4. Number of Attributes: 26 total\n",
        "   -- 15 continuous\n",
        "   -- 1 integer\n",
        "   -- 10 nominal\n",
        "\n",
        "5. Attribute Information:     \n",
        "     Attribute:                Attribute Range:\n",
        "     ------------------        -----------------------------------------------\n",
        "  1. symboling:                -3, -2, -1, 0, 1, 2, 3.\n",
        "  2. normalized-losses:        continuous from 65 to 256.\n",
        "  3. make:                     alfa-romero, audi, bmw, chevrolet, dodge honda,isuzu, jaguar, mazda, mercedes-benz, mercury,mitsubishi, nissan, peugot, plymouth, porsche,renault, saab, subaru, toyota, volkswagen, volvo\n",
        "  4. fuel-type:                diesel, gas.\n",
        "  5. aspiration:               std, turbo.\n",
        "  6. num-of-doors:             four, two.\n",
        "  7. body-style:               hardtop, wagon, sedan, hatchback, convertible.\n",
        "  8. drive-wheels:             4wd, fwd, rwd.\n",
        "  9. engine-location:          front, rear.\n",
        " 10. wheel-base:               continuous from 86.6 to 120.9.\n",
        " 11. length:                   continuous from 141.1 to 208.1.\n",
        " 12. width:                    continuous from 60.3 to 72.3.\n",
        " 13. height:                   continuous from 47.8 to 59.8.\n",
        " 14. curb-weight:              continuous from 1488 to 4066.\n",
        " 15. engine-type:              dohc, dohcv, l, ohc, ohcf, ohcv, rotor.\n",
        " 16. num-of-cylinders:         eight, five, four, six, three, twelve, two.\n",
        " 17. engine-size:              continuous from 61 to 326.\n",
        " 18. fuel-system:              1bbl, 2bbl, 4bbl, idi, mfi, mpfi, spdi, spfi.\n",
        " 19. bore:                     continuous from 2.54 to 3.94.\n",
        " 20. stroke:                   continuous from 2.07 to 4.17.\n",
        " 21. compression-ratio:        continuous from 7 to 23.\n",
        " 22. horsepower:               continuous from 48 to 288.\n",
        " 23. peak-rpm:                 continuous from 4150 to 6600.\n",
        " 24. city-mpg:                 continuous from 13 to 49.\n",
        " 25. highway-mpg:              continuous from 16 to 54.\n",
        " 26. price:                    continuous from 5118 to 45400.\n",
        "\n",
        "6. Missing Attribute Values: (denoted by \"?\")\n",
        "   Attribute #:   Number of instances missing a value:\n",
        "   2.             41\n",
        "   6.             2\n",
        "   19.            4\n",
        "   20.            4\n",
        "   22.            2\n",
        "   23.            2\n",
        "   26.            4"
      ]
    },
    {
      "cell_type": "markdown",
      "metadata": {
        "id": "_UlbaTzuxO3J"
      },
      "source": [
        "## EXPLORATORY DATA ANALYSIS"
      ]
    },
    {
      "cell_type": "code",
      "metadata": {
        "id": "o0LZlv7QxSAP"
      },
      "source": [
        "# import dependencies needed\n",
        "import pandas as pd\n",
        "import seaborn as sns\n",
        "import numpy as np\n",
        "import sklearn as sk\n",
        "import matplotlib.pyplot as plt\n",
        "from pandas import Series, DataFrame\n",
        "from matplotlib import rcParams"
      ],
      "execution_count": 103,
      "outputs": []
    },
    {
      "cell_type": "code",
      "metadata": {
        "id": "ChfVzBJ-yFVs"
      },
      "source": [
        "#Read data From GitHub and put into a df. Column names were found on UC Irvine's website.\n",
        "df1 = pd.read_csv('https://raw.githubusercontent.com/rleon207/Dav6150F2021/main/M2_Data(automobile_data).csv',\n",
        "names=['symboling',\n",
        "'normalized-losses',\n",
        "'make',\n",
        "'fuel-type',\n",
        "'aspiration',\n",
        "'num-of-doors',\n",
        "'body-style',\n",
        "'drive-wheels',\n",
        "'engine-location',\n",
        "'wheel-base',\n",
        "'length',\n",
        "'width',\n",
        "'height',\n",
        "'curb-weight',\n",
        "'engine-type',\n",
        "'num-of-cylinders',\n",
        "'engine-size',\n",
        "'fuel-system',\n",
        "'bore',\n",
        "'stroke',\n",
        "'compression-ratio',\n",
        "'horsepower',\n",
        "'peak-rpm',\n",
        "'city-mpg',\n",
        "'highway-mpg',\n",
        "'price'])"
      ],
      "execution_count": 104,
      "outputs": []
    },
    {
      "cell_type": "code",
      "metadata": {
        "colab": {
          "base_uri": "https://localhost:8080/",
          "height": 206
        },
        "id": "nltAeKP4hyKA",
        "outputId": "062cc08c-68e9-4753-fc53-2c02ec7eea99"
      },
      "source": [
        "#The assignment states \"The explanatory variables you may choose from are as follows: height, width, length, wheel-base, \n",
        "#engine-size, horsepower, peak-rpm, and city-mpg. All other attributes contained within the data set should \n",
        "#be ignored for this Assignment\"\n",
        "\n",
        "df2 = df1.drop(labels=['symboling',\n",
        "'normalized-losses',\n",
        "'make',\n",
        "'fuel-type',\n",
        "'aspiration',\n",
        "'num-of-doors',\n",
        "'body-style',\n",
        "'drive-wheels',\n",
        "'engine-location',\n",
        "'engine-type',\n",
        "'num-of-cylinders',\n",
        "'fuel-system',\n",
        "'bore',\n",
        "'stroke',\n",
        "'compression-ratio',\n",
        "'price',\n",
        "'highway-mpg'], axis=1)\n",
        "df2.head(5)"
      ],
      "execution_count": 105,
      "outputs": [
        {
          "output_type": "execute_result",
          "data": {
            "text/html": [
              "<div>\n",
              "<style scoped>\n",
              "    .dataframe tbody tr th:only-of-type {\n",
              "        vertical-align: middle;\n",
              "    }\n",
              "\n",
              "    .dataframe tbody tr th {\n",
              "        vertical-align: top;\n",
              "    }\n",
              "\n",
              "    .dataframe thead th {\n",
              "        text-align: right;\n",
              "    }\n",
              "</style>\n",
              "<table border=\"1\" class=\"dataframe\">\n",
              "  <thead>\n",
              "    <tr style=\"text-align: right;\">\n",
              "      <th></th>\n",
              "      <th>wheel-base</th>\n",
              "      <th>length</th>\n",
              "      <th>width</th>\n",
              "      <th>height</th>\n",
              "      <th>curb-weight</th>\n",
              "      <th>engine-size</th>\n",
              "      <th>horsepower</th>\n",
              "      <th>peak-rpm</th>\n",
              "      <th>city-mpg</th>\n",
              "    </tr>\n",
              "  </thead>\n",
              "  <tbody>\n",
              "    <tr>\n",
              "      <th>0</th>\n",
              "      <td>88.6</td>\n",
              "      <td>168.8</td>\n",
              "      <td>64.1</td>\n",
              "      <td>48.8</td>\n",
              "      <td>2548</td>\n",
              "      <td>130</td>\n",
              "      <td>111</td>\n",
              "      <td>5000</td>\n",
              "      <td>21</td>\n",
              "    </tr>\n",
              "    <tr>\n",
              "      <th>1</th>\n",
              "      <td>88.6</td>\n",
              "      <td>168.8</td>\n",
              "      <td>64.1</td>\n",
              "      <td>48.8</td>\n",
              "      <td>2548</td>\n",
              "      <td>130</td>\n",
              "      <td>111</td>\n",
              "      <td>5000</td>\n",
              "      <td>21</td>\n",
              "    </tr>\n",
              "    <tr>\n",
              "      <th>2</th>\n",
              "      <td>94.5</td>\n",
              "      <td>171.2</td>\n",
              "      <td>65.5</td>\n",
              "      <td>52.4</td>\n",
              "      <td>2823</td>\n",
              "      <td>152</td>\n",
              "      <td>154</td>\n",
              "      <td>5000</td>\n",
              "      <td>19</td>\n",
              "    </tr>\n",
              "    <tr>\n",
              "      <th>3</th>\n",
              "      <td>99.8</td>\n",
              "      <td>176.6</td>\n",
              "      <td>66.2</td>\n",
              "      <td>54.3</td>\n",
              "      <td>2337</td>\n",
              "      <td>109</td>\n",
              "      <td>102</td>\n",
              "      <td>5500</td>\n",
              "      <td>24</td>\n",
              "    </tr>\n",
              "    <tr>\n",
              "      <th>4</th>\n",
              "      <td>99.4</td>\n",
              "      <td>176.6</td>\n",
              "      <td>66.4</td>\n",
              "      <td>54.3</td>\n",
              "      <td>2824</td>\n",
              "      <td>136</td>\n",
              "      <td>115</td>\n",
              "      <td>5500</td>\n",
              "      <td>18</td>\n",
              "    </tr>\n",
              "  </tbody>\n",
              "</table>\n",
              "</div>"
            ],
            "text/plain": [
              "   wheel-base  length  width  height  ...  engine-size  horsepower peak-rpm city-mpg\n",
              "0        88.6   168.8   64.1    48.8  ...          130         111     5000       21\n",
              "1        88.6   168.8   64.1    48.8  ...          130         111     5000       21\n",
              "2        94.5   171.2   65.5    52.4  ...          152         154     5000       19\n",
              "3        99.8   176.6   66.2    54.3  ...          109         102     5500       24\n",
              "4        99.4   176.6   66.4    54.3  ...          136         115     5500       18\n",
              "\n",
              "[5 rows x 9 columns]"
            ]
          },
          "metadata": {},
          "execution_count": 105
        }
      ]
    },
    {
      "cell_type": "code",
      "metadata": {
        "colab": {
          "base_uri": "https://localhost:8080/"
        },
        "id": "KLJC3avOooh0",
        "outputId": "0bb03ad2-5f40-4a56-f892-aea276ec411f"
      },
      "source": [
        "#checking my data types\n",
        "df2.dtypes"
      ],
      "execution_count": 106,
      "outputs": [
        {
          "output_type": "execute_result",
          "data": {
            "text/plain": [
              "wheel-base     float64\n",
              "length         float64\n",
              "width          float64\n",
              "height         float64\n",
              "curb-weight      int64\n",
              "engine-size      int64\n",
              "horsepower      object\n",
              "peak-rpm        object\n",
              "city-mpg         int64\n",
              "dtype: object"
            ]
          },
          "metadata": {},
          "execution_count": 106
        }
      ]
    },
    {
      "cell_type": "markdown",
      "metadata": {
        "id": "K4MyFSJEoxUz"
      },
      "source": [
        "I will have to change horsepower and peak-rpm to floating point variables to conduct proper analysis."
      ]
    },
    {
      "cell_type": "code",
      "metadata": {
        "colab": {
          "base_uri": "https://localhost:8080/"
        },
        "id": "zRilueY4nVtp",
        "outputId": "a6738dba-a80f-4511-9aee-72d905980085"
      },
      "source": [
        "#taking a closer look at the possible variables in my object-type columns.\n",
        "print(df2[\"horsepower\"].unique())\n",
        "\n",
        "print(df2[\"peak-rpm\"].unique())"
      ],
      "execution_count": 107,
      "outputs": [
        {
          "output_type": "stream",
          "name": "stdout",
          "text": [
            "['111' '154' '102' '115' '110' '140' '160' '101' '121' '182' '48' '70'\n",
            " '68' '88' '145' '58' '76' '60' '86' '100' '78' '90' '176' '262' '135'\n",
            " '84' '64' '120' '72' '123' '155' '184' '175' '116' '69' '55' '97' '152'\n",
            " '200' '95' '142' '143' '207' '288' '?' '73' '82' '94' '62' '56' '112'\n",
            " '92' '161' '156' '52' '85' '114' '162' '134' '106']\n",
            "['5000' '5500' '5800' '4250' '5400' '5100' '4800' '6000' '4750' '4650'\n",
            " '4200' '4350' '4500' '5200' '4150' '5600' '5900' '5750' '?' '5250' '4900'\n",
            " '4400' '6600' '5300']\n"
          ]
        }
      ]
    },
    {
      "cell_type": "code",
      "metadata": {
        "id": "DdHwqMU_qGiw"
      },
      "source": [
        "#changing columns that ought to be numeric into numeric values(floats)\n",
        "df2['horsepower'] = pd.to_numeric(df2['horsepower'],errors = 'coerce')\n",
        "df2['peak-rpm'] = pd.to_numeric(df2['peak-rpm'],errors = 'coerce')"
      ],
      "execution_count": 108,
      "outputs": []
    },
    {
      "cell_type": "code",
      "metadata": {
        "colab": {
          "base_uri": "https://localhost:8080/"
        },
        "id": "F51mCxb6oeAu",
        "outputId": "5f4afde2-17bd-4954-bf4b-bf210e4db949"
      },
      "source": [
        "#Zeros are now null values for columns horsepower and peak-rpm.\n",
        "print(df2[\"horsepower\"].unique())\n",
        "\n",
        "print(df2[\"peak-rpm\"].unique())"
      ],
      "execution_count": 109,
      "outputs": [
        {
          "output_type": "stream",
          "name": "stdout",
          "text": [
            "[111. 154. 102. 115. 110. 140. 160. 101. 121. 182.  48.  70.  68.  88.\n",
            " 145.  58.  76.  60.  86. 100.  78.  90. 176. 262. 135.  84.  64. 120.\n",
            "  72. 123. 155. 184. 175. 116.  69.  55.  97. 152. 200.  95. 142. 143.\n",
            " 207. 288.  nan  73.  82.  94.  62.  56. 112.  92. 161. 156.  52.  85.\n",
            " 114. 162. 134. 106.]\n",
            "[5000. 5500. 5800. 4250. 5400. 5100. 4800. 6000. 4750. 4650. 4200. 4350.\n",
            " 4500. 5200. 4150. 5600. 5900. 5750.   nan 5250. 4900. 4400. 6600. 5300.]\n"
          ]
        }
      ]
    },
    {
      "cell_type": "code",
      "metadata": {
        "colab": {
          "base_uri": "https://localhost:8080/",
          "height": 591
        },
        "id": "9yOzzIkyuowp",
        "outputId": "84161893-f2f9-40e6-e89d-c0e4c6a61f2d"
      },
      "source": [
        "#Show the non-null counts, and datatypes to get an idea as to what the data is we're working with\n",
        "df2.info()\n",
        "\n",
        "df2.shape\n",
        "\n",
        "#as well as summary statistics for the data\n",
        "df2.describe()"
      ],
      "execution_count": 110,
      "outputs": [
        {
          "output_type": "stream",
          "name": "stdout",
          "text": [
            "<class 'pandas.core.frame.DataFrame'>\n",
            "RangeIndex: 205 entries, 0 to 204\n",
            "Data columns (total 9 columns):\n",
            " #   Column       Non-Null Count  Dtype  \n",
            "---  ------       --------------  -----  \n",
            " 0   wheel-base   205 non-null    float64\n",
            " 1   length       205 non-null    float64\n",
            " 2   width        205 non-null    float64\n",
            " 3   height       205 non-null    float64\n",
            " 4   curb-weight  205 non-null    int64  \n",
            " 5   engine-size  205 non-null    int64  \n",
            " 6   horsepower   203 non-null    float64\n",
            " 7   peak-rpm     203 non-null    float64\n",
            " 8   city-mpg     205 non-null    int64  \n",
            "dtypes: float64(6), int64(3)\n",
            "memory usage: 14.5 KB\n"
          ]
        },
        {
          "output_type": "execute_result",
          "data": {
            "text/html": [
              "<div>\n",
              "<style scoped>\n",
              "    .dataframe tbody tr th:only-of-type {\n",
              "        vertical-align: middle;\n",
              "    }\n",
              "\n",
              "    .dataframe tbody tr th {\n",
              "        vertical-align: top;\n",
              "    }\n",
              "\n",
              "    .dataframe thead th {\n",
              "        text-align: right;\n",
              "    }\n",
              "</style>\n",
              "<table border=\"1\" class=\"dataframe\">\n",
              "  <thead>\n",
              "    <tr style=\"text-align: right;\">\n",
              "      <th></th>\n",
              "      <th>wheel-base</th>\n",
              "      <th>length</th>\n",
              "      <th>width</th>\n",
              "      <th>height</th>\n",
              "      <th>curb-weight</th>\n",
              "      <th>engine-size</th>\n",
              "      <th>horsepower</th>\n",
              "      <th>peak-rpm</th>\n",
              "      <th>city-mpg</th>\n",
              "    </tr>\n",
              "  </thead>\n",
              "  <tbody>\n",
              "    <tr>\n",
              "      <th>count</th>\n",
              "      <td>205.000000</td>\n",
              "      <td>205.000000</td>\n",
              "      <td>205.000000</td>\n",
              "      <td>205.000000</td>\n",
              "      <td>205.000000</td>\n",
              "      <td>205.000000</td>\n",
              "      <td>203.000000</td>\n",
              "      <td>203.000000</td>\n",
              "      <td>205.000000</td>\n",
              "    </tr>\n",
              "    <tr>\n",
              "      <th>mean</th>\n",
              "      <td>98.756585</td>\n",
              "      <td>174.049268</td>\n",
              "      <td>65.907805</td>\n",
              "      <td>53.724878</td>\n",
              "      <td>2555.565854</td>\n",
              "      <td>126.907317</td>\n",
              "      <td>104.256158</td>\n",
              "      <td>5125.369458</td>\n",
              "      <td>25.219512</td>\n",
              "    </tr>\n",
              "    <tr>\n",
              "      <th>std</th>\n",
              "      <td>6.021776</td>\n",
              "      <td>12.337289</td>\n",
              "      <td>2.145204</td>\n",
              "      <td>2.443522</td>\n",
              "      <td>520.680204</td>\n",
              "      <td>41.642693</td>\n",
              "      <td>39.714369</td>\n",
              "      <td>479.334560</td>\n",
              "      <td>6.542142</td>\n",
              "    </tr>\n",
              "    <tr>\n",
              "      <th>min</th>\n",
              "      <td>86.600000</td>\n",
              "      <td>141.100000</td>\n",
              "      <td>60.300000</td>\n",
              "      <td>47.800000</td>\n",
              "      <td>1488.000000</td>\n",
              "      <td>61.000000</td>\n",
              "      <td>48.000000</td>\n",
              "      <td>4150.000000</td>\n",
              "      <td>13.000000</td>\n",
              "    </tr>\n",
              "    <tr>\n",
              "      <th>25%</th>\n",
              "      <td>94.500000</td>\n",
              "      <td>166.300000</td>\n",
              "      <td>64.100000</td>\n",
              "      <td>52.000000</td>\n",
              "      <td>2145.000000</td>\n",
              "      <td>97.000000</td>\n",
              "      <td>70.000000</td>\n",
              "      <td>4800.000000</td>\n",
              "      <td>19.000000</td>\n",
              "    </tr>\n",
              "    <tr>\n",
              "      <th>50%</th>\n",
              "      <td>97.000000</td>\n",
              "      <td>173.200000</td>\n",
              "      <td>65.500000</td>\n",
              "      <td>54.100000</td>\n",
              "      <td>2414.000000</td>\n",
              "      <td>120.000000</td>\n",
              "      <td>95.000000</td>\n",
              "      <td>5200.000000</td>\n",
              "      <td>24.000000</td>\n",
              "    </tr>\n",
              "    <tr>\n",
              "      <th>75%</th>\n",
              "      <td>102.400000</td>\n",
              "      <td>183.100000</td>\n",
              "      <td>66.900000</td>\n",
              "      <td>55.500000</td>\n",
              "      <td>2935.000000</td>\n",
              "      <td>141.000000</td>\n",
              "      <td>116.000000</td>\n",
              "      <td>5500.000000</td>\n",
              "      <td>30.000000</td>\n",
              "    </tr>\n",
              "    <tr>\n",
              "      <th>max</th>\n",
              "      <td>120.900000</td>\n",
              "      <td>208.100000</td>\n",
              "      <td>72.300000</td>\n",
              "      <td>59.800000</td>\n",
              "      <td>4066.000000</td>\n",
              "      <td>326.000000</td>\n",
              "      <td>288.000000</td>\n",
              "      <td>6600.000000</td>\n",
              "      <td>49.000000</td>\n",
              "    </tr>\n",
              "  </tbody>\n",
              "</table>\n",
              "</div>"
            ],
            "text/plain": [
              "       wheel-base      length       width  ...  horsepower     peak-rpm    city-mpg\n",
              "count  205.000000  205.000000  205.000000  ...  203.000000   203.000000  205.000000\n",
              "mean    98.756585  174.049268   65.907805  ...  104.256158  5125.369458   25.219512\n",
              "std      6.021776   12.337289    2.145204  ...   39.714369   479.334560    6.542142\n",
              "min     86.600000  141.100000   60.300000  ...   48.000000  4150.000000   13.000000\n",
              "25%     94.500000  166.300000   64.100000  ...   70.000000  4800.000000   19.000000\n",
              "50%     97.000000  173.200000   65.500000  ...   95.000000  5200.000000   24.000000\n",
              "75%    102.400000  183.100000   66.900000  ...  116.000000  5500.000000   30.000000\n",
              "max    120.900000  208.100000   72.300000  ...  288.000000  6600.000000   49.000000\n",
              "\n",
              "[8 rows x 9 columns]"
            ]
          },
          "metadata": {},
          "execution_count": 110
        }
      ]
    },
    {
      "cell_type": "code",
      "metadata": {
        "colab": {
          "base_uri": "https://localhost:8080/"
        },
        "id": "ZyRvYZtRiOeT",
        "outputId": "020149b3-805a-4c59-a8be-e0d2a5935eff"
      },
      "source": [
        "#checking for null data\n",
        "df2.isnull().sum()"
      ],
      "execution_count": 111,
      "outputs": [
        {
          "output_type": "execute_result",
          "data": {
            "text/plain": [
              "wheel-base     0\n",
              "length         0\n",
              "width          0\n",
              "height         0\n",
              "curb-weight    0\n",
              "engine-size    0\n",
              "horsepower     2\n",
              "peak-rpm       2\n",
              "city-mpg       0\n",
              "dtype: int64"
            ]
          },
          "metadata": {},
          "execution_count": 111
        }
      ]
    },
    {
      "cell_type": "markdown",
      "metadata": {
        "id": "yFZwUUuV9xy8"
      },
      "source": [
        "Since I only have two null values, I think it makes sense to just delete the rows since they make up less than 1% of the total dataset."
      ]
    },
    {
      "cell_type": "code",
      "metadata": {
        "colab": {
          "base_uri": "https://localhost:8080/",
          "height": 206
        },
        "id": "iuThu4cU94WO",
        "outputId": "1870b359-8796-43b4-db44-7b9cf36e1cad"
      },
      "source": [
        "#making a new dataframe rid of any null values.\n",
        "df3 = df2.dropna()\n",
        "\n",
        "df3.head(5)"
      ],
      "execution_count": 112,
      "outputs": [
        {
          "output_type": "execute_result",
          "data": {
            "text/html": [
              "<div>\n",
              "<style scoped>\n",
              "    .dataframe tbody tr th:only-of-type {\n",
              "        vertical-align: middle;\n",
              "    }\n",
              "\n",
              "    .dataframe tbody tr th {\n",
              "        vertical-align: top;\n",
              "    }\n",
              "\n",
              "    .dataframe thead th {\n",
              "        text-align: right;\n",
              "    }\n",
              "</style>\n",
              "<table border=\"1\" class=\"dataframe\">\n",
              "  <thead>\n",
              "    <tr style=\"text-align: right;\">\n",
              "      <th></th>\n",
              "      <th>wheel-base</th>\n",
              "      <th>length</th>\n",
              "      <th>width</th>\n",
              "      <th>height</th>\n",
              "      <th>curb-weight</th>\n",
              "      <th>engine-size</th>\n",
              "      <th>horsepower</th>\n",
              "      <th>peak-rpm</th>\n",
              "      <th>city-mpg</th>\n",
              "    </tr>\n",
              "  </thead>\n",
              "  <tbody>\n",
              "    <tr>\n",
              "      <th>0</th>\n",
              "      <td>88.6</td>\n",
              "      <td>168.8</td>\n",
              "      <td>64.1</td>\n",
              "      <td>48.8</td>\n",
              "      <td>2548</td>\n",
              "      <td>130</td>\n",
              "      <td>111.0</td>\n",
              "      <td>5000.0</td>\n",
              "      <td>21</td>\n",
              "    </tr>\n",
              "    <tr>\n",
              "      <th>1</th>\n",
              "      <td>88.6</td>\n",
              "      <td>168.8</td>\n",
              "      <td>64.1</td>\n",
              "      <td>48.8</td>\n",
              "      <td>2548</td>\n",
              "      <td>130</td>\n",
              "      <td>111.0</td>\n",
              "      <td>5000.0</td>\n",
              "      <td>21</td>\n",
              "    </tr>\n",
              "    <tr>\n",
              "      <th>2</th>\n",
              "      <td>94.5</td>\n",
              "      <td>171.2</td>\n",
              "      <td>65.5</td>\n",
              "      <td>52.4</td>\n",
              "      <td>2823</td>\n",
              "      <td>152</td>\n",
              "      <td>154.0</td>\n",
              "      <td>5000.0</td>\n",
              "      <td>19</td>\n",
              "    </tr>\n",
              "    <tr>\n",
              "      <th>3</th>\n",
              "      <td>99.8</td>\n",
              "      <td>176.6</td>\n",
              "      <td>66.2</td>\n",
              "      <td>54.3</td>\n",
              "      <td>2337</td>\n",
              "      <td>109</td>\n",
              "      <td>102.0</td>\n",
              "      <td>5500.0</td>\n",
              "      <td>24</td>\n",
              "    </tr>\n",
              "    <tr>\n",
              "      <th>4</th>\n",
              "      <td>99.4</td>\n",
              "      <td>176.6</td>\n",
              "      <td>66.4</td>\n",
              "      <td>54.3</td>\n",
              "      <td>2824</td>\n",
              "      <td>136</td>\n",
              "      <td>115.0</td>\n",
              "      <td>5500.0</td>\n",
              "      <td>18</td>\n",
              "    </tr>\n",
              "  </tbody>\n",
              "</table>\n",
              "</div>"
            ],
            "text/plain": [
              "   wheel-base  length  width  ...  horsepower  peak-rpm  city-mpg\n",
              "0        88.6   168.8   64.1  ...       111.0    5000.0        21\n",
              "1        88.6   168.8   64.1  ...       111.0    5000.0        21\n",
              "2        94.5   171.2   65.5  ...       154.0    5000.0        19\n",
              "3        99.8   176.6   66.2  ...       102.0    5500.0        24\n",
              "4        99.4   176.6   66.4  ...       115.0    5500.0        18\n",
              "\n",
              "[5 rows x 9 columns]"
            ]
          },
          "metadata": {},
          "execution_count": 112
        }
      ]
    },
    {
      "cell_type": "markdown",
      "metadata": {
        "id": "5E1uFyMk-Zja"
      },
      "source": [
        "Visualizations and Analysis"
      ]
    },
    {
      "cell_type": "code",
      "metadata": {
        "id": "zYiy9swH687_",
        "colab": {
          "base_uri": "https://localhost:8080/",
          "height": 1000
        },
        "outputId": "c776aca7-dcdd-4cdb-b02c-2e43697d99e8"
      },
      "source": [
        "#showing plot charts to visualize data\n",
        "sns.displot(df3, x=\"wheel-base\", bins=30, kde=True)\n",
        "sns.displot(df3, x=\"length\", bins=30, kde=True)\n",
        "sns.displot(df3, x=\"width\", bins=30, kde=True)\n",
        "sns.displot(df3, x=\"height\", bins=30, kde=True)\n",
        "sns.displot(df3, x=\"curb-weight\", bins=30, kde=True)\n",
        "sns.displot(df3, x=\"engine-size\", bins=30, kde=True)\n",
        "sns.displot(df3, x=\"horsepower\", bins=30, kde=True)\n",
        "sns.displot(df3, x=\"peak-rpm\", bins=30, kde=True)\n",
        "sns.displot(df3, x=\"city-mpg\", bins=30, kde=True)"
      ],
      "execution_count": 113,
      "outputs": [
        {
          "output_type": "execute_result",
          "data": {
            "text/plain": [
              "<seaborn.axisgrid.FacetGrid at 0x7f4d55903c10>"
            ]
          },
          "metadata": {},
          "execution_count": 113
        },
        {
          "output_type": "display_data",
          "data": {
            "image/png": "[encoded data removed]",
            "text/plain": [
              "<Figure size 360x360 with 1 Axes>"
            ]
          },
          "metadata": {
            "needs_background": "light"
          }
        },
        {
          "output_type": "display_data",
          "data": {
            "image/png": "[encoded data removed]",
            "text/plain": [
              "<Figure size 360x360 with 1 Axes>"
            ]
          },
          "metadata": {
            "needs_background": "light"
          }
        },
        {
          "output_type": "display_data",
          "data": {
            "image/png": "[encoded data removed]",
            "text/plain": [
              "<Figure size 360x360 with 1 Axes>"
            ]
          },
          "metadata": {
            "needs_background": "light"
          }
        },
        {
          "output_type": "display_data",
          "data": {
            "image/png": "[encoded data removed]",
            "text/plain": [
              "<Figure size 360x360 with 1 Axes>"
            ]
          },
          "metadata": {
            "needs_background": "light"
          }
        },
        {
          "output_type": "display_data",
          "data": {
            "image/png": "[encoded data removed]",
            "text/plain": [
              "<Figure size 360x360 with 1 Axes>"
            ]
          },
          "metadata": {
            "needs_background": "light"
          }
        },
        {
          "output_type": "display_data",
          "data": {
            "image/png": "[encoded data removed]",
            "text/plain": [
              "<Figure size 360x360 with 1 Axes>"
            ]
          },
          "metadata": {
            "needs_background": "light"
          }
        },
        {
          "output_type": "display_data",
          "data": {
            "image/png": "[encoded data removed]",
            "text/plain": [
              "<Figure size 360x360 with 1 Axes>"
            ]
          },
          "metadata": {
            "needs_background": "light"
          }
        },
        {
          "output_type": "display_data",
          "data": {
            "image/png": "[encoded data removed]",
            "text/plain": [
              "<Figure size 360x360 with 1 Axes>"
            ]
          },
          "metadata": {
            "needs_background": "light"
          }
        },
        {
          "output_type": "display_data",
          "data": {
            "image/png": "[encoded data removed]",
            "text/plain": [
              "<Figure size 360x360 with 1 Axes>"
            ]
          },
          "metadata": {
            "needs_background": "light"
          }
        }
      ]
    },
    {
      "cell_type": "markdown",
      "metadata": {
        "id": "8OHn3XljEyFr"
      },
      "source": [
        "Some of these variables (including our explanatory variable) feature a right-skewed distribution, including:\n",
        "horsepower, engine-size, wheel-base, and city-mpg - what this tells me is that in this data set, there might be more smaller cars with less power than there are bigger cars with more power.\n",
        "\n",
        "\n",
        "\n"
      ]
    },
    {
      "cell_type": "code",
      "metadata": {
        "colab": {
          "base_uri": "https://localhost:8080/",
          "height": 777
        },
        "id": "JPMjirXqivw8",
        "outputId": "d2bb8cc2-3d63-43fb-ccdb-20a114870af6"
      },
      "source": [
        "#let's bring up a correlation matrix to see what relationships between our continous variables we can gain insights on.\n",
        "\n",
        "# make correlation\n",
        "corr = df3.corr()\n",
        "\n",
        "#changing size of plot using .plt\n",
        "fig, ax = plt.subplots(figsize=(13,13)) \n",
        "\n",
        "#plot the heatmap\n",
        "sns.heatmap(corr, xticklabels=corr.columns, yticklabels=corr.columns, annot=True, cmap=sns.diverging_palette(220, 20, as_cmap=True))"
      ],
      "execution_count": 114,
      "outputs": [
        {
          "output_type": "execute_result",
          "data": {
            "text/plain": [
              "<matplotlib.axes._subplots.AxesSubplot at 0x7f4d547a16d0>"
            ]
          },
          "metadata": {},
          "execution_count": 114
        },
        {
          "output_type": "display_data",
          "data": {
            "image/png": "[encoded data removed]",
            "text/plain": [
              "<Figure size 936x936 with 2 Axes>"
            ]
          },
          "metadata": {
            "needs_background": "light"
          }
        }
      ]
    },
    {
      "cell_type": "markdown",
      "metadata": {
        "id": "701OV7pQBFS_"
      },
      "source": [
        "Points to be made from correlation matrix:\n",
        "\n",
        "1) Curb weight has the strongest positive relationship with the variable length, followed by width, engine-size, wheel-base, and lastly height.\n",
        "\n",
        "2) Negative relationships fall in the order of city-mpg, then peak-rpm. This makes sense, the heavier an automobile, the less fuel efficient it tends to be; More mass means more force required to move the automobile - this is the law of inertia. \n",
        "\n",
        "3) Peak-rpm has too weak of a relationship to make a any valid inferences about (-0.27).\n",
        "\n"
      ]
    },
    {
      "cell_type": "code",
      "metadata": {
        "colab": {
          "base_uri": "https://localhost:8080/",
          "height": 215
        },
        "id": "V3HfbqMsjY3l",
        "outputId": "203f39af-8d93-4294-ae46-5867a0df96e3"
      },
      "source": [
        "#let's being up a pairplot to see relationships between all variables vs our response variable, \"curb-weight\" in order of strength, starting with positive relationships.\n",
        "sns.pairplot(data=df2,\n",
        "                  y_vars=['curb-weight'],\n",
        "                  x_vars=['length','width','engine-size','wheel-base','height','horsepower','city-mpg','peak-rpm'])"
      ],
      "execution_count": 115,
      "outputs": [
        {
          "output_type": "execute_result",
          "data": {
            "text/plain": [
              "<seaborn.axisgrid.PairGrid at 0x7f4d5456c050>"
            ]
          },
          "metadata": {},
          "execution_count": 115
        },
        {
          "output_type": "display_data",
          "data": {
            "image/png": "[encoded data removed]",
            "text/plain": [
              "<Figure size 1440x180 with 8 Axes>"
            ]
          },
          "metadata": {
            "needs_background": "light"
          }
        }
      ]
    },
    {
      "cell_type": "markdown",
      "metadata": {
        "id": "dB8mtmuRmSg4"
      },
      "source": [
        "Points to be made from pairplots:\n",
        "\n",
        "\n",
        "1) Some relationships tend to show quadratic relationships versus linear ones; the pairplots of curb-weight vs. length, curb-weight vs. engine-size, and curb-weight vs. city-mpg to name a few, show curved plots.\n",
        "\n",
        "\n",
        "\n",
        "2) Height and peak-rpm's plots look very scattered with no real pattern, confiming what we saw in the correlation matrix above."
      ]
    },
    {
      "cell_type": "markdown",
      "metadata": {
        "id": "6OgBZ7knsLq-"
      },
      "source": [
        "## REGRESSION MODEL CONSTRUCTION & EVALUATION"
      ]
    },
    {
      "cell_type": "markdown",
      "metadata": {
        "id": "7FyzQF0czaF3"
      },
      "source": [
        "(methods borrowed from James Topor's Lecture notes: \"DAV 6150 Module 2 Lecture Notes.ipynb\""
      ]
    },
    {
      "cell_type": "code",
      "metadata": {
        "colab": {
          "base_uri": "https://localhost:8080/",
          "height": 206
        },
        "id": "Jh9AY_5tIZZJ",
        "outputId": "dd0f48ce-c687-4b79-9afd-9aebc41e62fd"
      },
      "source": [
        "df3.head(5)"
      ],
      "execution_count": 116,
      "outputs": [
        {
          "output_type": "execute_result",
          "data": {
            "text/html": [
              "<div>\n",
              "<style scoped>\n",
              "    .dataframe tbody tr th:only-of-type {\n",
              "        vertical-align: middle;\n",
              "    }\n",
              "\n",
              "    .dataframe tbody tr th {\n",
              "        vertical-align: top;\n",
              "    }\n",
              "\n",
              "    .dataframe thead th {\n",
              "        text-align: right;\n",
              "    }\n",
              "</style>\n",
              "<table border=\"1\" class=\"dataframe\">\n",
              "  <thead>\n",
              "    <tr style=\"text-align: right;\">\n",
              "      <th></th>\n",
              "      <th>wheel-base</th>\n",
              "      <th>length</th>\n",
              "      <th>width</th>\n",
              "      <th>height</th>\n",
              "      <th>curb-weight</th>\n",
              "      <th>engine-size</th>\n",
              "      <th>horsepower</th>\n",
              "      <th>peak-rpm</th>\n",
              "      <th>city-mpg</th>\n",
              "    </tr>\n",
              "  </thead>\n",
              "  <tbody>\n",
              "    <tr>\n",
              "      <th>0</th>\n",
              "      <td>88.6</td>\n",
              "      <td>168.8</td>\n",
              "      <td>64.1</td>\n",
              "      <td>48.8</td>\n",
              "      <td>2548</td>\n",
              "      <td>130</td>\n",
              "      <td>111.0</td>\n",
              "      <td>5000.0</td>\n",
              "      <td>21</td>\n",
              "    </tr>\n",
              "    <tr>\n",
              "      <th>1</th>\n",
              "      <td>88.6</td>\n",
              "      <td>168.8</td>\n",
              "      <td>64.1</td>\n",
              "      <td>48.8</td>\n",
              "      <td>2548</td>\n",
              "      <td>130</td>\n",
              "      <td>111.0</td>\n",
              "      <td>5000.0</td>\n",
              "      <td>21</td>\n",
              "    </tr>\n",
              "    <tr>\n",
              "      <th>2</th>\n",
              "      <td>94.5</td>\n",
              "      <td>171.2</td>\n",
              "      <td>65.5</td>\n",
              "      <td>52.4</td>\n",
              "      <td>2823</td>\n",
              "      <td>152</td>\n",
              "      <td>154.0</td>\n",
              "      <td>5000.0</td>\n",
              "      <td>19</td>\n",
              "    </tr>\n",
              "    <tr>\n",
              "      <th>3</th>\n",
              "      <td>99.8</td>\n",
              "      <td>176.6</td>\n",
              "      <td>66.2</td>\n",
              "      <td>54.3</td>\n",
              "      <td>2337</td>\n",
              "      <td>109</td>\n",
              "      <td>102.0</td>\n",
              "      <td>5500.0</td>\n",
              "      <td>24</td>\n",
              "    </tr>\n",
              "    <tr>\n",
              "      <th>4</th>\n",
              "      <td>99.4</td>\n",
              "      <td>176.6</td>\n",
              "      <td>66.4</td>\n",
              "      <td>54.3</td>\n",
              "      <td>2824</td>\n",
              "      <td>136</td>\n",
              "      <td>115.0</td>\n",
              "      <td>5500.0</td>\n",
              "      <td>18</td>\n",
              "    </tr>\n",
              "  </tbody>\n",
              "</table>\n",
              "</div>"
            ],
            "text/plain": [
              "   wheel-base  length  width  ...  horsepower  peak-rpm  city-mpg\n",
              "0        88.6   168.8   64.1  ...       111.0    5000.0        21\n",
              "1        88.6   168.8   64.1  ...       111.0    5000.0        21\n",
              "2        94.5   171.2   65.5  ...       154.0    5000.0        19\n",
              "3        99.8   176.6   66.2  ...       102.0    5500.0        24\n",
              "4        99.4   176.6   66.4  ...       115.0    5500.0        18\n",
              "\n",
              "[5 rows x 9 columns]"
            ]
          },
          "metadata": {},
          "execution_count": 116
        }
      ]
    },
    {
      "cell_type": "code",
      "metadata": {
        "id": "Z1w7LR32swUn"
      },
      "source": [
        "#let's clone our database to run k-fold validation\n",
        "\n",
        "df4 = df3.copy()\n",
        "df5 = df3.copy()"
      ],
      "execution_count": 117,
      "outputs": []
    },
    {
      "cell_type": "code",
      "metadata": {
        "colab": {
          "base_uri": "https://localhost:8080/",
          "height": 206
        },
        "id": "HWVVd1SqtCTe",
        "outputId": "b969ecfe-dd64-42e3-92d6-fc11fb53b96d"
      },
      "source": [
        "#getting a database with only response variables\n",
        "df4.drop(columns=['curb-weight'], axis=1, inplace=True)\n",
        "\n",
        "df6 = df4.copy()\n",
        "df7 = df4.copy()\n",
        "df8 = df4.copy()\n",
        "\n",
        "#sanity check\n",
        "df4.head(5)"
      ],
      "execution_count": 118,
      "outputs": [
        {
          "output_type": "execute_result",
          "data": {
            "text/html": [
              "<div>\n",
              "<style scoped>\n",
              "    .dataframe tbody tr th:only-of-type {\n",
              "        vertical-align: middle;\n",
              "    }\n",
              "\n",
              "    .dataframe tbody tr th {\n",
              "        vertical-align: top;\n",
              "    }\n",
              "\n",
              "    .dataframe thead th {\n",
              "        text-align: right;\n",
              "    }\n",
              "</style>\n",
              "<table border=\"1\" class=\"dataframe\">\n",
              "  <thead>\n",
              "    <tr style=\"text-align: right;\">\n",
              "      <th></th>\n",
              "      <th>wheel-base</th>\n",
              "      <th>length</th>\n",
              "      <th>width</th>\n",
              "      <th>height</th>\n",
              "      <th>engine-size</th>\n",
              "      <th>horsepower</th>\n",
              "      <th>peak-rpm</th>\n",
              "      <th>city-mpg</th>\n",
              "    </tr>\n",
              "  </thead>\n",
              "  <tbody>\n",
              "    <tr>\n",
              "      <th>0</th>\n",
              "      <td>88.6</td>\n",
              "      <td>168.8</td>\n",
              "      <td>64.1</td>\n",
              "      <td>48.8</td>\n",
              "      <td>130</td>\n",
              "      <td>111.0</td>\n",
              "      <td>5000.0</td>\n",
              "      <td>21</td>\n",
              "    </tr>\n",
              "    <tr>\n",
              "      <th>1</th>\n",
              "      <td>88.6</td>\n",
              "      <td>168.8</td>\n",
              "      <td>64.1</td>\n",
              "      <td>48.8</td>\n",
              "      <td>130</td>\n",
              "      <td>111.0</td>\n",
              "      <td>5000.0</td>\n",
              "      <td>21</td>\n",
              "    </tr>\n",
              "    <tr>\n",
              "      <th>2</th>\n",
              "      <td>94.5</td>\n",
              "      <td>171.2</td>\n",
              "      <td>65.5</td>\n",
              "      <td>52.4</td>\n",
              "      <td>152</td>\n",
              "      <td>154.0</td>\n",
              "      <td>5000.0</td>\n",
              "      <td>19</td>\n",
              "    </tr>\n",
              "    <tr>\n",
              "      <th>3</th>\n",
              "      <td>99.8</td>\n",
              "      <td>176.6</td>\n",
              "      <td>66.2</td>\n",
              "      <td>54.3</td>\n",
              "      <td>109</td>\n",
              "      <td>102.0</td>\n",
              "      <td>5500.0</td>\n",
              "      <td>24</td>\n",
              "    </tr>\n",
              "    <tr>\n",
              "      <th>4</th>\n",
              "      <td>99.4</td>\n",
              "      <td>176.6</td>\n",
              "      <td>66.4</td>\n",
              "      <td>54.3</td>\n",
              "      <td>136</td>\n",
              "      <td>115.0</td>\n",
              "      <td>5500.0</td>\n",
              "      <td>18</td>\n",
              "    </tr>\n",
              "  </tbody>\n",
              "</table>\n",
              "</div>"
            ],
            "text/plain": [
              "   wheel-base  length  width  ...  horsepower  peak-rpm  city-mpg\n",
              "0        88.6   168.8   64.1  ...       111.0    5000.0        21\n",
              "1        88.6   168.8   64.1  ...       111.0    5000.0        21\n",
              "2        94.5   171.2   65.5  ...       154.0    5000.0        19\n",
              "3        99.8   176.6   66.2  ...       102.0    5500.0        24\n",
              "4        99.4   176.6   66.4  ...       115.0    5500.0        18\n",
              "\n",
              "[5 rows x 8 columns]"
            ]
          },
          "metadata": {},
          "execution_count": 118
        }
      ]
    },
    {
      "cell_type": "code",
      "metadata": {
        "id": "m04Ir4LHG1bD",
        "colab": {
          "base_uri": "https://localhost:8080/",
          "height": 206
        },
        "outputId": "168ae01b-3fc2-4a6c-b4bf-11a3c8941ba9"
      },
      "source": [
        "#getting a database with only our explanatory variable\n",
        "df5.drop(columns=['wheel-base','length', 'width', 'height', 'engine-size', 'horsepower', 'peak-rpm', 'city-mpg'], axis=1, inplace=True)\n",
        "\n",
        "df5.head(5)"
      ],
      "execution_count": 119,
      "outputs": [
        {
          "output_type": "execute_result",
          "data": {
            "text/html": [
              "<div>\n",
              "<style scoped>\n",
              "    .dataframe tbody tr th:only-of-type {\n",
              "        vertical-align: middle;\n",
              "    }\n",
              "\n",
              "    .dataframe tbody tr th {\n",
              "        vertical-align: top;\n",
              "    }\n",
              "\n",
              "    .dataframe thead th {\n",
              "        text-align: right;\n",
              "    }\n",
              "</style>\n",
              "<table border=\"1\" class=\"dataframe\">\n",
              "  <thead>\n",
              "    <tr style=\"text-align: right;\">\n",
              "      <th></th>\n",
              "      <th>curb-weight</th>\n",
              "    </tr>\n",
              "  </thead>\n",
              "  <tbody>\n",
              "    <tr>\n",
              "      <th>0</th>\n",
              "      <td>2548</td>\n",
              "    </tr>\n",
              "    <tr>\n",
              "      <th>1</th>\n",
              "      <td>2548</td>\n",
              "    </tr>\n",
              "    <tr>\n",
              "      <th>2</th>\n",
              "      <td>2823</td>\n",
              "    </tr>\n",
              "    <tr>\n",
              "      <th>3</th>\n",
              "      <td>2337</td>\n",
              "    </tr>\n",
              "    <tr>\n",
              "      <th>4</th>\n",
              "      <td>2824</td>\n",
              "    </tr>\n",
              "  </tbody>\n",
              "</table>\n",
              "</div>"
            ],
            "text/plain": [
              "   curb-weight\n",
              "0         2548\n",
              "1         2548\n",
              "2         2823\n",
              "3         2337\n",
              "4         2824"
            ]
          },
          "metadata": {},
          "execution_count": 119
        }
      ]
    },
    {
      "cell_type": "code",
      "metadata": {
        "id": "7yLXqffwaJV8"
      },
      "source": [
        "#sanity checks"
      ],
      "execution_count": 120,
      "outputs": []
    },
    {
      "cell_type": "code",
      "metadata": {
        "colab": {
          "base_uri": "https://localhost:8080/",
          "height": 206
        },
        "id": "mdrXYgO4aCCV",
        "outputId": "24f701a9-4435-4ff5-de52-9866321ba6c3"
      },
      "source": [
        "df6.head(5)"
      ],
      "execution_count": 121,
      "outputs": [
        {
          "output_type": "execute_result",
          "data": {
            "text/html": [
              "<div>\n",
              "<style scoped>\n",
              "    .dataframe tbody tr th:only-of-type {\n",
              "        vertical-align: middle;\n",
              "    }\n",
              "\n",
              "    .dataframe tbody tr th {\n",
              "        vertical-align: top;\n",
              "    }\n",
              "\n",
              "    .dataframe thead th {\n",
              "        text-align: right;\n",
              "    }\n",
              "</style>\n",
              "<table border=\"1\" class=\"dataframe\">\n",
              "  <thead>\n",
              "    <tr style=\"text-align: right;\">\n",
              "      <th></th>\n",
              "      <th>wheel-base</th>\n",
              "      <th>length</th>\n",
              "      <th>width</th>\n",
              "      <th>height</th>\n",
              "      <th>engine-size</th>\n",
              "      <th>horsepower</th>\n",
              "      <th>peak-rpm</th>\n",
              "      <th>city-mpg</th>\n",
              "    </tr>\n",
              "  </thead>\n",
              "  <tbody>\n",
              "    <tr>\n",
              "      <th>0</th>\n",
              "      <td>88.6</td>\n",
              "      <td>168.8</td>\n",
              "      <td>64.1</td>\n",
              "      <td>48.8</td>\n",
              "      <td>130</td>\n",
              "      <td>111.0</td>\n",
              "      <td>5000.0</td>\n",
              "      <td>21</td>\n",
              "    </tr>\n",
              "    <tr>\n",
              "      <th>1</th>\n",
              "      <td>88.6</td>\n",
              "      <td>168.8</td>\n",
              "      <td>64.1</td>\n",
              "      <td>48.8</td>\n",
              "      <td>130</td>\n",
              "      <td>111.0</td>\n",
              "      <td>5000.0</td>\n",
              "      <td>21</td>\n",
              "    </tr>\n",
              "    <tr>\n",
              "      <th>2</th>\n",
              "      <td>94.5</td>\n",
              "      <td>171.2</td>\n",
              "      <td>65.5</td>\n",
              "      <td>52.4</td>\n",
              "      <td>152</td>\n",
              "      <td>154.0</td>\n",
              "      <td>5000.0</td>\n",
              "      <td>19</td>\n",
              "    </tr>\n",
              "    <tr>\n",
              "      <th>3</th>\n",
              "      <td>99.8</td>\n",
              "      <td>176.6</td>\n",
              "      <td>66.2</td>\n",
              "      <td>54.3</td>\n",
              "      <td>109</td>\n",
              "      <td>102.0</td>\n",
              "      <td>5500.0</td>\n",
              "      <td>24</td>\n",
              "    </tr>\n",
              "    <tr>\n",
              "      <th>4</th>\n",
              "      <td>99.4</td>\n",
              "      <td>176.6</td>\n",
              "      <td>66.4</td>\n",
              "      <td>54.3</td>\n",
              "      <td>136</td>\n",
              "      <td>115.0</td>\n",
              "      <td>5500.0</td>\n",
              "      <td>18</td>\n",
              "    </tr>\n",
              "  </tbody>\n",
              "</table>\n",
              "</div>"
            ],
            "text/plain": [
              "   wheel-base  length  width  ...  horsepower  peak-rpm  city-mpg\n",
              "0        88.6   168.8   64.1  ...       111.0    5000.0        21\n",
              "1        88.6   168.8   64.1  ...       111.0    5000.0        21\n",
              "2        94.5   171.2   65.5  ...       154.0    5000.0        19\n",
              "3        99.8   176.6   66.2  ...       102.0    5500.0        24\n",
              "4        99.4   176.6   66.4  ...       115.0    5500.0        18\n",
              "\n",
              "[5 rows x 8 columns]"
            ]
          },
          "metadata": {},
          "execution_count": 121
        }
      ]
    },
    {
      "cell_type": "code",
      "metadata": {
        "colab": {
          "base_uri": "https://localhost:8080/",
          "height": 206
        },
        "id": "sf8EJP-3aEuV",
        "outputId": "71ae6b0b-78ce-4989-d2e8-faa2bc4bc5b7"
      },
      "source": [
        "df7.head(5)"
      ],
      "execution_count": 122,
      "outputs": [
        {
          "output_type": "execute_result",
          "data": {
            "text/html": [
              "<div>\n",
              "<style scoped>\n",
              "    .dataframe tbody tr th:only-of-type {\n",
              "        vertical-align: middle;\n",
              "    }\n",
              "\n",
              "    .dataframe tbody tr th {\n",
              "        vertical-align: top;\n",
              "    }\n",
              "\n",
              "    .dataframe thead th {\n",
              "        text-align: right;\n",
              "    }\n",
              "</style>\n",
              "<table border=\"1\" class=\"dataframe\">\n",
              "  <thead>\n",
              "    <tr style=\"text-align: right;\">\n",
              "      <th></th>\n",
              "      <th>wheel-base</th>\n",
              "      <th>length</th>\n",
              "      <th>width</th>\n",
              "      <th>height</th>\n",
              "      <th>engine-size</th>\n",
              "      <th>horsepower</th>\n",
              "      <th>peak-rpm</th>\n",
              "      <th>city-mpg</th>\n",
              "    </tr>\n",
              "  </thead>\n",
              "  <tbody>\n",
              "    <tr>\n",
              "      <th>0</th>\n",
              "      <td>88.6</td>\n",
              "      <td>168.8</td>\n",
              "      <td>64.1</td>\n",
              "      <td>48.8</td>\n",
              "      <td>130</td>\n",
              "      <td>111.0</td>\n",
              "      <td>5000.0</td>\n",
              "      <td>21</td>\n",
              "    </tr>\n",
              "    <tr>\n",
              "      <th>1</th>\n",
              "      <td>88.6</td>\n",
              "      <td>168.8</td>\n",
              "      <td>64.1</td>\n",
              "      <td>48.8</td>\n",
              "      <td>130</td>\n",
              "      <td>111.0</td>\n",
              "      <td>5000.0</td>\n",
              "      <td>21</td>\n",
              "    </tr>\n",
              "    <tr>\n",
              "      <th>2</th>\n",
              "      <td>94.5</td>\n",
              "      <td>171.2</td>\n",
              "      <td>65.5</td>\n",
              "      <td>52.4</td>\n",
              "      <td>152</td>\n",
              "      <td>154.0</td>\n",
              "      <td>5000.0</td>\n",
              "      <td>19</td>\n",
              "    </tr>\n",
              "    <tr>\n",
              "      <th>3</th>\n",
              "      <td>99.8</td>\n",
              "      <td>176.6</td>\n",
              "      <td>66.2</td>\n",
              "      <td>54.3</td>\n",
              "      <td>109</td>\n",
              "      <td>102.0</td>\n",
              "      <td>5500.0</td>\n",
              "      <td>24</td>\n",
              "    </tr>\n",
              "    <tr>\n",
              "      <th>4</th>\n",
              "      <td>99.4</td>\n",
              "      <td>176.6</td>\n",
              "      <td>66.4</td>\n",
              "      <td>54.3</td>\n",
              "      <td>136</td>\n",
              "      <td>115.0</td>\n",
              "      <td>5500.0</td>\n",
              "      <td>18</td>\n",
              "    </tr>\n",
              "  </tbody>\n",
              "</table>\n",
              "</div>"
            ],
            "text/plain": [
              "   wheel-base  length  width  ...  horsepower  peak-rpm  city-mpg\n",
              "0        88.6   168.8   64.1  ...       111.0    5000.0        21\n",
              "1        88.6   168.8   64.1  ...       111.0    5000.0        21\n",
              "2        94.5   171.2   65.5  ...       154.0    5000.0        19\n",
              "3        99.8   176.6   66.2  ...       102.0    5500.0        24\n",
              "4        99.4   176.6   66.4  ...       115.0    5500.0        18\n",
              "\n",
              "[5 rows x 8 columns]"
            ]
          },
          "metadata": {},
          "execution_count": 122
        }
      ]
    },
    {
      "cell_type": "code",
      "metadata": {
        "colab": {
          "base_uri": "https://localhost:8080/",
          "height": 206
        },
        "id": "FJeD-z24aGvK",
        "outputId": "cbdc69ae-5d73-4c79-fb1a-dfc3542d8b2f"
      },
      "source": [
        "df8.head(5)"
      ],
      "execution_count": 123,
      "outputs": [
        {
          "output_type": "execute_result",
          "data": {
            "text/html": [
              "<div>\n",
              "<style scoped>\n",
              "    .dataframe tbody tr th:only-of-type {\n",
              "        vertical-align: middle;\n",
              "    }\n",
              "\n",
              "    .dataframe tbody tr th {\n",
              "        vertical-align: top;\n",
              "    }\n",
              "\n",
              "    .dataframe thead th {\n",
              "        text-align: right;\n",
              "    }\n",
              "</style>\n",
              "<table border=\"1\" class=\"dataframe\">\n",
              "  <thead>\n",
              "    <tr style=\"text-align: right;\">\n",
              "      <th></th>\n",
              "      <th>wheel-base</th>\n",
              "      <th>length</th>\n",
              "      <th>width</th>\n",
              "      <th>height</th>\n",
              "      <th>engine-size</th>\n",
              "      <th>horsepower</th>\n",
              "      <th>peak-rpm</th>\n",
              "      <th>city-mpg</th>\n",
              "    </tr>\n",
              "  </thead>\n",
              "  <tbody>\n",
              "    <tr>\n",
              "      <th>0</th>\n",
              "      <td>88.6</td>\n",
              "      <td>168.8</td>\n",
              "      <td>64.1</td>\n",
              "      <td>48.8</td>\n",
              "      <td>130</td>\n",
              "      <td>111.0</td>\n",
              "      <td>5000.0</td>\n",
              "      <td>21</td>\n",
              "    </tr>\n",
              "    <tr>\n",
              "      <th>1</th>\n",
              "      <td>88.6</td>\n",
              "      <td>168.8</td>\n",
              "      <td>64.1</td>\n",
              "      <td>48.8</td>\n",
              "      <td>130</td>\n",
              "      <td>111.0</td>\n",
              "      <td>5000.0</td>\n",
              "      <td>21</td>\n",
              "    </tr>\n",
              "    <tr>\n",
              "      <th>2</th>\n",
              "      <td>94.5</td>\n",
              "      <td>171.2</td>\n",
              "      <td>65.5</td>\n",
              "      <td>52.4</td>\n",
              "      <td>152</td>\n",
              "      <td>154.0</td>\n",
              "      <td>5000.0</td>\n",
              "      <td>19</td>\n",
              "    </tr>\n",
              "    <tr>\n",
              "      <th>3</th>\n",
              "      <td>99.8</td>\n",
              "      <td>176.6</td>\n",
              "      <td>66.2</td>\n",
              "      <td>54.3</td>\n",
              "      <td>109</td>\n",
              "      <td>102.0</td>\n",
              "      <td>5500.0</td>\n",
              "      <td>24</td>\n",
              "    </tr>\n",
              "    <tr>\n",
              "      <th>4</th>\n",
              "      <td>99.4</td>\n",
              "      <td>176.6</td>\n",
              "      <td>66.4</td>\n",
              "      <td>54.3</td>\n",
              "      <td>136</td>\n",
              "      <td>115.0</td>\n",
              "      <td>5500.0</td>\n",
              "      <td>18</td>\n",
              "    </tr>\n",
              "  </tbody>\n",
              "</table>\n",
              "</div>"
            ],
            "text/plain": [
              "   wheel-base  length  width  ...  horsepower  peak-rpm  city-mpg\n",
              "0        88.6   168.8   64.1  ...       111.0    5000.0        21\n",
              "1        88.6   168.8   64.1  ...       111.0    5000.0        21\n",
              "2        94.5   171.2   65.5  ...       154.0    5000.0        19\n",
              "3        99.8   176.6   66.2  ...       102.0    5500.0        24\n",
              "4        99.4   176.6   66.4  ...       115.0    5500.0        18\n",
              "\n",
              "[5 rows x 8 columns]"
            ]
          },
          "metadata": {},
          "execution_count": 123
        }
      ]
    },
    {
      "cell_type": "code",
      "metadata": {
        "id": "srl3dywPTNgb"
      },
      "source": [
        "# intending to perform three different linear regressions, so making particular copies of dbs with selected variables\n",
        "# I will perform a linear regression using the three strongest correlated variables to the response variable, \n",
        "# a linear regression using the three weakest correlated variables to the response variable,\n",
        "# and a linear regression using every variable against to the response variable.\n",
        "\n",
        "\n",
        "#three strongest correlated variables in first db, (length, width, and engine-size)\n",
        "df6.drop(columns=['wheel-base', 'height', 'horsepower', 'peak-rpm', 'city-mpg'], axis=1, inplace=True)\n",
        "dfb = df5.copy()\n",
        "\n",
        "#three weakest correlated variables in second db, (height, peak-rpm, and city-mpg)\n",
        "df7.drop(columns=['wheel-base','length', 'width', 'engine-size', 'horsepower'], axis=1, inplace=True)\n",
        "dfd = df5.copy()"
      ],
      "execution_count": 124,
      "outputs": []
    },
    {
      "cell_type": "code",
      "metadata": {
        "id": "6o5QkniVatSF"
      },
      "source": [
        "#sanity checks"
      ],
      "execution_count": 125,
      "outputs": []
    },
    {
      "cell_type": "code",
      "metadata": {
        "colab": {
          "base_uri": "https://localhost:8080/",
          "height": 112
        },
        "id": "lNXH7J5navS2",
        "outputId": "290f6907-932d-4bd6-cdc2-2f6b5ecb1ed2"
      },
      "source": [
        "df6.head(2)"
      ],
      "execution_count": 126,
      "outputs": [
        {
          "output_type": "execute_result",
          "data": {
            "text/html": [
              "<div>\n",
              "<style scoped>\n",
              "    .dataframe tbody tr th:only-of-type {\n",
              "        vertical-align: middle;\n",
              "    }\n",
              "\n",
              "    .dataframe tbody tr th {\n",
              "        vertical-align: top;\n",
              "    }\n",
              "\n",
              "    .dataframe thead th {\n",
              "        text-align: right;\n",
              "    }\n",
              "</style>\n",
              "<table border=\"1\" class=\"dataframe\">\n",
              "  <thead>\n",
              "    <tr style=\"text-align: right;\">\n",
              "      <th></th>\n",
              "      <th>length</th>\n",
              "      <th>width</th>\n",
              "      <th>engine-size</th>\n",
              "    </tr>\n",
              "  </thead>\n",
              "  <tbody>\n",
              "    <tr>\n",
              "      <th>0</th>\n",
              "      <td>168.8</td>\n",
              "      <td>64.1</td>\n",
              "      <td>130</td>\n",
              "    </tr>\n",
              "    <tr>\n",
              "      <th>1</th>\n",
              "      <td>168.8</td>\n",
              "      <td>64.1</td>\n",
              "      <td>130</td>\n",
              "    </tr>\n",
              "  </tbody>\n",
              "</table>\n",
              "</div>"
            ],
            "text/plain": [
              "   length  width  engine-size\n",
              "0   168.8   64.1          130\n",
              "1   168.8   64.1          130"
            ]
          },
          "metadata": {},
          "execution_count": 126
        }
      ]
    },
    {
      "cell_type": "code",
      "metadata": {
        "colab": {
          "base_uri": "https://localhost:8080/",
          "height": 112
        },
        "id": "mJZ683fMayao",
        "outputId": "32a1c6a0-9c0e-45a3-d535-5f138ac92b42"
      },
      "source": [
        "df7.head(2)"
      ],
      "execution_count": 127,
      "outputs": [
        {
          "output_type": "execute_result",
          "data": {
            "text/html": [
              "<div>\n",
              "<style scoped>\n",
              "    .dataframe tbody tr th:only-of-type {\n",
              "        vertical-align: middle;\n",
              "    }\n",
              "\n",
              "    .dataframe tbody tr th {\n",
              "        vertical-align: top;\n",
              "    }\n",
              "\n",
              "    .dataframe thead th {\n",
              "        text-align: right;\n",
              "    }\n",
              "</style>\n",
              "<table border=\"1\" class=\"dataframe\">\n",
              "  <thead>\n",
              "    <tr style=\"text-align: right;\">\n",
              "      <th></th>\n",
              "      <th>height</th>\n",
              "      <th>peak-rpm</th>\n",
              "      <th>city-mpg</th>\n",
              "    </tr>\n",
              "  </thead>\n",
              "  <tbody>\n",
              "    <tr>\n",
              "      <th>0</th>\n",
              "      <td>48.8</td>\n",
              "      <td>5000.0</td>\n",
              "      <td>21</td>\n",
              "    </tr>\n",
              "    <tr>\n",
              "      <th>1</th>\n",
              "      <td>48.8</td>\n",
              "      <td>5000.0</td>\n",
              "      <td>21</td>\n",
              "    </tr>\n",
              "  </tbody>\n",
              "</table>\n",
              "</div>"
            ],
            "text/plain": [
              "   height  peak-rpm  city-mpg\n",
              "0    48.8    5000.0        21\n",
              "1    48.8    5000.0        21"
            ]
          },
          "metadata": {},
          "execution_count": 127
        }
      ]
    },
    {
      "cell_type": "code",
      "metadata": {
        "colab": {
          "base_uri": "https://localhost:8080/",
          "height": 112
        },
        "id": "0UHfS7rZa0Q-",
        "outputId": "a199a223-6cf0-4fd2-e997-672e974d7ac6"
      },
      "source": [
        "df8.head(2)"
      ],
      "execution_count": 128,
      "outputs": [
        {
          "output_type": "execute_result",
          "data": {
            "text/html": [
              "<div>\n",
              "<style scoped>\n",
              "    .dataframe tbody tr th:only-of-type {\n",
              "        vertical-align: middle;\n",
              "    }\n",
              "\n",
              "    .dataframe tbody tr th {\n",
              "        vertical-align: top;\n",
              "    }\n",
              "\n",
              "    .dataframe thead th {\n",
              "        text-align: right;\n",
              "    }\n",
              "</style>\n",
              "<table border=\"1\" class=\"dataframe\">\n",
              "  <thead>\n",
              "    <tr style=\"text-align: right;\">\n",
              "      <th></th>\n",
              "      <th>wheel-base</th>\n",
              "      <th>length</th>\n",
              "      <th>width</th>\n",
              "      <th>height</th>\n",
              "      <th>engine-size</th>\n",
              "      <th>horsepower</th>\n",
              "      <th>peak-rpm</th>\n",
              "      <th>city-mpg</th>\n",
              "    </tr>\n",
              "  </thead>\n",
              "  <tbody>\n",
              "    <tr>\n",
              "      <th>0</th>\n",
              "      <td>88.6</td>\n",
              "      <td>168.8</td>\n",
              "      <td>64.1</td>\n",
              "      <td>48.8</td>\n",
              "      <td>130</td>\n",
              "      <td>111.0</td>\n",
              "      <td>5000.0</td>\n",
              "      <td>21</td>\n",
              "    </tr>\n",
              "    <tr>\n",
              "      <th>1</th>\n",
              "      <td>88.6</td>\n",
              "      <td>168.8</td>\n",
              "      <td>64.1</td>\n",
              "      <td>48.8</td>\n",
              "      <td>130</td>\n",
              "      <td>111.0</td>\n",
              "      <td>5000.0</td>\n",
              "      <td>21</td>\n",
              "    </tr>\n",
              "  </tbody>\n",
              "</table>\n",
              "</div>"
            ],
            "text/plain": [
              "   wheel-base  length  width  ...  horsepower  peak-rpm  city-mpg\n",
              "0        88.6   168.8   64.1  ...       111.0    5000.0        21\n",
              "1        88.6   168.8   64.1  ...       111.0    5000.0        21\n",
              "\n",
              "[2 rows x 8 columns]"
            ]
          },
          "metadata": {},
          "execution_count": 128
        }
      ]
    },
    {
      "cell_type": "code",
      "metadata": {
        "id": "BYlv-C4VPSjG"
      },
      "source": [
        "#loading linear regression f(x) from sklearn 'linear model' sub-library\n",
        "from sklearn.linear_model import LinearRegression\n",
        "\n",
        "#loading the cross_val_score f(x) from the sklearn.model_selection module\n",
        "from sklearn.model_selection import cross_val_score\n",
        "\n",
        "#loading the train_test_split f(x)\n",
        "from sklearn.model_selection import train_test_split\n",
        "\n",
        "#now to split our first sets of data into training and testing subsets\n",
        "#we will set aside only 20% of our data for testing purposes\n",
        "\n",
        "X_train, X_test, y_train, y_test = train_test_split(df6, dfb, test_size=0.2, random_state=2)"
      ],
      "execution_count": 130,
      "outputs": []
    },
    {
      "cell_type": "code",
      "metadata": {
        "colab": {
          "base_uri": "https://localhost:8080/"
        },
        "id": "QgOMOws1m6No",
        "outputId": "25b2ed4f-1451-49ad-d421-c11cc76f700f"
      },
      "source": [
        "#checking results\n",
        "len(X_train)"
      ],
      "execution_count": 131,
      "outputs": [
        {
          "output_type": "execute_result",
          "data": {
            "text/plain": [
              "162"
            ]
          },
          "metadata": {},
          "execution_count": 131
        }
      ]
    },
    {
      "cell_type": "code",
      "metadata": {
        "colab": {
          "base_uri": "https://localhost:8080/"
        },
        "id": "mtgVrgKtolDN",
        "outputId": "04d3e30a-4d08-470b-c160-daca35a66dd8"
      },
      "source": [
        "len(X_test)"
      ],
      "execution_count": 132,
      "outputs": [
        {
          "output_type": "execute_result",
          "data": {
            "text/plain": [
              "41"
            ]
          },
          "metadata": {},
          "execution_count": 132
        }
      ]
    },
    {
      "cell_type": "markdown",
      "metadata": {
        "id": "ulEUE-WTrPAl"
      },
      "source": [
        "The data set has successfully been split into training and testing subsets. We first separated the response variable from the explanatory variables and then used the train_test_split() function to randomly sample items from the data set for inclusion in our training and testing subsets. We have set aside 20% of the data for testing purposes.\n"
      ]
    },
    {
      "cell_type": "markdown",
      "metadata": {
        "id": "WiXtwWVhrpxs"
      },
      "source": [
        "Using scikit-learn's Cross Validation Capabilities.\n",
        "\n",
        "scikit-learn provides us with an easy-to-use cross validation capability via the cross_val_score() function. To make use of it, we must first split their data into training and testing subsets (as we did above) and select the machine learning model they believe to be appropriate for their task at hand. We continue our example from above by constructing a small linear regression model for purposes of predicting curb-weight from the other variables.\n",
        "\n",
        "I will only be using 5-fold cross validation since our data set is rather small (only 205 rows)."
      ]
    },
    {
      "cell_type": "code",
      "metadata": {
        "colab": {
          "base_uri": "https://localhost:8080/"
        },
        "id": "SMHotenlrw4H",
        "outputId": "bbaff984-4356-4479-f69b-51bea22865c1"
      },
      "source": [
        "# Assigning the model function you want to use to a variable\n",
        "LRmodel = LinearRegression()\n",
        "\n",
        "# fit the model using 5-fold cross validation\n",
        "scores = cross_val_score(LRmodel, X_train, y_train, cv=5)\n",
        "\n",
        "# print out the R^2 metrics derived from the K-fold cross validation of our linear regression model\n",
        "print (scores)\n",
        "\n",
        "np.mean(scores)"
      ],
      "execution_count": 134,
      "outputs": [
        {
          "output_type": "stream",
          "name": "stdout",
          "text": [
            "[0.93287481 0.9158332  0.89941048 0.91534031 0.90848798]\n"
          ]
        },
        {
          "output_type": "execute_result",
          "data": {
            "text/plain": [
              "0.9143893555022489"
            ]
          },
          "metadata": {},
          "execution_count": 134
        }
      ]
    },
    {
      "cell_type": "markdown",
      "metadata": {
        "id": "6fczmPzfsn35"
      },
      "source": [
        "We are presented with an average cross-validated R^2 score of 0.9143 which in my opinion is a good score, considering that our highest correlation with any one variable for curb-weight was 0.88 in our seaborn heatmap."
      ]
    },
    {
      "cell_type": "markdown",
      "metadata": {
        "id": "KUZjw9LktYIm"
      },
      "source": [
        "Let's try to repeat the process using the three WEAKEST relationships as shown from our Seaborn Heatmap."
      ]
    },
    {
      "cell_type": "code",
      "metadata": {
        "id": "Tv_raeFgr_1A"
      },
      "source": [
        "#splitting our second sets of data into training and testing subsets\n",
        "#we will set aside only 20% of our data for testing purposes\n",
        "\n",
        "X_train, X_test, y_train, y_test = train_test_split(df7, dfb, test_size=0.2, random_state=2)"
      ],
      "execution_count": 135,
      "outputs": []
    },
    {
      "cell_type": "code",
      "metadata": {
        "colab": {
          "base_uri": "https://localhost:8080/"
        },
        "id": "MZTgfyxatqpI",
        "outputId": "0de3d185-4bf9-45f7-d8f9-7ace1b2d05a3"
      },
      "source": [
        "# Assigning the model function you want to use to a variable\n",
        "LRmodel = LinearRegression()\n",
        "\n",
        "# fit the model using 5-fold cross validation\n",
        "scores = cross_val_score(LRmodel, X_train, y_train, cv=5)\n",
        "\n",
        "# print out the R^2 metrics derived from the K-fold cross validation of our linear regression model\n",
        "print (scores)\n",
        "\n",
        "np.mean(scores)"
      ],
      "execution_count": 136,
      "outputs": [
        {
          "output_type": "stream",
          "name": "stdout",
          "text": [
            "[0.72367631 0.54815223 0.7046352  0.73830831 0.78066651]\n"
          ]
        },
        {
          "output_type": "execute_result",
          "data": {
            "text/plain": [
              "0.699087711527868"
            ]
          },
          "metadata": {},
          "execution_count": 136
        }
      ]
    },
    {
      "cell_type": "markdown",
      "metadata": {
        "id": "id5qbzszuij1"
      },
      "source": [
        "We are presented with an average cross-validated R^2 score of 0.6991 which in my opinion is a bad score, considering that we have a stronger correlation with the 4th strongest variable to curb-weight, which is wheel-base.\n",
        "\n",
        "This is to be expected since I chose the weakest related variables to curb-weight.\n",
        "\n",
        "Let's run this one more time using every variable except for the response one, of course."
      ]
    },
    {
      "cell_type": "code",
      "metadata": {
        "id": "BSYcIO5dv7dB"
      },
      "source": [
        "#splitting our last sets of data into training and testing subsets\n",
        "#we will set aside only 20% of our data for testing purposes\n",
        "\n",
        "X_train, X_test, y_train, y_test = train_test_split(df8, dfb, test_size=0.2, random_state=2)"
      ],
      "execution_count": 137,
      "outputs": []
    },
    {
      "cell_type": "code",
      "metadata": {
        "colab": {
          "base_uri": "https://localhost:8080/"
        },
        "id": "kuJpzEPiwH-p",
        "outputId": "ee0b5f26-2cd5-4159-e73d-b792e46ee8cf"
      },
      "source": [
        "# Assigning the model function you want to use to a variable\n",
        "LRmodel = LinearRegression()\n",
        "\n",
        "# fit the model using 5-fold cross validation\n",
        "scores = cross_val_score(LRmodel, X_train, y_train, cv=5)\n",
        "\n",
        "# print out the R^2 metrics derived from the K-fold cross validation of our linear regression model\n",
        "print (scores)\n",
        "\n",
        "np.mean(scores)"
      ],
      "execution_count": 138,
      "outputs": [
        {
          "output_type": "stream",
          "name": "stdout",
          "text": [
            "[0.93773815 0.92697423 0.92795439 0.93836374 0.90900917]\n"
          ]
        },
        {
          "output_type": "execute_result",
          "data": {
            "text/plain": [
              "0.9280079355220299"
            ]
          },
          "metadata": {},
          "execution_count": 138
        }
      ]
    },
    {
      "cell_type": "markdown",
      "metadata": {
        "id": "uyw5rJ2uwQtx"
      },
      "source": [
        "Interestingly enough, we are presented with an average cross-validated R^2 score of 0.9280 which is our best score yet for our linear regression.\n",
        "\n",
        "Perhaps this goes back to the more information the better, perhaps if we had more continous variables in our dataset to run linear regression on, we would achieve a higher score.\n",
        "\n",
        "The difference between using our strongest three variables and all of them is not that much, approximately .01 of a difference. This probably alludes to our future lesson of feature selection, showing how only our top three variables were needed for a decent regression."
      ]
    },
    {
      "cell_type": "code",
      "metadata": {
        "id": "bUKrVRySxNNx"
      },
      "source": [
        ""
      ],
      "execution_count": null,
      "outputs": []
    }
  ]
}
{
 "cells": [
  {
   "cell_type": "markdown",
   "metadata": {},
   "source": [
    "<h3><center>M7 Practical Challenge: Binary Logistic Regression\n",
    "    <br>By Anna Imhoff, Randy Leon, and Jinming Chen</br></h3></center>"
   ]
  },
  {
   "cell_type": "markdown",
   "metadata": {},
   "source": [
    "<h3><b>Introduction</b></h3>"
   ]
  },
  {
   "cell_type": "markdown",
   "metadata": {},
   "source": [
    "The Insurance Company data used for this exercise can be found on [Kaggle](https://www.kaggle.com/rluyck/insurance-company?select=Customer_data.csv).  First, we will upload the data set to our Github repository.  The original data set contains over 14,106 observations and 15 attributes.  The response variable will be TARGET which represents yes (1) a new product was purchased or no (0) a new product was not purchased.  Exploratory data analysis will be performed on the variables to familiarize us with the insurance company attributes, identify trends and missing data, and gather preliminary predictive inferences.  We will apply feature selection and/or dimensionality reduction techniques to identify the explanatory variables to be included in our three different binomial logistic regression models.  We will find which model is the best at predicting if a person will purchase a new insurance product."
   ]
  },
  {
   "cell_type": "markdown",
   "metadata": {},
   "source": [
    "<b>Data Set Attributes</b><br> \n",
    "\n",
    "1) ID - Unique customer identifier (<b>categorical</b>) <br> \n",
    "2) TARGET - Indicator of buying the new product (0 = no, 1= yes) (<b>categorical, binary</b>)<br>\n",
    "3) Loyalty - Loyalty level, from low to high (0 to 3), 99 = unclassified (<b>categorical, ordinal</b>) <br>\n",
    "4) Age - Age in years (<b>numeric, discrete</b>) <br>\n",
    "5) City - Unique code per city (<b>categorical</b>) <br>\n",
    "6) Age_p - Age of partner in years (<b>numeric, discrete</b>) <br>\n",
    "7) LOR - Length of relationship in years (<b>numeric, discrete</b>) <br>\n",
    "8) LOR_m - Length of relationship in months (<b>numeric, discrete</b>)<br>\n",
    "9) Prod_A - Bought Product A (0 = no, 1 = yes) (<b>categorical</b>) <br>\n",
    "10) Type_A - Type of product A (<b>categorical</b>)<br>\n",
    "11) Turnover_A - Amount of money spent on Product A (<b>numeric, continuous</b>) <br>\n",
    "12) Prod_B - Bought Product B (0 = no, 1 = yes) (<b>categorical, binary</b>) <br>\n",
    "13) Type_B - Type of product B (<b>categorical</b>) <br>\n",
    "14) Turnover_B - Amount of money spent on Product B (<b>numeric, continuous</b>)<br>\n",
    "15) Contract - Type of contract (<b>categorical</b>) <br>"
   ]
  },
  {
   "cell_type": "code",
   "execution_count": 1,
   "metadata": {},
   "outputs": [
    {
     "name": "stderr",
     "output_type": "stream",
     "text": [
      "C:\\Users\\aimhoff\\AppData\\Local\\Continuum\\anaconda3\\lib\\site-packages\\pandas\\compat\\_optional.py:138: UserWarning: Pandas requires version '2.7.0' or newer of 'numexpr' (version '2.6.9' currently installed).\n",
      "  warnings.warn(msg, UserWarning)\n"
     ]
    },
    {
     "data": {
      "text/html": [
       "<div>\n",
       "<style scoped>\n",
       "    .dataframe tbody tr th:only-of-type {\n",
       "        vertical-align: middle;\n",
       "    }\n",
       "\n",
       "    .dataframe tbody tr th {\n",
       "        vertical-align: top;\n",
       "    }\n",
       "\n",
       "    .dataframe thead th {\n",
       "        text-align: right;\n",
       "    }\n",
       "</style>\n",
       "<table border=\"1\" class=\"dataframe\">\n",
       "  <thead>\n",
       "    <tr style=\"text-align: right;\">\n",
       "      <th></th>\n",
       "      <th>TARGET</th>\n",
       "      <th>loyalty</th>\n",
       "      <th>ID</th>\n",
       "      <th>age</th>\n",
       "      <th>city</th>\n",
       "      <th>LOR</th>\n",
       "      <th>prod_A</th>\n",
       "      <th>type_A</th>\n",
       "      <th>type_B</th>\n",
       "      <th>prod_B</th>\n",
       "      <th>turnover_A</th>\n",
       "      <th>turnover_B</th>\n",
       "      <th>contract</th>\n",
       "      <th>age_P</th>\n",
       "      <th>lor_M</th>\n",
       "    </tr>\n",
       "  </thead>\n",
       "  <tbody>\n",
       "    <tr>\n",
       "      <th>0</th>\n",
       "      <td>N</td>\n",
       "      <td>99</td>\n",
       "      <td>12585</td>\n",
       "      <td>11</td>\n",
       "      <td>2</td>\n",
       "      <td>0</td>\n",
       "      <td>0</td>\n",
       "      <td>0</td>\n",
       "      <td>0</td>\n",
       "      <td>0</td>\n",
       "      <td>357.339500</td>\n",
       "      <td>249.741496</td>\n",
       "      <td>2</td>\n",
       "      <td>11</td>\n",
       "      <td>3</td>\n",
       "    </tr>\n",
       "    <tr>\n",
       "      <th>1</th>\n",
       "      <td>N</td>\n",
       "      <td>99</td>\n",
       "      <td>1119</td>\n",
       "      <td>13</td>\n",
       "      <td>2</td>\n",
       "      <td>0</td>\n",
       "      <td>0</td>\n",
       "      <td>0</td>\n",
       "      <td>0</td>\n",
       "      <td>0</td>\n",
       "      <td>351.427321</td>\n",
       "      <td>227.079688</td>\n",
       "      <td>2</td>\n",
       "      <td>13</td>\n",
       "      <td>3</td>\n",
       "    </tr>\n",
       "    <tr>\n",
       "      <th>2</th>\n",
       "      <td>N</td>\n",
       "      <td>99</td>\n",
       "      <td>75</td>\n",
       "      <td>14</td>\n",
       "      <td>2</td>\n",
       "      <td>0</td>\n",
       "      <td>0</td>\n",
       "      <td>0</td>\n",
       "      <td>0</td>\n",
       "      <td>0</td>\n",
       "      <td>345.609148</td>\n",
       "      <td>203.250249</td>\n",
       "      <td>2</td>\n",
       "      <td>14</td>\n",
       "      <td>3</td>\n",
       "    </tr>\n",
       "    <tr>\n",
       "      <th>3</th>\n",
       "      <td>N</td>\n",
       "      <td>99</td>\n",
       "      <td>11809</td>\n",
       "      <td>22</td>\n",
       "      <td>2</td>\n",
       "      <td>0</td>\n",
       "      <td>0</td>\n",
       "      <td>0</td>\n",
       "      <td>0</td>\n",
       "      <td>0</td>\n",
       "      <td>398.448554</td>\n",
       "      <td>218.960897</td>\n",
       "      <td>2</td>\n",
       "      <td>22</td>\n",
       "      <td>3</td>\n",
       "    </tr>\n",
       "    <tr>\n",
       "      <th>4</th>\n",
       "      <td>N</td>\n",
       "      <td>99</td>\n",
       "      <td>12296</td>\n",
       "      <td>22</td>\n",
       "      <td>2</td>\n",
       "      <td>0</td>\n",
       "      <td>0</td>\n",
       "      <td>0</td>\n",
       "      <td>0</td>\n",
       "      <td>0</td>\n",
       "      <td>355.744324</td>\n",
       "      <td>231.921720</td>\n",
       "      <td>2</td>\n",
       "      <td>22</td>\n",
       "      <td>3</td>\n",
       "    </tr>\n",
       "  </tbody>\n",
       "</table>\n",
       "</div>"
      ],
      "text/plain": [
       "  TARGET  loyalty     ID  age  city  LOR  prod_A  type_A  type_B  prod_B  \\\n",
       "0      N       99  12585   11     2    0       0       0       0       0   \n",
       "1      N       99   1119   13     2    0       0       0       0       0   \n",
       "2      N       99     75   14     2    0       0       0       0       0   \n",
       "3      N       99  11809   22     2    0       0       0       0       0   \n",
       "4      N       99  12296   22     2    0       0       0       0       0   \n",
       "\n",
       "   turnover_A  turnover_B  contract  age_P  lor_M  \n",
       "0  357.339500  249.741496         2     11      3  \n",
       "1  351.427321  227.079688         2     13      3  \n",
       "2  345.609148  203.250249         2     14      3  \n",
       "3  398.448554  218.960897         2     22      3  \n",
       "4  355.744324  231.921720         2     22      3  "
      ]
     },
     "execution_count": 1,
     "metadata": {},
     "output_type": "execute_result"
    }
   ],
   "source": [
    "#Import libraries and packages\n",
    "import pandas as pd\n",
    "import numpy as np\n",
    "from sklearn import preprocessing\n",
    "import matplotlib.pyplot as plt \n",
    "plt.rc(\"font\", size=14)\n",
    "from sklearn.linear_model import LogisticRegression\n",
    "from sklearn.model_selection import train_test_split\n",
    "import seaborn as sns\n",
    "sns.set(style=\"white\")\n",
    "sns.set(style=\"whitegrid\", color_codes=True)\n",
    "\n",
    "#Read in the csv from Github\n",
    "df = pd.read_csv(\"https://raw.githubusercontent.com/annaimhoff/DAV-6150/main/M7_Data.csv\", sep=',')\n",
    "                 \n",
    "#View the data frame\n",
    "df.head()"
   ]
  },
  {
   "cell_type": "markdown",
   "metadata": {},
   "source": [
    "We will drop the ID column since it is a unique identifier and will not be predictive."
   ]
  },
  {
   "cell_type": "code",
   "execution_count": 2,
   "metadata": {},
   "outputs": [
    {
     "data": {
      "text/html": [
       "<div>\n",
       "<style scoped>\n",
       "    .dataframe tbody tr th:only-of-type {\n",
       "        vertical-align: middle;\n",
       "    }\n",
       "\n",
       "    .dataframe tbody tr th {\n",
       "        vertical-align: top;\n",
       "    }\n",
       "\n",
       "    .dataframe thead th {\n",
       "        text-align: right;\n",
       "    }\n",
       "</style>\n",
       "<table border=\"1\" class=\"dataframe\">\n",
       "  <thead>\n",
       "    <tr style=\"text-align: right;\">\n",
       "      <th></th>\n",
       "      <th>TARGET</th>\n",
       "      <th>loyalty</th>\n",
       "      <th>age</th>\n",
       "      <th>city</th>\n",
       "      <th>LOR</th>\n",
       "      <th>prod_A</th>\n",
       "      <th>type_A</th>\n",
       "      <th>type_B</th>\n",
       "      <th>prod_B</th>\n",
       "      <th>turnover_A</th>\n",
       "      <th>turnover_B</th>\n",
       "      <th>contract</th>\n",
       "      <th>age_P</th>\n",
       "      <th>lor_M</th>\n",
       "    </tr>\n",
       "  </thead>\n",
       "  <tbody>\n",
       "    <tr>\n",
       "      <th>0</th>\n",
       "      <td>N</td>\n",
       "      <td>99</td>\n",
       "      <td>11</td>\n",
       "      <td>2</td>\n",
       "      <td>0</td>\n",
       "      <td>0</td>\n",
       "      <td>0</td>\n",
       "      <td>0</td>\n",
       "      <td>0</td>\n",
       "      <td>357.339500</td>\n",
       "      <td>249.741496</td>\n",
       "      <td>2</td>\n",
       "      <td>11</td>\n",
       "      <td>3</td>\n",
       "    </tr>\n",
       "    <tr>\n",
       "      <th>1</th>\n",
       "      <td>N</td>\n",
       "      <td>99</td>\n",
       "      <td>13</td>\n",
       "      <td>2</td>\n",
       "      <td>0</td>\n",
       "      <td>0</td>\n",
       "      <td>0</td>\n",
       "      <td>0</td>\n",
       "      <td>0</td>\n",
       "      <td>351.427321</td>\n",
       "      <td>227.079688</td>\n",
       "      <td>2</td>\n",
       "      <td>13</td>\n",
       "      <td>3</td>\n",
       "    </tr>\n",
       "    <tr>\n",
       "      <th>2</th>\n",
       "      <td>N</td>\n",
       "      <td>99</td>\n",
       "      <td>14</td>\n",
       "      <td>2</td>\n",
       "      <td>0</td>\n",
       "      <td>0</td>\n",
       "      <td>0</td>\n",
       "      <td>0</td>\n",
       "      <td>0</td>\n",
       "      <td>345.609148</td>\n",
       "      <td>203.250249</td>\n",
       "      <td>2</td>\n",
       "      <td>14</td>\n",
       "      <td>3</td>\n",
       "    </tr>\n",
       "    <tr>\n",
       "      <th>3</th>\n",
       "      <td>N</td>\n",
       "      <td>99</td>\n",
       "      <td>22</td>\n",
       "      <td>2</td>\n",
       "      <td>0</td>\n",
       "      <td>0</td>\n",
       "      <td>0</td>\n",
       "      <td>0</td>\n",
       "      <td>0</td>\n",
       "      <td>398.448554</td>\n",
       "      <td>218.960897</td>\n",
       "      <td>2</td>\n",
       "      <td>22</td>\n",
       "      <td>3</td>\n",
       "    </tr>\n",
       "    <tr>\n",
       "      <th>4</th>\n",
       "      <td>N</td>\n",
       "      <td>99</td>\n",
       "      <td>22</td>\n",
       "      <td>2</td>\n",
       "      <td>0</td>\n",
       "      <td>0</td>\n",
       "      <td>0</td>\n",
       "      <td>0</td>\n",
       "      <td>0</td>\n",
       "      <td>355.744324</td>\n",
       "      <td>231.921720</td>\n",
       "      <td>2</td>\n",
       "      <td>22</td>\n",
       "      <td>3</td>\n",
       "    </tr>\n",
       "  </tbody>\n",
       "</table>\n",
       "</div>"
      ],
      "text/plain": [
       "  TARGET  loyalty  age  city  LOR  prod_A  type_A  type_B  prod_B  turnover_A  \\\n",
       "0      N       99   11     2    0       0       0       0       0  357.339500   \n",
       "1      N       99   13     2    0       0       0       0       0  351.427321   \n",
       "2      N       99   14     2    0       0       0       0       0  345.609148   \n",
       "3      N       99   22     2    0       0       0       0       0  398.448554   \n",
       "4      N       99   22     2    0       0       0       0       0  355.744324   \n",
       "\n",
       "   turnover_B  contract  age_P  lor_M  \n",
       "0  249.741496         2     11      3  \n",
       "1  227.079688         2     13      3  \n",
       "2  203.250249         2     14      3  \n",
       "3  218.960897         2     22      3  \n",
       "4  231.921720         2     22      3  "
      ]
     },
     "execution_count": 2,
     "metadata": {},
     "output_type": "execute_result"
    }
   ],
   "source": [
    "#Drop the ID column since it is non-predictive\n",
    "df = df.drop(df.columns[[2]], axis=1)\n",
    "\n",
    "#View the data frame to ensure that the column was removed\n",
    "df.head()"
   ]
  },
  {
   "cell_type": "markdown",
   "metadata": {},
   "source": [
    "<h3><b>Exploratory Data Analysis</b></h3>"
   ]
  },
  {
   "cell_type": "markdown",
   "metadata": {},
   "source": [
    "Check to see if the predictor variable, TARGET, is balanced."
   ]
  },
  {
   "cell_type": "code",
   "execution_count": 3,
   "metadata": {},
   "outputs": [
    {
     "data": {
      "text/plain": [
       "N    8000\n",
       "Y    6016\n",
       "Name: TARGET, dtype: int64"
      ]
     },
     "execution_count": 3,
     "metadata": {},
     "output_type": "execute_result"
    }
   ],
   "source": [
    "df['TARGET'].value_counts()"
   ]
  },
  {
   "cell_type": "code",
   "execution_count": 4,
   "metadata": {},
   "outputs": [
    {
     "data": {
      "image/png": "[encoded data removed]",
      "text/plain": [
       "<Figure size 432x288 with 1 Axes>"
      ]
     },
     "metadata": {
      "needs_background": "light"
     },
     "output_type": "display_data"
    },
    {
     "data": {
      "text/plain": [
       "<Figure size 432x288 with 0 Axes>"
      ]
     },
     "metadata": {},
     "output_type": "display_data"
    }
   ],
   "source": [
    "sns.countplot(x='TARGET', data=df, palette='hls')\n",
    "plt.show()\n",
    "plt.savefig('count_plot')"
   ]
  },
  {
   "cell_type": "code",
   "execution_count": 5,
   "metadata": {},
   "outputs": [
    {
     "name": "stdout",
     "output_type": "stream",
     "text": [
      "% of no new product is purchased is 57\n",
      "% of yes a new product is purchased is 43\n"
     ]
    }
   ],
   "source": [
    "count_no_prod = len(df[df['TARGET']=='N'])\n",
    "count_prod = len(df[df['TARGET']=='Y'])\n",
    "pct_of_no_prod = count_no_prod/(count_no_prod+count_prod)\n",
    "print(\"% of no new product is purchased is\", round(pct_of_no_prod*100))\n",
    "pct_of_prod = count_prod/(count_no_prod+count_prod)\n",
    "print(\"% of yes a new product is purchased is\", round(pct_of_prod*100))"
   ]
  },
  {
   "cell_type": "markdown",
   "metadata": {},
   "source": [
    "The classes of the predictor are fairly balanced."
   ]
  },
  {
   "cell_type": "markdown",
   "metadata": {},
   "source": [
    "Check for missing values"
   ]
  },
  {
   "cell_type": "code",
   "execution_count": 6,
   "metadata": {},
   "outputs": [
    {
     "data": {
      "text/plain": [
       "TARGET        0\n",
       "loyalty       0\n",
       "age           0\n",
       "city          0\n",
       "LOR           0\n",
       "prod_A        0\n",
       "type_A        0\n",
       "type_B        0\n",
       "prod_B        0\n",
       "turnover_A    0\n",
       "turnover_B    0\n",
       "contract      0\n",
       "age_P         0\n",
       "lor_M         0\n",
       "dtype: int64"
      ]
     },
     "execution_count": 6,
     "metadata": {},
     "output_type": "execute_result"
    }
   ],
   "source": [
    "df.isnull().sum()"
   ]
  },
  {
   "cell_type": "markdown",
   "metadata": {},
   "source": [
    "We have no missing values in our data set."
   ]
  },
  {
   "cell_type": "markdown",
   "metadata": {},
   "source": [
    "Check to see if the data set size is sufficient."
   ]
  },
  {
   "cell_type": "code",
   "execution_count": 7,
   "metadata": {},
   "outputs": [
    {
     "name": "stdout",
     "output_type": "stream",
     "text": [
      "<class 'pandas.core.frame.DataFrame'>\n",
      "RangeIndex: 14016 entries, 0 to 14015\n",
      "Data columns (total 14 columns):\n",
      " #   Column      Non-Null Count  Dtype  \n",
      "---  ------      --------------  -----  \n",
      " 0   TARGET      14016 non-null  object \n",
      " 1   loyalty     14016 non-null  int64  \n",
      " 2   age         14016 non-null  int64  \n",
      " 3   city        14016 non-null  int64  \n",
      " 4   LOR         14016 non-null  int64  \n",
      " 5   prod_A      14016 non-null  int64  \n",
      " 6   type_A      14016 non-null  int64  \n",
      " 7   type_B      14016 non-null  int64  \n",
      " 8   prod_B      14016 non-null  int64  \n",
      " 9   turnover_A  14016 non-null  float64\n",
      " 10  turnover_B  14016 non-null  float64\n",
      " 11  contract    14016 non-null  int64  \n",
      " 12  age_P       14016 non-null  int64  \n",
      " 13  lor_M       14016 non-null  int64  \n",
      "dtypes: float64(2), int64(11), object(1)\n",
      "memory usage: 1.5+ MB\n"
     ]
    }
   ],
   "source": [
    "#Check data types and size\n",
    "df.info()"
   ]
  },
  {
   "cell_type": "markdown",
   "metadata": {},
   "source": [
    "We have 14,106 observations which is sufficient to build a logistic regression model."
   ]
  },
  {
   "cell_type": "markdown",
   "metadata": {},
   "source": [
    "Check that our target is binary or ordinal."
   ]
  },
  {
   "cell_type": "code",
   "execution_count": 8,
   "metadata": {},
   "outputs": [
    {
     "data": {
      "text/plain": [
       "<matplotlib.axes._subplots.AxesSubplot at 0x2b434c2a780>"
      ]
     },
     "execution_count": 8,
     "metadata": {},
     "output_type": "execute_result"
    },
    {
     "data": {
      "image/png": "[encoded data removed]",
      "text/plain": [
       "<Figure size 432x288 with 1 Axes>"
      ]
     },
     "metadata": {
      "needs_background": "light"
     },
     "output_type": "display_data"
    }
   ],
   "source": [
    "sns.countplot(x = 'TARGET', data = df, palette = 'hls')"
   ]
  },
  {
   "cell_type": "markdown",
   "metadata": {},
   "source": [
    "Our target is Y/N so it will need to be changed to 1/0."
   ]
  },
  {
   "cell_type": "code",
   "execution_count": 9,
   "metadata": {},
   "outputs": [],
   "source": [
    "df = df.replace(to_replace = ['Y','N'],value = [1,0])"
   ]
  },
  {
   "cell_type": "code",
   "execution_count": 10,
   "metadata": {},
   "outputs": [
    {
     "data": {
      "text/html": [
       "<div>\n",
       "<style scoped>\n",
       "    .dataframe tbody tr th:only-of-type {\n",
       "        vertical-align: middle;\n",
       "    }\n",
       "\n",
       "    .dataframe tbody tr th {\n",
       "        vertical-align: top;\n",
       "    }\n",
       "\n",
       "    .dataframe thead th {\n",
       "        text-align: right;\n",
       "    }\n",
       "</style>\n",
       "<table border=\"1\" class=\"dataframe\">\n",
       "  <thead>\n",
       "    <tr style=\"text-align: right;\">\n",
       "      <th></th>\n",
       "      <th>TARGET</th>\n",
       "      <th>loyalty</th>\n",
       "      <th>age</th>\n",
       "      <th>city</th>\n",
       "      <th>LOR</th>\n",
       "      <th>prod_A</th>\n",
       "      <th>type_A</th>\n",
       "      <th>type_B</th>\n",
       "      <th>prod_B</th>\n",
       "      <th>turnover_A</th>\n",
       "      <th>turnover_B</th>\n",
       "      <th>contract</th>\n",
       "      <th>age_P</th>\n",
       "      <th>lor_M</th>\n",
       "    </tr>\n",
       "  </thead>\n",
       "  <tbody>\n",
       "    <tr>\n",
       "      <th>0</th>\n",
       "      <td>0</td>\n",
       "      <td>99</td>\n",
       "      <td>11</td>\n",
       "      <td>2</td>\n",
       "      <td>0</td>\n",
       "      <td>0</td>\n",
       "      <td>0</td>\n",
       "      <td>0</td>\n",
       "      <td>0</td>\n",
       "      <td>357.339500</td>\n",
       "      <td>249.741496</td>\n",
       "      <td>2</td>\n",
       "      <td>11</td>\n",
       "      <td>3</td>\n",
       "    </tr>\n",
       "    <tr>\n",
       "      <th>1</th>\n",
       "      <td>0</td>\n",
       "      <td>99</td>\n",
       "      <td>13</td>\n",
       "      <td>2</td>\n",
       "      <td>0</td>\n",
       "      <td>0</td>\n",
       "      <td>0</td>\n",
       "      <td>0</td>\n",
       "      <td>0</td>\n",
       "      <td>351.427321</td>\n",
       "      <td>227.079688</td>\n",
       "      <td>2</td>\n",
       "      <td>13</td>\n",
       "      <td>3</td>\n",
       "    </tr>\n",
       "    <tr>\n",
       "      <th>2</th>\n",
       "      <td>0</td>\n",
       "      <td>99</td>\n",
       "      <td>14</td>\n",
       "      <td>2</td>\n",
       "      <td>0</td>\n",
       "      <td>0</td>\n",
       "      <td>0</td>\n",
       "      <td>0</td>\n",
       "      <td>0</td>\n",
       "      <td>345.609148</td>\n",
       "      <td>203.250249</td>\n",
       "      <td>2</td>\n",
       "      <td>14</td>\n",
       "      <td>3</td>\n",
       "    </tr>\n",
       "    <tr>\n",
       "      <th>3</th>\n",
       "      <td>0</td>\n",
       "      <td>99</td>\n",
       "      <td>22</td>\n",
       "      <td>2</td>\n",
       "      <td>0</td>\n",
       "      <td>0</td>\n",
       "      <td>0</td>\n",
       "      <td>0</td>\n",
       "      <td>0</td>\n",
       "      <td>398.448554</td>\n",
       "      <td>218.960897</td>\n",
       "      <td>2</td>\n",
       "      <td>22</td>\n",
       "      <td>3</td>\n",
       "    </tr>\n",
       "    <tr>\n",
       "      <th>4</th>\n",
       "      <td>0</td>\n",
       "      <td>99</td>\n",
       "      <td>22</td>\n",
       "      <td>2</td>\n",
       "      <td>0</td>\n",
       "      <td>0</td>\n",
       "      <td>0</td>\n",
       "      <td>0</td>\n",
       "      <td>0</td>\n",
       "      <td>355.744324</td>\n",
       "      <td>231.921720</td>\n",
       "      <td>2</td>\n",
       "      <td>22</td>\n",
       "      <td>3</td>\n",
       "    </tr>\n",
       "  </tbody>\n",
       "</table>\n",
       "</div>"
      ],
      "text/plain": [
       "   TARGET  loyalty  age  city  LOR  prod_A  type_A  type_B  prod_B  \\\n",
       "0       0       99   11     2    0       0       0       0       0   \n",
       "1       0       99   13     2    0       0       0       0       0   \n",
       "2       0       99   14     2    0       0       0       0       0   \n",
       "3       0       99   22     2    0       0       0       0       0   \n",
       "4       0       99   22     2    0       0       0       0       0   \n",
       "\n",
       "   turnover_A  turnover_B  contract  age_P  lor_M  \n",
       "0  357.339500  249.741496         2     11      3  \n",
       "1  351.427321  227.079688         2     13      3  \n",
       "2  345.609148  203.250249         2     14      3  \n",
       "3  398.448554  218.960897         2     22      3  \n",
       "4  355.744324  231.921720         2     22      3  "
      ]
     },
     "execution_count": 10,
     "metadata": {},
     "output_type": "execute_result"
    }
   ],
   "source": [
    "#View the data frame to ensure the changes were made\n",
    "df.head()"
   ]
  },
  {
   "cell_type": "markdown",
   "metadata": {},
   "source": [
    "Next, let's look at the numeric attributes and categorical attributes more closely."
   ]
  },
  {
   "cell_type": "code",
   "execution_count": 11,
   "metadata": {},
   "outputs": [
    {
     "name": "stdout",
     "output_type": "stream",
     "text": [
      "# of numerical attributes:6\n",
      "# of categorical attributes:8\n"
     ]
    }
   ],
   "source": [
    "#Create lists of numerical and categorical attributes\n",
    "\n",
    "col_cat=['TARGET', 'loyalty', 'city', 'prod_A', 'type_A', 'prod_B', 'type_B', 'contract']\n",
    "\n",
    "col_num=['age', 'age_P', 'LOR', 'lor_M', 'turnover_A', 'turnover_B']\n",
    "\n",
    "print(\"# of numerical attributes:%s\" %len(col_num))\n",
    "print(\"# of categorical attributes:%s\" %len(col_cat))"
   ]
  },
  {
   "cell_type": "markdown",
   "metadata": {},
   "source": [
    "<h4><b>Histograms, Bar Charts, Boxplots and Correlation Matrix</b></h4>"
   ]
  },
  {
   "cell_type": "markdown",
   "metadata": {},
   "source": [
    "Plot a histogram for each of our numerical attributes."
   ]
  },
  {
   "cell_type": "code",
   "execution_count": 12,
   "metadata": {},
   "outputs": [
    {
     "data": {
      "image/png": "[encoded data removed]",
      "text/plain": [
       "<Figure size 1080x1440 with 6 Axes>"
      ]
     },
     "metadata": {
      "needs_background": "light"
     },
     "output_type": "display_data"
    }
   ],
   "source": [
    "#Set plot parameters\n",
    "plt.rcParams.update({'font.size': 12,'figure.figsize':(15,20)}) \n",
    "\n",
    "#Ignore warnings\n",
    "np.warnings.filterwarnings('ignore')\n",
    "\n",
    "#Use an index to identify the spot of the subplot\n",
    "j=1\n",
    "\n",
    "#For each numerical column \n",
    "for k in col_num :   \n",
    "    plt.subplot(6,2,j) \n",
    "    plt.hist(df[k])\n",
    "    plt.title('%s' %k)\n",
    "    j=j+1 \n",
    "\n",
    "plt.tight_layout()\n",
    "\n",
    "#Show results    \n",
    "plt.show()"
   ]
  },
  {
   "cell_type": "markdown",
   "metadata": {},
   "source": [
    "1) age has 86 unique values with a mode of 23, a median of 33, and a mean of 36.  The histogram is right-skewed. <br>\n",
    "2) age_P has 86 unique values with a mode of 23, a median of 33, and a mean of 36.  This is the same as age.  The histogram is right-skewed. <br>\n",
    "3) LOR has 7 unique values with a mode of 1, a median of 1, and a mean of 0.93.<br>\n",
    "4) lor_M has 7 unique values with a mode of 15, a median of 15, and a mean of 14.12. This is the same as LOR just on a monthly scale instead of yearly.<br>\n",
    "5) turnover_A has 11,008 unique values with no unique mode, a median of 367.89, and a mean of 379.16.<br>\n",
    "6) turnover_B has 11,008 unique values with no unique mode, a median of 237.66, and a mean of 328.63.<br>"
   ]
  },
  {
   "cell_type": "markdown",
   "metadata": {},
   "source": [
    "Check the boxplots for outliers."
   ]
  },
  {
   "cell_type": "code",
   "execution_count": 13,
   "metadata": {},
   "outputs": [
    {
     "data": {
      "image/png": "[encoded data removed]",
      "text/plain": [
       "<Figure size 1440x2880 with 6 Axes>"
      ]
     },
     "metadata": {
      "needs_background": "light"
     },
     "output_type": "display_data"
    }
   ],
   "source": [
    "#Define a figure to which we will add a boxplot for each of our attributes\n",
    "plt.figure(figsize=(20,40))\n",
    "\n",
    "#Ignore warnings\n",
    "np.warnings.filterwarnings('ignore')\n",
    "\n",
    "#Use an index to identify the spot of the subplot\n",
    "j=1\n",
    "\n",
    "#For each numeric variable display a boxplot\n",
    "for k in col_num :    \n",
    "    plt.subplot(6,1,j) \n",
    "    sns.boxplot(x=k, data=df);\n",
    "    j=j+1\n",
    "\n",
    "#Show results    \n",
    "plt.show()"
   ]
  },
  {
   "cell_type": "markdown",
   "metadata": {},
   "source": [
    "We see again that age and age_P are nearly identical.<br>\n",
    "LOR and lor_M are identical just with a different scale.<br>\n",
    "Turnover A and Turnover B have a lot of outliers."
   ]
  },
  {
   "cell_type": "markdown",
   "metadata": {},
   "source": [
    "Check the correlation matrix to see if any of the numeric values are highly correlated."
   ]
  },
  {
   "cell_type": "code",
   "execution_count": 14,
   "metadata": {},
   "outputs": [
    {
     "data": {
      "image/png": "[encoded data removed]",
      "text/plain": [
       "<Figure size 1440x1440 with 2 Axes>"
      ]
     },
     "metadata": {
      "needs_background": "light"
     },
     "output_type": "display_data"
    }
   ],
   "source": [
    "#Graph heat map for correlation\n",
    "corr_num=df[col_num].corr()\n",
    "fig = plt.figure(figsize=(20, 20))\n",
    "sns.heatmap(corr_num, annot=True);\n",
    "fig.suptitle('Correlation Matrix/Heat Map') \n",
    "plt.show()"
   ]
  },
  {
   "cell_type": "markdown",
   "metadata": {},
   "source": [
    "age and age_P are highly correlated.<br>\n",
    "LOR and lor_M are highly correlated.<br>\n",
    "This is what we expected after seeing our results for the histograms and boxplots."
   ]
  },
  {
   "cell_type": "markdown",
   "metadata": {},
   "source": [
    "Plot a bar chart for each of the categorical attributes."
   ]
  },
  {
   "cell_type": "code",
   "execution_count": 15,
   "metadata": {},
   "outputs": [
    {
     "data": {
      "image/png": "[encoded data removed]",
      "text/plain": [
       "<Figure size 1080x1440 with 8 Axes>"
      ]
     },
     "metadata": {
      "needs_background": "light"
     },
     "output_type": "display_data"
    }
   ],
   "source": [
    "#Use an index to identify the spot of the subplot\n",
    "j=1\n",
    "\n",
    "#For each categorical column \n",
    "for k in col_cat :   \n",
    "    plt.subplot(9,1,j) \n",
    "    df[k].value_counts().plot(kind='bar', color='green');\n",
    "    plt.title('%s' %k)\n",
    "    \n",
    "#Add 1 to go to the next subplot space\n",
    "    j=j+1 \n",
    "\n",
    "plt.tight_layout()\n",
    "\n",
    "#Show results    \n",
    "plt.show()"
   ]
  },
  {
   "cell_type": "markdown",
   "metadata": {},
   "source": [
    "1) The most common observation for TARGET (*attribute we intend to predict*) is N with ~57% No, ~43% Yes. <br>\n",
    "\n",
    "2) The most common observation for loyalty is 99 which means unclassified.<br>\n",
    "'99', the unclassified value, ~46% of the values<br>\n",
    "'3' = ~24% of the values<br>\n",
    "'2' = ~11% of the values<br>\n",
    "'1' = ~18% of the values<br>\n",
    "'0' = ~1% of the values<br>\n",
    "\n",
    "3) The most common observation for city is 2.  ~97.8% of values are of one particular city, a highly imbalanced class.<br>\n",
    "\n",
    "4) The most common observation for prod_A is 1 which means that product A was purchased. ~42% of values have bought product A, ~58% of values have not bought product A.<br>\n",
    "\n",
    "5) The most common observation for type_A is 3. ~58% of values are '3', ~42% of values are '0', ~0.2% of values are '6'.<br>\n",
    "\n",
    "6) The most common observation for prod_B is 1 which means that product B was purchased. ~65% of values have bought product B, ~35% of values have not bought product B.<br>\n",
    "\n",
    "7) The most common observation for type_B is 3. ~61% of values are '3', ~35% of values are '0', ~4% of values are '6', and ~0.3% of values are '9'.<br>\n",
    "\n",
    "8) Contract only contains the number 2.  We will drop this column from the data set since it is not predictive.<br>"
   ]
  },
  {
   "cell_type": "markdown",
   "metadata": {},
   "source": [
    "Let's take a closer look at city."
   ]
  },
  {
   "cell_type": "code",
   "execution_count": 16,
   "metadata": {},
   "outputs": [
    {
     "name": "stdout",
     "output_type": "stream",
     "text": [
      "2      13720\n",
      "1         28\n",
      "0         26\n",
      "8         21\n",
      "9         20\n",
      "       ...  \n",
      "141        1\n",
      "129        1\n",
      "197        1\n",
      "127        1\n",
      "126        1\n",
      "Name: city, Length: 65, dtype: int64\n"
     ]
    }
   ],
   "source": [
    "print(df['city'].value_counts())"
   ]
  },
  {
   "cell_type": "markdown",
   "metadata": {},
   "source": [
    "13,720 of the 14,016 rows have a city value of 2.  This is about 97.89% of our data.  We will drop the city column since it will not be predictive."
   ]
  },
  {
   "cell_type": "code",
   "execution_count": 17,
   "metadata": {},
   "outputs": [
    {
     "data": {
      "text/html": [
       "<div>\n",
       "<style scoped>\n",
       "    .dataframe tbody tr th:only-of-type {\n",
       "        vertical-align: middle;\n",
       "    }\n",
       "\n",
       "    .dataframe tbody tr th {\n",
       "        vertical-align: top;\n",
       "    }\n",
       "\n",
       "    .dataframe thead th {\n",
       "        text-align: right;\n",
       "    }\n",
       "</style>\n",
       "<table border=\"1\" class=\"dataframe\">\n",
       "  <thead>\n",
       "    <tr style=\"text-align: right;\">\n",
       "      <th></th>\n",
       "      <th>TARGET</th>\n",
       "      <th>loyalty</th>\n",
       "      <th>age</th>\n",
       "      <th>city</th>\n",
       "      <th>LOR</th>\n",
       "      <th>prod_A</th>\n",
       "      <th>type_A</th>\n",
       "      <th>type_B</th>\n",
       "      <th>prod_B</th>\n",
       "      <th>turnover_A</th>\n",
       "      <th>turnover_B</th>\n",
       "      <th>contract</th>\n",
       "      <th>age_P</th>\n",
       "      <th>lor_M</th>\n",
       "    </tr>\n",
       "  </thead>\n",
       "  <tbody>\n",
       "    <tr>\n",
       "      <th>10</th>\n",
       "      <td>1</td>\n",
       "      <td>99</td>\n",
       "      <td>23</td>\n",
       "      <td>2</td>\n",
       "      <td>0</td>\n",
       "      <td>0</td>\n",
       "      <td>0</td>\n",
       "      <td>0</td>\n",
       "      <td>0</td>\n",
       "      <td>344.970885</td>\n",
       "      <td>200.509497</td>\n",
       "      <td>2</td>\n",
       "      <td>23</td>\n",
       "      <td>3</td>\n",
       "    </tr>\n",
       "    <tr>\n",
       "      <th>18</th>\n",
       "      <td>1</td>\n",
       "      <td>99</td>\n",
       "      <td>23</td>\n",
       "      <td>2</td>\n",
       "      <td>0</td>\n",
       "      <td>0</td>\n",
       "      <td>0</td>\n",
       "      <td>0</td>\n",
       "      <td>0</td>\n",
       "      <td>391.468245</td>\n",
       "      <td>201.137168</td>\n",
       "      <td>2</td>\n",
       "      <td>23</td>\n",
       "      <td>3</td>\n",
       "    </tr>\n",
       "    <tr>\n",
       "      <th>22</th>\n",
       "      <td>1</td>\n",
       "      <td>99</td>\n",
       "      <td>23</td>\n",
       "      <td>2</td>\n",
       "      <td>0</td>\n",
       "      <td>0</td>\n",
       "      <td>0</td>\n",
       "      <td>0</td>\n",
       "      <td>0</td>\n",
       "      <td>482.088212</td>\n",
       "      <td>201.423182</td>\n",
       "      <td>2</td>\n",
       "      <td>23</td>\n",
       "      <td>3</td>\n",
       "    </tr>\n",
       "    <tr>\n",
       "      <th>49</th>\n",
       "      <td>1</td>\n",
       "      <td>99</td>\n",
       "      <td>23</td>\n",
       "      <td>2</td>\n",
       "      <td>0</td>\n",
       "      <td>0</td>\n",
       "      <td>0</td>\n",
       "      <td>0</td>\n",
       "      <td>0</td>\n",
       "      <td>312.372399</td>\n",
       "      <td>203.346010</td>\n",
       "      <td>2</td>\n",
       "      <td>23</td>\n",
       "      <td>3</td>\n",
       "    </tr>\n",
       "    <tr>\n",
       "      <th>52</th>\n",
       "      <td>1</td>\n",
       "      <td>99</td>\n",
       "      <td>23</td>\n",
       "      <td>2</td>\n",
       "      <td>0</td>\n",
       "      <td>0</td>\n",
       "      <td>0</td>\n",
       "      <td>0</td>\n",
       "      <td>0</td>\n",
       "      <td>391.856106</td>\n",
       "      <td>203.514047</td>\n",
       "      <td>2</td>\n",
       "      <td>23</td>\n",
       "      <td>3</td>\n",
       "    </tr>\n",
       "    <tr>\n",
       "      <th>...</th>\n",
       "      <td>...</td>\n",
       "      <td>...</td>\n",
       "      <td>...</td>\n",
       "      <td>...</td>\n",
       "      <td>...</td>\n",
       "      <td>...</td>\n",
       "      <td>...</td>\n",
       "      <td>...</td>\n",
       "      <td>...</td>\n",
       "      <td>...</td>\n",
       "      <td>...</td>\n",
       "      <td>...</td>\n",
       "      <td>...</td>\n",
       "      <td>...</td>\n",
       "    </tr>\n",
       "    <tr>\n",
       "      <th>13993</th>\n",
       "      <td>1</td>\n",
       "      <td>1</td>\n",
       "      <td>37</td>\n",
       "      <td>2</td>\n",
       "      <td>5</td>\n",
       "      <td>0</td>\n",
       "      <td>0</td>\n",
       "      <td>3</td>\n",
       "      <td>1</td>\n",
       "      <td>321.194326</td>\n",
       "      <td>287.000973</td>\n",
       "      <td>2</td>\n",
       "      <td>37</td>\n",
       "      <td>63</td>\n",
       "    </tr>\n",
       "    <tr>\n",
       "      <th>13997</th>\n",
       "      <td>1</td>\n",
       "      <td>1</td>\n",
       "      <td>42</td>\n",
       "      <td>2</td>\n",
       "      <td>5</td>\n",
       "      <td>0</td>\n",
       "      <td>0</td>\n",
       "      <td>3</td>\n",
       "      <td>1</td>\n",
       "      <td>381.976630</td>\n",
       "      <td>301.201941</td>\n",
       "      <td>2</td>\n",
       "      <td>42</td>\n",
       "      <td>63</td>\n",
       "    </tr>\n",
       "    <tr>\n",
       "      <th>14000</th>\n",
       "      <td>1</td>\n",
       "      <td>1</td>\n",
       "      <td>46</td>\n",
       "      <td>4</td>\n",
       "      <td>5</td>\n",
       "      <td>1</td>\n",
       "      <td>3</td>\n",
       "      <td>6</td>\n",
       "      <td>1</td>\n",
       "      <td>487.749644</td>\n",
       "      <td>4520.203788</td>\n",
       "      <td>2</td>\n",
       "      <td>46</td>\n",
       "      <td>63</td>\n",
       "    </tr>\n",
       "    <tr>\n",
       "      <th>14004</th>\n",
       "      <td>1</td>\n",
       "      <td>1</td>\n",
       "      <td>50</td>\n",
       "      <td>2</td>\n",
       "      <td>5</td>\n",
       "      <td>1</td>\n",
       "      <td>3</td>\n",
       "      <td>6</td>\n",
       "      <td>1</td>\n",
       "      <td>455.904742</td>\n",
       "      <td>436.696355</td>\n",
       "      <td>2</td>\n",
       "      <td>50</td>\n",
       "      <td>63</td>\n",
       "    </tr>\n",
       "    <tr>\n",
       "      <th>14013</th>\n",
       "      <td>1</td>\n",
       "      <td>1</td>\n",
       "      <td>61</td>\n",
       "      <td>2</td>\n",
       "      <td>5</td>\n",
       "      <td>0</td>\n",
       "      <td>0</td>\n",
       "      <td>3</td>\n",
       "      <td>1</td>\n",
       "      <td>300.557041</td>\n",
       "      <td>273.867660</td>\n",
       "      <td>2</td>\n",
       "      <td>61</td>\n",
       "      <td>63</td>\n",
       "    </tr>\n",
       "  </tbody>\n",
       "</table>\n",
       "<p>3008 rows × 14 columns</p>\n",
       "</div>"
      ],
      "text/plain": [
       "       TARGET  loyalty  age  city  LOR  prod_A  type_A  type_B  prod_B  \\\n",
       "10          1       99   23     2    0       0       0       0       0   \n",
       "18          1       99   23     2    0       0       0       0       0   \n",
       "22          1       99   23     2    0       0       0       0       0   \n",
       "49          1       99   23     2    0       0       0       0       0   \n",
       "52          1       99   23     2    0       0       0       0       0   \n",
       "...       ...      ...  ...   ...  ...     ...     ...     ...     ...   \n",
       "13993       1        1   37     2    5       0       0       3       1   \n",
       "13997       1        1   42     2    5       0       0       3       1   \n",
       "14000       1        1   46     4    5       1       3       6       1   \n",
       "14004       1        1   50     2    5       1       3       6       1   \n",
       "14013       1        1   61     2    5       0       0       3       1   \n",
       "\n",
       "       turnover_A   turnover_B  contract  age_P  lor_M  \n",
       "10     344.970885   200.509497         2     23      3  \n",
       "18     391.468245   201.137168         2     23      3  \n",
       "22     482.088212   201.423182         2     23      3  \n",
       "49     312.372399   203.346010         2     23      3  \n",
       "52     391.856106   203.514047         2     23      3  \n",
       "...           ...          ...       ...    ...    ...  \n",
       "13993  321.194326   287.000973         2     37     63  \n",
       "13997  381.976630   301.201941         2     42     63  \n",
       "14000  487.749644  4520.203788         2     46     63  \n",
       "14004  455.904742   436.696355         2     50     63  \n",
       "14013  300.557041   273.867660         2     61     63  \n",
       "\n",
       "[3008 rows x 14 columns]"
      ]
     },
     "execution_count": 17,
     "metadata": {},
     "output_type": "execute_result"
    }
   ],
   "source": [
    "#Check for duplicates\n",
    "df[df.duplicated()]"
   ]
  },
  {
   "cell_type": "markdown",
   "metadata": {},
   "source": [
    "In checking for duplicates, 3,008 duplicate rows were found.  We will need to delete the duplicates for an accurate analysis."
   ]
  },
  {
   "cell_type": "code",
   "execution_count": 18,
   "metadata": {},
   "outputs": [
    {
     "data": {
      "text/plain": [
       "11008"
      ]
     },
     "execution_count": 18,
     "metadata": {},
     "output_type": "execute_result"
    }
   ],
   "source": [
    "df = df.drop_duplicates()\n",
    "\n",
    "#Check to make sure the duplicates were dropped\n",
    "len(df)"
   ]
  },
  {
   "cell_type": "markdown",
   "metadata": {},
   "source": [
    "Our data set went from 14,016 rows to 11,008 rows after we removed the duplicates."
   ]
  },
  {
   "cell_type": "markdown",
   "metadata": {},
   "source": [
    "<b> Distribution of categorical variables (with more than 2 categories) vs frequency of TARGET<b>"
   ]
  },
  {
   "cell_type": "code",
   "execution_count": 19,
   "metadata": {},
   "outputs": [
    {
     "data": {
      "text/plain": [
       "Text(0, 0.5, 'Frequency of Purchase')"
      ]
     },
     "execution_count": 19,
     "metadata": {},
     "output_type": "execute_result"
    },
    {
     "data": {
      "image/png": "[encoded data removed]",
      "text/plain": [
       "<Figure size 432x288 with 1 Axes>"
      ]
     },
     "metadata": {
      "needs_background": "light"
     },
     "output_type": "display_data"
    }
   ],
   "source": [
    "%matplotlib inline\n",
    "pd.crosstab(df.loyalty,df.TARGET).plot(kind='bar')\n",
    "plt.title('Purchase Frequency by Loyalty')\n",
    "plt.xlabel('Loyalty')\n",
    "plt.ylabel('Frequency of Purchase')"
   ]
  },
  {
   "cell_type": "markdown",
   "metadata": {},
   "source": [
    "Very few people belong to the loyalty class of 0 and most are in the class 99 which is unclassified."
   ]
  },
  {
   "cell_type": "code",
   "execution_count": 20,
   "metadata": {},
   "outputs": [
    {
     "data": {
      "text/plain": [
       "Text(0, 0.5, 'Frequency of Purchase')"
      ]
     },
     "execution_count": 20,
     "metadata": {},
     "output_type": "execute_result"
    },
    {
     "data": {
      "image/png": "[encoded data removed]",
      "text/plain": [
       "<Figure size 432x288 with 1 Axes>"
      ]
     },
     "metadata": {
      "needs_background": "light"
     },
     "output_type": "display_data"
    }
   ],
   "source": [
    "pd.crosstab(df.type_A,df.TARGET).plot(kind='bar')\n",
    "plt.title('Purchase Frequency by type_A')\n",
    "plt.xlabel('type_A')\n",
    "plt.ylabel('Frequency of Purchase')"
   ]
  },
  {
   "cell_type": "markdown",
   "metadata": {},
   "source": [
    "Very few people belong to the type_A class of 6."
   ]
  },
  {
   "cell_type": "code",
   "execution_count": 21,
   "metadata": {},
   "outputs": [
    {
     "data": {
      "text/plain": [
       "Text(0, 0.5, 'Frequency of Purchase')"
      ]
     },
     "execution_count": 21,
     "metadata": {},
     "output_type": "execute_result"
    },
    {
     "data": {
      "image/png": "[encoded data removed]",
      "text/plain": [
       "<Figure size 432x288 with 1 Axes>"
      ]
     },
     "metadata": {
      "needs_background": "light"
     },
     "output_type": "display_data"
    }
   ],
   "source": [
    "pd.crosstab(df.type_B,df.TARGET).plot(kind='bar')\n",
    "plt.title('Purchase Frequency by type_B')\n",
    "plt.xlabel('type_B')\n",
    "plt.ylabel('Frequency of Purchase')"
   ]
  },
  {
   "cell_type": "markdown",
   "metadata": {},
   "source": [
    "Very few people belong to the type_B class 6 or 9."
   ]
  },
  {
   "cell_type": "markdown",
   "metadata": {},
   "source": [
    "<h3><b>Data Preparation</b></h3>"
   ]
  },
  {
   "cell_type": "markdown",
   "metadata": {},
   "source": [
    "Drop unnecessary columns from our data set.<br>\n",
    "Drop the city column because 97.89% of its values are 2.<br>\n",
    "Drop the contract column because it only contains the value 2. <br>\n",
    "These numbers are meaningless to our analysis so we will removed them from our data set.<br>\n",
    "\n",
    "Drop age_p as it is perfectly correlated with age.<br>\n",
    "Drop lor_M as it is perfectly correlated with LOR.<br>"
   ]
  },
  {
   "cell_type": "code",
   "execution_count": 22,
   "metadata": {},
   "outputs": [
    {
     "data": {
      "text/html": [
       "<div>\n",
       "<style scoped>\n",
       "    .dataframe tbody tr th:only-of-type {\n",
       "        vertical-align: middle;\n",
       "    }\n",
       "\n",
       "    .dataframe tbody tr th {\n",
       "        vertical-align: top;\n",
       "    }\n",
       "\n",
       "    .dataframe thead th {\n",
       "        text-align: right;\n",
       "    }\n",
       "</style>\n",
       "<table border=\"1\" class=\"dataframe\">\n",
       "  <thead>\n",
       "    <tr style=\"text-align: right;\">\n",
       "      <th></th>\n",
       "      <th>TARGET</th>\n",
       "      <th>loyalty</th>\n",
       "      <th>age</th>\n",
       "      <th>LOR</th>\n",
       "      <th>prod_A</th>\n",
       "      <th>type_A</th>\n",
       "      <th>type_B</th>\n",
       "      <th>prod_B</th>\n",
       "      <th>turnover_A</th>\n",
       "      <th>turnover_B</th>\n",
       "    </tr>\n",
       "  </thead>\n",
       "  <tbody>\n",
       "    <tr>\n",
       "      <th>0</th>\n",
       "      <td>0</td>\n",
       "      <td>99</td>\n",
       "      <td>11</td>\n",
       "      <td>0</td>\n",
       "      <td>0</td>\n",
       "      <td>0</td>\n",
       "      <td>0</td>\n",
       "      <td>0</td>\n",
       "      <td>357.339500</td>\n",
       "      <td>249.741496</td>\n",
       "    </tr>\n",
       "    <tr>\n",
       "      <th>1</th>\n",
       "      <td>0</td>\n",
       "      <td>99</td>\n",
       "      <td>13</td>\n",
       "      <td>0</td>\n",
       "      <td>0</td>\n",
       "      <td>0</td>\n",
       "      <td>0</td>\n",
       "      <td>0</td>\n",
       "      <td>351.427321</td>\n",
       "      <td>227.079688</td>\n",
       "    </tr>\n",
       "    <tr>\n",
       "      <th>2</th>\n",
       "      <td>0</td>\n",
       "      <td>99</td>\n",
       "      <td>14</td>\n",
       "      <td>0</td>\n",
       "      <td>0</td>\n",
       "      <td>0</td>\n",
       "      <td>0</td>\n",
       "      <td>0</td>\n",
       "      <td>345.609148</td>\n",
       "      <td>203.250249</td>\n",
       "    </tr>\n",
       "    <tr>\n",
       "      <th>3</th>\n",
       "      <td>0</td>\n",
       "      <td>99</td>\n",
       "      <td>22</td>\n",
       "      <td>0</td>\n",
       "      <td>0</td>\n",
       "      <td>0</td>\n",
       "      <td>0</td>\n",
       "      <td>0</td>\n",
       "      <td>398.448554</td>\n",
       "      <td>218.960897</td>\n",
       "    </tr>\n",
       "    <tr>\n",
       "      <th>4</th>\n",
       "      <td>0</td>\n",
       "      <td>99</td>\n",
       "      <td>22</td>\n",
       "      <td>0</td>\n",
       "      <td>0</td>\n",
       "      <td>0</td>\n",
       "      <td>0</td>\n",
       "      <td>0</td>\n",
       "      <td>355.744324</td>\n",
       "      <td>231.921720</td>\n",
       "    </tr>\n",
       "  </tbody>\n",
       "</table>\n",
       "</div>"
      ],
      "text/plain": [
       "   TARGET  loyalty  age  LOR  prod_A  type_A  type_B  prod_B  turnover_A  \\\n",
       "0       0       99   11    0       0       0       0       0  357.339500   \n",
       "1       0       99   13    0       0       0       0       0  351.427321   \n",
       "2       0       99   14    0       0       0       0       0  345.609148   \n",
       "3       0       99   22    0       0       0       0       0  398.448554   \n",
       "4       0       99   22    0       0       0       0       0  355.744324   \n",
       "\n",
       "   turnover_B  \n",
       "0  249.741496  \n",
       "1  227.079688  \n",
       "2  203.250249  \n",
       "3  218.960897  \n",
       "4  231.921720  "
      ]
     },
     "execution_count": 22,
     "metadata": {},
     "output_type": "execute_result"
    }
   ],
   "source": [
    "#Drop the city, contract, age_p, and lor_M columns.\n",
    "df2 = df.drop(df.columns[[3, 11, 12, 13]], axis=1)\n",
    "\n",
    "#View the data frame to ensure that the columns were removed\n",
    "df2.head()"
   ]
  },
  {
   "cell_type": "code",
   "execution_count": 23,
   "metadata": {},
   "outputs": [
    {
     "data": {
      "text/html": [
       "<div>\n",
       "<style scoped>\n",
       "    .dataframe tbody tr th:only-of-type {\n",
       "        vertical-align: middle;\n",
       "    }\n",
       "\n",
       "    .dataframe tbody tr th {\n",
       "        vertical-align: top;\n",
       "    }\n",
       "\n",
       "    .dataframe thead th {\n",
       "        text-align: right;\n",
       "    }\n",
       "</style>\n",
       "<table border=\"1\" class=\"dataframe\">\n",
       "  <thead>\n",
       "    <tr style=\"text-align: right;\">\n",
       "      <th></th>\n",
       "      <th>loyalty</th>\n",
       "      <th>age</th>\n",
       "      <th>LOR</th>\n",
       "      <th>prod_A</th>\n",
       "      <th>type_A</th>\n",
       "      <th>type_B</th>\n",
       "      <th>prod_B</th>\n",
       "      <th>turnover_A</th>\n",
       "      <th>turnover_B</th>\n",
       "    </tr>\n",
       "    <tr>\n",
       "      <th>TARGET</th>\n",
       "      <th></th>\n",
       "      <th></th>\n",
       "      <th></th>\n",
       "      <th></th>\n",
       "      <th></th>\n",
       "      <th></th>\n",
       "      <th></th>\n",
       "      <th></th>\n",
       "      <th></th>\n",
       "    </tr>\n",
       "  </thead>\n",
       "  <tbody>\n",
       "    <tr>\n",
       "      <th>0</th>\n",
       "      <td>39.791625</td>\n",
       "      <td>33.027125</td>\n",
       "      <td>1.081375</td>\n",
       "      <td>0.673000</td>\n",
       "      <td>2.025000</td>\n",
       "      <td>2.411625</td>\n",
       "      <td>0.74475</td>\n",
       "      <td>360.368141</td>\n",
       "      <td>371.263176</td>\n",
       "    </tr>\n",
       "    <tr>\n",
       "      <th>1</th>\n",
       "      <td>64.464428</td>\n",
       "      <td>39.680519</td>\n",
       "      <td>0.720080</td>\n",
       "      <td>0.348737</td>\n",
       "      <td>1.053191</td>\n",
       "      <td>1.263630</td>\n",
       "      <td>0.40625</td>\n",
       "      <td>404.152250</td>\n",
       "      <td>271.932769</td>\n",
       "    </tr>\n",
       "  </tbody>\n",
       "</table>\n",
       "</div>"
      ],
      "text/plain": [
       "          loyalty        age       LOR    prod_A    type_A    type_B   prod_B  \\\n",
       "TARGET                                                                          \n",
       "0       39.791625  33.027125  1.081375  0.673000  2.025000  2.411625  0.74475   \n",
       "1       64.464428  39.680519  0.720080  0.348737  1.053191  1.263630  0.40625   \n",
       "\n",
       "        turnover_A  turnover_B  \n",
       "TARGET                          \n",
       "0       360.368141  371.263176  \n",
       "1       404.152250  271.932769  "
      ]
     },
     "execution_count": 23,
     "metadata": {},
     "output_type": "execute_result"
    }
   ],
   "source": [
    "df2.groupby('TARGET').mean()"
   ]
  },
  {
   "cell_type": "markdown",
   "metadata": {},
   "source": [
    "We see that on average, people who purchase an additional insurance product are a bit older, length of relationship is shorter, they spent more on prod A and less on prod B.\n",
    "\n",
    "For people who do not purchase an additional insurance product, on average they are a bit younger, the length of relationship is longer, they spend more on prod_B and less on prod_A."
   ]
  },
  {
   "cell_type": "markdown",
   "metadata": {},
   "source": [
    "Create dummy variables for categorial variables."
   ]
  },
  {
   "cell_type": "code",
   "execution_count": 24,
   "metadata": {},
   "outputs": [
    {
     "data": {
      "text/html": [
       "<div>\n",
       "<style scoped>\n",
       "    .dataframe tbody tr th:only-of-type {\n",
       "        vertical-align: middle;\n",
       "    }\n",
       "\n",
       "    .dataframe tbody tr th {\n",
       "        vertical-align: top;\n",
       "    }\n",
       "\n",
       "    .dataframe thead th {\n",
       "        text-align: right;\n",
       "    }\n",
       "</style>\n",
       "<table border=\"1\" class=\"dataframe\">\n",
       "  <thead>\n",
       "    <tr style=\"text-align: right;\">\n",
       "      <th></th>\n",
       "      <th>loyalty_0</th>\n",
       "      <th>loyalty_1</th>\n",
       "      <th>loyalty_2</th>\n",
       "      <th>loyalty_3</th>\n",
       "      <th>loyalty_99</th>\n",
       "    </tr>\n",
       "  </thead>\n",
       "  <tbody>\n",
       "    <tr>\n",
       "      <th>0</th>\n",
       "      <td>0</td>\n",
       "      <td>0</td>\n",
       "      <td>0</td>\n",
       "      <td>0</td>\n",
       "      <td>1</td>\n",
       "    </tr>\n",
       "    <tr>\n",
       "      <th>1</th>\n",
       "      <td>0</td>\n",
       "      <td>0</td>\n",
       "      <td>0</td>\n",
       "      <td>0</td>\n",
       "      <td>1</td>\n",
       "    </tr>\n",
       "    <tr>\n",
       "      <th>2</th>\n",
       "      <td>0</td>\n",
       "      <td>0</td>\n",
       "      <td>0</td>\n",
       "      <td>0</td>\n",
       "      <td>1</td>\n",
       "    </tr>\n",
       "    <tr>\n",
       "      <th>3</th>\n",
       "      <td>0</td>\n",
       "      <td>0</td>\n",
       "      <td>0</td>\n",
       "      <td>0</td>\n",
       "      <td>1</td>\n",
       "    </tr>\n",
       "    <tr>\n",
       "      <th>4</th>\n",
       "      <td>0</td>\n",
       "      <td>0</td>\n",
       "      <td>0</td>\n",
       "      <td>0</td>\n",
       "      <td>1</td>\n",
       "    </tr>\n",
       "  </tbody>\n",
       "</table>\n",
       "</div>"
      ],
      "text/plain": [
       "   loyalty_0  loyalty_1  loyalty_2  loyalty_3  loyalty_99\n",
       "0          0          0          0          0           1\n",
       "1          0          0          0          0           1\n",
       "2          0          0          0          0           1\n",
       "3          0          0          0          0           1\n",
       "4          0          0          0          0           1"
      ]
     },
     "execution_count": 24,
     "metadata": {},
     "output_type": "execute_result"
    }
   ],
   "source": [
    "#Get dummies\n",
    "categorical_dummy=pd.get_dummies(df.loyalty, drop_first = False)\n",
    "\n",
    "#Rename columns\n",
    "categorical_dummy.columns = ['loyalty_0', 'loyalty_1', 'loyalty_2', 'loyalty_3','loyalty_99']\n",
    "\n",
    "#Display first 5 rows\n",
    "categorical_dummy.head()"
   ]
  },
  {
   "cell_type": "code",
   "execution_count": 25,
   "metadata": {},
   "outputs": [
    {
     "data": {
      "text/html": [
       "<div>\n",
       "<style scoped>\n",
       "    .dataframe tbody tr th:only-of-type {\n",
       "        vertical-align: middle;\n",
       "    }\n",
       "\n",
       "    .dataframe tbody tr th {\n",
       "        vertical-align: top;\n",
       "    }\n",
       "\n",
       "    .dataframe thead th {\n",
       "        text-align: right;\n",
       "    }\n",
       "</style>\n",
       "<table border=\"1\" class=\"dataframe\">\n",
       "  <thead>\n",
       "    <tr style=\"text-align: right;\">\n",
       "      <th></th>\n",
       "      <th>typeA_0</th>\n",
       "      <th>typeA_3</th>\n",
       "      <th>typeA_6</th>\n",
       "    </tr>\n",
       "  </thead>\n",
       "  <tbody>\n",
       "    <tr>\n",
       "      <th>0</th>\n",
       "      <td>1</td>\n",
       "      <td>0</td>\n",
       "      <td>0</td>\n",
       "    </tr>\n",
       "    <tr>\n",
       "      <th>1</th>\n",
       "      <td>1</td>\n",
       "      <td>0</td>\n",
       "      <td>0</td>\n",
       "    </tr>\n",
       "    <tr>\n",
       "      <th>2</th>\n",
       "      <td>1</td>\n",
       "      <td>0</td>\n",
       "      <td>0</td>\n",
       "    </tr>\n",
       "    <tr>\n",
       "      <th>3</th>\n",
       "      <td>1</td>\n",
       "      <td>0</td>\n",
       "      <td>0</td>\n",
       "    </tr>\n",
       "    <tr>\n",
       "      <th>4</th>\n",
       "      <td>1</td>\n",
       "      <td>0</td>\n",
       "      <td>0</td>\n",
       "    </tr>\n",
       "  </tbody>\n",
       "</table>\n",
       "</div>"
      ],
      "text/plain": [
       "   typeA_0  typeA_3  typeA_6\n",
       "0        1        0        0\n",
       "1        1        0        0\n",
       "2        1        0        0\n",
       "3        1        0        0\n",
       "4        1        0        0"
      ]
     },
     "execution_count": 25,
     "metadata": {},
     "output_type": "execute_result"
    }
   ],
   "source": [
    "#Get dummies\n",
    "categorical_dummy2=pd.get_dummies(df.type_A, drop_first = False)\n",
    "\n",
    "#Rename columns\n",
    "categorical_dummy2.columns = ['typeA_0', 'typeA_3', 'typeA_6']\n",
    "\n",
    "#Display first 5 rows\n",
    "categorical_dummy2.head()"
   ]
  },
  {
   "cell_type": "code",
   "execution_count": 26,
   "metadata": {},
   "outputs": [
    {
     "data": {
      "text/html": [
       "<div>\n",
       "<style scoped>\n",
       "    .dataframe tbody tr th:only-of-type {\n",
       "        vertical-align: middle;\n",
       "    }\n",
       "\n",
       "    .dataframe tbody tr th {\n",
       "        vertical-align: top;\n",
       "    }\n",
       "\n",
       "    .dataframe thead th {\n",
       "        text-align: right;\n",
       "    }\n",
       "</style>\n",
       "<table border=\"1\" class=\"dataframe\">\n",
       "  <thead>\n",
       "    <tr style=\"text-align: right;\">\n",
       "      <th></th>\n",
       "      <th>typeB_0</th>\n",
       "      <th>typeB_3</th>\n",
       "      <th>typeB_6</th>\n",
       "      <th>typeB_9</th>\n",
       "    </tr>\n",
       "  </thead>\n",
       "  <tbody>\n",
       "    <tr>\n",
       "      <th>0</th>\n",
       "      <td>1</td>\n",
       "      <td>0</td>\n",
       "      <td>0</td>\n",
       "      <td>0</td>\n",
       "    </tr>\n",
       "    <tr>\n",
       "      <th>1</th>\n",
       "      <td>1</td>\n",
       "      <td>0</td>\n",
       "      <td>0</td>\n",
       "      <td>0</td>\n",
       "    </tr>\n",
       "    <tr>\n",
       "      <th>2</th>\n",
       "      <td>1</td>\n",
       "      <td>0</td>\n",
       "      <td>0</td>\n",
       "      <td>0</td>\n",
       "    </tr>\n",
       "    <tr>\n",
       "      <th>3</th>\n",
       "      <td>1</td>\n",
       "      <td>0</td>\n",
       "      <td>0</td>\n",
       "      <td>0</td>\n",
       "    </tr>\n",
       "    <tr>\n",
       "      <th>4</th>\n",
       "      <td>1</td>\n",
       "      <td>0</td>\n",
       "      <td>0</td>\n",
       "      <td>0</td>\n",
       "    </tr>\n",
       "  </tbody>\n",
       "</table>\n",
       "</div>"
      ],
      "text/plain": [
       "   typeB_0  typeB_3  typeB_6  typeB_9\n",
       "0        1        0        0        0\n",
       "1        1        0        0        0\n",
       "2        1        0        0        0\n",
       "3        1        0        0        0\n",
       "4        1        0        0        0"
      ]
     },
     "execution_count": 26,
     "metadata": {},
     "output_type": "execute_result"
    }
   ],
   "source": [
    "#Get dummies\n",
    "categorical_dummy3=pd.get_dummies(df.type_B, drop_first = False)\n",
    "\n",
    "#Rename columns\n",
    "categorical_dummy3.columns = ['typeB_0', 'typeB_3', 'typeB_6', 'typeB_9']\n",
    "\n",
    "#Display first 5 rows\n",
    "categorical_dummy3.head()"
   ]
  },
  {
   "cell_type": "code",
   "execution_count": 27,
   "metadata": {},
   "outputs": [
    {
     "data": {
      "text/html": [
       "<div>\n",
       "<style scoped>\n",
       "    .dataframe tbody tr th:only-of-type {\n",
       "        vertical-align: middle;\n",
       "    }\n",
       "\n",
       "    .dataframe tbody tr th {\n",
       "        vertical-align: top;\n",
       "    }\n",
       "\n",
       "    .dataframe thead th {\n",
       "        text-align: right;\n",
       "    }\n",
       "</style>\n",
       "<table border=\"1\" class=\"dataframe\">\n",
       "  <thead>\n",
       "    <tr style=\"text-align: right;\">\n",
       "      <th></th>\n",
       "      <th>TARGET</th>\n",
       "      <th>age</th>\n",
       "      <th>LOR</th>\n",
       "      <th>prod_A</th>\n",
       "      <th>prod_B</th>\n",
       "      <th>turnover_A</th>\n",
       "      <th>turnover_B</th>\n",
       "      <th>loyalty_1</th>\n",
       "      <th>loyalty_2</th>\n",
       "      <th>loyalty_3</th>\n",
       "      <th>loyalty_99</th>\n",
       "      <th>typeA_0</th>\n",
       "      <th>typeA_3</th>\n",
       "      <th>typeB_0</th>\n",
       "      <th>typeB_3</th>\n",
       "      <th>typeB_6</th>\n",
       "    </tr>\n",
       "  </thead>\n",
       "  <tbody>\n",
       "    <tr>\n",
       "      <th>0</th>\n",
       "      <td>0</td>\n",
       "      <td>11</td>\n",
       "      <td>0</td>\n",
       "      <td>0</td>\n",
       "      <td>0</td>\n",
       "      <td>357.339500</td>\n",
       "      <td>249.741496</td>\n",
       "      <td>0</td>\n",
       "      <td>0</td>\n",
       "      <td>0</td>\n",
       "      <td>1</td>\n",
       "      <td>1</td>\n",
       "      <td>0</td>\n",
       "      <td>1</td>\n",
       "      <td>0</td>\n",
       "      <td>0</td>\n",
       "    </tr>\n",
       "    <tr>\n",
       "      <th>1</th>\n",
       "      <td>0</td>\n",
       "      <td>13</td>\n",
       "      <td>0</td>\n",
       "      <td>0</td>\n",
       "      <td>0</td>\n",
       "      <td>351.427321</td>\n",
       "      <td>227.079688</td>\n",
       "      <td>0</td>\n",
       "      <td>0</td>\n",
       "      <td>0</td>\n",
       "      <td>1</td>\n",
       "      <td>1</td>\n",
       "      <td>0</td>\n",
       "      <td>1</td>\n",
       "      <td>0</td>\n",
       "      <td>0</td>\n",
       "    </tr>\n",
       "    <tr>\n",
       "      <th>2</th>\n",
       "      <td>0</td>\n",
       "      <td>14</td>\n",
       "      <td>0</td>\n",
       "      <td>0</td>\n",
       "      <td>0</td>\n",
       "      <td>345.609148</td>\n",
       "      <td>203.250249</td>\n",
       "      <td>0</td>\n",
       "      <td>0</td>\n",
       "      <td>0</td>\n",
       "      <td>1</td>\n",
       "      <td>1</td>\n",
       "      <td>0</td>\n",
       "      <td>1</td>\n",
       "      <td>0</td>\n",
       "      <td>0</td>\n",
       "    </tr>\n",
       "    <tr>\n",
       "      <th>3</th>\n",
       "      <td>0</td>\n",
       "      <td>22</td>\n",
       "      <td>0</td>\n",
       "      <td>0</td>\n",
       "      <td>0</td>\n",
       "      <td>398.448554</td>\n",
       "      <td>218.960897</td>\n",
       "      <td>0</td>\n",
       "      <td>0</td>\n",
       "      <td>0</td>\n",
       "      <td>1</td>\n",
       "      <td>1</td>\n",
       "      <td>0</td>\n",
       "      <td>1</td>\n",
       "      <td>0</td>\n",
       "      <td>0</td>\n",
       "    </tr>\n",
       "    <tr>\n",
       "      <th>4</th>\n",
       "      <td>0</td>\n",
       "      <td>22</td>\n",
       "      <td>0</td>\n",
       "      <td>0</td>\n",
       "      <td>0</td>\n",
       "      <td>355.744324</td>\n",
       "      <td>231.921720</td>\n",
       "      <td>0</td>\n",
       "      <td>0</td>\n",
       "      <td>0</td>\n",
       "      <td>1</td>\n",
       "      <td>1</td>\n",
       "      <td>0</td>\n",
       "      <td>1</td>\n",
       "      <td>0</td>\n",
       "      <td>0</td>\n",
       "    </tr>\n",
       "  </tbody>\n",
       "</table>\n",
       "</div>"
      ],
      "text/plain": [
       "   TARGET  age  LOR  prod_A  prod_B  turnover_A  turnover_B  loyalty_1  \\\n",
       "0       0   11    0       0       0  357.339500  249.741496          0   \n",
       "1       0   13    0       0       0  351.427321  227.079688          0   \n",
       "2       0   14    0       0       0  345.609148  203.250249          0   \n",
       "3       0   22    0       0       0  398.448554  218.960897          0   \n",
       "4       0   22    0       0       0  355.744324  231.921720          0   \n",
       "\n",
       "   loyalty_2  loyalty_3  loyalty_99  typeA_0  typeA_3  typeB_0  typeB_3  \\\n",
       "0          0          0           1        1        0        1        0   \n",
       "1          0          0           1        1        0        1        0   \n",
       "2          0          0           1        1        0        1        0   \n",
       "3          0          0           1        1        0        1        0   \n",
       "4          0          0           1        1        0        1        0   \n",
       "\n",
       "   typeB_6  \n",
       "0        0  \n",
       "1        0  \n",
       "2        0  \n",
       "3        0  \n",
       "4        0  "
      ]
     },
     "execution_count": 27,
     "metadata": {},
     "output_type": "execute_result"
    }
   ],
   "source": [
    "#Concatenate the data frame with the dummies\n",
    "df2 = pd.concat([df2, categorical_dummy, categorical_dummy2, categorical_dummy3], axis=1)\n",
    "\n",
    "#Drop the columns that were converted to dummies.\n",
    "#Dummy variable encoding always represents C categories with C-1 binary variables so also drop loyalty_0, typeA_0 and \n",
    "#typeB_0.\n",
    "#Source: https://machinelearningmastery.com/one-hot-encoding-for-categorical-data/\n",
    "df3 = df2.drop(['loyalty', 'loyalty_0', 'type_A', 'typeA_6', 'type_B', 'typeB_9'], axis=1)\n",
    "\n",
    "#Check results\n",
    "df3.head()"
   ]
  },
  {
   "cell_type": "markdown",
   "metadata": {},
   "source": [
    "<h3><b>Prepped Data Review</b></h3>"
   ]
  },
  {
   "cell_type": "markdown",
   "metadata": {},
   "source": [
    "Since we deleted duplicates, deleted some columns, and added others. Let's look at our EDA again."
   ]
  },
  {
   "cell_type": "code",
   "execution_count": 28,
   "metadata": {},
   "outputs": [
    {
     "name": "stdout",
     "output_type": "stream",
     "text": [
      "# of numerical attributes:4\n",
      "# of categorical attributes:12\n"
     ]
    }
   ],
   "source": [
    "#Create lists of numerical and categorical attributes\n",
    "\n",
    "col_cat2=['TARGET', 'loyalty_1', 'loyalty_2', 'loyalty_3','loyalty_99', 'prod_A', 'typeA_0', \n",
    "          'typeA_3', 'prod_B', 'typeB_0', 'typeB_3', 'typeB_6']\n",
    "\n",
    "col_num2=['age', 'LOR', 'turnover_A', 'turnover_B']\n",
    "\n",
    "print(\"# of numerical attributes:%s\" %len(col_num2))\n",
    "print(\"# of categorical attributes:%s\" %len(col_cat2))"
   ]
  },
  {
   "cell_type": "markdown",
   "metadata": {},
   "source": [
    "We went from 6 numerical attributes to 4 and 8 categorical attributes to 12."
   ]
  },
  {
   "cell_type": "markdown",
   "metadata": {},
   "source": [
    "Look at how the histograms to see how the numerical values have changed."
   ]
  },
  {
   "cell_type": "code",
   "execution_count": 29,
   "metadata": {},
   "outputs": [
    {
     "data": {
      "image/png": "[encoded data removed]",
      "text/plain": [
       "<Figure size 1080x1440 with 4 Axes>"
      ]
     },
     "metadata": {
      "needs_background": "light"
     },
     "output_type": "display_data"
    }
   ],
   "source": [
    "#Set plot parameters\n",
    "plt.rcParams.update({'font.size': 12,'figure.figsize':(15,20)}) \n",
    "\n",
    "#Ignore warnings\n",
    "np.warnings.filterwarnings('ignore')\n",
    "\n",
    "#Use an index to identify the spot of the subplot\n",
    "j=1\n",
    "\n",
    "#For each numerical column \n",
    "for k in col_num2 :   \n",
    "    plt.subplot(4,2,j) \n",
    "    plt.hist(df3[k])\n",
    "    plt.title('%s' %k)\n",
    "    j=j+1 \n",
    "\n",
    "plt.tight_layout()\n",
    "\n",
    "#Show results    \n",
    "plt.show()"
   ]
  },
  {
   "cell_type": "markdown",
   "metadata": {},
   "source": [
    "1) age has 86 unique values with a mode of 23, a median of 31, and a mean of 35.  The mode did not change but the median decreased from 33 to 31 and the mean decreased from 36 to 35.  The histogram is right-skewed.<br>\n",
    "2) LOR has 7 unique values with a mode of 1, a median of 1, and a mean of 0.98.  The mode and median stayed the same, but the mean increased slightly from 0.93 to 0.98. <br>\n",
    "3) turnover_A has 11,008 unique values with no unique mode, a median of 361.93, and a mean of 372.33. The median decreased from 367.89 to 361.93 and the mean decreased from 379.16 to 372.33.<br>\n",
    "4) turnover_B has 11,008 unique values with no unique mode, a median of 235.08, and a mean of 344.12. The median decreased from 237.66 to 235.08 and the mean increased from 328.63 to 344.12.<br>"
   ]
  },
  {
   "cell_type": "markdown",
   "metadata": {},
   "source": [
    "Let's look at the outliers of the numerical data to see how it's changed."
   ]
  },
  {
   "cell_type": "code",
   "execution_count": 30,
   "metadata": {},
   "outputs": [
    {
     "data": {
      "image/png": "[encoded data removed]",
      "text/plain": [
       "<Figure size 1440x2880 with 4 Axes>"
      ]
     },
     "metadata": {
      "needs_background": "light"
     },
     "output_type": "display_data"
    }
   ],
   "source": [
    "#Define a figure to which we will add a boxplot for each of our attributes\n",
    "plt.figure(figsize=(20,40))\n",
    "\n",
    "#Ignore warnings\n",
    "np.warnings.filterwarnings('ignore')\n",
    "\n",
    "#Use an index to identify the spot of the subplot\n",
    "j=1\n",
    "\n",
    "#For each numeric variable display a boxplot\n",
    "for k in col_num2 :    \n",
    "    plt.subplot(4,1,j) \n",
    "    sns.boxplot(x=k, data=df3);\n",
    "    j=j+1\n",
    "\n",
    "#Show results    \n",
    "plt.show()"
   ]
  },
  {
   "cell_type": "markdown",
   "metadata": {},
   "source": [
    "We have outliers with each of our variables, but it is the most extreme for turnover_A and turnover_B."
   ]
  },
  {
   "cell_type": "markdown",
   "metadata": {},
   "source": [
    "Check for independence between features."
   ]
  },
  {
   "cell_type": "code",
   "execution_count": 31,
   "metadata": {},
   "outputs": [
    {
     "data": {
      "image/png": "[encoded data removed]",
      "text/plain": [
       "<Figure size 1440x1440 with 2 Axes>"
      ]
     },
     "metadata": {
      "needs_background": "light"
     },
     "output_type": "display_data"
    }
   ],
   "source": [
    "#Graph heat map for correlation\n",
    "corr_num=df3[col_num2].corr()\n",
    "fig = plt.figure(figsize=(20, 20))\n",
    "sns.heatmap(corr_num, annot=True);\n",
    "fig.suptitle('Correlation Matrix/Heat Map') \n",
    "plt.show()"
   ]
  },
  {
   "cell_type": "markdown",
   "metadata": {},
   "source": [
    "The numeric variables show little correlation with each other."
   ]
  },
  {
   "cell_type": "markdown",
   "metadata": {},
   "source": [
    "Look at the box plots of the categorical variables to see how they have changed."
   ]
  },
  {
   "cell_type": "code",
   "execution_count": 32,
   "metadata": {},
   "outputs": [
    {
     "data": {
      "image/png": "[encoded data removed]",
      "text/plain": [
       "<Figure size 1152x1152 with 12 Axes>"
      ]
     },
     "metadata": {
      "needs_background": "light"
     },
     "output_type": "display_data"
    }
   ],
   "source": [
    "#Use an index to identify the spot of the subplot\n",
    "j=1\n",
    "\n",
    "#For each categorical column \n",
    "for k in col_cat2 :   \n",
    "    plt.subplot(8,2,j) \n",
    "    df3[k].value_counts().plot(kind='bar', color='green');\n",
    "    plt.title('%s' %k)\n",
    "    \n",
    "#Add 1 to go to the next subplot space\n",
    "    j=j+1\n",
    "    \n",
    "plt.gcf().set_size_inches(16, 16)\n",
    "\n",
    "#Show results    \n",
    "plt.show()"
   ]
  },
  {
   "cell_type": "markdown",
   "metadata": {},
   "source": [
    "**Percentage breakdown for categorical attributes is as follows:**\n",
    "\n",
    "**TARGET:**\n",
    "0 - ~73% of the values, 1 - ~27% of the values<br>\n",
    "**loyalty_1:**\n",
    "0 - ~82% of the values, 1 - ~18% of the values<br>\n",
    "**loyalty_2:**\n",
    "0 - ~89% of the values, 1 - ~11% of the values<br>\n",
    "**loyalty_3:**\n",
    "0 - ~75% of the values, 1 - ~25% of the values<br>\n",
    "**loyalty_99:**\n",
    "0 - ~54% of the values, 1 - ~46% of the values<br>\n",
    "**prod_A:**\n",
    "0 - ~42% of the values, 1 - ~58% of the values<br>\n",
    "**typeA_0:**\n",
    "0 - ~58% of the values, 1 - ~42% of the values<br>\n",
    "**typeA_3:**\n",
    "0 - ~42% of the values, 1 - ~58% of the values<br>\n",
    "**prod_B:**\n",
    "0 - ~35% of the values, 1 - ~65% of the values<br>\n",
    "**typeB_0:**\n",
    "0 - ~65% of the values, 1 - ~35% of the values<br>\n",
    "**typeB_3:**\n",
    "0 - ~39% of the values, 1 - ~61% of the values<br>\n",
    "**typeB_6:**\n",
    "0 - ~96% of the values, 1 - ~4% of the values<br>"
   ]
  },
  {
   "cell_type": "markdown",
   "metadata": {},
   "source": [
    "Check to see if the predictor variable, TARGET, is balanced."
   ]
  },
  {
   "cell_type": "code",
   "execution_count": 33,
   "metadata": {},
   "outputs": [
    {
     "data": {
      "text/plain": [
       "0    8000\n",
       "1    3008\n",
       "Name: TARGET, dtype: int64"
      ]
     },
     "execution_count": 33,
     "metadata": {},
     "output_type": "execute_result"
    }
   ],
   "source": [
    "df3['TARGET'].value_counts()"
   ]
  },
  {
   "cell_type": "code",
   "execution_count": 34,
   "metadata": {},
   "outputs": [
    {
     "data": {
      "image/png": "[encoded data removed]",
      "text/plain": [
       "<Figure size 360x360 with 1 Axes>"
      ]
     },
     "metadata": {
      "needs_background": "light"
     },
     "output_type": "display_data"
    }
   ],
   "source": [
    "plt.figure(figsize=(5,5))\n",
    "sns.countplot(x='TARGET', data=df3, palette='hls')\n",
    "plt.show()"
   ]
  },
  {
   "cell_type": "code",
   "execution_count": 35,
   "metadata": {},
   "outputs": [
    {
     "name": "stdout",
     "output_type": "stream",
     "text": [
      "% of no new product is purchased is 73\n",
      "% of yes a new product is purchased is 27\n"
     ]
    }
   ],
   "source": [
    "#Calculate the imbalance of TARGET\n",
    "count_no_prod2 = len(df3[df3['TARGET']==0])\n",
    "count_prod2 = len(df3[df3['TARGET']==1])\n",
    "pct_of_no_prod2 = count_no_prod2/(count_no_prod2 + count_prod2)\n",
    "print(\"% of no new product is purchased is\", round(pct_of_no_prod2 * 100))\n",
    "pct_of_prod2 = count_prod2/(count_no_prod2 + count_prod2)\n",
    "print(\"% of yes a new product is purchased is\", round(pct_of_prod2 * 100))"
   ]
  },
  {
   "cell_type": "markdown",
   "metadata": {},
   "source": [
    "After the duplicate rows were deleted, the classes of the TARGET variable became imbalanced.  We will need to keep this in mind when training and testing our models."
   ]
  },
  {
   "cell_type": "markdown",
   "metadata": {},
   "source": [
    "<b>Predictive Insights<b>"
   ]
  },
  {
   "cell_type": "markdown",
   "metadata": {},
   "source": [
    "Plot numerical values vs target to see if we can gain some predictive insights."
   ]
  },
  {
   "cell_type": "code",
   "execution_count": 36,
   "metadata": {},
   "outputs": [
    {
     "data": {
      "image/png": "[encoded data removed]",
      "text/plain": [
       "<Figure size 1080x5400 with 4 Axes>"
      ]
     },
     "metadata": {
      "needs_background": "light"
     },
     "output_type": "display_data"
    }
   ],
   "source": [
    "#Set plot parameters\n",
    "plt.rcParams.update({'font.size': 10,'figure.figsize':(15,75)}) \n",
    "\n",
    "#Use an index to identify the spot of the subplot\n",
    "j=1\n",
    "\n",
    "#For each categorical attribute\n",
    "for k in df3[col_num2].columns.to_list():    \n",
    "    plt.subplot(10,1,j) \n",
    "    sns.boxplot(data=df3, y=k, x='TARGET')\n",
    "    j=j+1\n",
    "\n",
    "plt.tight_layout()\n",
    "\n",
    "#Show results    \n",
    "plt.show()"
   ]
  },
  {
   "cell_type": "markdown",
   "metadata": {},
   "source": [
    "It seems that age, turnover_A, and turnover_B will be more predictive than LOR."
   ]
  },
  {
   "cell_type": "code",
   "execution_count": 37,
   "metadata": {},
   "outputs": [
    {
     "data": {
      "text/plain": [
       "[[(1102.8339097323103, 7.997446982518402e-242), 8],\n",
       " [(1102.8339097323103, 7.997446982518402e-242), 7],\n",
       " [(945.6020060693334, 1.198839772045794e-207), 6],\n",
       " [(945.0489278542645, 1.5812019055507576e-207), 5],\n",
       " [(945.0489278542645, 1.5812019055507576e-207), 4],\n",
       " [(810.9315410341604, 2.266560521021541e-178), 9],\n",
       " [(573.8826849863078, 8.030328831919668e-127), 3],\n",
       " [(337.4176978315813, 2.32946552637834e-75), 2],\n",
       " [(78.13947565224755, 9.601583081143522e-19), 10],\n",
       " [(32.0711491309731, 1.4862822215103112e-08), 1],\n",
       " [(24.85171762915519, 6.19138538725396e-07), 0]]"
      ]
     },
     "execution_count": 37,
     "metadata": {},
     "output_type": "execute_result"
    }
   ],
   "source": [
    "col_cat3=['loyalty_1', 'loyalty_2', 'loyalty_3', 'loyalty_99', 'prod_A', 'typeA_0', 'typeA_3', 'prod_B', 'typeB_0', \n",
    "          'typeB_3', 'typeB_6']\n",
    "\n",
    "#Import stats module to perform chi-square\n",
    "from scipy import stats\n",
    "\n",
    "#Perform chi-square test\n",
    "chi_sq=[]\n",
    "for i in range(0,11):\n",
    "    chi_sq.append([stats.chi2_contingency(pd.crosstab(df3['TARGET'], df3[col_cat3].iloc[:,i]))[0:2],i])\n",
    "    \n",
    "#Chi_sq\n",
    "chi_sq.sort(reverse=True)\n",
    "chi_sq"
   ]
  },
  {
   "cell_type": "markdown",
   "metadata": {},
   "source": [
    "The chi-square test tells us the following columns should be the most significant categorical columns to include in our analysis:<br>\n",
    "Column 8 - typeB_0 <br>\n",
    "Column 7 - prod_B <br>\n",
    "Column 6 - typeA_3 <br>\n",
    "Column 5 - typeA_0 <br>\n",
    "Column 4 - prod_A <br>"
   ]
  },
  {
   "cell_type": "markdown",
   "metadata": {},
   "source": [
    "<h3><b>Regression Modeling</b></h3>"
   ]
  },
  {
   "cell_type": "markdown",
   "metadata": {},
   "source": [
    "<b> Model 1<b>"
   ]
  },
  {
   "cell_type": "code",
   "execution_count": 38,
   "metadata": {},
   "outputs": [
    {
     "data": {
      "text/plain": [
       "LogisticRegression()"
      ]
     },
     "execution_count": 38,
     "metadata": {},
     "output_type": "execute_result"
    }
   ],
   "source": [
    "#Define a vector containing the names of the attributes to use\n",
    "predictors = ['age', 'typeB_0', 'prod_B'] \n",
    "\n",
    "X1 = df3[predictors]\n",
    "y1 = df3.TARGET\n",
    "\n",
    "#Use 33% data to train \n",
    "#Use random state number 20 to make sure result is fixed \n",
    "X_train, X_test, y_train, y_test = train_test_split(X1, y1, test_size=0.33, random_state=20)\n",
    "\n",
    "#Define the model type as logistic regression\n",
    "model = LogisticRegression()\n",
    "\n",
    "#Train the algorithm\n",
    "model.fit(X_train, y_train)"
   ]
  },
  {
   "cell_type": "markdown",
   "metadata": {},
   "source": [
    "#### Calculate null error rate"
   ]
  },
  {
   "cell_type": "code",
   "execution_count": 39,
   "metadata": {},
   "outputs": [
    {
     "data": {
      "text/plain": [
       "0.7292203389830508"
      ]
     },
     "execution_count": 39,
     "metadata": {},
     "output_type": "execute_result"
    }
   ],
   "source": [
    "#Training null error rate\n",
    "training1_NRE = y_train.value_counts()[1]/(y_train.value_counts()[0] + y_train.value_counts()[1])\n",
    "Null_Error_Rate= 1 - training1_NRE\n",
    "Null_Error_Rate"
   ]
  },
  {
   "cell_type": "code",
   "execution_count": 40,
   "metadata": {},
   "outputs": [
    {
     "data": {
      "text/plain": [
       "0.7572881355932204"
      ]
     },
     "execution_count": 40,
     "metadata": {},
     "output_type": "execute_result"
    }
   ],
   "source": [
    "model.score(X_train, y_train)"
   ]
  },
  {
   "cell_type": "markdown",
   "metadata": {},
   "source": [
    "Model 1's accuracy score of 75.7% seems good but our null error rate is 72.9% so it's not that much better."
   ]
  },
  {
   "cell_type": "code",
   "execution_count": 41,
   "metadata": {},
   "outputs": [
    {
     "data": {
      "text/html": [
       "<div>\n",
       "<style scoped>\n",
       "    .dataframe tbody tr th:only-of-type {\n",
       "        vertical-align: middle;\n",
       "    }\n",
       "\n",
       "    .dataframe tbody tr th {\n",
       "        vertical-align: top;\n",
       "    }\n",
       "\n",
       "    .dataframe thead th {\n",
       "        text-align: right;\n",
       "    }\n",
       "</style>\n",
       "<table border=\"1\" class=\"dataframe\">\n",
       "  <thead>\n",
       "    <tr style=\"text-align: right;\">\n",
       "      <th></th>\n",
       "      <th>0</th>\n",
       "      <th>1</th>\n",
       "    </tr>\n",
       "  </thead>\n",
       "  <tbody>\n",
       "    <tr>\n",
       "      <th>0</th>\n",
       "      <td>age</td>\n",
       "      <td>[0.03970971221643942]</td>\n",
       "    </tr>\n",
       "    <tr>\n",
       "      <th>1</th>\n",
       "      <td>typeB_0</td>\n",
       "      <td>[-0.021184182823591406]</td>\n",
       "    </tr>\n",
       "    <tr>\n",
       "      <th>2</th>\n",
       "      <td>prod_B</td>\n",
       "      <td>[-1.5078552633139575]</td>\n",
       "    </tr>\n",
       "  </tbody>\n",
       "</table>\n",
       "</div>"
      ],
      "text/plain": [
       "         0                        1\n",
       "0      age    [0.03970971221643942]\n",
       "1  typeB_0  [-0.021184182823591406]\n",
       "2   prod_B    [-1.5078552633139575]"
      ]
     },
     "execution_count": 41,
     "metadata": {},
     "output_type": "execute_result"
    }
   ],
   "source": [
    "#Examine the coefficients\n",
    "pd.DataFrame(zip(X_train.columns, np.transpose(model.coef_)))"
   ]
  },
  {
   "cell_type": "markdown",
   "metadata": {},
   "source": [
    "The variable coefficients indicate the change in the log odds for a unit change in the variable.  The coefficient for the age variable is 0.04.  This implies that, that the age variable increases by 1, the log odds will increase by 0.04 and the probability of the purchase will change accordingly."
   ]
  },
  {
   "cell_type": "code",
   "execution_count": 42,
   "metadata": {},
   "outputs": [
    {
     "name": "stdout",
     "output_type": "stream",
     "text": [
      "[0 0 0 ... 0 1 1]\n"
     ]
    }
   ],
   "source": [
    "#Predict class labels for the test set\n",
    "predicted = model.predict(X_test)\n",
    "print(predicted)"
   ]
  },
  {
   "cell_type": "code",
   "execution_count": 43,
   "metadata": {},
   "outputs": [
    {
     "name": "stdout",
     "output_type": "stream",
     "text": [
      "[[0.8333592  0.1666408 ]\n",
      " [0.86387828 0.13612172]\n",
      " [0.64950892 0.35049108]\n",
      " ...\n",
      " [0.79760074 0.20239926]\n",
      " [0.49102951 0.50897049]\n",
      " [0.49102951 0.50897049]]\n"
     ]
    }
   ],
   "source": [
    "#Generate class probabilities\n",
    "probs = model.predict_proba(X_test)\n",
    "print(probs)"
   ]
  },
  {
   "cell_type": "code",
   "execution_count": 44,
   "metadata": {},
   "outputs": [
    {
     "name": "stdout",
     "output_type": "stream",
     "text": [
      "0.7459399944949078\n",
      "0.7584544835188216\n"
     ]
    }
   ],
   "source": [
    "#Generate evaluation metrics\n",
    "from sklearn import metrics\n",
    "\n",
    "print(metrics.accuracy_score(y_test, predicted))\n",
    "print(metrics.roc_auc_score(y_test, probs[:, 1]))"
   ]
  },
  {
   "cell_type": "markdown",
   "metadata": {},
   "source": [
    "The accuracy is 74.6% and the AUC is 75.8%"
   ]
  },
  {
   "cell_type": "code",
   "execution_count": 45,
   "metadata": {},
   "outputs": [
    {
     "name": "stdout",
     "output_type": "stream",
     "text": [
      "[[2437  185]\n",
      " [ 738  273]]\n",
      "              precision    recall  f1-score   support\n",
      "\n",
      "           0       0.77      0.93      0.84      2622\n",
      "           1       0.60      0.27      0.37      1011\n",
      "\n",
      "    accuracy                           0.75      3633\n",
      "   macro avg       0.68      0.60      0.61      3633\n",
      "weighted avg       0.72      0.75      0.71      3633\n",
      "\n"
     ]
    }
   ],
   "source": [
    "print (metrics.confusion_matrix(y_test, predicted))\n",
    "print (metrics.classification_report(y_test, predicted))"
   ]
  },
  {
   "cell_type": "markdown",
   "metadata": {},
   "source": [
    "Model 1 has 2,437 true positives, 185 false positives, 738 false negatives, and 273 true negatives."
   ]
  },
  {
   "cell_type": "markdown",
   "metadata": {},
   "source": [
    "<b> Model 2 <b>"
   ]
  },
  {
   "cell_type": "code",
   "execution_count": 46,
   "metadata": {},
   "outputs": [
    {
     "data": {
      "text/plain": [
       "LogisticRegression()"
      ]
     },
     "execution_count": 46,
     "metadata": {},
     "output_type": "execute_result"
    }
   ],
   "source": [
    "#Define a vector containing the names of the attributes to use\n",
    "predictors2 =['age', 'turnover_B','typeB_0', 'prod_B']\n",
    "X2 = df3[predictors2]\n",
    "y2 = df3.TARGET\n",
    "\n",
    "#Use 33% data to train\n",
    "#Use random state number 20 to make sure result is fixed \n",
    "X2_train, X2_test, y2_train, y2_test = train_test_split(X2, y2, test_size=0.33, random_state=20)\n",
    "\n",
    "#Define the model type as logistic regression\n",
    "model2 = LogisticRegression()\n",
    "\n",
    "#Train the algorithm\n",
    "model2.fit(X2_train, y2_train)"
   ]
  },
  {
   "cell_type": "code",
   "execution_count": 47,
   "metadata": {},
   "outputs": [
    {
     "data": {
      "text/plain": [
       "0.7562033898305085"
      ]
     },
     "execution_count": 47,
     "metadata": {},
     "output_type": "execute_result"
    }
   ],
   "source": [
    "model2.score(X2_train, y2_train)"
   ]
  },
  {
   "cell_type": "markdown",
   "metadata": {},
   "source": [
    "Model 2 has a 75.6% accuracy, but our null error rate is 72.9%."
   ]
  },
  {
   "cell_type": "code",
   "execution_count": 48,
   "metadata": {},
   "outputs": [
    {
     "data": {
      "text/html": [
       "<div>\n",
       "<style scoped>\n",
       "    .dataframe tbody tr th:only-of-type {\n",
       "        vertical-align: middle;\n",
       "    }\n",
       "\n",
       "    .dataframe tbody tr th {\n",
       "        vertical-align: top;\n",
       "    }\n",
       "\n",
       "    .dataframe thead th {\n",
       "        text-align: right;\n",
       "    }\n",
       "</style>\n",
       "<table border=\"1\" class=\"dataframe\">\n",
       "  <thead>\n",
       "    <tr style=\"text-align: right;\">\n",
       "      <th></th>\n",
       "      <th>0</th>\n",
       "      <th>1</th>\n",
       "    </tr>\n",
       "  </thead>\n",
       "  <tbody>\n",
       "    <tr>\n",
       "      <th>0</th>\n",
       "      <td>age</td>\n",
       "      <td>[0.04823184129539229]</td>\n",
       "    </tr>\n",
       "    <tr>\n",
       "      <th>1</th>\n",
       "      <td>turnover_B</td>\n",
       "      <td>[-0.0011092186159742127]</td>\n",
       "    </tr>\n",
       "    <tr>\n",
       "      <th>2</th>\n",
       "      <td>typeB_0</td>\n",
       "      <td>[-0.07225959291429815]</td>\n",
       "    </tr>\n",
       "    <tr>\n",
       "      <th>3</th>\n",
       "      <td>prod_B</td>\n",
       "      <td>[-1.4390883436058004]</td>\n",
       "    </tr>\n",
       "  </tbody>\n",
       "</table>\n",
       "</div>"
      ],
      "text/plain": [
       "            0                         1\n",
       "0         age     [0.04823184129539229]\n",
       "1  turnover_B  [-0.0011092186159742127]\n",
       "2     typeB_0    [-0.07225959291429815]\n",
       "3      prod_B     [-1.4390883436058004]"
      ]
     },
     "execution_count": 48,
     "metadata": {},
     "output_type": "execute_result"
    }
   ],
   "source": [
    "#Examine the coefficients\n",
    "pd.DataFrame(zip(X2_train.columns, np.transpose(model2.coef_)))"
   ]
  },
  {
   "cell_type": "markdown",
   "metadata": {},
   "source": [
    "The variable coefficients indicate the change in the log odds for a unit change in the variable.  The coefficient for the age variable is 0.04.  This implies that, that the age variable increases by 1, the log odds will increase by 0.04 and the probability of the purchase will change accordingly."
   ]
  },
  {
   "cell_type": "code",
   "execution_count": 49,
   "metadata": {},
   "outputs": [
    {
     "name": "stdout",
     "output_type": "stream",
     "text": [
      "[0 0 0 ... 0 1 1]\n"
     ]
    }
   ],
   "source": [
    "#Predict class labels for the test set\n",
    "predicted = model2.predict(X2_test)\n",
    "print(predicted)"
   ]
  },
  {
   "cell_type": "code",
   "execution_count": 50,
   "metadata": {},
   "outputs": [
    {
     "name": "stdout",
     "output_type": "stream",
     "text": [
      "[[0.8156535  0.1843465 ]\n",
      " [0.85565788 0.14434212]\n",
      " [0.56621429 0.43378571]\n",
      " ...\n",
      " [0.93177634 0.06822366]\n",
      " [0.47979053 0.52020947]\n",
      " [0.47585326 0.52414674]]\n"
     ]
    }
   ],
   "source": [
    "#Generate class probabilities\n",
    "probs2 = model2.predict_proba(X2_test)\n",
    "print(probs2)"
   ]
  },
  {
   "cell_type": "code",
   "execution_count": 51,
   "metadata": {},
   "outputs": [
    {
     "name": "stdout",
     "output_type": "stream",
     "text": [
      "0.7484172859895403\n",
      "0.7584544835188216\n"
     ]
    }
   ],
   "source": [
    "#Generate evaluation metrics\n",
    "from sklearn import metrics\n",
    "\n",
    "print(metrics.accuracy_score(y2_test, predicted))\n",
    "print(metrics.roc_auc_score(y2_test, probs[:, 1]))"
   ]
  },
  {
   "cell_type": "markdown",
   "metadata": {},
   "source": [
    "The accuracy is 74.8% and the AUC is 75.8%"
   ]
  },
  {
   "cell_type": "code",
   "execution_count": 52,
   "metadata": {},
   "outputs": [
    {
     "name": "stdout",
     "output_type": "stream",
     "text": [
      "[[2418  204]\n",
      " [ 710  301]]\n",
      "              precision    recall  f1-score   support\n",
      "\n",
      "           0       0.77      0.92      0.84      2622\n",
      "           1       0.60      0.30      0.40      1011\n",
      "\n",
      "    accuracy                           0.75      3633\n",
      "   macro avg       0.68      0.61      0.62      3633\n",
      "weighted avg       0.72      0.75      0.72      3633\n",
      "\n"
     ]
    }
   ],
   "source": [
    "print (metrics.confusion_matrix(y2_test, predicted))\n",
    "print (metrics.classification_report(y2_test, predicted))"
   ]
  },
  {
   "cell_type": "markdown",
   "metadata": {},
   "source": [
    "Model 2 has 2,418 true positives, 204 false positives, 710 false negatives, and 301 true negatives."
   ]
  },
  {
   "cell_type": "markdown",
   "metadata": {},
   "source": [
    "<b> Model 3 </b>"
   ]
  },
  {
   "cell_type": "code",
   "execution_count": 53,
   "metadata": {},
   "outputs": [
    {
     "data": {
      "text/plain": [
       "LogisticRegression()"
      ]
     },
     "execution_count": 53,
     "metadata": {},
     "output_type": "execute_result"
    }
   ],
   "source": [
    "#Define a vector containing the names of the attributes to use\n",
    "predictors = ['turnover_B','turnover_A','typeB_0', 'prod_B']\n",
    "\n",
    "X3 = df3[predictors]\n",
    "y3 = df3.TARGET\n",
    "\n",
    "#Use 33% data to train\n",
    "#Random state number 20 to make sure result is fixed \n",
    "X3_train, X3_test, y3_train, y3_test = train_test_split(X3, y3, test_size=0.33, random_state=20)\n",
    "\n",
    "#Define the model type as logistic regression\n",
    "model3 = LogisticRegression()\n",
    "\n",
    "#Train the algorithm\n",
    "model3.fit(X3_train, y3_train)"
   ]
  },
  {
   "cell_type": "code",
   "execution_count": 54,
   "metadata": {},
   "outputs": [
    {
     "data": {
      "text/plain": [
       "0.7907796610169492"
      ]
     },
     "execution_count": 54,
     "metadata": {},
     "output_type": "execute_result"
    }
   ],
   "source": [
    "model3.score(X3_train, y3_train)"
   ]
  },
  {
   "cell_type": "markdown",
   "metadata": {},
   "source": [
    "Model 3 has a 79.1% accuracy and our null error rate is 72.9%."
   ]
  },
  {
   "cell_type": "code",
   "execution_count": 55,
   "metadata": {},
   "outputs": [
    {
     "data": {
      "text/html": [
       "<div>\n",
       "<style scoped>\n",
       "    .dataframe tbody tr th:only-of-type {\n",
       "        vertical-align: middle;\n",
       "    }\n",
       "\n",
       "    .dataframe tbody tr th {\n",
       "        vertical-align: top;\n",
       "    }\n",
       "\n",
       "    .dataframe thead th {\n",
       "        text-align: right;\n",
       "    }\n",
       "</style>\n",
       "<table border=\"1\" class=\"dataframe\">\n",
       "  <thead>\n",
       "    <tr style=\"text-align: right;\">\n",
       "      <th></th>\n",
       "      <th>0</th>\n",
       "      <th>1</th>\n",
       "    </tr>\n",
       "  </thead>\n",
       "  <tbody>\n",
       "    <tr>\n",
       "      <th>0</th>\n",
       "      <td>turnover_B</td>\n",
       "      <td>[-0.0015337950184439975]</td>\n",
       "    </tr>\n",
       "    <tr>\n",
       "      <th>1</th>\n",
       "      <td>turnover_A</td>\n",
       "      <td>[0.010327786480290035]</td>\n",
       "    </tr>\n",
       "    <tr>\n",
       "      <th>2</th>\n",
       "      <td>typeB_0</td>\n",
       "      <td>[-0.7737318282219767]</td>\n",
       "    </tr>\n",
       "    <tr>\n",
       "      <th>3</th>\n",
       "      <td>prod_B</td>\n",
       "      <td>[-2.111161967411381]</td>\n",
       "    </tr>\n",
       "  </tbody>\n",
       "</table>\n",
       "</div>"
      ],
      "text/plain": [
       "            0                         1\n",
       "0  turnover_B  [-0.0015337950184439975]\n",
       "1  turnover_A    [0.010327786480290035]\n",
       "2     typeB_0     [-0.7737318282219767]\n",
       "3      prod_B      [-2.111161967411381]"
      ]
     },
     "execution_count": 55,
     "metadata": {},
     "output_type": "execute_result"
    }
   ],
   "source": [
    "#Examine the coefficients\n",
    "pd.DataFrame(zip(X3_train.columns, np.transpose(model3.coef_)))"
   ]
  },
  {
   "cell_type": "markdown",
   "metadata": {},
   "source": [
    "The variable coefficients indicate the change in the log odds for a unit change in the variable.  The coefficient for the turnover_A variable is 0.01.  This implies that, that the age variable increases by 1, the log odds will increase by 0.01 and the probability of the purchase will change accordingly."
   ]
  },
  {
   "cell_type": "code",
   "execution_count": 56,
   "metadata": {},
   "outputs": [
    {
     "name": "stdout",
     "output_type": "stream",
     "text": [
      "[0 0 0 ... 0 0 1]\n"
     ]
    }
   ],
   "source": [
    "#Predict class labels for the test set\n",
    "predicted = model3.predict(X3_test)\n",
    "print(predicted)"
   ]
  },
  {
   "cell_type": "code",
   "execution_count": 57,
   "metadata": {},
   "outputs": [
    {
     "name": "stdout",
     "output_type": "stream",
     "text": [
      "[[0.81925098 0.18074902]\n",
      " [0.9030876  0.0969124 ]\n",
      " [0.7854338  0.2145662 ]\n",
      " ...\n",
      " [0.98399931 0.01600069]\n",
      " [0.56048425 0.43951575]\n",
      " [0.25517587 0.74482413]]\n"
     ]
    }
   ],
   "source": [
    "#Generate class probabilities\n",
    "probs3 = model3.predict_proba(X3_test)\n",
    "print(probs3)"
   ]
  },
  {
   "cell_type": "code",
   "execution_count": 58,
   "metadata": {},
   "outputs": [
    {
     "name": "stdout",
     "output_type": "stream",
     "text": [
      "0.7875034406826315\n",
      "0.7584544835188216\n"
     ]
    }
   ],
   "source": [
    "#Generate evaluation metrics\n",
    "from sklearn import metrics\n",
    "\n",
    "print(metrics.accuracy_score(y3_test, predicted))\n",
    "print(metrics.roc_auc_score(y3_test, probs[:, 1]))"
   ]
  },
  {
   "cell_type": "markdown",
   "metadata": {},
   "source": [
    "The accuracy is 78.8% and the AUC is 75.8%"
   ]
  },
  {
   "cell_type": "code",
   "execution_count": 59,
   "metadata": {},
   "outputs": [
    {
     "name": "stdout",
     "output_type": "stream",
     "text": [
      "[[2512  110]\n",
      " [ 662  349]]\n",
      "              precision    recall  f1-score   support\n",
      "\n",
      "           0       0.79      0.96      0.87      2622\n",
      "           1       0.76      0.35      0.47      1011\n",
      "\n",
      "    accuracy                           0.79      3633\n",
      "   macro avg       0.78      0.65      0.67      3633\n",
      "weighted avg       0.78      0.79      0.76      3633\n",
      "\n"
     ]
    }
   ],
   "source": [
    "print (metrics.confusion_matrix(y3_test, predicted))\n",
    "print (metrics.classification_report(y3_test, predicted))"
   ]
  },
  {
   "cell_type": "markdown",
   "metadata": {},
   "source": [
    "Model 3 has 2,512 true positives, 110 false positives, 662 false negatives, and 349 true negatives."
   ]
  },
  {
   "cell_type": "markdown",
   "metadata": {},
   "source": [
    "<b> Model 4<b>"
   ]
  },
  {
   "cell_type": "code",
   "execution_count": 60,
   "metadata": {},
   "outputs": [
    {
     "data": {
      "text/plain": [
       "LogisticRegression()"
      ]
     },
     "execution_count": 60,
     "metadata": {},
     "output_type": "execute_result"
    }
   ],
   "source": [
    "#Define a vector containing the names of the attributes to use\n",
    "predictors = ['turnover_A', 'turnover_B', 'LOR', 'loyalty_1']\n",
    "\n",
    "X4 = df3[predictors]\n",
    "y4 = df3.TARGET\n",
    "\n",
    "#Use 33% data to train\n",
    "#Random state number 20 to make sure result is fixed \n",
    "X4_train, X4_test, y4_train, y4_test = train_test_split(X4, y4, test_size=0.33, random_state=20)\n",
    "\n",
    "#Define the model type as logistic regression\n",
    "model4 = LogisticRegression()\n",
    "\n",
    "#Train the algorithm\n",
    "model4.fit(X4_train, y4_train)"
   ]
  },
  {
   "cell_type": "code",
   "execution_count": 61,
   "metadata": {},
   "outputs": [
    {
     "data": {
      "text/plain": [
       "0.7938983050847458"
      ]
     },
     "execution_count": 61,
     "metadata": {},
     "output_type": "execute_result"
    }
   ],
   "source": [
    "model4.score(X4_train, y4_train)"
   ]
  },
  {
   "cell_type": "markdown",
   "metadata": {},
   "source": [
    "Model 4 has a 79.4% accuracy and our null error rate is 72.9%."
   ]
  },
  {
   "cell_type": "code",
   "execution_count": 62,
   "metadata": {},
   "outputs": [
    {
     "data": {
      "text/html": [
       "<div>\n",
       "<style scoped>\n",
       "    .dataframe tbody tr th:only-of-type {\n",
       "        vertical-align: middle;\n",
       "    }\n",
       "\n",
       "    .dataframe tbody tr th {\n",
       "        vertical-align: top;\n",
       "    }\n",
       "\n",
       "    .dataframe thead th {\n",
       "        text-align: right;\n",
       "    }\n",
       "</style>\n",
       "<table border=\"1\" class=\"dataframe\">\n",
       "  <thead>\n",
       "    <tr style=\"text-align: right;\">\n",
       "      <th></th>\n",
       "      <th>0</th>\n",
       "      <th>1</th>\n",
       "    </tr>\n",
       "  </thead>\n",
       "  <tbody>\n",
       "    <tr>\n",
       "      <th>0</th>\n",
       "      <td>turnover_A</td>\n",
       "      <td>[0.010950267793829644]</td>\n",
       "    </tr>\n",
       "    <tr>\n",
       "      <th>1</th>\n",
       "      <td>turnover_B</td>\n",
       "      <td>[-0.0017032250426324167]</td>\n",
       "    </tr>\n",
       "    <tr>\n",
       "      <th>2</th>\n",
       "      <td>LOR</td>\n",
       "      <td>[-0.4863206608987351]</td>\n",
       "    </tr>\n",
       "    <tr>\n",
       "      <th>3</th>\n",
       "      <td>loyalty_1</td>\n",
       "      <td>[0.2803779194735056]</td>\n",
       "    </tr>\n",
       "  </tbody>\n",
       "</table>\n",
       "</div>"
      ],
      "text/plain": [
       "            0                         1\n",
       "0  turnover_A    [0.010950267793829644]\n",
       "1  turnover_B  [-0.0017032250426324167]\n",
       "2         LOR     [-0.4863206608987351]\n",
       "3   loyalty_1      [0.2803779194735056]"
      ]
     },
     "execution_count": 62,
     "metadata": {},
     "output_type": "execute_result"
    }
   ],
   "source": [
    "#Examine the coefficients\n",
    "pd.DataFrame(zip(X4_train.columns, np.transpose(model4.coef_)))"
   ]
  },
  {
   "cell_type": "markdown",
   "metadata": {},
   "source": [
    "The variable coefficients indicate the change in the log odds for a unit change in the variable.  The coefficient for the LOR variable is -0.49.  This implies that, that the age variable increases by 1, the log odds will decrease by -0.49 and the probability of the purchase will change accordingly."
   ]
  },
  {
   "cell_type": "code",
   "execution_count": 63,
   "metadata": {},
   "outputs": [
    {
     "name": "stdout",
     "output_type": "stream",
     "text": [
      "[0 0 0 ... 0 0 1]\n"
     ]
    }
   ],
   "source": [
    "#Predict class labels for the test set\n",
    "predicted = model4.predict(X4_test)\n",
    "print(predicted)"
   ]
  },
  {
   "cell_type": "code",
   "execution_count": 64,
   "metadata": {},
   "outputs": [
    {
     "name": "stdout",
     "output_type": "stream",
     "text": [
      "[[0.74017385 0.25982615]\n",
      " [0.90867649 0.09132351]\n",
      " [0.73599124 0.26400876]\n",
      " ...\n",
      " [0.98035459 0.01964541]\n",
      " [0.65326631 0.34673369]\n",
      " [0.31838415 0.68161585]]\n"
     ]
    }
   ],
   "source": [
    "#Generate class probabilities\n",
    "probs4 = model4.predict_proba(X4_test)\n",
    "print(probs4)"
   ]
  },
  {
   "cell_type": "code",
   "execution_count": 65,
   "metadata": {},
   "outputs": [
    {
     "name": "stdout",
     "output_type": "stream",
     "text": [
      "0.7866776768510872\n",
      "0.7584544835188216\n"
     ]
    }
   ],
   "source": [
    "#Generate evaluation metrics\n",
    "from sklearn import metrics\n",
    "\n",
    "print(metrics.accuracy_score(y4_test, predicted))\n",
    "print(metrics.roc_auc_score(y4_test, probs[:, 1]))"
   ]
  },
  {
   "cell_type": "markdown",
   "metadata": {},
   "source": [
    "The accuracy is 78.6% and the AUC is 75.8%"
   ]
  },
  {
   "cell_type": "code",
   "execution_count": 66,
   "metadata": {},
   "outputs": [
    {
     "name": "stdout",
     "output_type": "stream",
     "text": [
      "[[2593   29]\n",
      " [ 746  265]]\n",
      "              precision    recall  f1-score   support\n",
      "\n",
      "           0       0.78      0.99      0.87      2622\n",
      "           1       0.90      0.26      0.41      1011\n",
      "\n",
      "    accuracy                           0.79      3633\n",
      "   macro avg       0.84      0.63      0.64      3633\n",
      "weighted avg       0.81      0.79      0.74      3633\n",
      "\n"
     ]
    }
   ],
   "source": [
    "print (metrics.confusion_matrix(y4_test, predicted))\n",
    "print (metrics.classification_report(y4_test, predicted))"
   ]
  },
  {
   "cell_type": "markdown",
   "metadata": {},
   "source": [
    "Model 4 has 2,593 true positives, 29 false positives, 746 false negatives, and 265 true negatives."
   ]
  },
  {
   "cell_type": "markdown",
   "metadata": {},
   "source": [
    "<h3><b>Select Models</b></h3>"
   ]
  },
  {
   "cell_type": "markdown",
   "metadata": {},
   "source": [
    "<b>K-Fold Cross Validation</b><br>\n",
    "We must use data that has been split into training and testing subsets as we did above. K is often set to a value of 5 or 10 since these values have been shown to produce testing error rate estimates that exhibit neither high bias nor very high variance (see \"An Introduction to Statistical Learning\", page 184, James, Witten, Hastie, and Tibshirani, ISBN-13: 978-1461471370).  We will use 10 for our K-fold cross validation testing.  "
   ]
  },
  {
   "cell_type": "code",
   "execution_count": 67,
   "metadata": {},
   "outputs": [
    {
     "name": "stdout",
     "output_type": "stream",
     "text": [
      "[0.77913279 0.74254743 0.74390244 0.74119241 0.75338753 0.76797829\n",
      " 0.77476255 0.76119403 0.76390773 0.75033921]\n",
      "0.7578344419807834\n"
     ]
    }
   ],
   "source": [
    "#Evaluate the best model using 10-fold cross-validation\n",
    "from sklearn.model_selection import cross_val_score\n",
    "scores = cross_val_score(LogisticRegression(), X_train, y_train, scoring='accuracy', cv=10)\n",
    "print(scores)\n",
    "print(scores.mean())"
   ]
  },
  {
   "cell_type": "markdown",
   "metadata": {},
   "source": [
    "Our 10-fold cross validation shows that model 1 has a cross validated R^2 of 75.8%"
   ]
  },
  {
   "cell_type": "code",
   "execution_count": 68,
   "metadata": {},
   "outputs": [
    {
     "name": "stdout",
     "output_type": "stream",
     "text": [
      "[0.77777778 0.74525745 0.73848238 0.74390244 0.74796748 0.76526459\n",
      " 0.7761194  0.75440977 0.76390773 0.75033921]\n",
      "0.7563428239438432\n"
     ]
    }
   ],
   "source": [
    "#Evaluate the best model using 10-fold cross-validation\n",
    "from sklearn.model_selection import cross_val_score\n",
    "scores = cross_val_score(LogisticRegression(), X2_train, y2_train, scoring='accuracy', cv=10)\n",
    "print(scores)\n",
    "print(scores.mean())"
   ]
  },
  {
   "cell_type": "markdown",
   "metadata": {},
   "source": [
    "Our 10-fold cross validation shows that model 2 has a cross validated R^2 of 75.6%"
   ]
  },
  {
   "cell_type": "code",
   "execution_count": 69,
   "metadata": {},
   "outputs": [
    {
     "name": "stdout",
     "output_type": "stream",
     "text": [
      "[0.79403794 0.7899729  0.78455285 0.79810298 0.79403794 0.77883311\n",
      " 0.78697422 0.80189959 0.78968792 0.80325645]\n",
      "0.7921355896055569\n"
     ]
    }
   ],
   "source": [
    "#Evaluate the best model using 10-fold cross-validation\n",
    "from sklearn.model_selection import cross_val_score\n",
    "scores = cross_val_score(LogisticRegression(), X3_train, y3_train, scoring='accuracy', cv=10)\n",
    "print(scores)\n",
    "print(scores.mean())"
   ]
  },
  {
   "cell_type": "markdown",
   "metadata": {},
   "source": [
    "Our 10-fold cross validation shows that model 3 has a cross validated R^2 of 79.2%"
   ]
  },
  {
   "cell_type": "code",
   "execution_count": 70,
   "metadata": {},
   "outputs": [
    {
     "name": "stdout",
     "output_type": "stream",
     "text": [
      "[0.79268293 0.79403794 0.78590786 0.80081301 0.79674797 0.78561737\n",
      " 0.79240163 0.80597015 0.78561737 0.79375848]\n",
      "0.7933554695112759\n"
     ]
    }
   ],
   "source": [
    "#Evaluate the best model using 10-fold cross-validation\n",
    "from sklearn.model_selection import cross_val_score\n",
    "scores = cross_val_score(LogisticRegression(), X4_train, y4_train, scoring='accuracy', cv=10)\n",
    "print(scores)\n",
    "print(scores.mean())"
   ]
  },
  {
   "cell_type": "markdown",
   "metadata": {},
   "source": [
    "Our 10-fold cross validation shows that model 4 has a cross validated R^2 of 79.3%"
   ]
  },
  {
   "cell_type": "markdown",
   "metadata": {},
   "source": [
    "Based on the 10-fold cross validation of our four models, model 4 had the highest R^2."
   ]
  },
  {
   "cell_type": "markdown",
   "metadata": {},
   "source": [
    "<h3><b>Conclusions</b></h3>"
   ]
  },
  {
   "cell_type": "markdown",
   "metadata": {},
   "source": [
    "After building four models, we believe that our fourth model was the best at predicting whether or not someone would buy a new insurance product. Chi-square and box plots were key to determining which attributes we should use to make the most predictive model possible. We also chose our fourth model to be our selected model due to it achieving the highest accuracy score of 78.6%, while Area Under the Curve (AUC) was consistent throughout all four models at 75.8%. Cross validation verified that our fourth model consistently performs better at 79.3% than the null error rate which was 72.9%."
   ]
  },
  {
   "cell_type": "code",
   "execution_count": null,
   "metadata": {},
   "outputs": [],
   "source": []
  }
 ],
 "metadata": {
  "kernelspec": {
   "display_name": "Python 3",
   "language": "python",
   "name": "python3"
  },
  "language_info": {
   "codemirror_mode": {
    "name": "ipython",
    "version": 3
   },
   "file_extension": ".py",
   "mimetype": "text/x-python",
   "name": "python",
   "nbconvert_exporter": "python",
   "pygments_lexer": "ipython3",
   "version": "3.7.3"
  }
 },
 "nbformat": 4,
 "nbformat_minor": 2
}

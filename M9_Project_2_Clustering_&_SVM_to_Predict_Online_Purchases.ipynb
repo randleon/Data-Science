{
 "cells": [
  {
   "cell_type": "markdown",
   "metadata": {},
   "source": [
    "<h3><center>Project 2: Clustering + SVM to Predict Online Purchases\n",
    "    <br>By Anna Imhoff, Randy Leon, and Jinming Chen</br></h3></center>"
   ]
  },
  {
   "cell_type": "markdown",
   "metadata": {},
   "source": [
    "<h3><b>Introduction</b></h3>"
   ]
  },
  {
   "cell_type": "markdown",
   "metadata": {},
   "source": [
    "The data used for this exercise can be found on the [UCI Machine Learning Repository](https://archive.ics.uci.edu/ml/machine-learning-databases/00468/online_shoppers_intention.csv).  First, we will upload the data set to our Github repository.  The original data set contains 12,330 observations with 17 attributes and an additional class label which will initially be separate from the data set.  Exploratory data analysis will be performed on the variables to familiarize us with the website metric attributes, identify trends, and missing data.  We will apply data standardization and convert categorical variables to dummy variables to prep the data for a clustering algorithm.  Then, we will apply a hierarchical clustering algorithm and create elbow and silhouette plots for the data to select an appropriate K value.  Next, we will apply a K-means clustering algorithm to the data set using a value of K=2 to group the data into two clusters.  \n",
    "\n",
    "We will then preform another round of EDA on the two clusters.  Then, we will compare the classifications that our K-means clustering generated with the class labels.  Next, SVM models will be constructed, a preferred model will be selected, and we will compare out SVM output to the actual labels that predict whether or not a given website visitor will actually make a purchase."
   ]
  },
  {
   "cell_type": "markdown",
   "metadata": {},
   "source": [
    "<b>Data Set Attributes</b><br> \n",
    "\n",
    "1) Administrative - the number of Administrative pages visited by the visitor in that session (<b>numeric, discrete</b>) <br> \n",
    "2) Administrative_Duration - total time spent in Administrative page categories (<b>numeric, continuous</b>)<br>\n",
    "3) Informational - the number of Informational pages visited by the visitor in that session (<b>numeric, discrete</b>) <br>\n",
    "4) Informational_Duration - total time spent in Informational page categories (<b>numeric, continuous</b>) <br>\n",
    "5) ProductRelated - the number of ProductRelated pages visited by the visitor in that session (<b>numeric, discrete</b>) <br>\n",
    "6) ProductRelated_Duration - total time spent in ProductRelated page categories (<b>numeric, continuous</b>) <br>\n",
    "7) BounceRates -  percentage of visitors who enter the site from that page and then leave (\"bounce\") without triggering any other requests to the analytics server during that session (<b>numeric, continuous</b>) <br>\n",
    "8) ExitRates - calculated as for all pageviews to the page, the percentage that were the last in the session  (<b>numeric, continuous</b>)<br>\n",
    "9) PageValues - average value for a web page that a user visited before completing an e-commerce transaction  (<b>numeric, continuous</b>) <br>\n",
    "10) SpecialDay - the closeness of the site visiting time to a specific special day (e.g. Mother’s Day, Valentine's Day) in which the sessions are more likely to be finalized with transaction. The value of this attribute is determined by considering the dynamics of e-commerce such as the duration between the order date and delivery date. For example, for Valentine’s Day, this value takes a nonzero value between February 2 and February 12, zero before and after this date unless it is close to another special day, and its maximum value of 1 on February 8. (<b>numeric, continuous</b>)<br>\n",
    "11) Month - month the site was visited (<b>categorical</b>) <br>\n",
    "12) OperatingSystems - value of 1 - 8 (<b>categorical</b>) <br>\n",
    "13) Browser - value of 1 - 13 (<b>categorical</b>) <br>\n",
    "14) Region - value of 1 - 9 (<b>categorical</b>)<br>\n",
    "15) TrafficType - value of 1 - 10 (<b>categorical</b>) <br>\n",
    "16) VisitorType - returning visitor, new visitor, or other (<b>categorical</b>) <br>\n",
    "17) Weekend - a Boolean value, either true or false, indicating whether the date of the visit is weekend (<b>categorical</b>) <br>\n",
    "18) Revenue - the class label, either true or false, that tells if the user made a purchase (<b>categorical</b>) <br>"
   ]
  },
  {
   "cell_type": "code",
   "execution_count": 1,
   "metadata": {},
   "outputs": [
    {
     "data": {
      "text/html": [
       "<div>\n",
       "<style scoped>\n",
       "    .dataframe tbody tr th:only-of-type {\n",
       "        vertical-align: middle;\n",
       "    }\n",
       "\n",
       "    .dataframe tbody tr th {\n",
       "        vertical-align: top;\n",
       "    }\n",
       "\n",
       "    .dataframe thead th {\n",
       "        text-align: right;\n",
       "    }\n",
       "</style>\n",
       "<table border=\"1\" class=\"dataframe\">\n",
       "  <thead>\n",
       "    <tr style=\"text-align: right;\">\n",
       "      <th></th>\n",
       "      <th>Administrative</th>\n",
       "      <th>Administrative_Duration</th>\n",
       "      <th>Informational</th>\n",
       "      <th>Informational_Duration</th>\n",
       "      <th>ProductRelated</th>\n",
       "      <th>ProductRelated_Duration</th>\n",
       "      <th>BounceRates</th>\n",
       "      <th>ExitRates</th>\n",
       "      <th>PageValues</th>\n",
       "      <th>SpecialDay</th>\n",
       "      <th>Month</th>\n",
       "      <th>OperatingSystems</th>\n",
       "      <th>Browser</th>\n",
       "      <th>Region</th>\n",
       "      <th>TrafficType</th>\n",
       "      <th>VisitorType</th>\n",
       "      <th>Weekend</th>\n",
       "    </tr>\n",
       "  </thead>\n",
       "  <tbody>\n",
       "    <tr>\n",
       "      <th>0</th>\n",
       "      <td>0</td>\n",
       "      <td>0.0</td>\n",
       "      <td>0</td>\n",
       "      <td>0.0</td>\n",
       "      <td>8</td>\n",
       "      <td>222.000000</td>\n",
       "      <td>0.000000</td>\n",
       "      <td>0.028571</td>\n",
       "      <td>53.474571</td>\n",
       "      <td>0.0</td>\n",
       "      <td>May</td>\n",
       "      <td>1</td>\n",
       "      <td>1</td>\n",
       "      <td>1</td>\n",
       "      <td>2</td>\n",
       "      <td>New_Visitor</td>\n",
       "      <td>True</td>\n",
       "    </tr>\n",
       "    <tr>\n",
       "      <th>1</th>\n",
       "      <td>0</td>\n",
       "      <td>0.0</td>\n",
       "      <td>0</td>\n",
       "      <td>0.0</td>\n",
       "      <td>14</td>\n",
       "      <td>1037.500000</td>\n",
       "      <td>0.014286</td>\n",
       "      <td>0.047619</td>\n",
       "      <td>0.000000</td>\n",
       "      <td>0.0</td>\n",
       "      <td>Mar</td>\n",
       "      <td>2</td>\n",
       "      <td>2</td>\n",
       "      <td>4</td>\n",
       "      <td>2</td>\n",
       "      <td>Returning_Visitor</td>\n",
       "      <td>False</td>\n",
       "    </tr>\n",
       "    <tr>\n",
       "      <th>2</th>\n",
       "      <td>4</td>\n",
       "      <td>37.5</td>\n",
       "      <td>2</td>\n",
       "      <td>82.0</td>\n",
       "      <td>4</td>\n",
       "      <td>96.625000</td>\n",
       "      <td>0.000000</td>\n",
       "      <td>0.017500</td>\n",
       "      <td>0.000000</td>\n",
       "      <td>0.0</td>\n",
       "      <td>Nov</td>\n",
       "      <td>2</td>\n",
       "      <td>2</td>\n",
       "      <td>9</td>\n",
       "      <td>2</td>\n",
       "      <td>New_Visitor</td>\n",
       "      <td>False</td>\n",
       "    </tr>\n",
       "    <tr>\n",
       "      <th>3</th>\n",
       "      <td>4</td>\n",
       "      <td>115.7</td>\n",
       "      <td>0</td>\n",
       "      <td>0.0</td>\n",
       "      <td>16</td>\n",
       "      <td>655.383333</td>\n",
       "      <td>0.000000</td>\n",
       "      <td>0.012037</td>\n",
       "      <td>0.000000</td>\n",
       "      <td>0.0</td>\n",
       "      <td>Nov</td>\n",
       "      <td>1</td>\n",
       "      <td>1</td>\n",
       "      <td>2</td>\n",
       "      <td>3</td>\n",
       "      <td>Returning_Visitor</td>\n",
       "      <td>False</td>\n",
       "    </tr>\n",
       "    <tr>\n",
       "      <th>4</th>\n",
       "      <td>1</td>\n",
       "      <td>60.0</td>\n",
       "      <td>1</td>\n",
       "      <td>15.0</td>\n",
       "      <td>26</td>\n",
       "      <td>670.166667</td>\n",
       "      <td>0.000000</td>\n",
       "      <td>0.003846</td>\n",
       "      <td>0.000000</td>\n",
       "      <td>0.0</td>\n",
       "      <td>May</td>\n",
       "      <td>2</td>\n",
       "      <td>2</td>\n",
       "      <td>3</td>\n",
       "      <td>4</td>\n",
       "      <td>Returning_Visitor</td>\n",
       "      <td>False</td>\n",
       "    </tr>\n",
       "  </tbody>\n",
       "</table>\n",
       "</div>"
      ],
      "text/plain": [
       "   Administrative  Administrative_Duration  Informational  \\\n",
       "0               0                      0.0              0   \n",
       "1               0                      0.0              0   \n",
       "2               4                     37.5              2   \n",
       "3               4                    115.7              0   \n",
       "4               1                     60.0              1   \n",
       "\n",
       "   Informational_Duration  ProductRelated  ProductRelated_Duration  \\\n",
       "0                     0.0               8               222.000000   \n",
       "1                     0.0              14              1037.500000   \n",
       "2                    82.0               4                96.625000   \n",
       "3                     0.0              16               655.383333   \n",
       "4                    15.0              26               670.166667   \n",
       "\n",
       "   BounceRates  ExitRates  PageValues  SpecialDay Month  OperatingSystems  \\\n",
       "0     0.000000   0.028571   53.474571         0.0   May                 1   \n",
       "1     0.014286   0.047619    0.000000         0.0   Mar                 2   \n",
       "2     0.000000   0.017500    0.000000         0.0   Nov                 2   \n",
       "3     0.000000   0.012037    0.000000         0.0   Nov                 1   \n",
       "4     0.000000   0.003846    0.000000         0.0   May                 2   \n",
       "\n",
       "   Browser  Region  TrafficType        VisitorType  Weekend  \n",
       "0        1       1            2        New_Visitor     True  \n",
       "1        2       4            2  Returning_Visitor    False  \n",
       "2        2       9            2        New_Visitor    False  \n",
       "3        1       2            3  Returning_Visitor    False  \n",
       "4        2       3            4  Returning_Visitor    False  "
      ]
     },
     "execution_count": 1,
     "metadata": {},
     "output_type": "execute_result"
    }
   ],
   "source": [
    "#Import libraries and packages\n",
    "import pandas as pd\n",
    "import numpy as np\n",
    "\n",
    "import seaborn as sns\n",
    "sns.set(style=\"white\")\n",
    "sns.set(style=\"whitegrid\", color_codes=True)\n",
    "\n",
    "import matplotlib.pyplot as plt \n",
    "plt.rc(\"font\", size=14)\n",
    "\n",
    "#Read in the csv from Github\n",
    "df = pd.read_csv(\"https://raw.githubusercontent.com/annaimhoff/DAV-6150/main/Project2_Data.csv\", sep=',')\n",
    "                 \n",
    "#View the data frame\n",
    "df.head()"
   ]
  },
  {
   "cell_type": "markdown",
   "metadata": {},
   "source": [
    "<h3><b>Pre-Clustering Exploratory Data Analysis</b></h3>"
   ]
  },
  {
   "cell_type": "code",
   "execution_count": 2,
   "metadata": {},
   "outputs": [
    {
     "data": {
      "text/html": [
       "<div>\n",
       "<style scoped>\n",
       "    .dataframe tbody tr th:only-of-type {\n",
       "        vertical-align: middle;\n",
       "    }\n",
       "\n",
       "    .dataframe tbody tr th {\n",
       "        vertical-align: top;\n",
       "    }\n",
       "\n",
       "    .dataframe thead th {\n",
       "        text-align: right;\n",
       "    }\n",
       "</style>\n",
       "<table border=\"1\" class=\"dataframe\">\n",
       "  <thead>\n",
       "    <tr style=\"text-align: right;\">\n",
       "      <th></th>\n",
       "      <th>Administrative</th>\n",
       "      <th>Administrative_Duration</th>\n",
       "      <th>Informational</th>\n",
       "      <th>Informational_Duration</th>\n",
       "      <th>ProductRelated</th>\n",
       "      <th>ProductRelated_Duration</th>\n",
       "      <th>BounceRates</th>\n",
       "      <th>ExitRates</th>\n",
       "      <th>PageValues</th>\n",
       "      <th>SpecialDay</th>\n",
       "      <th>OperatingSystems</th>\n",
       "      <th>Browser</th>\n",
       "      <th>Region</th>\n",
       "      <th>TrafficType</th>\n",
       "    </tr>\n",
       "  </thead>\n",
       "  <tbody>\n",
       "    <tr>\n",
       "      <th>count</th>\n",
       "      <td>12330.000000</td>\n",
       "      <td>12330.000000</td>\n",
       "      <td>12330.000000</td>\n",
       "      <td>12330.000000</td>\n",
       "      <td>12330.000000</td>\n",
       "      <td>12330.000000</td>\n",
       "      <td>12330.000000</td>\n",
       "      <td>12330.000000</td>\n",
       "      <td>12330.000000</td>\n",
       "      <td>12330.000000</td>\n",
       "      <td>12330.000000</td>\n",
       "      <td>12330.000000</td>\n",
       "      <td>12330.000000</td>\n",
       "      <td>12330.000000</td>\n",
       "    </tr>\n",
       "    <tr>\n",
       "      <th>mean</th>\n",
       "      <td>2.315166</td>\n",
       "      <td>80.818611</td>\n",
       "      <td>0.503569</td>\n",
       "      <td>34.472398</td>\n",
       "      <td>31.731468</td>\n",
       "      <td>1194.746220</td>\n",
       "      <td>0.022191</td>\n",
       "      <td>0.043073</td>\n",
       "      <td>5.889258</td>\n",
       "      <td>0.061427</td>\n",
       "      <td>2.124006</td>\n",
       "      <td>2.357097</td>\n",
       "      <td>3.147364</td>\n",
       "      <td>4.069586</td>\n",
       "    </tr>\n",
       "    <tr>\n",
       "      <th>std</th>\n",
       "      <td>3.321784</td>\n",
       "      <td>176.779107</td>\n",
       "      <td>1.270156</td>\n",
       "      <td>140.749294</td>\n",
       "      <td>44.475503</td>\n",
       "      <td>1913.669288</td>\n",
       "      <td>0.048488</td>\n",
       "      <td>0.048597</td>\n",
       "      <td>18.568437</td>\n",
       "      <td>0.198917</td>\n",
       "      <td>0.911325</td>\n",
       "      <td>1.717277</td>\n",
       "      <td>2.401591</td>\n",
       "      <td>4.025169</td>\n",
       "    </tr>\n",
       "    <tr>\n",
       "      <th>min</th>\n",
       "      <td>0.000000</td>\n",
       "      <td>0.000000</td>\n",
       "      <td>0.000000</td>\n",
       "      <td>0.000000</td>\n",
       "      <td>0.000000</td>\n",
       "      <td>0.000000</td>\n",
       "      <td>0.000000</td>\n",
       "      <td>0.000000</td>\n",
       "      <td>0.000000</td>\n",
       "      <td>0.000000</td>\n",
       "      <td>1.000000</td>\n",
       "      <td>1.000000</td>\n",
       "      <td>1.000000</td>\n",
       "      <td>1.000000</td>\n",
       "    </tr>\n",
       "    <tr>\n",
       "      <th>25%</th>\n",
       "      <td>0.000000</td>\n",
       "      <td>0.000000</td>\n",
       "      <td>0.000000</td>\n",
       "      <td>0.000000</td>\n",
       "      <td>7.000000</td>\n",
       "      <td>184.137500</td>\n",
       "      <td>0.000000</td>\n",
       "      <td>0.014286</td>\n",
       "      <td>0.000000</td>\n",
       "      <td>0.000000</td>\n",
       "      <td>2.000000</td>\n",
       "      <td>2.000000</td>\n",
       "      <td>1.000000</td>\n",
       "      <td>2.000000</td>\n",
       "    </tr>\n",
       "    <tr>\n",
       "      <th>50%</th>\n",
       "      <td>1.000000</td>\n",
       "      <td>7.500000</td>\n",
       "      <td>0.000000</td>\n",
       "      <td>0.000000</td>\n",
       "      <td>18.000000</td>\n",
       "      <td>598.936905</td>\n",
       "      <td>0.003112</td>\n",
       "      <td>0.025156</td>\n",
       "      <td>0.000000</td>\n",
       "      <td>0.000000</td>\n",
       "      <td>2.000000</td>\n",
       "      <td>2.000000</td>\n",
       "      <td>3.000000</td>\n",
       "      <td>2.000000</td>\n",
       "    </tr>\n",
       "    <tr>\n",
       "      <th>75%</th>\n",
       "      <td>4.000000</td>\n",
       "      <td>93.256250</td>\n",
       "      <td>0.000000</td>\n",
       "      <td>0.000000</td>\n",
       "      <td>38.000000</td>\n",
       "      <td>1464.157214</td>\n",
       "      <td>0.016813</td>\n",
       "      <td>0.050000</td>\n",
       "      <td>0.000000</td>\n",
       "      <td>0.000000</td>\n",
       "      <td>3.000000</td>\n",
       "      <td>2.000000</td>\n",
       "      <td>4.000000</td>\n",
       "      <td>4.000000</td>\n",
       "    </tr>\n",
       "    <tr>\n",
       "      <th>max</th>\n",
       "      <td>27.000000</td>\n",
       "      <td>3398.750000</td>\n",
       "      <td>24.000000</td>\n",
       "      <td>2549.375000</td>\n",
       "      <td>705.000000</td>\n",
       "      <td>63973.522230</td>\n",
       "      <td>0.200000</td>\n",
       "      <td>0.200000</td>\n",
       "      <td>361.763742</td>\n",
       "      <td>1.000000</td>\n",
       "      <td>8.000000</td>\n",
       "      <td>13.000000</td>\n",
       "      <td>9.000000</td>\n",
       "      <td>20.000000</td>\n",
       "    </tr>\n",
       "  </tbody>\n",
       "</table>\n",
       "</div>"
      ],
      "text/plain": [
       "       Administrative  Administrative_Duration  Informational  \\\n",
       "count    12330.000000             12330.000000   12330.000000   \n",
       "mean         2.315166                80.818611       0.503569   \n",
       "std          3.321784               176.779107       1.270156   \n",
       "min          0.000000                 0.000000       0.000000   \n",
       "25%          0.000000                 0.000000       0.000000   \n",
       "50%          1.000000                 7.500000       0.000000   \n",
       "75%          4.000000                93.256250       0.000000   \n",
       "max         27.000000              3398.750000      24.000000   \n",
       "\n",
       "       Informational_Duration  ProductRelated  ProductRelated_Duration  \\\n",
       "count            12330.000000    12330.000000             12330.000000   \n",
       "mean                34.472398       31.731468              1194.746220   \n",
       "std                140.749294       44.475503              1913.669288   \n",
       "min                  0.000000        0.000000                 0.000000   \n",
       "25%                  0.000000        7.000000               184.137500   \n",
       "50%                  0.000000       18.000000               598.936905   \n",
       "75%                  0.000000       38.000000              1464.157214   \n",
       "max               2549.375000      705.000000             63973.522230   \n",
       "\n",
       "        BounceRates     ExitRates    PageValues    SpecialDay  \\\n",
       "count  12330.000000  12330.000000  12330.000000  12330.000000   \n",
       "mean       0.022191      0.043073      5.889258      0.061427   \n",
       "std        0.048488      0.048597     18.568437      0.198917   \n",
       "min        0.000000      0.000000      0.000000      0.000000   \n",
       "25%        0.000000      0.014286      0.000000      0.000000   \n",
       "50%        0.003112      0.025156      0.000000      0.000000   \n",
       "75%        0.016813      0.050000      0.000000      0.000000   \n",
       "max        0.200000      0.200000    361.763742      1.000000   \n",
       "\n",
       "       OperatingSystems       Browser        Region   TrafficType  \n",
       "count      12330.000000  12330.000000  12330.000000  12330.000000  \n",
       "mean           2.124006      2.357097      3.147364      4.069586  \n",
       "std            0.911325      1.717277      2.401591      4.025169  \n",
       "min            1.000000      1.000000      1.000000      1.000000  \n",
       "25%            2.000000      2.000000      1.000000      2.000000  \n",
       "50%            2.000000      2.000000      3.000000      2.000000  \n",
       "75%            3.000000      2.000000      4.000000      4.000000  \n",
       "max            8.000000     13.000000      9.000000     20.000000  "
      ]
     },
     "execution_count": 2,
     "metadata": {},
     "output_type": "execute_result"
    }
   ],
   "source": [
    "#Find the count, mean, standard deviation, minimum, maximum, 25%, 50% and 75% of each variable in the dataset.\n",
    "df.describe()"
   ]
  },
  {
   "cell_type": "markdown",
   "metadata": {},
   "source": [
    "There is a lot of variation in the magnitude of our data set.  The smallest mean is the BounceRate with 0.022 and the largest is ProductRelated_Duration with a mean of 1,195.  There is also a wide range between mins and maxs.  The lowest min is 0 and the highest max is 63,973."
   ]
  },
  {
   "cell_type": "markdown",
   "metadata": {},
   "source": [
    "Check for missing values"
   ]
  },
  {
   "cell_type": "code",
   "execution_count": 3,
   "metadata": {},
   "outputs": [
    {
     "data": {
      "text/plain": [
       "Administrative             0\n",
       "Administrative_Duration    0\n",
       "Informational              0\n",
       "Informational_Duration     0\n",
       "ProductRelated             0\n",
       "ProductRelated_Duration    0\n",
       "BounceRates                0\n",
       "ExitRates                  0\n",
       "PageValues                 0\n",
       "SpecialDay                 0\n",
       "Month                      0\n",
       "OperatingSystems           0\n",
       "Browser                    0\n",
       "Region                     0\n",
       "TrafficType                0\n",
       "VisitorType                0\n",
       "Weekend                    0\n",
       "dtype: int64"
      ]
     },
     "execution_count": 3,
     "metadata": {},
     "output_type": "execute_result"
    }
   ],
   "source": [
    "df.isnull().sum()"
   ]
  },
  {
   "cell_type": "markdown",
   "metadata": {},
   "source": [
    "We have no missing values in our data set."
   ]
  },
  {
   "cell_type": "markdown",
   "metadata": {},
   "source": [
    "Check the data types and size."
   ]
  },
  {
   "cell_type": "code",
   "execution_count": 4,
   "metadata": {},
   "outputs": [
    {
     "name": "stdout",
     "output_type": "stream",
     "text": [
      "<class 'pandas.core.frame.DataFrame'>\n",
      "RangeIndex: 12330 entries, 0 to 12329\n",
      "Data columns (total 17 columns):\n",
      " #   Column                   Non-Null Count  Dtype  \n",
      "---  ------                   --------------  -----  \n",
      " 0   Administrative           12330 non-null  int64  \n",
      " 1   Administrative_Duration  12330 non-null  float64\n",
      " 2   Informational            12330 non-null  int64  \n",
      " 3   Informational_Duration   12330 non-null  float64\n",
      " 4   ProductRelated           12330 non-null  int64  \n",
      " 5   ProductRelated_Duration  12330 non-null  float64\n",
      " 6   BounceRates              12330 non-null  float64\n",
      " 7   ExitRates                12330 non-null  float64\n",
      " 8   PageValues               12330 non-null  float64\n",
      " 9   SpecialDay               12330 non-null  float64\n",
      " 10  Month                    12330 non-null  object \n",
      " 11  OperatingSystems         12330 non-null  int64  \n",
      " 12  Browser                  12330 non-null  int64  \n",
      " 13  Region                   12330 non-null  int64  \n",
      " 14  TrafficType              12330 non-null  int64  \n",
      " 15  VisitorType              12330 non-null  object \n",
      " 16  Weekend                  12330 non-null  bool   \n",
      "dtypes: bool(1), float64(7), int64(7), object(2)\n",
      "memory usage: 1.5+ MB\n"
     ]
    }
   ],
   "source": [
    "df.info()"
   ]
  },
  {
   "cell_type": "markdown",
   "metadata": {},
   "source": [
    "We have 12,330 observations with several different data types such as integers, floating points, objects, and Boolean."
   ]
  },
  {
   "cell_type": "code",
   "execution_count": 5,
   "metadata": {},
   "outputs": [
    {
     "data": {
      "text/plain": [
       "Administrative               27\n",
       "Administrative_Duration    3335\n",
       "Informational                17\n",
       "Informational_Duration     1258\n",
       "ProductRelated              311\n",
       "ProductRelated_Duration    9551\n",
       "BounceRates                1872\n",
       "ExitRates                  4777\n",
       "PageValues                 2704\n",
       "SpecialDay                    6\n",
       "Month                        10\n",
       "OperatingSystems              8\n",
       "Browser                      13\n",
       "Region                        9\n",
       "TrafficType                  20\n",
       "VisitorType                   3\n",
       "Weekend                       2\n",
       "dtype: int64"
      ]
     },
     "execution_count": 5,
     "metadata": {},
     "output_type": "execute_result"
    }
   ],
   "source": [
    "#Find the number of unique values for each variable\n",
    "df.nunique(axis=0)"
   ]
  },
  {
   "cell_type": "markdown",
   "metadata": {},
   "source": [
    "We notice that some variables only have a few values such as 2 for Weekend, 3 for VistorType, 6 for SpecialDay, 8 for OperatingSystmes, and 9 for Region."
   ]
  },
  {
   "cell_type": "code",
   "execution_count": 6,
   "metadata": {},
   "outputs": [
    {
     "data": {
      "text/html": [
       "<div>\n",
       "<style scoped>\n",
       "    .dataframe tbody tr th:only-of-type {\n",
       "        vertical-align: middle;\n",
       "    }\n",
       "\n",
       "    .dataframe tbody tr th {\n",
       "        vertical-align: top;\n",
       "    }\n",
       "\n",
       "    .dataframe thead th {\n",
       "        text-align: right;\n",
       "    }\n",
       "</style>\n",
       "<table border=\"1\" class=\"dataframe\">\n",
       "  <thead>\n",
       "    <tr style=\"text-align: right;\">\n",
       "      <th></th>\n",
       "      <th>Administrative</th>\n",
       "      <th>Administrative_Duration</th>\n",
       "      <th>Informational</th>\n",
       "      <th>Informational_Duration</th>\n",
       "      <th>ProductRelated</th>\n",
       "      <th>ProductRelated_Duration</th>\n",
       "      <th>BounceRates</th>\n",
       "      <th>ExitRates</th>\n",
       "      <th>PageValues</th>\n",
       "      <th>SpecialDay</th>\n",
       "      <th>Month</th>\n",
       "      <th>OperatingSystems</th>\n",
       "      <th>Browser</th>\n",
       "      <th>Region</th>\n",
       "      <th>TrafficType</th>\n",
       "      <th>VisitorType</th>\n",
       "      <th>Weekend</th>\n",
       "    </tr>\n",
       "  </thead>\n",
       "  <tbody>\n",
       "    <tr>\n",
       "      <th>92</th>\n",
       "      <td>0</td>\n",
       "      <td>0.0</td>\n",
       "      <td>0</td>\n",
       "      <td>0.0</td>\n",
       "      <td>1</td>\n",
       "      <td>0.0</td>\n",
       "      <td>0.2</td>\n",
       "      <td>0.2</td>\n",
       "      <td>0.0</td>\n",
       "      <td>0.0</td>\n",
       "      <td>Nov</td>\n",
       "      <td>2</td>\n",
       "      <td>2</td>\n",
       "      <td>1</td>\n",
       "      <td>1</td>\n",
       "      <td>Returning_Visitor</td>\n",
       "      <td>False</td>\n",
       "    </tr>\n",
       "    <tr>\n",
       "      <th>975</th>\n",
       "      <td>0</td>\n",
       "      <td>0.0</td>\n",
       "      <td>0</td>\n",
       "      <td>0.0</td>\n",
       "      <td>2</td>\n",
       "      <td>0.0</td>\n",
       "      <td>0.2</td>\n",
       "      <td>0.2</td>\n",
       "      <td>0.0</td>\n",
       "      <td>0.0</td>\n",
       "      <td>Mar</td>\n",
       "      <td>1</td>\n",
       "      <td>1</td>\n",
       "      <td>1</td>\n",
       "      <td>1</td>\n",
       "      <td>Returning_Visitor</td>\n",
       "      <td>False</td>\n",
       "    </tr>\n",
       "    <tr>\n",
       "      <th>2006</th>\n",
       "      <td>0</td>\n",
       "      <td>0.0</td>\n",
       "      <td>0</td>\n",
       "      <td>0.0</td>\n",
       "      <td>1</td>\n",
       "      <td>0.0</td>\n",
       "      <td>0.2</td>\n",
       "      <td>0.2</td>\n",
       "      <td>0.0</td>\n",
       "      <td>0.0</td>\n",
       "      <td>Dec</td>\n",
       "      <td>2</td>\n",
       "      <td>2</td>\n",
       "      <td>8</td>\n",
       "      <td>1</td>\n",
       "      <td>Returning_Visitor</td>\n",
       "      <td>False</td>\n",
       "    </tr>\n",
       "    <tr>\n",
       "      <th>2174</th>\n",
       "      <td>0</td>\n",
       "      <td>0.0</td>\n",
       "      <td>0</td>\n",
       "      <td>0.0</td>\n",
       "      <td>1</td>\n",
       "      <td>0.0</td>\n",
       "      <td>0.2</td>\n",
       "      <td>0.2</td>\n",
       "      <td>0.0</td>\n",
       "      <td>0.0</td>\n",
       "      <td>Nov</td>\n",
       "      <td>1</td>\n",
       "      <td>1</td>\n",
       "      <td>4</td>\n",
       "      <td>1</td>\n",
       "      <td>Returning_Visitor</td>\n",
       "      <td>False</td>\n",
       "    </tr>\n",
       "    <tr>\n",
       "      <th>2221</th>\n",
       "      <td>0</td>\n",
       "      <td>0.0</td>\n",
       "      <td>0</td>\n",
       "      <td>0.0</td>\n",
       "      <td>1</td>\n",
       "      <td>0.0</td>\n",
       "      <td>0.2</td>\n",
       "      <td>0.2</td>\n",
       "      <td>0.0</td>\n",
       "      <td>0.0</td>\n",
       "      <td>Nov</td>\n",
       "      <td>2</td>\n",
       "      <td>2</td>\n",
       "      <td>1</td>\n",
       "      <td>1</td>\n",
       "      <td>Returning_Visitor</td>\n",
       "      <td>False</td>\n",
       "    </tr>\n",
       "    <tr>\n",
       "      <th>...</th>\n",
       "      <td>...</td>\n",
       "      <td>...</td>\n",
       "      <td>...</td>\n",
       "      <td>...</td>\n",
       "      <td>...</td>\n",
       "      <td>...</td>\n",
       "      <td>...</td>\n",
       "      <td>...</td>\n",
       "      <td>...</td>\n",
       "      <td>...</td>\n",
       "      <td>...</td>\n",
       "      <td>...</td>\n",
       "      <td>...</td>\n",
       "      <td>...</td>\n",
       "      <td>...</td>\n",
       "      <td>...</td>\n",
       "      <td>...</td>\n",
       "    </tr>\n",
       "    <tr>\n",
       "      <th>12121</th>\n",
       "      <td>0</td>\n",
       "      <td>0.0</td>\n",
       "      <td>0</td>\n",
       "      <td>0.0</td>\n",
       "      <td>1</td>\n",
       "      <td>0.0</td>\n",
       "      <td>0.2</td>\n",
       "      <td>0.2</td>\n",
       "      <td>0.0</td>\n",
       "      <td>0.0</td>\n",
       "      <td>June</td>\n",
       "      <td>3</td>\n",
       "      <td>2</td>\n",
       "      <td>3</td>\n",
       "      <td>13</td>\n",
       "      <td>Returning_Visitor</td>\n",
       "      <td>False</td>\n",
       "    </tr>\n",
       "    <tr>\n",
       "      <th>12164</th>\n",
       "      <td>0</td>\n",
       "      <td>0.0</td>\n",
       "      <td>0</td>\n",
       "      <td>0.0</td>\n",
       "      <td>1</td>\n",
       "      <td>0.0</td>\n",
       "      <td>0.2</td>\n",
       "      <td>0.2</td>\n",
       "      <td>0.0</td>\n",
       "      <td>0.0</td>\n",
       "      <td>Dec</td>\n",
       "      <td>2</td>\n",
       "      <td>2</td>\n",
       "      <td>1</td>\n",
       "      <td>3</td>\n",
       "      <td>Returning_Visitor</td>\n",
       "      <td>False</td>\n",
       "    </tr>\n",
       "    <tr>\n",
       "      <th>12170</th>\n",
       "      <td>0</td>\n",
       "      <td>0.0</td>\n",
       "      <td>0</td>\n",
       "      <td>0.0</td>\n",
       "      <td>1</td>\n",
       "      <td>0.0</td>\n",
       "      <td>0.2</td>\n",
       "      <td>0.2</td>\n",
       "      <td>0.0</td>\n",
       "      <td>0.0</td>\n",
       "      <td>Mar</td>\n",
       "      <td>2</td>\n",
       "      <td>2</td>\n",
       "      <td>2</td>\n",
       "      <td>1</td>\n",
       "      <td>Returning_Visitor</td>\n",
       "      <td>False</td>\n",
       "    </tr>\n",
       "    <tr>\n",
       "      <th>12276</th>\n",
       "      <td>0</td>\n",
       "      <td>0.0</td>\n",
       "      <td>0</td>\n",
       "      <td>0.0</td>\n",
       "      <td>1</td>\n",
       "      <td>0.0</td>\n",
       "      <td>0.2</td>\n",
       "      <td>0.2</td>\n",
       "      <td>0.0</td>\n",
       "      <td>0.0</td>\n",
       "      <td>Nov</td>\n",
       "      <td>1</td>\n",
       "      <td>1</td>\n",
       "      <td>3</td>\n",
       "      <td>3</td>\n",
       "      <td>Returning_Visitor</td>\n",
       "      <td>False</td>\n",
       "    </tr>\n",
       "    <tr>\n",
       "      <th>12304</th>\n",
       "      <td>0</td>\n",
       "      <td>0.0</td>\n",
       "      <td>0</td>\n",
       "      <td>0.0</td>\n",
       "      <td>1</td>\n",
       "      <td>0.0</td>\n",
       "      <td>0.2</td>\n",
       "      <td>0.2</td>\n",
       "      <td>0.0</td>\n",
       "      <td>0.0</td>\n",
       "      <td>Mar</td>\n",
       "      <td>2</td>\n",
       "      <td>2</td>\n",
       "      <td>4</td>\n",
       "      <td>1</td>\n",
       "      <td>Returning_Visitor</td>\n",
       "      <td>False</td>\n",
       "    </tr>\n",
       "  </tbody>\n",
       "</table>\n",
       "<p>125 rows × 17 columns</p>\n",
       "</div>"
      ],
      "text/plain": [
       "       Administrative  Administrative_Duration  Informational  \\\n",
       "92                  0                      0.0              0   \n",
       "975                 0                      0.0              0   \n",
       "2006                0                      0.0              0   \n",
       "2174                0                      0.0              0   \n",
       "2221                0                      0.0              0   \n",
       "...               ...                      ...            ...   \n",
       "12121               0                      0.0              0   \n",
       "12164               0                      0.0              0   \n",
       "12170               0                      0.0              0   \n",
       "12276               0                      0.0              0   \n",
       "12304               0                      0.0              0   \n",
       "\n",
       "       Informational_Duration  ProductRelated  ProductRelated_Duration  \\\n",
       "92                        0.0               1                      0.0   \n",
       "975                       0.0               2                      0.0   \n",
       "2006                      0.0               1                      0.0   \n",
       "2174                      0.0               1                      0.0   \n",
       "2221                      0.0               1                      0.0   \n",
       "...                       ...             ...                      ...   \n",
       "12121                     0.0               1                      0.0   \n",
       "12164                     0.0               1                      0.0   \n",
       "12170                     0.0               1                      0.0   \n",
       "12276                     0.0               1                      0.0   \n",
       "12304                     0.0               1                      0.0   \n",
       "\n",
       "       BounceRates  ExitRates  PageValues  SpecialDay Month  OperatingSystems  \\\n",
       "92             0.2        0.2         0.0         0.0   Nov                 2   \n",
       "975            0.2        0.2         0.0         0.0   Mar                 1   \n",
       "2006           0.2        0.2         0.0         0.0   Dec                 2   \n",
       "2174           0.2        0.2         0.0         0.0   Nov                 1   \n",
       "2221           0.2        0.2         0.0         0.0   Nov                 2   \n",
       "...            ...        ...         ...         ...   ...               ...   \n",
       "12121          0.2        0.2         0.0         0.0  June                 3   \n",
       "12164          0.2        0.2         0.0         0.0   Dec                 2   \n",
       "12170          0.2        0.2         0.0         0.0   Mar                 2   \n",
       "12276          0.2        0.2         0.0         0.0   Nov                 1   \n",
       "12304          0.2        0.2         0.0         0.0   Mar                 2   \n",
       "\n",
       "       Browser  Region  TrafficType        VisitorType  Weekend  \n",
       "92           2       1            1  Returning_Visitor    False  \n",
       "975          1       1            1  Returning_Visitor    False  \n",
       "2006         2       8            1  Returning_Visitor    False  \n",
       "2174         1       4            1  Returning_Visitor    False  \n",
       "2221         2       1            1  Returning_Visitor    False  \n",
       "...        ...     ...          ...                ...      ...  \n",
       "12121        2       3           13  Returning_Visitor    False  \n",
       "12164        2       1            3  Returning_Visitor    False  \n",
       "12170        2       2            1  Returning_Visitor    False  \n",
       "12276        1       3            3  Returning_Visitor    False  \n",
       "12304        2       4            1  Returning_Visitor    False  \n",
       "\n",
       "[125 rows x 17 columns]"
      ]
     },
     "execution_count": 6,
     "metadata": {},
     "output_type": "execute_result"
    }
   ],
   "source": [
    "#Check for duplicates\n",
    "dups = df[df.duplicated()]\n",
    "dups"
   ]
  },
  {
   "cell_type": "markdown",
   "metadata": {},
   "source": [
    "The duplicate check says that there are 125 duplicate rows, but upon closer inspection, these do not seem to be exact duplicates.  125 out of 12,330 is about 1% of the data set so we will leave these rows in the data set."
   ]
  },
  {
   "cell_type": "markdown",
   "metadata": {},
   "source": [
    "Replace the Weekend attribute True/False values with 1/0."
   ]
  },
  {
   "cell_type": "code",
   "execution_count": 7,
   "metadata": {},
   "outputs": [
    {
     "data": {
      "text/html": [
       "<div>\n",
       "<style scoped>\n",
       "    .dataframe tbody tr th:only-of-type {\n",
       "        vertical-align: middle;\n",
       "    }\n",
       "\n",
       "    .dataframe tbody tr th {\n",
       "        vertical-align: top;\n",
       "    }\n",
       "\n",
       "    .dataframe thead th {\n",
       "        text-align: right;\n",
       "    }\n",
       "</style>\n",
       "<table border=\"1\" class=\"dataframe\">\n",
       "  <thead>\n",
       "    <tr style=\"text-align: right;\">\n",
       "      <th></th>\n",
       "      <th>Administrative</th>\n",
       "      <th>Administrative_Duration</th>\n",
       "      <th>Informational</th>\n",
       "      <th>Informational_Duration</th>\n",
       "      <th>ProductRelated</th>\n",
       "      <th>ProductRelated_Duration</th>\n",
       "      <th>BounceRates</th>\n",
       "      <th>ExitRates</th>\n",
       "      <th>PageValues</th>\n",
       "      <th>SpecialDay</th>\n",
       "      <th>Month</th>\n",
       "      <th>OperatingSystems</th>\n",
       "      <th>Browser</th>\n",
       "      <th>Region</th>\n",
       "      <th>TrafficType</th>\n",
       "      <th>VisitorType</th>\n",
       "      <th>Weekend</th>\n",
       "    </tr>\n",
       "  </thead>\n",
       "  <tbody>\n",
       "    <tr>\n",
       "      <th>0</th>\n",
       "      <td>0</td>\n",
       "      <td>0.0</td>\n",
       "      <td>0</td>\n",
       "      <td>0.0</td>\n",
       "      <td>8</td>\n",
       "      <td>222.000000</td>\n",
       "      <td>0.000000</td>\n",
       "      <td>0.028571</td>\n",
       "      <td>53.474571</td>\n",
       "      <td>0.0</td>\n",
       "      <td>May</td>\n",
       "      <td>1</td>\n",
       "      <td>1</td>\n",
       "      <td>1</td>\n",
       "      <td>2</td>\n",
       "      <td>New_Visitor</td>\n",
       "      <td>1</td>\n",
       "    </tr>\n",
       "    <tr>\n",
       "      <th>1</th>\n",
       "      <td>0</td>\n",
       "      <td>0.0</td>\n",
       "      <td>0</td>\n",
       "      <td>0.0</td>\n",
       "      <td>14</td>\n",
       "      <td>1037.500000</td>\n",
       "      <td>0.014286</td>\n",
       "      <td>0.047619</td>\n",
       "      <td>0.000000</td>\n",
       "      <td>0.0</td>\n",
       "      <td>Mar</td>\n",
       "      <td>2</td>\n",
       "      <td>2</td>\n",
       "      <td>4</td>\n",
       "      <td>2</td>\n",
       "      <td>Returning_Visitor</td>\n",
       "      <td>0</td>\n",
       "    </tr>\n",
       "    <tr>\n",
       "      <th>2</th>\n",
       "      <td>4</td>\n",
       "      <td>37.5</td>\n",
       "      <td>2</td>\n",
       "      <td>82.0</td>\n",
       "      <td>4</td>\n",
       "      <td>96.625000</td>\n",
       "      <td>0.000000</td>\n",
       "      <td>0.017500</td>\n",
       "      <td>0.000000</td>\n",
       "      <td>0.0</td>\n",
       "      <td>Nov</td>\n",
       "      <td>2</td>\n",
       "      <td>2</td>\n",
       "      <td>9</td>\n",
       "      <td>2</td>\n",
       "      <td>New_Visitor</td>\n",
       "      <td>0</td>\n",
       "    </tr>\n",
       "    <tr>\n",
       "      <th>3</th>\n",
       "      <td>4</td>\n",
       "      <td>115.7</td>\n",
       "      <td>0</td>\n",
       "      <td>0.0</td>\n",
       "      <td>16</td>\n",
       "      <td>655.383333</td>\n",
       "      <td>0.000000</td>\n",
       "      <td>0.012037</td>\n",
       "      <td>0.000000</td>\n",
       "      <td>0.0</td>\n",
       "      <td>Nov</td>\n",
       "      <td>1</td>\n",
       "      <td>1</td>\n",
       "      <td>2</td>\n",
       "      <td>3</td>\n",
       "      <td>Returning_Visitor</td>\n",
       "      <td>0</td>\n",
       "    </tr>\n",
       "    <tr>\n",
       "      <th>4</th>\n",
       "      <td>1</td>\n",
       "      <td>60.0</td>\n",
       "      <td>1</td>\n",
       "      <td>15.0</td>\n",
       "      <td>26</td>\n",
       "      <td>670.166667</td>\n",
       "      <td>0.000000</td>\n",
       "      <td>0.003846</td>\n",
       "      <td>0.000000</td>\n",
       "      <td>0.0</td>\n",
       "      <td>May</td>\n",
       "      <td>2</td>\n",
       "      <td>2</td>\n",
       "      <td>3</td>\n",
       "      <td>4</td>\n",
       "      <td>Returning_Visitor</td>\n",
       "      <td>0</td>\n",
       "    </tr>\n",
       "  </tbody>\n",
       "</table>\n",
       "</div>"
      ],
      "text/plain": [
       "   Administrative  Administrative_Duration  Informational  \\\n",
       "0               0                      0.0              0   \n",
       "1               0                      0.0              0   \n",
       "2               4                     37.5              2   \n",
       "3               4                    115.7              0   \n",
       "4               1                     60.0              1   \n",
       "\n",
       "   Informational_Duration  ProductRelated  ProductRelated_Duration  \\\n",
       "0                     0.0               8               222.000000   \n",
       "1                     0.0              14              1037.500000   \n",
       "2                    82.0               4                96.625000   \n",
       "3                     0.0              16               655.383333   \n",
       "4                    15.0              26               670.166667   \n",
       "\n",
       "   BounceRates  ExitRates  PageValues  SpecialDay Month  OperatingSystems  \\\n",
       "0     0.000000   0.028571   53.474571         0.0   May                 1   \n",
       "1     0.014286   0.047619    0.000000         0.0   Mar                 2   \n",
       "2     0.000000   0.017500    0.000000         0.0   Nov                 2   \n",
       "3     0.000000   0.012037    0.000000         0.0   Nov                 1   \n",
       "4     0.000000   0.003846    0.000000         0.0   May                 2   \n",
       "\n",
       "   Browser  Region  TrafficType        VisitorType  Weekend  \n",
       "0        1       1            2        New_Visitor        1  \n",
       "1        2       4            2  Returning_Visitor        0  \n",
       "2        2       9            2        New_Visitor        0  \n",
       "3        1       2            3  Returning_Visitor        0  \n",
       "4        2       3            4  Returning_Visitor        0  "
      ]
     },
     "execution_count": 7,
     "metadata": {},
     "output_type": "execute_result"
    }
   ],
   "source": [
    "#Change the data type to int\n",
    "df['Weekend'] = df.Weekend.astype(int)\n",
    "\n",
    "#Replace True/False with 1/0\n",
    "df = df.replace(to_replace = ['True','False'],value = [1,0])\n",
    "\n",
    "#View the data frame to ensure the changes were made\n",
    "df.head()"
   ]
  },
  {
   "cell_type": "markdown",
   "metadata": {},
   "source": [
    "Next, let's look at the numeric attributes and categorical attributes more closely."
   ]
  },
  {
   "cell_type": "code",
   "execution_count": 8,
   "metadata": {},
   "outputs": [
    {
     "name": "stdout",
     "output_type": "stream",
     "text": [
      "# of categorical attributes:7\n",
      "# of numerical attributes:10\n"
     ]
    }
   ],
   "source": [
    "#Create lists of numerical and categorical attributes\n",
    "\n",
    "col_cat=['Month', 'OperatingSystems', 'Browser', 'Region', 'TrafficType', 'VisitorType', 'Weekend']\n",
    "\n",
    "col_num=['Administrative', 'Administrative_Duration', 'Informational', 'Informational_Duration', 'ProductRelated', \n",
    "         'ProductRelated_Duration', 'BounceRates', 'ExitRates', 'PageValues', 'SpecialDay']\n",
    "\n",
    "print(\"# of categorical attributes:%s\" %len(col_cat))\n",
    "print(\"# of numerical attributes:%s\" %len(col_num))"
   ]
  },
  {
   "cell_type": "markdown",
   "metadata": {},
   "source": [
    "<h4><b>Histograms, Bar Charts, Boxplots and Correlation Matrix</b></h4>"
   ]
  },
  {
   "cell_type": "markdown",
   "metadata": {},
   "source": [
    "Plot a histogram for each of our numerical attributes."
   ]
  },
  {
   "cell_type": "code",
   "execution_count": 9,
   "metadata": {},
   "outputs": [
    {
     "data": {
      "image/png": "[encoded data removed]",
      "text/plain": [
       "<Figure size 1080x1440 with 10 Axes>"
      ]
     },
     "metadata": {
      "needs_background": "light"
     },
     "output_type": "display_data"
    }
   ],
   "source": [
    "#Set plot parameters\n",
    "plt.rcParams.update({'font.size': 12,'figure.figsize':(15,20)}) \n",
    "\n",
    "#Ignore warnings\n",
    "np.warnings.filterwarnings('ignore')\n",
    "\n",
    "#Use an index to identify the spot of the subplot\n",
    "j=1\n",
    "\n",
    "#For each numerical column \n",
    "for k in col_num :   \n",
    "    plt.subplot(10,2,j) \n",
    "    plt.hist(df[k])\n",
    "    plt.title('%s' %k)\n",
    "    j=j+1 \n",
    "\n",
    "plt.tight_layout()\n",
    "\n",
    "#Show results    \n",
    "plt.show()"
   ]
  },
  {
   "cell_type": "markdown",
   "metadata": {},
   "source": [
    "The histograms are right-skewed.\n",
    "\n",
    "1) Administrative has 27 unique values with a mode of 0, a median of , and a mean of 2.32.<br>\n",
    "2) Administrative_Duration has 3,335 unique values with a mode of 0, a median of 7.5, and a mean of 80.82.<br>\n",
    "3) Informational has 17 unique values with a mode of 0, a median of 0, and a mean of 0.5.<br>\n",
    "4) Informational_Duration has 1,258 unique values with a mode of 0, a median of 0, and a mean of 34.47.<br>\n",
    "5) ProductRelated has 311 unique values with a mode of 1, a median of 18, and a mean of 31.73.<br>\n",
    "6) ProductRelated_Duration has 9,551 unique values with a mode of 0, a median of 598.94, and a mean of 1.194.75.<br>\n",
    "7) BounceRates has 1,872 unique values with a mode of 0, a median of 0, and a mean of 0.02.<br>\n",
    "8) ExitRates has 4,777 unique values with a mode of 0.2, a median of 0.03, and a mean of 0.04.<br>\n",
    "9) PageValues has 2,704 unique values with a mode of 0, a median of 0, and a mean of 5.89.<br>\n",
    "10) SpecialDay has 6 unique values with a mode of 0, a median of 0, and a mean of 0.06.<br>"
   ]
  },
  {
   "cell_type": "markdown",
   "metadata": {},
   "source": [
    "Check the boxplots for outliers."
   ]
  },
  {
   "cell_type": "code",
   "execution_count": 10,
   "metadata": {},
   "outputs": [
    {
     "data": {
      "image/png": "[encoded data removed]",
      "text/plain": [
       "<Figure size 1440x2880 with 10 Axes>"
      ]
     },
     "metadata": {
      "needs_background": "light"
     },
     "output_type": "display_data"
    }
   ],
   "source": [
    "#Define a figure to which we will add a boxplot for each of our attributes\n",
    "plt.figure(figsize=(20,40))\n",
    "\n",
    "#Ignore warnings\n",
    "np.warnings.filterwarnings('ignore')\n",
    "\n",
    "#Use an index to identify the spot of the subplot\n",
    "j=1\n",
    "\n",
    "#For each numeric variable display a boxplot\n",
    "for k in col_num :    \n",
    "    plt.subplot(10,1,j) \n",
    "    sns.boxplot(x=k, data=df);\n",
    "    j=j+1\n",
    "\n",
    "#Show results    \n",
    "plt.show()"
   ]
  },
  {
   "cell_type": "markdown",
   "metadata": {},
   "source": [
    "1) Administrative's median value is 1.  Q1 to Q3 is 0 - 4 with outliers from 11 to 27.<br>\n",
    "2) Administrative_Duration's median value is 7.5.  Q1 to Q3 is 0 - 93 with outliers from 94 to 3398.75.<br>\n",
    "3) Informational's median value is 0.  Q1 to Q3 is 0 with outliers from 1 to 24.<br>\n",
    "4) Informational_Duration's median value is 0.  Q1 to Q3 is 0 with outliers from 1 to 2549.375.<br>\n",
    "5) ProductRelated's median value is 18.  Q1 to Q3 is 7 - 38 with outliers from about 80 to 705. <br>\n",
    "6) ProductRelated_Duration's median value is 598.93.  Q1 to Q3 is 184.08 to 1464.26 with outliers from about 4,000 to 63,973.52.<br>\n",
    "7) BounceRates's median value is 0.0031.  Q1 to Q3 is 0 to 0.017 with outliers from 0.04 to 0.2.<br>\n",
    "8) ExitRates's median value is 0.25.  Q1 to Q3 is 0.014 to 0.05 with outliers from 0.105 to 0.2.<br>\n",
    "9) PageValues's median value is 0.  Q1 to Q3 is 0 with outliers from 0.04 to 361.76. <br>\n",
    "10) SpecialDay's median value is 0.  Q1 to Q3 is 0 with outliers from 0.2 to 1.<br>"
   ]
  },
  {
   "cell_type": "markdown",
   "metadata": {},
   "source": [
    "Check the correlation matrix to see if any of the numeric values are highly correlated."
   ]
  },
  {
   "cell_type": "code",
   "execution_count": 11,
   "metadata": {},
   "outputs": [
    {
     "data": {
      "image/png": "[encoded data removed]",
      "text/plain": [
       "<Figure size 1440x1440 with 2 Axes>"
      ]
     },
     "metadata": {
      "needs_background": "light"
     },
     "output_type": "display_data"
    }
   ],
   "source": [
    "#Graph heat map for correlation\n",
    "corr_num=df[col_num].corr()\n",
    "fig = plt.figure(figsize=(20, 20))\n",
    "sns.heatmap(corr_num, annot=True);\n",
    "fig.suptitle('Correlation Matrix/Heat Map') \n",
    "plt.show()"
   ]
  },
  {
   "cell_type": "markdown",
   "metadata": {},
   "source": [
    "BounceRates and ExitRates are highly correlated at 0.91.<br>\n",
    "ProductRelated and ProductRelated_Duration are highly correlated at 0.86."
   ]
  },
  {
   "cell_type": "markdown",
   "metadata": {},
   "source": [
    "Plot a bar chart for each of the categorical attributes."
   ]
  },
  {
   "cell_type": "code",
   "execution_count": 12,
   "metadata": {},
   "outputs": [
    {
     "data": {
      "image/png": "[encoded data removed]",
      "text/plain": [
       "<Figure size 1080x1440 with 7 Axes>"
      ]
     },
     "metadata": {
      "needs_background": "light"
     },
     "output_type": "display_data"
    }
   ],
   "source": [
    "#Use an index to identify the spot of the subplot\n",
    "j=1\n",
    "\n",
    "#For each categorical column \n",
    "for k in col_cat :   \n",
    "    plt.subplot(7,1,j) \n",
    "    df[k].value_counts().plot(kind='bar', color='green');\n",
    "    plt.title('%s' %k)\n",
    "    \n",
    "#Add 1 to go to the next subplot space\n",
    "    j=j+1 \n",
    "\n",
    "plt.tight_layout()\n",
    "\n",
    "#Show results    \n",
    "plt.show()"
   ]
  },
  {
   "cell_type": "markdown",
   "metadata": {},
   "source": [
    "1) The most common observations for Month is May with 27%, Novemeber with 24%, March with 15%, and December with 14%.  The other months, October, September, August, July, June, and February have between 1% and 4%.  There are no values for January or April.  <br>\n",
    "2) The most common observations for OperatingSystems is 2 with 54%, 1 with 21%, 3 with 21%, and 4 with 4%.  Other OperatingSystems, 5 - 8, are about 1% each.<br>\n",
    "3) The most common observations for Browser is 2 with 65%, 1 with 20%, 4 with 6% and 5 with 4%.  The other browsers, 3, 6, 7, 8, 9, 10, 11, 12 and 13, have between 0.01% and 1%. <br>\n",
    "4) The most common observations for Region is 1 with 39%, 3 with 19%, 4 with 10%, and 2 with 9.  The other regions, 5, 6, 7, 8, and 9, have between 3% and 7%. <br>\n",
    "5) The most common observations for TrafficType are 2 with 32%, 1 with 20%, 3 with 17% and 4 with 9%.  The other traffic types, 5-20, have between 0.01% and 6% <br>\n",
    "6) The most common observation for VisitorType is 86% for returning vistors.  New visitors was 14% and other was almost 1%.<br>\n",
    "7) The most common observation for Weekend was the 0 indicator with 77%.  The 1 indicator had 23%.<br>"
   ]
  },
  {
   "cell_type": "markdown",
   "metadata": {},
   "source": [
    "<h3><b>Pre-Clustering Data Preparation</b></h3>"
   ]
  },
  {
   "cell_type": "markdown",
   "metadata": {},
   "source": [
    "Drop numeric attributes that are strongly correlated with other attributes."
   ]
  },
  {
   "cell_type": "code",
   "execution_count": 13,
   "metadata": {},
   "outputs": [
    {
     "data": {
      "text/html": [
       "<div>\n",
       "<style scoped>\n",
       "    .dataframe tbody tr th:only-of-type {\n",
       "        vertical-align: middle;\n",
       "    }\n",
       "\n",
       "    .dataframe tbody tr th {\n",
       "        vertical-align: top;\n",
       "    }\n",
       "\n",
       "    .dataframe thead th {\n",
       "        text-align: right;\n",
       "    }\n",
       "</style>\n",
       "<table border=\"1\" class=\"dataframe\">\n",
       "  <thead>\n",
       "    <tr style=\"text-align: right;\">\n",
       "      <th></th>\n",
       "      <th>Administrative</th>\n",
       "      <th>Administrative_Duration</th>\n",
       "      <th>Informational</th>\n",
       "      <th>Informational_Duration</th>\n",
       "      <th>ProductRelated</th>\n",
       "      <th>ExitRates</th>\n",
       "      <th>PageValues</th>\n",
       "      <th>SpecialDay</th>\n",
       "      <th>Month</th>\n",
       "      <th>OperatingSystems</th>\n",
       "      <th>Browser</th>\n",
       "      <th>Region</th>\n",
       "      <th>TrafficType</th>\n",
       "      <th>VisitorType</th>\n",
       "      <th>Weekend</th>\n",
       "    </tr>\n",
       "  </thead>\n",
       "  <tbody>\n",
       "    <tr>\n",
       "      <th>0</th>\n",
       "      <td>0</td>\n",
       "      <td>0.0</td>\n",
       "      <td>0</td>\n",
       "      <td>0.0</td>\n",
       "      <td>8</td>\n",
       "      <td>0.028571</td>\n",
       "      <td>53.474571</td>\n",
       "      <td>0.0</td>\n",
       "      <td>May</td>\n",
       "      <td>1</td>\n",
       "      <td>1</td>\n",
       "      <td>1</td>\n",
       "      <td>2</td>\n",
       "      <td>New_Visitor</td>\n",
       "      <td>1</td>\n",
       "    </tr>\n",
       "    <tr>\n",
       "      <th>1</th>\n",
       "      <td>0</td>\n",
       "      <td>0.0</td>\n",
       "      <td>0</td>\n",
       "      <td>0.0</td>\n",
       "      <td>14</td>\n",
       "      <td>0.047619</td>\n",
       "      <td>0.000000</td>\n",
       "      <td>0.0</td>\n",
       "      <td>Mar</td>\n",
       "      <td>2</td>\n",
       "      <td>2</td>\n",
       "      <td>4</td>\n",
       "      <td>2</td>\n",
       "      <td>Returning_Visitor</td>\n",
       "      <td>0</td>\n",
       "    </tr>\n",
       "    <tr>\n",
       "      <th>2</th>\n",
       "      <td>4</td>\n",
       "      <td>37.5</td>\n",
       "      <td>2</td>\n",
       "      <td>82.0</td>\n",
       "      <td>4</td>\n",
       "      <td>0.017500</td>\n",
       "      <td>0.000000</td>\n",
       "      <td>0.0</td>\n",
       "      <td>Nov</td>\n",
       "      <td>2</td>\n",
       "      <td>2</td>\n",
       "      <td>9</td>\n",
       "      <td>2</td>\n",
       "      <td>New_Visitor</td>\n",
       "      <td>0</td>\n",
       "    </tr>\n",
       "    <tr>\n",
       "      <th>3</th>\n",
       "      <td>4</td>\n",
       "      <td>115.7</td>\n",
       "      <td>0</td>\n",
       "      <td>0.0</td>\n",
       "      <td>16</td>\n",
       "      <td>0.012037</td>\n",
       "      <td>0.000000</td>\n",
       "      <td>0.0</td>\n",
       "      <td>Nov</td>\n",
       "      <td>1</td>\n",
       "      <td>1</td>\n",
       "      <td>2</td>\n",
       "      <td>3</td>\n",
       "      <td>Returning_Visitor</td>\n",
       "      <td>0</td>\n",
       "    </tr>\n",
       "    <tr>\n",
       "      <th>4</th>\n",
       "      <td>1</td>\n",
       "      <td>60.0</td>\n",
       "      <td>1</td>\n",
       "      <td>15.0</td>\n",
       "      <td>26</td>\n",
       "      <td>0.003846</td>\n",
       "      <td>0.000000</td>\n",
       "      <td>0.0</td>\n",
       "      <td>May</td>\n",
       "      <td>2</td>\n",
       "      <td>2</td>\n",
       "      <td>3</td>\n",
       "      <td>4</td>\n",
       "      <td>Returning_Visitor</td>\n",
       "      <td>0</td>\n",
       "    </tr>\n",
       "  </tbody>\n",
       "</table>\n",
       "</div>"
      ],
      "text/plain": [
       "   Administrative  Administrative_Duration  Informational  \\\n",
       "0               0                      0.0              0   \n",
       "1               0                      0.0              0   \n",
       "2               4                     37.5              2   \n",
       "3               4                    115.7              0   \n",
       "4               1                     60.0              1   \n",
       "\n",
       "   Informational_Duration  ProductRelated  ExitRates  PageValues  SpecialDay  \\\n",
       "0                     0.0               8   0.028571   53.474571         0.0   \n",
       "1                     0.0              14   0.047619    0.000000         0.0   \n",
       "2                    82.0               4   0.017500    0.000000         0.0   \n",
       "3                     0.0              16   0.012037    0.000000         0.0   \n",
       "4                    15.0              26   0.003846    0.000000         0.0   \n",
       "\n",
       "  Month  OperatingSystems  Browser  Region  TrafficType        VisitorType  \\\n",
       "0   May                 1        1       1            2        New_Visitor   \n",
       "1   Mar                 2        2       4            2  Returning_Visitor   \n",
       "2   Nov                 2        2       9            2        New_Visitor   \n",
       "3   Nov                 1        1       2            3  Returning_Visitor   \n",
       "4   May                 2        2       3            4  Returning_Visitor   \n",
       "\n",
       "   Weekend  \n",
       "0        1  \n",
       "1        0  \n",
       "2        0  \n",
       "3        0  \n",
       "4        0  "
      ]
     },
     "execution_count": 13,
     "metadata": {},
     "output_type": "execute_result"
    }
   ],
   "source": [
    "#Drop ProductRelated_Duration and BounceRate\n",
    "df = df.drop(df.columns[[5, 6]], axis=1)\n",
    "              \n",
    "#View the data frame to ensure that the columns were removed\n",
    "df.head()"
   ]
  },
  {
   "cell_type": "markdown",
   "metadata": {},
   "source": [
    "Create dummy variables for the categorical variables month, operating system, browser, region, traffic type and visitor type."
   ]
  },
  {
   "cell_type": "code",
   "execution_count": 14,
   "metadata": {},
   "outputs": [],
   "source": [
    "#Create dummy variables for categorical variables\n",
    "df2 = pd.get_dummies(df,columns=['Month', 'OperatingSystems', 'Browser', 'Region', 'TrafficType', 'VisitorType'],\n",
    "drop_first=False)"
   ]
  },
  {
   "cell_type": "markdown",
   "metadata": {},
   "source": [
    "Dummy variable encoding always represents C categories with C-1 binary variables so also drop Month, OperatingSystems, Browser, Region, TraficType, and Visitor Type.<br>\n",
    "Source: https://machinelearningmastery.com/one-hot-encoding-for-categorical-data/"
   ]
  },
  {
   "cell_type": "code",
   "execution_count": 15,
   "metadata": {},
   "outputs": [
    {
     "data": {
      "text/html": [
       "<div>\n",
       "<style scoped>\n",
       "    .dataframe tbody tr th:only-of-type {\n",
       "        vertical-align: middle;\n",
       "    }\n",
       "\n",
       "    .dataframe tbody tr th {\n",
       "        vertical-align: top;\n",
       "    }\n",
       "\n",
       "    .dataframe thead th {\n",
       "        text-align: right;\n",
       "    }\n",
       "</style>\n",
       "<table border=\"1\" class=\"dataframe\">\n",
       "  <thead>\n",
       "    <tr style=\"text-align: right;\">\n",
       "      <th></th>\n",
       "      <th>Administrative</th>\n",
       "      <th>Administrative_Duration</th>\n",
       "      <th>Informational</th>\n",
       "      <th>Informational_Duration</th>\n",
       "      <th>ProductRelated</th>\n",
       "      <th>ExitRates</th>\n",
       "      <th>PageValues</th>\n",
       "      <th>SpecialDay</th>\n",
       "      <th>Weekend</th>\n",
       "      <th>Month_Aug</th>\n",
       "      <th>...</th>\n",
       "      <th>TrafficType_12</th>\n",
       "      <th>TrafficType_13</th>\n",
       "      <th>TrafficType_14</th>\n",
       "      <th>TrafficType_15</th>\n",
       "      <th>TrafficType_16</th>\n",
       "      <th>TrafficType_18</th>\n",
       "      <th>TrafficType_19</th>\n",
       "      <th>TrafficType_20</th>\n",
       "      <th>VisitorType_New_Visitor</th>\n",
       "      <th>VisitorType_Returning_Visitor</th>\n",
       "    </tr>\n",
       "  </thead>\n",
       "  <tbody>\n",
       "    <tr>\n",
       "      <th>0</th>\n",
       "      <td>0</td>\n",
       "      <td>0.0</td>\n",
       "      <td>0</td>\n",
       "      <td>0.0</td>\n",
       "      <td>8</td>\n",
       "      <td>0.028571</td>\n",
       "      <td>53.474571</td>\n",
       "      <td>0.0</td>\n",
       "      <td>1</td>\n",
       "      <td>0</td>\n",
       "      <td>...</td>\n",
       "      <td>0</td>\n",
       "      <td>0</td>\n",
       "      <td>0</td>\n",
       "      <td>0</td>\n",
       "      <td>0</td>\n",
       "      <td>0</td>\n",
       "      <td>0</td>\n",
       "      <td>0</td>\n",
       "      <td>1</td>\n",
       "      <td>0</td>\n",
       "    </tr>\n",
       "    <tr>\n",
       "      <th>1</th>\n",
       "      <td>0</td>\n",
       "      <td>0.0</td>\n",
       "      <td>0</td>\n",
       "      <td>0.0</td>\n",
       "      <td>14</td>\n",
       "      <td>0.047619</td>\n",
       "      <td>0.000000</td>\n",
       "      <td>0.0</td>\n",
       "      <td>0</td>\n",
       "      <td>0</td>\n",
       "      <td>...</td>\n",
       "      <td>0</td>\n",
       "      <td>0</td>\n",
       "      <td>0</td>\n",
       "      <td>0</td>\n",
       "      <td>0</td>\n",
       "      <td>0</td>\n",
       "      <td>0</td>\n",
       "      <td>0</td>\n",
       "      <td>0</td>\n",
       "      <td>1</td>\n",
       "    </tr>\n",
       "    <tr>\n",
       "      <th>2</th>\n",
       "      <td>4</td>\n",
       "      <td>37.5</td>\n",
       "      <td>2</td>\n",
       "      <td>82.0</td>\n",
       "      <td>4</td>\n",
       "      <td>0.017500</td>\n",
       "      <td>0.000000</td>\n",
       "      <td>0.0</td>\n",
       "      <td>0</td>\n",
       "      <td>0</td>\n",
       "      <td>...</td>\n",
       "      <td>0</td>\n",
       "      <td>0</td>\n",
       "      <td>0</td>\n",
       "      <td>0</td>\n",
       "      <td>0</td>\n",
       "      <td>0</td>\n",
       "      <td>0</td>\n",
       "      <td>0</td>\n",
       "      <td>1</td>\n",
       "      <td>0</td>\n",
       "    </tr>\n",
       "    <tr>\n",
       "      <th>3</th>\n",
       "      <td>4</td>\n",
       "      <td>115.7</td>\n",
       "      <td>0</td>\n",
       "      <td>0.0</td>\n",
       "      <td>16</td>\n",
       "      <td>0.012037</td>\n",
       "      <td>0.000000</td>\n",
       "      <td>0.0</td>\n",
       "      <td>0</td>\n",
       "      <td>0</td>\n",
       "      <td>...</td>\n",
       "      <td>0</td>\n",
       "      <td>0</td>\n",
       "      <td>0</td>\n",
       "      <td>0</td>\n",
       "      <td>0</td>\n",
       "      <td>0</td>\n",
       "      <td>0</td>\n",
       "      <td>0</td>\n",
       "      <td>0</td>\n",
       "      <td>1</td>\n",
       "    </tr>\n",
       "    <tr>\n",
       "      <th>4</th>\n",
       "      <td>1</td>\n",
       "      <td>60.0</td>\n",
       "      <td>1</td>\n",
       "      <td>15.0</td>\n",
       "      <td>26</td>\n",
       "      <td>0.003846</td>\n",
       "      <td>0.000000</td>\n",
       "      <td>0.0</td>\n",
       "      <td>0</td>\n",
       "      <td>0</td>\n",
       "      <td>...</td>\n",
       "      <td>0</td>\n",
       "      <td>0</td>\n",
       "      <td>0</td>\n",
       "      <td>0</td>\n",
       "      <td>0</td>\n",
       "      <td>0</td>\n",
       "      <td>0</td>\n",
       "      <td>0</td>\n",
       "      <td>0</td>\n",
       "      <td>1</td>\n",
       "    </tr>\n",
       "  </tbody>\n",
       "</table>\n",
       "<p>5 rows × 66 columns</p>\n",
       "</div>"
      ],
      "text/plain": [
       "   Administrative  Administrative_Duration  Informational  \\\n",
       "0               0                      0.0              0   \n",
       "1               0                      0.0              0   \n",
       "2               4                     37.5              2   \n",
       "3               4                    115.7              0   \n",
       "4               1                     60.0              1   \n",
       "\n",
       "   Informational_Duration  ProductRelated  ExitRates  PageValues  SpecialDay  \\\n",
       "0                     0.0               8   0.028571   53.474571         0.0   \n",
       "1                     0.0              14   0.047619    0.000000         0.0   \n",
       "2                    82.0               4   0.017500    0.000000         0.0   \n",
       "3                     0.0              16   0.012037    0.000000         0.0   \n",
       "4                    15.0              26   0.003846    0.000000         0.0   \n",
       "\n",
       "   Weekend  Month_Aug  ...  TrafficType_12  TrafficType_13  TrafficType_14  \\\n",
       "0        1          0  ...               0               0               0   \n",
       "1        0          0  ...               0               0               0   \n",
       "2        0          0  ...               0               0               0   \n",
       "3        0          0  ...               0               0               0   \n",
       "4        0          0  ...               0               0               0   \n",
       "\n",
       "   TrafficType_15  TrafficType_16  TrafficType_18  TrafficType_19  \\\n",
       "0               0               0               0               0   \n",
       "1               0               0               0               0   \n",
       "2               0               0               0               0   \n",
       "3               0               0               0               0   \n",
       "4               0               0               0               0   \n",
       "\n",
       "   TrafficType_20  VisitorType_New_Visitor  VisitorType_Returning_Visitor  \n",
       "0               0                        1                              0  \n",
       "1               0                        0                              1  \n",
       "2               0                        1                              0  \n",
       "3               0                        0                              1  \n",
       "4               0                        0                              1  \n",
       "\n",
       "[5 rows x 66 columns]"
      ]
     },
     "execution_count": 15,
     "metadata": {},
     "output_type": "execute_result"
    }
   ],
   "source": [
    "#Drop one variable from each of the newly created dummy variables\n",
    "df2 = df2.drop(['Month_Feb', 'OperatingSystems_5', 'Browser_9', 'Region_5', 'TrafficType_17', 'VisitorType_Other'], axis=1)\n",
    "\n",
    "#Check results\n",
    "df2.head()"
   ]
  },
  {
   "cell_type": "markdown",
   "metadata": {},
   "source": [
    "Separate the numerical and categorical attributes."
   ]
  },
  {
   "cell_type": "code",
   "execution_count": 16,
   "metadata": {},
   "outputs": [
    {
     "name": "stdout",
     "output_type": "stream",
     "text": [
      "# of categorical attributes:58\n",
      "# of numerical attributes:8\n"
     ]
    }
   ],
   "source": [
    "#Create lists of numerical and categorical attributes\n",
    "\n",
    "col_cat2=['Month_Mar','Month_May','Month_June','Month_Jul','Month_Aug','Month_Sep','Month_Oct','Month_Nov','Month_Dec', \n",
    "'OperatingSystems_1', 'OperatingSystems_2', 'OperatingSystems_3', 'OperatingSystems_4', 'OperatingSystems_6',\n",
    "'OperatingSystems_7', 'OperatingSystems_8',\n",
    "'Browser_1', 'Browser_2', 'Browser_3', 'Browser_4', 'Browser_5', 'Browser_6', 'Browser_7', 'Browser_8', 'Browser_10', \n",
    "'Browser_11', 'Browser_12', 'Browser_13',\n",
    "'Region_1', 'Region_2', 'Region_3', 'Region_4', 'Region_6', 'Region_7', 'Region_8', 'Region_9',\n",
    "'TrafficType_1', 'TrafficType_2', 'TrafficType_3', 'TrafficType_4', 'TrafficType_5', 'TrafficType_6', 'TrafficType_7',\n",
    "'TrafficType_8', 'TrafficType_9', 'TrafficType_10', 'TrafficType_11', 'TrafficType_12', 'TrafficType_13', 'TrafficType_14',\n",
    "'TrafficType_15', 'TrafficType_16', 'TrafficType_18', 'TrafficType_19', 'TrafficType_20', \n",
    "'VisitorType_New_Visitor', 'VisitorType_Returning_Visitor', \n",
    "'Weekend']\n",
    "\n",
    "col_num2=['Administrative', 'Administrative_Duration', 'Informational', 'Informational_Duration', 'ProductRelated', \n",
    "         'ExitRates', 'PageValues', 'SpecialDay']\n",
    "\n",
    "print(\"# of categorical attributes:%s\" %len(col_cat2))\n",
    "print(\"# of numerical attributes:%s\" %len(col_num2))"
   ]
  },
  {
   "cell_type": "markdown",
   "metadata": {},
   "source": [
    "Normalize the numeric values"
   ]
  },
  {
   "cell_type": "code",
   "execution_count": 17,
   "metadata": {},
   "outputs": [],
   "source": [
    "from sklearn.preprocessing import Normalizer\n",
    "transformer = Normalizer().fit(df2[col_num2])\n",
    "norm = transformer.transform(df2[col_num2])\n",
    "df_norm = pd.DataFrame(norm, columns = ['Administrative', 'Administrative_Duration', 'Informational', \n",
    "                                        'Informational_Duration', 'ProductRelated', 'ExitRates', 'PageValues', \n",
    "                                        'SpecialDay'])"
   ]
  },
  {
   "cell_type": "markdown",
   "metadata": {},
   "source": [
    "Concatenate the normalized numerical attributes with the categorical dummy attributes."
   ]
  },
  {
   "cell_type": "code",
   "execution_count": 18,
   "metadata": {},
   "outputs": [
    {
     "data": {
      "text/html": [
       "<div>\n",
       "<style scoped>\n",
       "    .dataframe tbody tr th:only-of-type {\n",
       "        vertical-align: middle;\n",
       "    }\n",
       "\n",
       "    .dataframe tbody tr th {\n",
       "        vertical-align: top;\n",
       "    }\n",
       "\n",
       "    .dataframe thead th {\n",
       "        text-align: right;\n",
       "    }\n",
       "</style>\n",
       "<table border=\"1\" class=\"dataframe\">\n",
       "  <thead>\n",
       "    <tr style=\"text-align: right;\">\n",
       "      <th></th>\n",
       "      <th>Administrative</th>\n",
       "      <th>Administrative_Duration</th>\n",
       "      <th>Informational</th>\n",
       "      <th>Informational_Duration</th>\n",
       "      <th>ProductRelated</th>\n",
       "      <th>ExitRates</th>\n",
       "      <th>PageValues</th>\n",
       "      <th>SpecialDay</th>\n",
       "      <th>Month_Mar</th>\n",
       "      <th>Month_May</th>\n",
       "      <th>...</th>\n",
       "      <th>TrafficType_13</th>\n",
       "      <th>TrafficType_14</th>\n",
       "      <th>TrafficType_15</th>\n",
       "      <th>TrafficType_16</th>\n",
       "      <th>TrafficType_18</th>\n",
       "      <th>TrafficType_19</th>\n",
       "      <th>TrafficType_20</th>\n",
       "      <th>VisitorType_New_Visitor</th>\n",
       "      <th>VisitorType_Returning_Visitor</th>\n",
       "      <th>Weekend</th>\n",
       "    </tr>\n",
       "  </thead>\n",
       "  <tbody>\n",
       "    <tr>\n",
       "      <th>0</th>\n",
       "      <td>0.000000</td>\n",
       "      <td>0.000000</td>\n",
       "      <td>0.000000</td>\n",
       "      <td>0.000000</td>\n",
       "      <td>0.147957</td>\n",
       "      <td>0.000528</td>\n",
       "      <td>0.988994</td>\n",
       "      <td>0.0</td>\n",
       "      <td>0</td>\n",
       "      <td>1</td>\n",
       "      <td>...</td>\n",
       "      <td>0</td>\n",
       "      <td>0</td>\n",
       "      <td>0</td>\n",
       "      <td>0</td>\n",
       "      <td>0</td>\n",
       "      <td>0</td>\n",
       "      <td>0</td>\n",
       "      <td>1</td>\n",
       "      <td>0</td>\n",
       "      <td>1</td>\n",
       "    </tr>\n",
       "    <tr>\n",
       "      <th>1</th>\n",
       "      <td>0.000000</td>\n",
       "      <td>0.000000</td>\n",
       "      <td>0.000000</td>\n",
       "      <td>0.000000</td>\n",
       "      <td>0.999994</td>\n",
       "      <td>0.003401</td>\n",
       "      <td>0.000000</td>\n",
       "      <td>0.0</td>\n",
       "      <td>1</td>\n",
       "      <td>0</td>\n",
       "      <td>...</td>\n",
       "      <td>0</td>\n",
       "      <td>0</td>\n",
       "      <td>0</td>\n",
       "      <td>0</td>\n",
       "      <td>0</td>\n",
       "      <td>0</td>\n",
       "      <td>0</td>\n",
       "      <td>0</td>\n",
       "      <td>1</td>\n",
       "      <td>0</td>\n",
       "    </tr>\n",
       "    <tr>\n",
       "      <th>2</th>\n",
       "      <td>0.044264</td>\n",
       "      <td>0.414973</td>\n",
       "      <td>0.022132</td>\n",
       "      <td>0.907408</td>\n",
       "      <td>0.044264</td>\n",
       "      <td>0.000194</td>\n",
       "      <td>0.000000</td>\n",
       "      <td>0.0</td>\n",
       "      <td>0</td>\n",
       "      <td>0</td>\n",
       "      <td>...</td>\n",
       "      <td>0</td>\n",
       "      <td>0</td>\n",
       "      <td>0</td>\n",
       "      <td>0</td>\n",
       "      <td>0</td>\n",
       "      <td>0</td>\n",
       "      <td>0</td>\n",
       "      <td>1</td>\n",
       "      <td>0</td>\n",
       "      <td>0</td>\n",
       "    </tr>\n",
       "    <tr>\n",
       "      <th>3</th>\n",
       "      <td>0.034226</td>\n",
       "      <td>0.989993</td>\n",
       "      <td>0.000000</td>\n",
       "      <td>0.000000</td>\n",
       "      <td>0.136905</td>\n",
       "      <td>0.000103</td>\n",
       "      <td>0.000000</td>\n",
       "      <td>0.0</td>\n",
       "      <td>0</td>\n",
       "      <td>0</td>\n",
       "      <td>...</td>\n",
       "      <td>0</td>\n",
       "      <td>0</td>\n",
       "      <td>0</td>\n",
       "      <td>0</td>\n",
       "      <td>0</td>\n",
       "      <td>0</td>\n",
       "      <td>0</td>\n",
       "      <td>0</td>\n",
       "      <td>1</td>\n",
       "      <td>0</td>\n",
       "    </tr>\n",
       "    <tr>\n",
       "      <th>4</th>\n",
       "      <td>0.014902</td>\n",
       "      <td>0.894129</td>\n",
       "      <td>0.014902</td>\n",
       "      <td>0.223532</td>\n",
       "      <td>0.387456</td>\n",
       "      <td>0.000057</td>\n",
       "      <td>0.000000</td>\n",
       "      <td>0.0</td>\n",
       "      <td>0</td>\n",
       "      <td>1</td>\n",
       "      <td>...</td>\n",
       "      <td>0</td>\n",
       "      <td>0</td>\n",
       "      <td>0</td>\n",
       "      <td>0</td>\n",
       "      <td>0</td>\n",
       "      <td>0</td>\n",
       "      <td>0</td>\n",
       "      <td>0</td>\n",
       "      <td>1</td>\n",
       "      <td>0</td>\n",
       "    </tr>\n",
       "  </tbody>\n",
       "</table>\n",
       "<p>5 rows × 66 columns</p>\n",
       "</div>"
      ],
      "text/plain": [
       "   Administrative  Administrative_Duration  Informational  \\\n",
       "0        0.000000                 0.000000       0.000000   \n",
       "1        0.000000                 0.000000       0.000000   \n",
       "2        0.044264                 0.414973       0.022132   \n",
       "3        0.034226                 0.989993       0.000000   \n",
       "4        0.014902                 0.894129       0.014902   \n",
       "\n",
       "   Informational_Duration  ProductRelated  ExitRates  PageValues  SpecialDay  \\\n",
       "0                0.000000        0.147957   0.000528    0.988994         0.0   \n",
       "1                0.000000        0.999994   0.003401    0.000000         0.0   \n",
       "2                0.907408        0.044264   0.000194    0.000000         0.0   \n",
       "3                0.000000        0.136905   0.000103    0.000000         0.0   \n",
       "4                0.223532        0.387456   0.000057    0.000000         0.0   \n",
       "\n",
       "   Month_Mar  Month_May  ...  TrafficType_13  TrafficType_14  TrafficType_15  \\\n",
       "0          0          1  ...               0               0               0   \n",
       "1          1          0  ...               0               0               0   \n",
       "2          0          0  ...               0               0               0   \n",
       "3          0          0  ...               0               0               0   \n",
       "4          0          1  ...               0               0               0   \n",
       "\n",
       "   TrafficType_16  TrafficType_18  TrafficType_19  TrafficType_20  \\\n",
       "0               0               0               0               0   \n",
       "1               0               0               0               0   \n",
       "2               0               0               0               0   \n",
       "3               0               0               0               0   \n",
       "4               0               0               0               0   \n",
       "\n",
       "   VisitorType_New_Visitor  VisitorType_Returning_Visitor  Weekend  \n",
       "0                        1                              0        1  \n",
       "1                        0                              1        0  \n",
       "2                        1                              0        0  \n",
       "3                        0                              1        0  \n",
       "4                        0                              1        0  \n",
       "\n",
       "[5 rows x 66 columns]"
      ]
     },
     "execution_count": 18,
     "metadata": {},
     "output_type": "execute_result"
    }
   ],
   "source": [
    "#Concatenate\n",
    "df3 = pd.concat([df_norm, df2[col_cat2]], axis=1)\n",
    "\n",
    "#Check results\n",
    "df3.head()"
   ]
  },
  {
   "cell_type": "markdown",
   "metadata": {},
   "source": [
    "<h3><b>Cluster Modeling</b></h3>"
   ]
  },
  {
   "cell_type": "markdown",
   "metadata": {},
   "source": [
    "Apply a hierarchical clustering algorithm to the data."
   ]
  },
  {
   "cell_type": "code",
   "execution_count": 19,
   "metadata": {},
   "outputs": [
    {
     "data": {
      "image/png": "[encoded data removed]",
      "text/plain": [
       "<Figure size 1152x288 with 1 Axes>"
      ]
     },
     "metadata": {
      "needs_background": "light"
     },
     "output_type": "display_data"
    }
   ],
   "source": [
    "#Create a dendrogram\n",
    "\n",
    "from scipy.cluster import hierarchy\n",
    "fig, ax = plt.subplots(figsize=(16, 4))\n",
    "dend = hierarchy.dendrogram(\n",
    "     hierarchy.linkage(df3, method=\"ward\"),\n",
    "     truncate_mode=\"lastp\",\n",
    "     p=20,\n",
    "     show_contracted=True,)"
   ]
  },
  {
   "cell_type": "markdown",
   "metadata": {},
   "source": [
    "If we cut across the largest vertical line, we get two clusters. Next, Create an elbow plot to find the optimal number of clusters."
   ]
  },
  {
   "cell_type": "code",
   "execution_count": 65,
   "metadata": {},
   "outputs": [
    {
     "data": {
      "text/plain": [
       "Text(0, 0.5, 'Inertia')"
      ]
     },
     "execution_count": 65,
     "metadata": {},
     "output_type": "execute_result"
    },
    {
     "data": {
      "image/png": "[encoded data removed]",
      "text/plain": [
       "<Figure size 432x288 with 1 Axes>"
      ]
     },
     "metadata": {},
     "output_type": "display_data"
    }
   ],
   "source": [
    "from sklearn.cluster import KMeans\n",
    "\n",
    "inertias = []\n",
    "sizes = range(2, 12)\n",
    "for k in sizes:\n",
    "    k2 = KMeans(random_state=42, n_clusters=k)\n",
    "    k2.fit(df3)\n",
    "    inertias.append(k2.inertia_)\n",
    "fig, ax = plt.subplots(figsize=(6, 4))\n",
    "pd.Series(inertias, index=sizes).plot(ax=ax)\n",
    "ax.set_xlabel(\"K\")\n",
    "ax.set_ylabel(\"Inertia\")"
   ]
  },
  {
   "cell_type": "markdown",
   "metadata": {},
   "source": [
    "The inertia plot is pretty smooth but there seems to be a slight elbow around 3."
   ]
  },
  {
   "cell_type": "markdown",
   "metadata": {},
   "source": [
    "Plot inertia, the silhouette coefficient, the Calinski-Harabasz Index, and the Davies-Bouldin Index over a range of cluster sizes to see if there is a clear size of clusters for the data. \n",
    "\n",
    "Source: Harrison, M. (2019). Clustering. In Machine Learning Pocket Reference: Working with Structured Data in Python. Sebastopol: O'Reilly Media."
   ]
  },
  {
   "cell_type": "code",
   "execution_count": 21,
   "metadata": {},
   "outputs": [
    {
     "data": {
      "text/plain": [
       "array([[<matplotlib.axes._subplots.AxesSubplot object at 0x0000025A9D528278>,\n",
       "        <matplotlib.axes._subplots.AxesSubplot object at 0x0000025A9DCA2B38>],\n",
       "       [<matplotlib.axes._subplots.AxesSubplot object at 0x0000025A9DD28518>,\n",
       "        <matplotlib.axes._subplots.AxesSubplot object at 0x0000025A9DDA8EB8>]],\n",
       "      dtype=object)"
      ]
     },
     "execution_count": 21,
     "metadata": {},
     "output_type": "execute_result"
    },
    {
     "data": {
      "image/png": "[encoded data removed]",
      "text/plain": [
       "<Figure size 432x288 with 4 Axes>"
      ]
     },
     "metadata": {
      "needs_background": "light"
     },
     "output_type": "display_data"
    }
   ],
   "source": [
    "from sklearn import metrics\n",
    "inertias = []\n",
    "sils = []\n",
    "chs = []\n",
    "dbs = []\n",
    "sizes = range(2, 12)\n",
    "for k in sizes:\n",
    "    k2 = KMeans(random_state=42, n_clusters=k)\n",
    "    k2.fit(df3)\n",
    "    inertias.append(k2.inertia_)\n",
    "    sils.append(\n",
    "        metrics.silhouette_score(df3, k2.labels_)\n",
    "    )\n",
    "    chs.append(\n",
    "        metrics.calinski_harabasz_score(\n",
    "            df3, k2.labels_\n",
    "        )\n",
    "    )\n",
    "    dbs.append(\n",
    "        metrics.davies_bouldin_score(\n",
    "            df3, k2.labels_\n",
    "        )\n",
    "    )\n",
    "fig, ax = plt.subplots(figsize=(6, 4))\n",
    "(\n",
    "    pd.DataFrame(\n",
    "        {\n",
    "            \"inertia\": inertias,\n",
    "            \"silhouette\": sils,\n",
    "            \"calinski\": chs,\n",
    "            \"davis\": dbs,\n",
    "            \"k\": sizes,\n",
    "        }\n",
    "    )\n",
    "    .set_index(\"k\")\n",
    "    .plot(ax=ax, subplots=True, layout=(2, 2))\n",
    ")"
   ]
  },
  {
   "cell_type": "markdown",
   "metadata": {},
   "source": [
    "The inertia plot looks like the elbow is at 3. The silhouette, Calinski, and Davis plots all show a k of 2.  Next, use yellowbrick's silhouette plot feature to test several different values of k."
   ]
  },
  {
   "cell_type": "code",
   "execution_count": 22,
   "metadata": {},
   "outputs": [
    {
     "data": {
      "image/png": "[encoded data removed]",
      "text/plain": [
       "<Figure size 864x576 with 4 Axes>"
      ]
     },
     "metadata": {},
     "output_type": "display_data"
    }
   ],
   "source": [
    "from yellowbrick.cluster.silhouette import (\n",
    "    SilhouetteVisualizer,\n",
    ")\n",
    "fig, axes = plt.subplots(2, 2, figsize=(12, 8))\n",
    "axes = axes.reshape(4)\n",
    "for i, k in enumerate(range(2, 6)):\n",
    "    ax = axes[i]\n",
    "    sil = SilhouetteVisualizer(\n",
    "        KMeans(n_clusters=k, random_state=42),\n",
    "        ax=ax,\n",
    "    )\n",
    "    sil.fit(df3)\n",
    "    sil.finalize()\n",
    "    ax.set_xlim(-0.2, 0.8)\n",
    "plt.tight_layout()"
   ]
  },
  {
   "cell_type": "markdown",
   "metadata": {},
   "source": [
    "For the silhouette plots, you want to make sure that each cluster bumps out above the average line, and that the cluster scores look decent.  We think the first plot with 2 centers is the best plot that fits these criteria.  After reviewing multiple plots, we believe that 2 clusters should be imposed on the data."
   ]
  },
  {
   "cell_type": "markdown",
   "metadata": {},
   "source": [
    "<h3><b>Post-Clustering Exploratory Data Analysis</b></h3>"
   ]
  },
  {
   "cell_type": "markdown",
   "metadata": {},
   "source": [
    "Use the grouping functionality in pandas to examine the differences in the clusters."
   ]
  },
  {
   "cell_type": "code",
   "execution_count": 104,
   "metadata": {},
   "outputs": [
    {
     "name": "stdout",
     "output_type": "stream",
     "text": [
      "cluster                                    0         1\n",
      "Administrative                mean  0.020696  0.020749\n",
      "                              var   0.002738  0.001566\n",
      "Administrative_Duration       mean  0.406816  0.393321\n",
      "                              var   0.196606  0.182408\n",
      "Informational                 mean  0.005511  0.003789\n",
      "                              var   0.001792  0.000300\n",
      "Informational_Duration        mean  0.091238  0.106806\n",
      "                              var   0.059119  0.067821\n",
      "ProductRelated                mean  0.598275  0.625162\n",
      "                              var   0.160872  0.147146\n",
      "ExitRates                     mean  0.018394  0.012802\n",
      "                              var   0.003316  0.001870\n",
      "PageValues                    mean  0.060546  0.062438\n",
      "                              var   0.036927  0.035935\n",
      "SpecialDay                    mean  0.008002  0.006589\n",
      "                              var   0.002523  0.001513\n",
      "Month_Mar                     mean  0.146192  0.156941\n",
      "                              var   0.124868  0.132324\n",
      "Month_May                     mean  0.246077  0.280025\n",
      "                              var   0.185594  0.201632\n",
      "Month_June                    mean  0.022197  0.023670\n",
      "                              var   0.021712  0.023112\n",
      "Month_Jul                     mean  0.034443  0.035196\n",
      "                              var   0.033270  0.033961\n",
      "Month_Aug                     mean  0.036357  0.034784\n",
      "                              var   0.035048  0.033578\n",
      "Month_Sep                     mean  0.029851  0.038078\n",
      "                              var   0.028971  0.036631\n",
      "Month_Oct                     mean  0.058171  0.040856\n",
      "                              var   0.054808  0.039191\n",
      "Month_Nov                     mean  0.252583  0.240609\n",
      "                              var   0.188857  0.182735\n",
      "Month_Dec                     mean  0.148106  0.137903\n",
      "                              var   0.126219  0.118898\n",
      "OperatingSystems_1            mean  0.882128  0.028815\n",
      "                              var   0.104018  0.027988\n",
      "OperatingSystems_2            mean  0.005741  0.677781\n",
      "                              var   0.005710  0.218416\n",
      "OperatingSystems_3            mean  0.000383  0.262838\n",
      "                              var   0.000383  0.193774\n",
      "OperatingSystems_4            mean  0.106774  0.020480\n",
      "                              var   0.095410  0.020062\n",
      "OperatingSystems_6            mean  0.000000  0.001955\n",
      "                              var   0.000000  0.001952\n",
      "OperatingSystems_7            mean  0.002679  0.000000\n",
      "                              var   0.002673  0.000000\n",
      "OperatingSystems_8            mean  0.002296  0.007513\n",
      "                              var   0.002292  0.007457\n",
      "Browser_1                     mean  0.941829  0.000103\n",
      "                              var   0.054808  0.000103\n",
      "Browser_2                     mean  0.000000  0.819286\n",
      "                              var   0.000000  0.148072\n",
      "Browser_3                     mean  0.000000  0.010806\n",
      "                              var   0.000000  0.010690\n",
      "Browser_4                     mean  0.001148  0.075435\n",
      "                              var   0.001147  0.069752\n",
      "Browser_5                     mean  0.001914  0.047546\n",
      "                              var   0.001911  0.045290\n",
      "Browser_6                     mean  0.001531  0.017495\n",
      "                              var   0.001529  0.017191\n",
      "Browser_7                     mean  0.000000  0.005043\n",
      "                              var   0.000000  0.005018\n",
      "Browser_8                     mean  0.051665  0.000000\n",
      "                              var   0.049014  0.000000\n",
      "Browser_10                    mean  0.001148  0.016466\n",
      "                              var   0.001147  0.016197\n",
      "Browser_11                    mean  0.000000  0.000617\n",
      "                              var   0.000000  0.000617\n",
      "Browser_12                    mean  0.000000  0.001029\n",
      "                              var   0.000000  0.001028\n",
      "Browser_13                    mean  0.000765  0.006072\n",
      "                              var   0.000765  0.006036\n",
      "Region_1                      mean  0.419441  0.379129\n",
      "                              var   0.243604  0.235415\n",
      "Region_2                      mean  0.083429  0.094474\n",
      "                              var   0.076498  0.085557\n",
      "Region_3                      mean  0.209338  0.191005\n",
      "                              var   0.165579  0.154538\n",
      "Region_4                      mean  0.106774  0.092930\n",
      "                              var   0.095410  0.084303\n",
      "Region_6                      mean  0.060467  0.066584\n",
      "                              var   0.056832  0.062157\n",
      "Region_7                      mean  0.038270  0.068025\n",
      "                              var   0.036820  0.063404\n",
      "Region_8                      mean  0.039418  0.034064\n",
      "                              var   0.037879  0.032907\n",
      "Region_9                      mean  0.028320  0.044973\n",
      "                              var   0.027528  0.042955\n",
      "TrafficType_1                 mean  0.156908  0.210044\n",
      "                              var   0.132338  0.165943\n",
      "TrafficType_2                 mean  0.334099  0.312854\n",
      "                              var   0.222562  0.214998\n",
      "TrafficType_3                 mean  0.246460  0.144901\n",
      "                              var   0.185789  0.123917\n",
      "TrafficType_4                 mean  0.089552  0.085932\n",
      "                              var   0.081564  0.078556\n",
      "TrafficType_5                 mean  0.023345  0.020480\n",
      "                              var   0.022809  0.020062\n",
      "TrafficType_6                 mean  0.017222  0.041062\n",
      "                              var   0.016931  0.039380\n",
      "TrafficType_7                 mean  0.002296  0.003499\n",
      "                              var   0.002292  0.003487\n",
      "TrafficType_8                 mean  0.035974  0.025625\n",
      "                              var   0.034693  0.024971\n",
      "TrafficType_9                 mean  0.008037  0.002161\n",
      "                              var   0.007975  0.002157\n",
      "TrafficType_10                mean  0.043245  0.034681\n",
      "                              var   0.041391  0.033482\n",
      "TrafficType_11                mean  0.019518  0.020171\n",
      "                              var   0.019144  0.019766\n",
      "TrafficType_12                mean  0.000000  0.000103\n",
      "                              var   0.000000  0.000103\n",
      "TrafficType_13                mean  0.001148  0.075641\n",
      "                              var   0.001147  0.069926\n",
      "TrafficType_14                mean  0.000000  0.001338\n",
      "                              var   0.000000  0.001336\n",
      "TrafficType_15                mean  0.009568  0.001338\n",
      "                              var   0.009480  0.001336\n",
      "TrafficType_16                mean  0.000000  0.000309\n",
      "                              var   0.000000  0.000309\n",
      "TrafficType_18                mean  0.000000  0.001029\n",
      "                              var   0.000000  0.001028\n",
      "TrafficType_19                mean  0.001148  0.001441\n",
      "                              var   0.001147  0.001439\n",
      "TrafficType_20                mean  0.011098  0.017392\n",
      "                              var   0.010979  0.017091\n",
      "VisitorType_New_Visitor       mean  0.155760  0.132448\n",
      "                              var   0.131549  0.114918\n",
      "VisitorType_Returning_Visitor mean  0.841944  0.859422\n",
      "                              var   0.133125  0.120829\n",
      "Weekend                       mean  0.287409  0.217866\n",
      "                              var   0.204884  0.170418\n"
     ]
    }
   ],
   "source": [
    "km = KMeans(n_clusters=2)\n",
    "km.fit(df3)\n",
    "labels = km.predict(df3)\n",
    "pd.set_option('display.max_rows', None) \n",
    "print((df3.assign(cluster=labels)\n",
    "    .groupby(\"cluster\")\n",
    "    .agg([\"mean\", \"var\"])\n",
    "    .T))"
   ]
  },
  {
   "cell_type": "markdown",
   "metadata": {},
   "source": [
    "It appears that the mean value for OperatingSystems_1, OperatingSystems_2, OperatingSystems_3, OperatingSystems_4, Browser_1, Browser_2, Browser_8 and TrafficType_13 varies quite a bit between cluster 0 and 1.  Let's plot this so it'll be easier to see."
   ]
  },
  {
   "cell_type": "code",
   "execution_count": 105,
   "metadata": {},
   "outputs": [
    {
     "data": {
      "text/plain": [
       "<matplotlib.axes._subplots.AxesSubplot at 0x25a9de58ba8>"
      ]
     },
     "execution_count": 105,
     "metadata": {},
     "output_type": "execute_result"
    },
    {
     "data": {
      "image/png": "[encoded data removed]",
      "text/plain": [
       "<Figure size 1152x1008 with 1 Axes>"
      ]
     },
     "metadata": {},
     "output_type": "display_data"
    }
   ],
   "source": [
    "#Highlight the high and low values of each row.\n",
    "\n",
    "fig, ax = plt.subplots(figsize=(16, 14))\n",
    "(\n",
    "    df3.assign(cluster=labels)\n",
    "    .groupby(\"cluster\")\n",
    "    .mean()\n",
    "    .T.plot.bar(ax=ax)\n",
    ")"
   ]
  },
  {
   "cell_type": "markdown",
   "metadata": {},
   "source": [
    "We see noticeable differences between the means of cluster 0 and 1 for the following attributes: OperatingSystems_1, OperatingSystems_2, OperatingSystems_3, OperatingSystems_4, Browser_1, Browser_2, Browser_8 and TrafficType_13."
   ]
  },
  {
   "cell_type": "code",
   "execution_count": 25,
   "metadata": {},
   "outputs": [
    {
     "name": "stdout",
     "output_type": "stream",
     "text": [
      "Browser_1      0.927\n",
      "Browser_8      0.064\n",
      "Browser_2      0.008\n",
      "OperatingSystems_1     0.000\n",
      "Region_7       0.000\n",
      "OperatingSystems_2     0.000\n",
      "Administrative     0.000\n",
      "Administrative_Duration     0.000\n",
      "Informational     0.000\n",
      "Informational_Duration     0.000\n",
      "ProductRelated     0.000\n",
      "ExitRates      0.000\n",
      "PageValues     0.000\n",
      "SpecialDay     0.000\n",
      "Month_Mar      0.000\n",
      "Month_May      0.000\n",
      "Month_June     0.000\n",
      "Month_Jul      0.000\n",
      "Month_Aug      0.000\n",
      "Month_Sep      0.000\n",
      "Month_Oct      0.000\n",
      "Month_Nov      0.000\n",
      "Month_Dec      0.000\n",
      "OperatingSystems_3     0.000\n",
      "OperatingSystems_4     0.000\n",
      "OperatingSystems_6     0.000\n",
      "OperatingSystems_7     0.000\n",
      "OperatingSystems_8     0.000\n",
      "Browser_3      0.000\n",
      "Browser_4      0.000\n",
      "Browser_5      0.000\n",
      "Browser_6      0.000\n",
      "Browser_7      0.000\n",
      "Browser_10     0.000\n",
      "Browser_11     0.000\n",
      "Browser_12     0.000\n",
      "Browser_13     0.000\n",
      "Region_1       0.000\n",
      "Region_2       0.000\n",
      "Region_3       0.000\n",
      "Region_4       0.000\n",
      "Region_6       0.000\n",
      "Region_8       0.000\n",
      "Region_9       0.000\n",
      "TrafficType_1     0.000\n",
      "TrafficType_2     0.000\n",
      "TrafficType_3     0.000\n",
      "TrafficType_4     0.000\n",
      "TrafficType_5     0.000\n",
      "TrafficType_6     0.000\n",
      "TrafficType_7     0.000\n",
      "TrafficType_8     0.000\n",
      "TrafficType_9     0.000\n",
      "TrafficType_10     0.000\n",
      "TrafficType_11     0.000\n",
      "TrafficType_12     0.000\n",
      "TrafficType_13     0.000\n",
      "TrafficType_14     0.000\n",
      "TrafficType_15     0.000\n",
      "TrafficType_16     0.000\n",
      "TrafficType_18     0.000\n",
      "TrafficType_19     0.000\n",
      "TrafficType_20     0.000\n",
      "VisitorType_New_Visitor     0.000\n",
      "VisitorType_Returning_Visitor     0.000\n",
      "Weekend        0.000\n"
     ]
    }
   ],
   "source": [
    "#Create a surrogate model to explain the clusters. \n",
    "\n",
    "from sklearn import tree\n",
    "dt = tree.DecisionTreeClassifier()\n",
    "dt.fit(df3, labels)\n",
    "for col, val in sorted(\n",
    "    zip(df3.columns, dt.feature_importances_),\n",
    "    key=lambda col_val: col_val[1],\n",
    "    reverse=True,\n",
    "):\n",
    "    print(f\"{col:10}{val:10.3f}\")"
   ]
  },
  {
   "cell_type": "markdown",
   "metadata": {},
   "source": [
    "This shows that Browser_1, which also had a large difference in the mean, is very important."
   ]
  },
  {
   "cell_type": "markdown",
   "metadata": {},
   "source": [
    "<h3><b>Clustering Output vs. Actual Labels</b></h3>"
   ]
  },
  {
   "cell_type": "markdown",
   "metadata": {},
   "source": [
    "Let’s set the number of clusters as 2 and fit the model.  Then, let’s look at the value count of points in each of the clusters."
   ]
  },
  {
   "cell_type": "code",
   "execution_count": 100,
   "metadata": {},
   "outputs": [],
   "source": [
    "k = 2\n",
    "kmeans = KMeans(n_clusters=k, random_state=42)\n",
    "y_pred = kmeans.fit_predict(df3)"
   ]
  },
  {
   "cell_type": "code",
   "execution_count": 96,
   "metadata": {},
   "outputs": [
    {
     "data": {
      "text/plain": [
       "array([1, 0, 0, ..., 0, 0, 1])"
      ]
     },
     "execution_count": 96,
     "metadata": {},
     "output_type": "execute_result"
    }
   ],
   "source": [
    "y_pred"
   ]
  },
  {
   "cell_type": "code",
   "execution_count": 97,
   "metadata": {},
   "outputs": [],
   "source": [
    "Revenue = pd.DataFrame(y_pred, columns = ['Revenue'])"
   ]
  },
  {
   "cell_type": "markdown",
   "metadata": {},
   "source": [
    "Add the cluster output \"Revenue\" column to the data frame."
   ]
  },
  {
   "cell_type": "code",
   "execution_count": 30,
   "metadata": {},
   "outputs": [
    {
     "data": {
      "text/html": [
       "<div>\n",
       "<style scoped>\n",
       "    .dataframe tbody tr th:only-of-type {\n",
       "        vertical-align: middle;\n",
       "    }\n",
       "\n",
       "    .dataframe tbody tr th {\n",
       "        vertical-align: top;\n",
       "    }\n",
       "\n",
       "    .dataframe thead th {\n",
       "        text-align: right;\n",
       "    }\n",
       "</style>\n",
       "<table border=\"1\" class=\"dataframe\">\n",
       "  <thead>\n",
       "    <tr style=\"text-align: right;\">\n",
       "      <th></th>\n",
       "      <th>Administrative</th>\n",
       "      <th>Administrative_Duration</th>\n",
       "      <th>Informational</th>\n",
       "      <th>Informational_Duration</th>\n",
       "      <th>ProductRelated</th>\n",
       "      <th>ExitRates</th>\n",
       "      <th>PageValues</th>\n",
       "      <th>SpecialDay</th>\n",
       "      <th>Month_Mar</th>\n",
       "      <th>Month_May</th>\n",
       "      <th>...</th>\n",
       "      <th>TrafficType_14</th>\n",
       "      <th>TrafficType_15</th>\n",
       "      <th>TrafficType_16</th>\n",
       "      <th>TrafficType_18</th>\n",
       "      <th>TrafficType_19</th>\n",
       "      <th>TrafficType_20</th>\n",
       "      <th>VisitorType_New_Visitor</th>\n",
       "      <th>VisitorType_Returning_Visitor</th>\n",
       "      <th>Weekend</th>\n",
       "      <th>Revenue</th>\n",
       "    </tr>\n",
       "  </thead>\n",
       "  <tbody>\n",
       "    <tr>\n",
       "      <th>0</th>\n",
       "      <td>0.000000</td>\n",
       "      <td>0.000000</td>\n",
       "      <td>0.000000</td>\n",
       "      <td>0.000000</td>\n",
       "      <td>0.147957</td>\n",
       "      <td>0.000528</td>\n",
       "      <td>0.988994</td>\n",
       "      <td>0.0</td>\n",
       "      <td>0</td>\n",
       "      <td>1</td>\n",
       "      <td>...</td>\n",
       "      <td>0</td>\n",
       "      <td>0</td>\n",
       "      <td>0</td>\n",
       "      <td>0</td>\n",
       "      <td>0</td>\n",
       "      <td>0</td>\n",
       "      <td>1</td>\n",
       "      <td>0</td>\n",
       "      <td>1</td>\n",
       "      <td>1</td>\n",
       "    </tr>\n",
       "    <tr>\n",
       "      <th>1</th>\n",
       "      <td>0.000000</td>\n",
       "      <td>0.000000</td>\n",
       "      <td>0.000000</td>\n",
       "      <td>0.000000</td>\n",
       "      <td>0.999994</td>\n",
       "      <td>0.003401</td>\n",
       "      <td>0.000000</td>\n",
       "      <td>0.0</td>\n",
       "      <td>1</td>\n",
       "      <td>0</td>\n",
       "      <td>...</td>\n",
       "      <td>0</td>\n",
       "      <td>0</td>\n",
       "      <td>0</td>\n",
       "      <td>0</td>\n",
       "      <td>0</td>\n",
       "      <td>0</td>\n",
       "      <td>0</td>\n",
       "      <td>1</td>\n",
       "      <td>0</td>\n",
       "      <td>0</td>\n",
       "    </tr>\n",
       "    <tr>\n",
       "      <th>2</th>\n",
       "      <td>0.044264</td>\n",
       "      <td>0.414973</td>\n",
       "      <td>0.022132</td>\n",
       "      <td>0.907408</td>\n",
       "      <td>0.044264</td>\n",
       "      <td>0.000194</td>\n",
       "      <td>0.000000</td>\n",
       "      <td>0.0</td>\n",
       "      <td>0</td>\n",
       "      <td>0</td>\n",
       "      <td>...</td>\n",
       "      <td>0</td>\n",
       "      <td>0</td>\n",
       "      <td>0</td>\n",
       "      <td>0</td>\n",
       "      <td>0</td>\n",
       "      <td>0</td>\n",
       "      <td>1</td>\n",
       "      <td>0</td>\n",
       "      <td>0</td>\n",
       "      <td>0</td>\n",
       "    </tr>\n",
       "    <tr>\n",
       "      <th>3</th>\n",
       "      <td>0.034226</td>\n",
       "      <td>0.989993</td>\n",
       "      <td>0.000000</td>\n",
       "      <td>0.000000</td>\n",
       "      <td>0.136905</td>\n",
       "      <td>0.000103</td>\n",
       "      <td>0.000000</td>\n",
       "      <td>0.0</td>\n",
       "      <td>0</td>\n",
       "      <td>0</td>\n",
       "      <td>...</td>\n",
       "      <td>0</td>\n",
       "      <td>0</td>\n",
       "      <td>0</td>\n",
       "      <td>0</td>\n",
       "      <td>0</td>\n",
       "      <td>0</td>\n",
       "      <td>0</td>\n",
       "      <td>1</td>\n",
       "      <td>0</td>\n",
       "      <td>1</td>\n",
       "    </tr>\n",
       "    <tr>\n",
       "      <th>4</th>\n",
       "      <td>0.014902</td>\n",
       "      <td>0.894129</td>\n",
       "      <td>0.014902</td>\n",
       "      <td>0.223532</td>\n",
       "      <td>0.387456</td>\n",
       "      <td>0.000057</td>\n",
       "      <td>0.000000</td>\n",
       "      <td>0.0</td>\n",
       "      <td>0</td>\n",
       "      <td>1</td>\n",
       "      <td>...</td>\n",
       "      <td>0</td>\n",
       "      <td>0</td>\n",
       "      <td>0</td>\n",
       "      <td>0</td>\n",
       "      <td>0</td>\n",
       "      <td>0</td>\n",
       "      <td>0</td>\n",
       "      <td>1</td>\n",
       "      <td>0</td>\n",
       "      <td>0</td>\n",
       "    </tr>\n",
       "  </tbody>\n",
       "</table>\n",
       "<p>5 rows × 67 columns</p>\n",
       "</div>"
      ],
      "text/plain": [
       "   Administrative  Administrative_Duration  Informational  \\\n",
       "0        0.000000                 0.000000       0.000000   \n",
       "1        0.000000                 0.000000       0.000000   \n",
       "2        0.044264                 0.414973       0.022132   \n",
       "3        0.034226                 0.989993       0.000000   \n",
       "4        0.014902                 0.894129       0.014902   \n",
       "\n",
       "   Informational_Duration  ProductRelated  ExitRates  PageValues  SpecialDay  \\\n",
       "0                0.000000        0.147957   0.000528    0.988994         0.0   \n",
       "1                0.000000        0.999994   0.003401    0.000000         0.0   \n",
       "2                0.907408        0.044264   0.000194    0.000000         0.0   \n",
       "3                0.000000        0.136905   0.000103    0.000000         0.0   \n",
       "4                0.223532        0.387456   0.000057    0.000000         0.0   \n",
       "\n",
       "   Month_Mar  Month_May  ...  TrafficType_14  TrafficType_15  TrafficType_16  \\\n",
       "0          0          1  ...               0               0               0   \n",
       "1          1          0  ...               0               0               0   \n",
       "2          0          0  ...               0               0               0   \n",
       "3          0          0  ...               0               0               0   \n",
       "4          0          1  ...               0               0               0   \n",
       "\n",
       "   TrafficType_18  TrafficType_19  TrafficType_20  VisitorType_New_Visitor  \\\n",
       "0               0               0               0                        1   \n",
       "1               0               0               0                        0   \n",
       "2               0               0               0                        1   \n",
       "3               0               0               0                        0   \n",
       "4               0               0               0                        0   \n",
       "\n",
       "   VisitorType_Returning_Visitor  Weekend  Revenue  \n",
       "0                              0        1        1  \n",
       "1                              1        0        0  \n",
       "2                              0        0        0  \n",
       "3                              1        0        1  \n",
       "4                              1        0        0  \n",
       "\n",
       "[5 rows x 67 columns]"
      ]
     },
     "execution_count": 30,
     "metadata": {},
     "output_type": "execute_result"
    }
   ],
   "source": [
    "#Concatenate the data frame with the actual classification labels.\n",
    "df4 = pd.concat([df3, Revenue], axis=1)\n",
    "\n",
    "#Check results\n",
    "df4.head()"
   ]
  },
  {
   "cell_type": "markdown",
   "metadata": {},
   "source": [
    "Read the Project2_Data_Labels.csv file from your Github repository and add its content to another \n",
    "new column within your Pandas data frame. "
   ]
  },
  {
   "cell_type": "code",
   "execution_count": 31,
   "metadata": {},
   "outputs": [],
   "source": [
    "#Read in the csv from Github\n",
    "V_Revenue = pd.read_csv(\"https://raw.githubusercontent.com/annaimhoff/DAV-6150/main/Project2_Data_Labels.csv\", sep=',')\n",
    "V_Revenue.rename(\n",
    "    columns=({ 'Revenue': 'V_Revenue'}), \n",
    "    inplace=True,)"
   ]
  },
  {
   "cell_type": "markdown",
   "metadata": {},
   "source": [
    "Convert V_Revenue values of True/False to 1/0"
   ]
  },
  {
   "cell_type": "code",
   "execution_count": 32,
   "metadata": {},
   "outputs": [
    {
     "data": {
      "text/html": [
       "<div>\n",
       "<style scoped>\n",
       "    .dataframe tbody tr th:only-of-type {\n",
       "        vertical-align: middle;\n",
       "    }\n",
       "\n",
       "    .dataframe tbody tr th {\n",
       "        vertical-align: top;\n",
       "    }\n",
       "\n",
       "    .dataframe thead th {\n",
       "        text-align: right;\n",
       "    }\n",
       "</style>\n",
       "<table border=\"1\" class=\"dataframe\">\n",
       "  <thead>\n",
       "    <tr style=\"text-align: right;\">\n",
       "      <th></th>\n",
       "      <th>V_Revenue</th>\n",
       "    </tr>\n",
       "  </thead>\n",
       "  <tbody>\n",
       "    <tr>\n",
       "      <th>0</th>\n",
       "      <td>1</td>\n",
       "    </tr>\n",
       "    <tr>\n",
       "      <th>1</th>\n",
       "      <td>0</td>\n",
       "    </tr>\n",
       "    <tr>\n",
       "      <th>2</th>\n",
       "      <td>0</td>\n",
       "    </tr>\n",
       "    <tr>\n",
       "      <th>3</th>\n",
       "      <td>0</td>\n",
       "    </tr>\n",
       "    <tr>\n",
       "      <th>4</th>\n",
       "      <td>0</td>\n",
       "    </tr>\n",
       "  </tbody>\n",
       "</table>\n",
       "</div>"
      ],
      "text/plain": [
       "   V_Revenue\n",
       "0          1\n",
       "1          0\n",
       "2          0\n",
       "3          0\n",
       "4          0"
      ]
     },
     "execution_count": 32,
     "metadata": {},
     "output_type": "execute_result"
    }
   ],
   "source": [
    "#Change the data type to int\n",
    "V_Revenue = V_Revenue.astype(int)\n",
    "\n",
    "#Replace True/False with 1/0\n",
    "V_Revenue = V_Revenue.replace(to_replace = ['True','False'],value = [1,0])\n",
    "\n",
    "#View the data frame to ensure the changes were made\n",
    "V_Revenue.head()"
   ]
  },
  {
   "cell_type": "markdown",
   "metadata": {},
   "source": [
    "Add V_Revenue to the data frame."
   ]
  },
  {
   "cell_type": "code",
   "execution_count": 33,
   "metadata": {},
   "outputs": [
    {
     "data": {
      "text/html": [
       "<div>\n",
       "<style scoped>\n",
       "    .dataframe tbody tr th:only-of-type {\n",
       "        vertical-align: middle;\n",
       "    }\n",
       "\n",
       "    .dataframe tbody tr th {\n",
       "        vertical-align: top;\n",
       "    }\n",
       "\n",
       "    .dataframe thead th {\n",
       "        text-align: right;\n",
       "    }\n",
       "</style>\n",
       "<table border=\"1\" class=\"dataframe\">\n",
       "  <thead>\n",
       "    <tr style=\"text-align: right;\">\n",
       "      <th></th>\n",
       "      <th>Administrative</th>\n",
       "      <th>Administrative_Duration</th>\n",
       "      <th>Informational</th>\n",
       "      <th>Informational_Duration</th>\n",
       "      <th>ProductRelated</th>\n",
       "      <th>ExitRates</th>\n",
       "      <th>PageValues</th>\n",
       "      <th>SpecialDay</th>\n",
       "      <th>Month_Mar</th>\n",
       "      <th>Month_May</th>\n",
       "      <th>...</th>\n",
       "      <th>TrafficType_15</th>\n",
       "      <th>TrafficType_16</th>\n",
       "      <th>TrafficType_18</th>\n",
       "      <th>TrafficType_19</th>\n",
       "      <th>TrafficType_20</th>\n",
       "      <th>VisitorType_New_Visitor</th>\n",
       "      <th>VisitorType_Returning_Visitor</th>\n",
       "      <th>Weekend</th>\n",
       "      <th>Revenue</th>\n",
       "      <th>V_Revenue</th>\n",
       "    </tr>\n",
       "  </thead>\n",
       "  <tbody>\n",
       "    <tr>\n",
       "      <th>0</th>\n",
       "      <td>0.000000</td>\n",
       "      <td>0.000000</td>\n",
       "      <td>0.000000</td>\n",
       "      <td>0.000000</td>\n",
       "      <td>0.147957</td>\n",
       "      <td>0.000528</td>\n",
       "      <td>0.988994</td>\n",
       "      <td>0.0</td>\n",
       "      <td>0</td>\n",
       "      <td>1</td>\n",
       "      <td>...</td>\n",
       "      <td>0</td>\n",
       "      <td>0</td>\n",
       "      <td>0</td>\n",
       "      <td>0</td>\n",
       "      <td>0</td>\n",
       "      <td>1</td>\n",
       "      <td>0</td>\n",
       "      <td>1</td>\n",
       "      <td>1</td>\n",
       "      <td>1</td>\n",
       "    </tr>\n",
       "    <tr>\n",
       "      <th>1</th>\n",
       "      <td>0.000000</td>\n",
       "      <td>0.000000</td>\n",
       "      <td>0.000000</td>\n",
       "      <td>0.000000</td>\n",
       "      <td>0.999994</td>\n",
       "      <td>0.003401</td>\n",
       "      <td>0.000000</td>\n",
       "      <td>0.0</td>\n",
       "      <td>1</td>\n",
       "      <td>0</td>\n",
       "      <td>...</td>\n",
       "      <td>0</td>\n",
       "      <td>0</td>\n",
       "      <td>0</td>\n",
       "      <td>0</td>\n",
       "      <td>0</td>\n",
       "      <td>0</td>\n",
       "      <td>1</td>\n",
       "      <td>0</td>\n",
       "      <td>0</td>\n",
       "      <td>0</td>\n",
       "    </tr>\n",
       "    <tr>\n",
       "      <th>2</th>\n",
       "      <td>0.044264</td>\n",
       "      <td>0.414973</td>\n",
       "      <td>0.022132</td>\n",
       "      <td>0.907408</td>\n",
       "      <td>0.044264</td>\n",
       "      <td>0.000194</td>\n",
       "      <td>0.000000</td>\n",
       "      <td>0.0</td>\n",
       "      <td>0</td>\n",
       "      <td>0</td>\n",
       "      <td>...</td>\n",
       "      <td>0</td>\n",
       "      <td>0</td>\n",
       "      <td>0</td>\n",
       "      <td>0</td>\n",
       "      <td>0</td>\n",
       "      <td>1</td>\n",
       "      <td>0</td>\n",
       "      <td>0</td>\n",
       "      <td>0</td>\n",
       "      <td>0</td>\n",
       "    </tr>\n",
       "    <tr>\n",
       "      <th>3</th>\n",
       "      <td>0.034226</td>\n",
       "      <td>0.989993</td>\n",
       "      <td>0.000000</td>\n",
       "      <td>0.000000</td>\n",
       "      <td>0.136905</td>\n",
       "      <td>0.000103</td>\n",
       "      <td>0.000000</td>\n",
       "      <td>0.0</td>\n",
       "      <td>0</td>\n",
       "      <td>0</td>\n",
       "      <td>...</td>\n",
       "      <td>0</td>\n",
       "      <td>0</td>\n",
       "      <td>0</td>\n",
       "      <td>0</td>\n",
       "      <td>0</td>\n",
       "      <td>0</td>\n",
       "      <td>1</td>\n",
       "      <td>0</td>\n",
       "      <td>1</td>\n",
       "      <td>0</td>\n",
       "    </tr>\n",
       "    <tr>\n",
       "      <th>4</th>\n",
       "      <td>0.014902</td>\n",
       "      <td>0.894129</td>\n",
       "      <td>0.014902</td>\n",
       "      <td>0.223532</td>\n",
       "      <td>0.387456</td>\n",
       "      <td>0.000057</td>\n",
       "      <td>0.000000</td>\n",
       "      <td>0.0</td>\n",
       "      <td>0</td>\n",
       "      <td>1</td>\n",
       "      <td>...</td>\n",
       "      <td>0</td>\n",
       "      <td>0</td>\n",
       "      <td>0</td>\n",
       "      <td>0</td>\n",
       "      <td>0</td>\n",
       "      <td>0</td>\n",
       "      <td>1</td>\n",
       "      <td>0</td>\n",
       "      <td>0</td>\n",
       "      <td>0</td>\n",
       "    </tr>\n",
       "  </tbody>\n",
       "</table>\n",
       "<p>5 rows × 68 columns</p>\n",
       "</div>"
      ],
      "text/plain": [
       "   Administrative  Administrative_Duration  Informational  \\\n",
       "0        0.000000                 0.000000       0.000000   \n",
       "1        0.000000                 0.000000       0.000000   \n",
       "2        0.044264                 0.414973       0.022132   \n",
       "3        0.034226                 0.989993       0.000000   \n",
       "4        0.014902                 0.894129       0.014902   \n",
       "\n",
       "   Informational_Duration  ProductRelated  ExitRates  PageValues  SpecialDay  \\\n",
       "0                0.000000        0.147957   0.000528    0.988994         0.0   \n",
       "1                0.000000        0.999994   0.003401    0.000000         0.0   \n",
       "2                0.907408        0.044264   0.000194    0.000000         0.0   \n",
       "3                0.000000        0.136905   0.000103    0.000000         0.0   \n",
       "4                0.223532        0.387456   0.000057    0.000000         0.0   \n",
       "\n",
       "   Month_Mar  Month_May  ...  TrafficType_15  TrafficType_16  TrafficType_18  \\\n",
       "0          0          1  ...               0               0               0   \n",
       "1          1          0  ...               0               0               0   \n",
       "2          0          0  ...               0               0               0   \n",
       "3          0          0  ...               0               0               0   \n",
       "4          0          1  ...               0               0               0   \n",
       "\n",
       "   TrafficType_19  TrafficType_20  VisitorType_New_Visitor  \\\n",
       "0               0               0                        1   \n",
       "1               0               0                        0   \n",
       "2               0               0                        1   \n",
       "3               0               0                        0   \n",
       "4               0               0                        0   \n",
       "\n",
       "   VisitorType_Returning_Visitor  Weekend  Revenue  V_Revenue  \n",
       "0                              0        1        1          1  \n",
       "1                              1        0        0          0  \n",
       "2                              0        0        0          0  \n",
       "3                              1        0        1          0  \n",
       "4                              1        0        0          0  \n",
       "\n",
       "[5 rows x 68 columns]"
      ]
     },
     "execution_count": 33,
     "metadata": {},
     "output_type": "execute_result"
    }
   ],
   "source": [
    "#Concatenate the data frame with the actual classification labels.\n",
    "df5 = pd.concat([df4, V_Revenue], axis=1)\n",
    "\n",
    "#Check results\n",
    "df5.head()"
   ]
  },
  {
   "cell_type": "markdown",
   "metadata": {},
   "source": [
    "<b>Calculate some basic comparative statistics between the two columns to demonstrate their similarities and differences. <b>"
   ]
  },
  {
   "cell_type": "markdown",
   "metadata": {},
   "source": [
    "Calculate the null error rate"
   ]
  },
  {
   "cell_type": "code",
   "execution_count": 34,
   "metadata": {},
   "outputs": [
    {
     "data": {
      "text/plain": [
       "0.8452554744525548"
      ]
     },
     "execution_count": 34,
     "metadata": {},
     "output_type": "execute_result"
    }
   ],
   "source": [
    "#Null error rate\n",
    "NRE = df5.V_Revenue.value_counts()[1]/(df5.V_Revenue.value_counts()[0] + df5.V_Revenue.value_counts()[1])\n",
    "Error_Rate = 1 - NRE\n",
    "Error_Rate"
   ]
  },
  {
   "cell_type": "code",
   "execution_count": 35,
   "metadata": {},
   "outputs": [
    {
     "data": {
      "text/plain": [
       "0    9717\n",
       "1    2613\n",
       "Name: Revenue, dtype: int64"
      ]
     },
     "execution_count": 35,
     "metadata": {},
     "output_type": "execute_result"
    }
   ],
   "source": [
    "df5.Revenue.value_counts()"
   ]
  },
  {
   "cell_type": "markdown",
   "metadata": {},
   "source": [
    "There are 9,717 data points belonging to cluster 0 and 2,613 data points belonging to cluster 1."
   ]
  },
  {
   "cell_type": "code",
   "execution_count": 36,
   "metadata": {},
   "outputs": [
    {
     "data": {
      "image/png": "[encoded data removed]",
      "text/plain": [
       "<Figure size 360x360 with 1 Axes>"
      ]
     },
     "metadata": {},
     "output_type": "display_data"
    }
   ],
   "source": [
    "plt.figure(figsize=(5,5))\n",
    "sns.countplot(x='Revenue', data=df5, palette='hls')\n",
    "plt.show()"
   ]
  },
  {
   "cell_type": "code",
   "execution_count": 37,
   "metadata": {},
   "outputs": [
    {
     "name": "stdout",
     "output_type": "stream",
     "text": [
      "% of no purchase is 79\n",
      "% of made a purchase is 21\n"
     ]
    }
   ],
   "source": [
    "#Calculate the imbalance of TRevenue\n",
    "count_no_purch = len(df4[df4['Revenue']==0])\n",
    "count_purch = len(df4[df4['Revenue']==1])\n",
    "pct_of_no_purch = count_no_purch/(count_no_purch + count_purch)\n",
    "print(\"% of no purchase is\", round(pct_of_no_purch * 100))\n",
    "pct_of_purch = count_purch/(count_no_purch + count_purch)\n",
    "print(\"% of made a purchase is\", round(pct_of_purch * 100))"
   ]
  },
  {
   "cell_type": "markdown",
   "metadata": {},
   "source": [
    "We see that the clusters are imbalanced.  Revenue predicted that 79% of website visitors did not make a purchase and 21% of website visitors did make a purchase."
   ]
  },
  {
   "cell_type": "code",
   "execution_count": 38,
   "metadata": {},
   "outputs": [
    {
     "data": {
      "text/plain": [
       "0    10422\n",
       "1     1908\n",
       "Name: V_Revenue, dtype: int64"
      ]
     },
     "execution_count": 38,
     "metadata": {},
     "output_type": "execute_result"
    }
   ],
   "source": [
    "df5.V_Revenue.value_counts()"
   ]
  },
  {
   "cell_type": "markdown",
   "metadata": {},
   "source": [
    "The class labels showed that 10,422 visitors did not make a purchase and 1,908 visitors did make a purchase."
   ]
  },
  {
   "cell_type": "code",
   "execution_count": 39,
   "metadata": {},
   "outputs": [
    {
     "data": {
      "image/png": "[encoded data removed]",
      "text/plain": [
       "<Figure size 360x360 with 1 Axes>"
      ]
     },
     "metadata": {},
     "output_type": "display_data"
    }
   ],
   "source": [
    "plt.figure(figsize=(5,5))\n",
    "sns.countplot(x='V_Revenue', data=df5, palette='hls')\n",
    "plt.show()"
   ]
  },
  {
   "cell_type": "code",
   "execution_count": 40,
   "metadata": {},
   "outputs": [
    {
     "name": "stdout",
     "output_type": "stream",
     "text": [
      "% of no purchase is 85\n",
      "% of made a purchase is 15\n"
     ]
    }
   ],
   "source": [
    "#Calculate the imbalance of V_Revenue\n",
    "count_no_purch2 = len(df5[df5['V_Revenue']==0])\n",
    "count_purch2 = len(df5[df5['V_Revenue']==1])\n",
    "pct_of_no_purch2 = count_no_purch2/(count_no_purch2 + count_purch2)\n",
    "print(\"% of no purchase is\", round(pct_of_no_purch2 * 100))\n",
    "pct_of_purch2 = count_purch2/(count_no_purch2 + count_purch2)\n",
    "print(\"% of made a purchase is\", round(pct_of_purch2 * 100))"
   ]
  },
  {
   "cell_type": "markdown",
   "metadata": {},
   "source": [
    "The class labels for V_Revenue show that 85% of website visitors did not make a purchase and 15% of website visitors did make a purchase."
   ]
  },
  {
   "cell_type": "markdown",
   "metadata": {},
   "source": [
    "Find the differences between Revenue and V_Revenue."
   ]
  },
  {
   "cell_type": "code",
   "execution_count": 101,
   "metadata": {},
   "outputs": [
    {
     "name": "stdout",
     "output_type": "stream",
     "text": [
      "              precision    recall  f1-score   support\n",
      "\n",
      "           0       0.84      0.79      0.81     10422\n",
      "           1       0.15      0.20      0.17      1908\n",
      "\n",
      "    accuracy                           0.70     12330\n",
      "   macro avg       0.50      0.49      0.49     12330\n",
      "weighted avg       0.74      0.70      0.71     12330\n",
      "\n",
      "[[8197 2225]\n",
      " [1520  388]]\n",
      "Precision: 0.1484883275928052\n",
      "F1 score: 0.17164344171643442\n",
      "Accuracy: 0.6962692619626926\n"
     ]
    }
   ],
   "source": [
    "from sklearn.metrics import confusion_matrix, f1_score, classification_report, precision_score\n",
    "\n",
    "print(classification_report(df5['V_Revenue'], df5['Revenue']))\n",
    "print(confusion_matrix(df5['V_Revenue'], df5['Revenue']))\n",
    "\n",
    "p = precision_score(df5['V_Revenue'], df5['Revenue'])\n",
    "f = f1_score(df5['V_Revenue'], df5['Revenue'])\n",
    "a = metrics.accuracy_score(df5['V_Revenue'], df5['Revenue'])\n",
    "\n",
    "print(\"Precision:\", p)\n",
    "print(\"F1 score:\", f) \n",
    "print(\"Accuracy:\", a)"
   ]
  },
  {
   "cell_type": "markdown",
   "metadata": {},
   "source": [
    "According to the confusion matrix, there are 8,197 true negatives, 2,225 false positives, 1,520 false negatives, and 388 true positives. The clustering algorithm matched the class labels about 69.6% of the time.  However, our classes are imbalanced, and the null error rate is 84.5% so 68.6% isn't actually that good. Also, our precision is only 14.8% and our F1 score is 17.2%. Clustering was not very good at predicting when a website visitor will make a purchase."
   ]
  },
  {
   "cell_type": "markdown",
   "metadata": {},
   "source": [
    "<h3><b>SVM Modeling</b></h3>"
   ]
  },
  {
   "cell_type": "markdown",
   "metadata": {},
   "source": [
    "Logistic Regression Feature Selection"
   ]
  },
  {
   "cell_type": "code",
   "execution_count": 43,
   "metadata": {},
   "outputs": [
    {
     "data": {
      "image/png": "[encoded data removed]",
      "text/plain": [
       "<Figure size 720x1152 with 1 Axes>"
      ]
     },
     "metadata": {},
     "output_type": "display_data"
    },
    {
     "data": {
      "text/plain": [
       "<matplotlib.axes._subplots.AxesSubplot at 0x25a9d95b160>"
      ]
     },
     "execution_count": 43,
     "metadata": {},
     "output_type": "execute_result"
    }
   ],
   "source": [
    "from yellowbrick.classifier import ROCAUC\n",
    "from yellowbrick.contrib.wrapper import wrap\n",
    "from yellowbrick.model_selection import FeatureImportances\n",
    "from sklearn.linear_model import LogisticRegression\n",
    "\n",
    "X = df5.iloc[:,0:66]\n",
    "y = df5.Revenue\n",
    "\n",
    "lr = LogisticRegression(random_state=42)\n",
    "fig, ax = plt.subplots(figsize=(10, 16))\n",
    "fi_viz = FeatureImportances(lr)\n",
    "fi_viz.fit(X, y)\n",
    "fi_viz.poof()"
   ]
  },
  {
   "cell_type": "markdown",
   "metadata": {},
   "source": [
    "Logistic regression feature selection picked Browser_1, Browser_2, OperatingSystem_1, Browser_8, OperatingSystem_2, and OperatingSystem_3.  These variables also had the highest differences in means from cluster 0 to 1 which we saw above.  So this confirms that these are the variables we should use when building a model."
   ]
  },
  {
   "cell_type": "markdown",
   "metadata": {},
   "source": [
    "Next, we must find out if our data is linearly separable to determine if we should use SVM with a linear kernel."
   ]
  },
  {
   "cell_type": "code",
   "execution_count": 44,
   "metadata": {},
   "outputs": [],
   "source": [
    "Xs = df5.iloc[:,0:66]\n",
    "ys = df5.Revenue\n",
    "\n",
    "#Prepare data for classification process\n",
    "#Use 33% data to train \n",
    "#Use random state number 20 to make sure result is fixed \n",
    "from sklearn.model_selection import train_test_split\n",
    "Xs_train, Xs_test, ys_train, ys_test = train_test_split(Xs, ys, test_size=0.33, random_state=20)"
   ]
  },
  {
   "cell_type": "code",
   "execution_count": 45,
   "metadata": {},
   "outputs": [
    {
     "data": {
      "text/plain": [
       "0.9998789492797482"
      ]
     },
     "execution_count": 45,
     "metadata": {},
     "output_type": "execute_result"
    }
   ],
   "source": [
    "#Import SVM package\n",
    "from sklearn.svm import SVC\n",
    "\n",
    "#SVM model trained with a Linear kernel.\n",
    "svm=SVC(random_state=42, kernel = \"linear\", C=1)\n",
    "svm.fit(Xs_train,ys_train)\n",
    "svm.score(Xs_train,ys_train)"
   ]
  },
  {
   "cell_type": "markdown",
   "metadata": {},
   "source": [
    "According to Machine Learning Pocket Reference Chapter 10, C is the penalty parameter.  The smaller the value, the tighter the decision boundary (more overfitting).  If we can overfit with a linear model, that means the data is linearly separable.  For SVM with a linear kernel where C=1, we got an accuracy rate of 100%.  We expect to get an accuracy rate of 100% if our data is linearly separable so we conclude that the linear kernel is the best method for our SVM models.\n",
    "\n",
    "Source: https://maurygreen.medium.com/how-to-check-for-linear-separability-13c177ae5a6e<br>\n",
    "Source: https://www.youtube.com/watch?v=TlGpIKMVoOg (around minute 17)"
   ]
  },
  {
   "cell_type": "code",
   "execution_count": 46,
   "metadata": {},
   "outputs": [],
   "source": [
    "import imblearn\n",
    "from sklearn.model_selection import train_test_split, cross_val_score\n",
    "from sklearn import neighbors, preprocessing, metrics\n",
    "from sklearn.preprocessing import StandardScaler"
   ]
  },
  {
   "cell_type": "markdown",
   "metadata": {},
   "source": [
    "<b>SVM Model 1<b>"
   ]
  },
  {
   "cell_type": "markdown",
   "metadata": {},
   "source": [
    "For this model, we will use the top 3 features chosen by logistic regression feature selection that seem to be predictive of Revenue from the 1 cluster. "
   ]
  },
  {
   "cell_type": "code",
   "execution_count": 75,
   "metadata": {},
   "outputs": [],
   "source": [
    "#Define a vector containing the names of the attributes to use. \n",
    "predictors = ['Browser_1', 'Browser_8', 'OperatingSystems_1'] \n",
    "\n",
    "#Response and explanatory variables\n",
    "X1 = df5[predictors]\n",
    "y1 = df5.Revenue\n",
    "\n",
    "#Prepare data for classification process, use 2/3rds of the data to train, 1/3rd to test, random state of 20.\n",
    "X1_train, X1_test, y1_train, y1_test = train_test_split(X1, y1, test_size=0.33, random_state=20)"
   ]
  },
  {
   "cell_type": "code",
   "execution_count": 76,
   "metadata": {},
   "outputs": [
    {
     "name": "stdout",
     "output_type": "stream",
     "text": [
      "              precision    recall  f1-score   support\n",
      "\n",
      "           0       1.00      1.00      1.00      6508\n",
      "           1       1.00      0.99      1.00      1753\n",
      "\n",
      "    accuracy                           1.00      8261\n",
      "   macro avg       1.00      1.00      1.00      8261\n",
      "weighted avg       1.00      1.00      1.00      8261\n",
      "\n",
      "[[6507    1]\n",
      " [  13 1740]]\n",
      "Precision: 0.9994256174612292\n",
      "F1 score: 0.9959931310818546\n",
      "Accuracy: 0.998305289916475\n"
     ]
    }
   ],
   "source": [
    "#SVM Model 1 trained with a linear kernel.\n",
    "clf1=SVC(random_state = 42, C = 1, kernel = \"linear\")\n",
    "clf1.fit(X1_train, y1_train)\n",
    "clf1.score(X1_train, y1_train)\n",
    "\n",
    "#Print metrics\n",
    "y1_train_pred = clf1.predict(X1_train)\n",
    "\n",
    "print(classification_report(y1_train, y1_train_pred))\n",
    "print(confusion_matrix(y1_train, y1_train_pred))\n",
    "\n",
    "p1 = precision_score(y1_train, y1_train_pred)\n",
    "f1 = f1_score(y1_train, y1_train_pred)\n",
    "a1 = metrics.accuracy_score(y1_train, y1_train_pred)\n",
    "\n",
    "print(\"Precision:\", p1)\n",
    "print(\"F1 score:\", f1) \n",
    "print(\"Accuracy:\", a1)"
   ]
  },
  {
   "cell_type": "markdown",
   "metadata": {},
   "source": [
    "SVM Model 1 has 6,507 true negatives,  1 false positives, 13 false negatives, and 1,740 true positives.<br>\n",
    "Precision is 99.9%<br>\n",
    "F1 score is 99.6% <br>\n",
    "Accuracy is 99.8%<br>"
   ]
  },
  {
   "cell_type": "code",
   "execution_count": 77,
   "metadata": {},
   "outputs": [
    {
     "name": "stdout",
     "output_type": "stream",
     "text": [
      "[1.         0.99757869 0.99757869 0.99878935 1.         0.99515738\n",
      " 0.99878935 0.99878935 0.99757869 0.99878935]\n",
      "cv_scores_mean: 0.9983050847457626\n"
     ]
    }
   ],
   "source": [
    "#Evaluate the model using 10-fold cross-validation\n",
    "scores = cross_val_score(clf1, X1_train, y1_train, scoring='accuracy', cv=10)\n",
    "print(scores)\n",
    "cv = scores.mean()\n",
    "print(\"cv_scores_mean:\", cv)"
   ]
  },
  {
   "cell_type": "markdown",
   "metadata": {},
   "source": [
    "Our 10-fold cross validation shows that the SVM 1 model has a mean score of 99.8%."
   ]
  },
  {
   "cell_type": "markdown",
   "metadata": {},
   "source": [
    "<b>SVM Model 2<b>"
   ]
  },
  {
   "cell_type": "markdown",
   "metadata": {},
   "source": [
    "For this model, we will use the next top 3 features chosen by logistic regression feature selection that seem to be predictive of Revenue from the 0 cluster."
   ]
  },
  {
   "cell_type": "code",
   "execution_count": 78,
   "metadata": {},
   "outputs": [],
   "source": [
    "#Define a vector containing the names of the attributes to use. \n",
    "predictors = ['Browser_2', 'OperatingSystems_2', 'OperatingSystems_3'] \n",
    "\n",
    "#Response and explanatory variables\n",
    "X2 = df5[predictors]\n",
    "y2 = df5.Revenue\n",
    "\n",
    "#Prepare data for classification process, use 2/3rds of the data to train, 1/3rd to test, random state of 20.\n",
    "X2_train, X2_test, y2_train, y2_test = train_test_split(X2, y2, test_size=0.33, random_state=20)"
   ]
  },
  {
   "cell_type": "code",
   "execution_count": 79,
   "metadata": {},
   "outputs": [
    {
     "name": "stdout",
     "output_type": "stream",
     "text": [
      "              precision    recall  f1-score   support\n",
      "\n",
      "           0       1.00      0.99      0.99      6508\n",
      "           1       0.97      1.00      0.98      1753\n",
      "\n",
      "    accuracy                           0.99      8261\n",
      "   macro avg       0.98      0.99      0.99      8261\n",
      "weighted avg       0.99      0.99      0.99      8261\n",
      "\n",
      "[[6445   63]\n",
      " [   8 1745]]\n",
      "Precision: 0.9651548672566371\n",
      "F1 score: 0.9800617803987645\n",
      "Accuracy: 0.9914053988621232\n"
     ]
    }
   ],
   "source": [
    "#SVM Model 2 trained with a linear kernel.\n",
    "clf2=SVC(random_state = 42, C = 1, kernel = \"linear\")\n",
    "clf2.fit(X2_train, y2_train)\n",
    "clf2.score(X2_train, y2_train)\n",
    "\n",
    "#Print metrics\n",
    "y2_train_pred = clf2.predict(X2_train)\n",
    "\n",
    "print(classification_report(y2_train, y2_train_pred))\n",
    "print(confusion_matrix(y2_train, y2_train_pred))\n",
    "\n",
    "p2 = precision_score(y2_train, y2_train_pred)\n",
    "f2 = f1_score(y2_train, y2_train_pred)\n",
    "a2 = metrics.accuracy_score(y2_train, y2_train_pred)\n",
    "\n",
    "print(\"Precision:\", p2)\n",
    "print(\"F1 score:\", f2) \n",
    "print(\"Accuracy:\", a2)"
   ]
  },
  {
   "cell_type": "markdown",
   "metadata": {},
   "source": [
    "SVM Model 2 has 6,445 true negatives,  63 false positives, 8 false negatives, and 1,745 true positives.<br>\n",
    "Precision is 96.5%<br>\n",
    "F1 score is 98.0% <br>\n",
    "Accuracy is 99.1%<br>"
   ]
  },
  {
   "cell_type": "code",
   "execution_count": 81,
   "metadata": {},
   "outputs": [
    {
     "name": "stdout",
     "output_type": "stream",
     "text": [
      "[0.98307134 0.99031477 0.99273608 0.98668281 0.99636804 0.99152542\n",
      " 0.99636804 0.99636804 0.99757869 0.98305085]\n",
      "cv2_scores_mean: 0.9914064078278209\n"
     ]
    }
   ],
   "source": [
    "#Evaluate the model using 10-fold cross-validation\n",
    "scores2 = cross_val_score(clf2, X2_train, y2_train, scoring='accuracy', cv=10)\n",
    "print(scores2)\n",
    "cv2 = scores2.mean()\n",
    "print(\"cv2_scores_mean:\", cv2)"
   ]
  },
  {
   "cell_type": "markdown",
   "metadata": {},
   "source": [
    "Our 10-fold cross validation shows that the SVM 2 model has a mean score of 99.1%."
   ]
  },
  {
   "cell_type": "markdown",
   "metadata": {},
   "source": [
    "Compare the metrics of the training data"
   ]
  },
  {
   "cell_type": "markdown",
   "metadata": {},
   "source": [
    "|      Metrics     | SVM 1   | SVM 2 |\n",
    "|:----------------:|-------  |-------|\n",
    "| No. of variables |   3     |   3   |\n",
    "|     Precision    |  99.9%  | 96.5% |\n",
    "|     F1 Score     |  99.6%  | 98.0% |\n",
    "|     Accuracy     |  99.8%  | 99.1% |\n",
    "|  CV Scores Mean  |  99.8%  | 99.1% |"
   ]
  },
  {
   "cell_type": "markdown",
   "metadata": {},
   "source": [
    "<h3><b>Select Models</b></h3>"
   ]
  },
  {
   "cell_type": "markdown",
   "metadata": {},
   "source": [
    "Based on the comparison of our training metrics, our selected model will be our SVM 1 model. It has three variables, and the highest precision, F1 score, and accuracy sore.  The cross-validation score was also 99.8%. Therefore, we are favoring the SVM 1 model.  While the SVM 2 model also performed well, precision was 96.5% and the F1 score was 98%.  We are trying to predict if a website visitor will make a purchase and we can see by the SVM 2 metrics that the model didn't predict those outcomes as well."
   ]
  },
  {
   "cell_type": "code",
   "execution_count": 82,
   "metadata": {},
   "outputs": [],
   "source": [
    "#Let's predict the classes for testing data using SVM Model 1\n",
    "predicted = clf1.predict(X1_test)"
   ]
  },
  {
   "cell_type": "code",
   "execution_count": 83,
   "metadata": {},
   "outputs": [
    {
     "name": "stdout",
     "output_type": "stream",
     "text": [
      "              precision    recall  f1-score   support\n",
      "\n",
      "           0       1.00      1.00      1.00      3209\n",
      "           1       1.00      1.00      1.00       860\n",
      "\n",
      "    accuracy                           1.00      4069\n",
      "   macro avg       1.00      1.00      1.00      4069\n",
      "weighted avg       1.00      1.00      1.00      4069\n",
      "\n",
      "[[3209    0]\n",
      " [   4  856]]\n",
      "Precision: 1.0\n",
      "F1 score: 0.9976689976689977\n",
      "Accuracy: 0.9990169574834111\n"
     ]
    }
   ],
   "source": [
    "print(classification_report(y1_test, predicted))\n",
    "print(confusion_matrix(y1_test, predicted))\n",
    "\n",
    "p3 = precision_score(y1_test, predicted)\n",
    "f3 = f1_score(y1_test, predicted)\n",
    "a3 = metrics.accuracy_score(y1_test, predicted)\n",
    "\n",
    "print(\"Precision:\", p3)\n",
    "print(\"F1 score:\", f3) \n",
    "print(\"Accuracy:\", a3)"
   ]
  },
  {
   "cell_type": "markdown",
   "metadata": {},
   "source": [
    "Using SVM Model 1, the testing data has 3,209 true negatives, 0 false positives, 4 false negatives, and 856 true positives.<br>\n",
    "Precision is 100%<br>\n",
    "F1 score is 99.8% <br>\n",
    "Accuracy is 99.9%<br>"
   ]
  },
  {
   "cell_type": "markdown",
   "metadata": {},
   "source": [
    "The model performed very well to previously unseen data.  The precision, f1 score, and accuracy are all about 100%."
   ]
  },
  {
   "cell_type": "markdown",
   "metadata": {},
   "source": [
    "<h3><b>Clustering + SVM Output vs. Actual Labels</b></h3>"
   ]
  },
  {
   "cell_type": "code",
   "execution_count": 84,
   "metadata": {},
   "outputs": [
    {
     "data": {
      "text/html": [
       "<div>\n",
       "<style scoped>\n",
       "    .dataframe tbody tr th:only-of-type {\n",
       "        vertical-align: middle;\n",
       "    }\n",
       "\n",
       "    .dataframe tbody tr th {\n",
       "        vertical-align: top;\n",
       "    }\n",
       "\n",
       "    .dataframe thead th {\n",
       "        text-align: right;\n",
       "    }\n",
       "</style>\n",
       "<table border=\"1\" class=\"dataframe\">\n",
       "  <thead>\n",
       "    <tr style=\"text-align: right;\">\n",
       "      <th></th>\n",
       "      <th>Revenue</th>\n",
       "    </tr>\n",
       "  </thead>\n",
       "  <tbody>\n",
       "    <tr>\n",
       "      <th>6111</th>\n",
       "      <td>0</td>\n",
       "    </tr>\n",
       "    <tr>\n",
       "      <th>11876</th>\n",
       "      <td>0</td>\n",
       "    </tr>\n",
       "    <tr>\n",
       "      <th>9386</th>\n",
       "      <td>0</td>\n",
       "    </tr>\n",
       "    <tr>\n",
       "      <th>2047</th>\n",
       "      <td>0</td>\n",
       "    </tr>\n",
       "    <tr>\n",
       "      <th>11290</th>\n",
       "      <td>0</td>\n",
       "    </tr>\n",
       "    <tr>\n",
       "      <th>5620</th>\n",
       "      <td>1</td>\n",
       "    </tr>\n",
       "    <tr>\n",
       "      <th>6286</th>\n",
       "      <td>0</td>\n",
       "    </tr>\n",
       "    <tr>\n",
       "      <th>11341</th>\n",
       "      <td>0</td>\n",
       "    </tr>\n",
       "    <tr>\n",
       "      <th>417</th>\n",
       "      <td>1</td>\n",
       "    </tr>\n",
       "    <tr>\n",
       "      <th>4610</th>\n",
       "      <td>0</td>\n",
       "    </tr>\n",
       "    <tr>\n",
       "      <th>3645</th>\n",
       "      <td>0</td>\n",
       "    </tr>\n",
       "  </tbody>\n",
       "</table>\n",
       "</div>"
      ],
      "text/plain": [
       "       Revenue\n",
       "6111         0\n",
       "11876        0\n",
       "9386         0\n",
       "2047         0\n",
       "11290        0\n",
       "5620         1\n",
       "6286         0\n",
       "11341        0\n",
       "417          1\n",
       "4610         0\n",
       "3645         0"
      ]
     },
     "execution_count": 84,
     "metadata": {},
     "output_type": "execute_result"
    }
   ],
   "source": [
    "df7 = pd.DataFrame(y1_test)\n",
    "df7.head(11)"
   ]
  },
  {
   "cell_type": "code",
   "execution_count": 85,
   "metadata": {},
   "outputs": [
    {
     "data": {
      "text/html": [
       "<div>\n",
       "<style scoped>\n",
       "    .dataframe tbody tr th:only-of-type {\n",
       "        vertical-align: middle;\n",
       "    }\n",
       "\n",
       "    .dataframe tbody tr th {\n",
       "        vertical-align: top;\n",
       "    }\n",
       "\n",
       "    .dataframe thead th {\n",
       "        text-align: right;\n",
       "    }\n",
       "</style>\n",
       "<table border=\"1\" class=\"dataframe\">\n",
       "  <thead>\n",
       "    <tr style=\"text-align: right;\">\n",
       "      <th></th>\n",
       "      <th>Administrative</th>\n",
       "      <th>Administrative_Duration</th>\n",
       "      <th>Informational</th>\n",
       "      <th>Informational_Duration</th>\n",
       "      <th>ProductRelated</th>\n",
       "      <th>ExitRates</th>\n",
       "      <th>PageValues</th>\n",
       "      <th>SpecialDay</th>\n",
       "      <th>Month_Mar</th>\n",
       "      <th>Month_May</th>\n",
       "      <th>...</th>\n",
       "      <th>TrafficType_15</th>\n",
       "      <th>TrafficType_16</th>\n",
       "      <th>TrafficType_18</th>\n",
       "      <th>TrafficType_19</th>\n",
       "      <th>TrafficType_20</th>\n",
       "      <th>VisitorType_New_Visitor</th>\n",
       "      <th>VisitorType_Returning_Visitor</th>\n",
       "      <th>Weekend</th>\n",
       "      <th>Revenue</th>\n",
       "      <th>V_Revenue</th>\n",
       "    </tr>\n",
       "  </thead>\n",
       "  <tbody>\n",
       "    <tr>\n",
       "      <th>0</th>\n",
       "      <td>0.000000</td>\n",
       "      <td>0.000000</td>\n",
       "      <td>0.000000</td>\n",
       "      <td>0.000000</td>\n",
       "      <td>0.147957</td>\n",
       "      <td>0.000528</td>\n",
       "      <td>0.988994</td>\n",
       "      <td>0.0</td>\n",
       "      <td>0</td>\n",
       "      <td>1</td>\n",
       "      <td>...</td>\n",
       "      <td>0</td>\n",
       "      <td>0</td>\n",
       "      <td>0</td>\n",
       "      <td>0</td>\n",
       "      <td>0</td>\n",
       "      <td>1</td>\n",
       "      <td>0</td>\n",
       "      <td>1</td>\n",
       "      <td>1</td>\n",
       "      <td>1</td>\n",
       "    </tr>\n",
       "    <tr>\n",
       "      <th>1</th>\n",
       "      <td>0.000000</td>\n",
       "      <td>0.000000</td>\n",
       "      <td>0.000000</td>\n",
       "      <td>0.000000</td>\n",
       "      <td>0.999994</td>\n",
       "      <td>0.003401</td>\n",
       "      <td>0.000000</td>\n",
       "      <td>0.0</td>\n",
       "      <td>1</td>\n",
       "      <td>0</td>\n",
       "      <td>...</td>\n",
       "      <td>0</td>\n",
       "      <td>0</td>\n",
       "      <td>0</td>\n",
       "      <td>0</td>\n",
       "      <td>0</td>\n",
       "      <td>0</td>\n",
       "      <td>1</td>\n",
       "      <td>0</td>\n",
       "      <td>0</td>\n",
       "      <td>0</td>\n",
       "    </tr>\n",
       "    <tr>\n",
       "      <th>2</th>\n",
       "      <td>0.044264</td>\n",
       "      <td>0.414973</td>\n",
       "      <td>0.022132</td>\n",
       "      <td>0.907408</td>\n",
       "      <td>0.044264</td>\n",
       "      <td>0.000194</td>\n",
       "      <td>0.000000</td>\n",
       "      <td>0.0</td>\n",
       "      <td>0</td>\n",
       "      <td>0</td>\n",
       "      <td>...</td>\n",
       "      <td>0</td>\n",
       "      <td>0</td>\n",
       "      <td>0</td>\n",
       "      <td>0</td>\n",
       "      <td>0</td>\n",
       "      <td>1</td>\n",
       "      <td>0</td>\n",
       "      <td>0</td>\n",
       "      <td>0</td>\n",
       "      <td>0</td>\n",
       "    </tr>\n",
       "    <tr>\n",
       "      <th>3</th>\n",
       "      <td>0.034226</td>\n",
       "      <td>0.989993</td>\n",
       "      <td>0.000000</td>\n",
       "      <td>0.000000</td>\n",
       "      <td>0.136905</td>\n",
       "      <td>0.000103</td>\n",
       "      <td>0.000000</td>\n",
       "      <td>0.0</td>\n",
       "      <td>0</td>\n",
       "      <td>0</td>\n",
       "      <td>...</td>\n",
       "      <td>0</td>\n",
       "      <td>0</td>\n",
       "      <td>0</td>\n",
       "      <td>0</td>\n",
       "      <td>0</td>\n",
       "      <td>0</td>\n",
       "      <td>1</td>\n",
       "      <td>0</td>\n",
       "      <td>1</td>\n",
       "      <td>0</td>\n",
       "    </tr>\n",
       "    <tr>\n",
       "      <th>4</th>\n",
       "      <td>0.014902</td>\n",
       "      <td>0.894129</td>\n",
       "      <td>0.014902</td>\n",
       "      <td>0.223532</td>\n",
       "      <td>0.387456</td>\n",
       "      <td>0.000057</td>\n",
       "      <td>0.000000</td>\n",
       "      <td>0.0</td>\n",
       "      <td>0</td>\n",
       "      <td>1</td>\n",
       "      <td>...</td>\n",
       "      <td>0</td>\n",
       "      <td>0</td>\n",
       "      <td>0</td>\n",
       "      <td>0</td>\n",
       "      <td>0</td>\n",
       "      <td>0</td>\n",
       "      <td>1</td>\n",
       "      <td>0</td>\n",
       "      <td>0</td>\n",
       "      <td>0</td>\n",
       "    </tr>\n",
       "  </tbody>\n",
       "</table>\n",
       "<p>5 rows × 68 columns</p>\n",
       "</div>"
      ],
      "text/plain": [
       "   Administrative  Administrative_Duration  Informational  \\\n",
       "0        0.000000                 0.000000       0.000000   \n",
       "1        0.000000                 0.000000       0.000000   \n",
       "2        0.044264                 0.414973       0.022132   \n",
       "3        0.034226                 0.989993       0.000000   \n",
       "4        0.014902                 0.894129       0.014902   \n",
       "\n",
       "   Informational_Duration  ProductRelated  ExitRates  PageValues  SpecialDay  \\\n",
       "0                0.000000        0.147957   0.000528    0.988994         0.0   \n",
       "1                0.000000        0.999994   0.003401    0.000000         0.0   \n",
       "2                0.907408        0.044264   0.000194    0.000000         0.0   \n",
       "3                0.000000        0.136905   0.000103    0.000000         0.0   \n",
       "4                0.223532        0.387456   0.000057    0.000000         0.0   \n",
       "\n",
       "   Month_Mar  Month_May  ...  TrafficType_15  TrafficType_16  TrafficType_18  \\\n",
       "0          0          1  ...               0               0               0   \n",
       "1          1          0  ...               0               0               0   \n",
       "2          0          0  ...               0               0               0   \n",
       "3          0          0  ...               0               0               0   \n",
       "4          0          1  ...               0               0               0   \n",
       "\n",
       "   TrafficType_19  TrafficType_20  VisitorType_New_Visitor  \\\n",
       "0               0               0                        1   \n",
       "1               0               0                        0   \n",
       "2               0               0                        1   \n",
       "3               0               0                        0   \n",
       "4               0               0                        0   \n",
       "\n",
       "   VisitorType_Returning_Visitor  Weekend  Revenue  V_Revenue  \n",
       "0                              0        1        1          1  \n",
       "1                              1        0        0          0  \n",
       "2                              0        0        0          0  \n",
       "3                              1        0        1          0  \n",
       "4                              1        0        0          0  \n",
       "\n",
       "[5 rows x 68 columns]"
      ]
     },
     "execution_count": 85,
     "metadata": {},
     "output_type": "execute_result"
    }
   ],
   "source": [
    "df5[\"V_Revenue\"] = df5[\"V_Revenue\"].astype(int)\n",
    "df5.head(5)"
   ]
  },
  {
   "cell_type": "code",
   "execution_count": 86,
   "metadata": {},
   "outputs": [
    {
     "data": {
      "text/html": [
       "<div>\n",
       "<style scoped>\n",
       "    .dataframe tbody tr th:only-of-type {\n",
       "        vertical-align: middle;\n",
       "    }\n",
       "\n",
       "    .dataframe tbody tr th {\n",
       "        vertical-align: top;\n",
       "    }\n",
       "\n",
       "    .dataframe thead th {\n",
       "        text-align: right;\n",
       "    }\n",
       "</style>\n",
       "<table border=\"1\" class=\"dataframe\">\n",
       "  <thead>\n",
       "    <tr style=\"text-align: right;\">\n",
       "      <th></th>\n",
       "      <th>Revenue</th>\n",
       "      <th>V_Revenue</th>\n",
       "    </tr>\n",
       "  </thead>\n",
       "  <tbody>\n",
       "    <tr>\n",
       "      <th>6111</th>\n",
       "      <td>0</td>\n",
       "      <td>0</td>\n",
       "    </tr>\n",
       "    <tr>\n",
       "      <th>11876</th>\n",
       "      <td>0</td>\n",
       "      <td>0</td>\n",
       "    </tr>\n",
       "    <tr>\n",
       "      <th>9386</th>\n",
       "      <td>0</td>\n",
       "      <td>0</td>\n",
       "    </tr>\n",
       "    <tr>\n",
       "      <th>2047</th>\n",
       "      <td>0</td>\n",
       "      <td>0</td>\n",
       "    </tr>\n",
       "    <tr>\n",
       "      <th>11290</th>\n",
       "      <td>0</td>\n",
       "      <td>0</td>\n",
       "    </tr>\n",
       "  </tbody>\n",
       "</table>\n",
       "</div>"
      ],
      "text/plain": [
       "       Revenue  V_Revenue\n",
       "6111         0          0\n",
       "11876        0          0\n",
       "9386         0          0\n",
       "2047         0          0\n",
       "11290        0          0"
      ]
     },
     "execution_count": 86,
     "metadata": {},
     "output_type": "execute_result"
    }
   ],
   "source": [
    "merged = pd.merge(left=df7, left_index=True, right=df5.V_Revenue, right_index=True,how='inner')\n",
    "merged.head()"
   ]
  },
  {
   "cell_type": "code",
   "execution_count": 87,
   "metadata": {},
   "outputs": [
    {
     "data": {
      "text/plain": [
       "array([[2714,  715],\n",
       "       [ 495,  145]], dtype=int64)"
      ]
     },
     "execution_count": 87,
     "metadata": {},
     "output_type": "execute_result"
    }
   ],
   "source": [
    "from sklearn.metrics import confusion_matrix\n",
    "confusion_matrix(merged['V_Revenue'], merged['Revenue'])"
   ]
  },
  {
   "cell_type": "code",
   "execution_count": 89,
   "metadata": {},
   "outputs": [
    {
     "name": "stdout",
     "output_type": "stream",
     "text": [
      "              precision    recall  f1-score   support\n",
      "\n",
      "           0       0.85      0.79      0.82      3429\n",
      "           1       0.17      0.23      0.19       640\n",
      "\n",
      "    accuracy                           0.70      4069\n",
      "   macro avg       0.51      0.51      0.51      4069\n",
      "weighted avg       0.74      0.70      0.72      4069\n",
      "\n",
      "[[2714  715]\n",
      " [ 495  145]]\n",
      "Precision: 0.1686046511627907\n",
      "F1 score: 0.19333333333333336\n",
      "Accuracy: 0.7026296387318751\n"
     ]
    }
   ],
   "source": [
    "print(classification_report(merged['V_Revenue'], merged['Revenue']))\n",
    "print(confusion_matrix(merged['V_Revenue'], merged['Revenue']))\n",
    "\n",
    "p4 = precision_score(merged['V_Revenue'], merged['Revenue'])\n",
    "f4 = f1_score(merged['V_Revenue'], merged['Revenue'])\n",
    "a4 = metrics.accuracy_score(merged['V_Revenue'], merged['Revenue'])\n",
    "\n",
    "print(\"Precision:\", p4)\n",
    "print(\"F1 score:\", f4) \n",
    "print(\"Accuracy:\", a4)"
   ]
  },
  {
   "cell_type": "markdown",
   "metadata": {},
   "source": [
    "According to the confusion matrix, there are 2,714 true negatives, 715 false positives, 495 false negatives, and 145 true positives. The SVM model derived from the results of our clustering work match up to the actual V_Revenue classifications about 70% of the time.  However, the precision was 0.17 and the F1 score was 0.19 so the model was not very good a predicting when a website visitor would make a purchase."
   ]
  },
  {
   "cell_type": "markdown",
   "metadata": {},
   "source": [
    "<h3><b>Conclusions</b></h3>"
   ]
  },
  {
   "cell_type": "markdown",
   "metadata": {},
   "source": [
    "The outcomes of the clustering and our best SVM model were essentially identical. The proportion of cluster predicted revenue equal to the actual revenue (V_revenue) is **~69.62%** The proportion of SVM-predicted Revenue ('Predicted_Revenue') equal to the actual Revenue(V_revenue) is **~70.26%** Since our clustering model reached an accuracy of 69.62%, our SVM model was as accurate as a model could realistically be according to all of the comparative statistics and performed at **~70.26%** when compared against \"V_revenue\". This model did not perform better than the null error rate so it isn't very helpful when predicting if a consumer made a purchase on this website."
   ]
  },
  {
   "cell_type": "code",
   "execution_count": null,
   "metadata": {},
   "outputs": [],
   "source": []
  }
 ],
 "metadata": {
  "kernelspec": {
   "display_name": "Python 3",
   "language": "python",
   "name": "python3"
  },
  "language_info": {
   "codemirror_mode": {
    "name": "ipython",
    "version": 3
   },
   "file_extension": ".py",
   "mimetype": "text/x-python",
   "name": "python",
   "nbconvert_exporter": "python",
   "pygments_lexer": "ipython3",
   "version": "3.7.3"
  }
 },
 "nbformat": 4,
 "nbformat_minor": 2
}
